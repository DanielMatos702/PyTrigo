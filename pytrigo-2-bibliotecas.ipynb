{
 "cells": [
  {
   "cell_type": "markdown",
   "metadata": {},
   "source": [
    "Algumas das bibliotecas disponíveis em Python para cálculo científico, análise de dados e machine learning:\n",
    "\n",
    "* **NumPy** significa Python Numérico. O recurso mais poderoso do NumPy é o seu array n-dimensional. Esta biblioteca também contém funções básicas de álgebra linear, transformadas de Fourier, recursos avançados de números aleatórios e ferramentas para integração com outras linguagens de baixo nível como Fortran, C e C ++.\n",
    "* **SciPy** significa Scientific Python. O SciPy é construído sobre NumPy. É uma das bibliotecas mais úteis possuindo um conjunto vasto de módulos para a ciência e engenharia, como transformada discreta de Fourier, Álgebra Linear, Otimização e matrizes esparsas.\n",
    "* **Matplotlib**, para desenho de uma grande variedade de gráficos, como histogramas, gráficos de linhas, etc.\n",
    "* **Pandas**, para operações de dados estruturados e manipulações. É amplamente utilizado para o levantamento e preparação de dados. O Pandas foi adicionado recentemente ao Python e foi fundamental para impulsionar o uso do Python na comunidade de cientistas de dados.\n",
    "* **Scikit-learn**, para aprendizagem automática (machine learning). Construída sobre NumPy, SciPy e Matplotlib, esta biblioteca contém muitas ferramentas para aprendizagem automática (machine learning) e modelação estatística, incluindo classificação, regressão, agrupamento e redução de dimensionalidade.\n",
    "* **Statsmodels**, para modelação estatística. Statsmodels é um módulo Python que permite aos utilizadores explorar dados, estimar modelos estatísticos e realizar testes estatísticos. Uma extensa lista de estatísticas descritivas, testes estatísticos, funções de desenho e estatísticas de resultados estão disponíveis para diferentes tipos de dados e estimadores.\n",
    "* **Seaborn** para visualização de dados estatísticos. Seaborn é uma biblioteca para fazer gráficos estatísticos atraentes e informativos em Python. É baseado no matplotlib. O Seaborn visa tornar a visualização uma parte central da exploração e compreensão de dados.\n",
    "* **Bokeh** para criar gráficos interativos, painéis e aplicativos de dados em navegadores modernos. Permite que o utilizador crie gráficos elegantes e concisos no estilo do D3.js. Além disso, tem a capacidade de interatividade de alto desempenho em conjuntos de dados muito grandes ou de fluxo contínuo.\n",
    "* **Blaze** para estender a capacidade de Numpy e Pandas para conjuntos de dados distribuídos e de streaming. Pode ser utilizado para aceder a dados de várias fontes, incluindo Bcolz, MongoDB, SQLAlchemy, Apache Spark, PyTables, etc. Juntamente com o Bokeh, o Blaze pode atuar como uma ferramenta para criar visualizações e painéis eficazes em grandes blocos de dados.\n",
    "* **Scrapy** para rastreamento da web. É uma biblioteca útil para obter padrões específicos de dados. Tem a capacidade de começar na página principal do site que queremos analisar e depois aceder a outras páginas web dentro do site para recolher informações.\n",
    "* **SymPy** para computação simbólica. Desde a aritmética simbólica básica até o cálculo, a álgebra, a matemática discreta e a física quântica. Outro recurso útil é a capacidade de formatar o resultado dos cálculos como código LaTeX.\n",
    "* **Requests** Solicitações para acessar a web. Funciona de forma semelhante à urllib2 da biblioteca python padrão, sendo mais fácil de codificar.\n",
    "* **NetworkX** e **igraph** para manipulações de dados baseados em grafos.\n",
    "* **BeautifulSoup** para desmantelar web. É inferior ao Scrapy, pois extrairá informações de apenas uma única página Web em uma chamada.\n",
    "* **OpenCV** para manipulação de imagens.\n",
    "\n",
    "Para além destas bibliotecas, poderá ter de utilizar comandos de acesso ao sistema operativo, expressões regulares para encontrar padrões em texto, etc.\n",
    "\n",
    "A lista de bibliotecas foi obtida em https://www.analyticsvidhya.com/blog/2016/01/complete-tutorial-learn-data-science-python-scratch-2/"
   ]
  },
  {
   "cell_type": "code",
   "execution_count": null,
   "metadata": {},
   "outputs": [],
   "source": []
  }
 ],
 "metadata": {
  "kernelspec": {
   "display_name": "Python 3",
   "language": "python",
   "name": "python3"
  },
  "language_info": {
   "codemirror_mode": {
    "name": "ipython",
    "version": 3
   },
   "file_extension": ".py",
   "mimetype": "text/x-python",
   "name": "python",
   "nbconvert_exporter": "python",
   "pygments_lexer": "ipython3",
   "version": "3.6.4"
  }
 },
 "nbformat": 4,
 "nbformat_minor": 2
}
