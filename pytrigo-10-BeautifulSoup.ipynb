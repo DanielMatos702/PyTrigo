{
 "cells": [
  {
   "cell_type": "code",
   "execution_count": 3,
   "metadata": {},
   "outputs": [
    {
     "name": "stdout",
     "output_type": "stream",
     "text": [
      "<div class=\"tombstone-container\">\n",
      " <p class=\"period-name\">\n",
      "  Overnight\n",
      "  <br/>\n",
      "  <br/>\n",
      " </p>\n",
      " <p>\n",
      "  <img alt=\"Overnight: Mostly clear, with a low around 51. West wind around 6 mph. \" class=\"forecast-icon\" src=\"newimages/medium/nfew.png\" title=\"Overnight: Mostly clear, with a low around 51. West wind around 6 mph. \"/>\n",
      " </p>\n",
      " <p class=\"short-desc\">\n",
      "  Mostly Clear\n",
      " </p>\n",
      " <p class=\"temp temp-low\">\n",
      "  Low: 51 °F\n",
      " </p>\n",
      "</div>\n"
     ]
    }
   ],
   "source": [
    "import requests\n",
    "from bs4 import BeautifulSoup\n",
    "\n",
    "page = requests.get(\"http://forecast.weather.gov/MapClick.php?lat=37.7772&lon=-122.4168\")\n",
    "soup = BeautifulSoup(page.content, 'html.parser')\n",
    "seven_day = soup.find(id=\"seven-day-forecast\")\n",
    "forecast_items = seven_day.find_all(class_=\"tombstone-container\")\n",
    "tonight = forecast_items[0]\n",
    "print(tonight.prettify())"
   ]
  },
  {
   "cell_type": "code",
   "execution_count": 4,
   "metadata": {},
   "outputs": [
    {
     "name": "stdout",
     "output_type": "stream",
     "text": [
      "Overnight\n",
      "Mostly Clear\n",
      "Low: 51 °F\n"
     ]
    }
   ],
   "source": [
    "period = tonight.find(class_=\"period-name\").get_text()\n",
    "short_desc = tonight.find(class_=\"short-desc\").get_text()\n",
    "temp = tonight.find(class_=\"temp\").get_text()\n",
    "\n",
    "print(period)\n",
    "print(short_desc)\n",
    "print(temp)"
   ]
  },
  {
   "cell_type": "code",
   "execution_count": 5,
   "metadata": {},
   "outputs": [
    {
     "data": {
      "text/plain": [
       "['Overnight',\n",
       " 'Saturday',\n",
       " 'SaturdayNight',\n",
       " 'Sunday',\n",
       " 'SundayNight',\n",
       " 'Monday',\n",
       " 'MondayNight',\n",
       " 'Tuesday',\n",
       " 'TuesdayNight']"
      ]
     },
     "execution_count": 5,
     "metadata": {},
     "output_type": "execute_result"
    }
   ],
   "source": [
    "period_tags = seven_day.select(\".tombstone-container .period-name\")\n",
    "periods = [pt.get_text() for pt in period_tags]\n",
    "print(periods)"
   ]
  },
  {
   "cell_type": "code",
   "execution_count": 7,
   "metadata": {},
   "outputs": [
    {
     "name": "stdout",
     "output_type": "stream",
     "text": [
      "['Mostly Clear', 'Mostly Sunny', 'Partly Cloudy', 'Mostly Sunnythen PartlySunny andBreezy', 'Mostly Cloudyand Breezythen MostlyCloudy', 'ChanceShowers', 'ChanceShowers', 'Mostly Sunny', 'Mostly Clear']\n",
      "['Low: 51 °F', 'High: 69 °F', 'Low: 52 °F', 'High: 64 °F', 'Low: 51 °F', 'High: 62 °F', 'Low: 51 °F', 'High: 65 °F', 'Low: 51 °F']\n",
      "['Overnight: Mostly clear, with a low around 51. West wind around 6 mph. ', 'Saturday: Mostly sunny, with a high near 69. Light southwest wind becoming west 10 to 15 mph in the afternoon. Winds could gust as high as 20 mph. ', 'Saturday Night: Partly cloudy, with a low around 52. West wind 6 to 16 mph, with gusts as high as 21 mph. ', 'Sunday: Mostly sunny, with a high near 64. Breezy, with a west wind 10 to 15 mph increasing to 19 to 24 mph in the afternoon. Winds could gust as high as 31 mph. ', 'Sunday Night: Mostly cloudy, with a low around 51. Breezy, with a west wind 14 to 23 mph, with gusts as high as 30 mph. ', 'Monday: A 30 percent chance of showers, mainly after 11am.  Partly sunny, with a high near 62. New precipitation amounts of less than a tenth of an inch possible. ', 'Monday Night: A 30 percent chance of showers.  Mostly cloudy, with a low around 51.', 'Tuesday: Mostly sunny, with a high near 65.', 'Tuesday Night: Mostly clear, with a low around 51.']\n"
     ]
    }
   ],
   "source": [
    "short_descs = [sd.get_text() for sd in seven_day.select(\".tombstone-container .short-desc\")]\n",
    "temps = [t.get_text() for t in seven_day.select(\".tombstone-container .temp\")]\n",
    "descs = [d[\"title\"] for d in seven_day.select(\".tombstone-container img\")]\n",
    "print(short_descs)\n",
    "print(temps)\n",
    "print(descs)"
   ]
  },
  {
   "cell_type": "code",
   "execution_count": 8,
   "metadata": {},
   "outputs": [
    {
     "data": {
      "text/html": [
       "<div>\n",
       "<style scoped>\n",
       "    .dataframe tbody tr th:only-of-type {\n",
       "        vertical-align: middle;\n",
       "    }\n",
       "\n",
       "    .dataframe tbody tr th {\n",
       "        vertical-align: top;\n",
       "    }\n",
       "\n",
       "    .dataframe thead th {\n",
       "        text-align: right;\n",
       "    }\n",
       "</style>\n",
       "<table border=\"1\" class=\"dataframe\">\n",
       "  <thead>\n",
       "    <tr style=\"text-align: right;\">\n",
       "      <th></th>\n",
       "      <th>period</th>\n",
       "      <th>short_desc</th>\n",
       "      <th>temp</th>\n",
       "      <th>desc</th>\n",
       "    </tr>\n",
       "  </thead>\n",
       "  <tbody>\n",
       "    <tr>\n",
       "      <th>0</th>\n",
       "      <td>Overnight</td>\n",
       "      <td>Mostly Clear</td>\n",
       "      <td>Low: 51 °F</td>\n",
       "      <td>Overnight: Mostly clear, with a low around 51....</td>\n",
       "    </tr>\n",
       "    <tr>\n",
       "      <th>1</th>\n",
       "      <td>Saturday</td>\n",
       "      <td>Mostly Sunny</td>\n",
       "      <td>High: 69 °F</td>\n",
       "      <td>Saturday: Mostly sunny, with a high near 69. L...</td>\n",
       "    </tr>\n",
       "    <tr>\n",
       "      <th>2</th>\n",
       "      <td>SaturdayNight</td>\n",
       "      <td>Partly Cloudy</td>\n",
       "      <td>Low: 52 °F</td>\n",
       "      <td>Saturday Night: Partly cloudy, with a low arou...</td>\n",
       "    </tr>\n",
       "    <tr>\n",
       "      <th>3</th>\n",
       "      <td>Sunday</td>\n",
       "      <td>Mostly Sunnythen PartlySunny andBreezy</td>\n",
       "      <td>High: 64 °F</td>\n",
       "      <td>Sunday: Mostly sunny, with a high near 64. Bre...</td>\n",
       "    </tr>\n",
       "    <tr>\n",
       "      <th>4</th>\n",
       "      <td>SundayNight</td>\n",
       "      <td>Mostly Cloudyand Breezythen MostlyCloudy</td>\n",
       "      <td>Low: 51 °F</td>\n",
       "      <td>Sunday Night: Mostly cloudy, with a low around...</td>\n",
       "    </tr>\n",
       "  </tbody>\n",
       "</table>\n",
       "</div>"
      ],
      "text/plain": [
       "          period                                short_desc         temp  \\\n",
       "0      Overnight                              Mostly Clear   Low: 51 °F   \n",
       "1       Saturday                              Mostly Sunny  High: 69 °F   \n",
       "2  SaturdayNight                             Partly Cloudy   Low: 52 °F   \n",
       "3         Sunday    Mostly Sunnythen PartlySunny andBreezy  High: 64 °F   \n",
       "4    SundayNight  Mostly Cloudyand Breezythen MostlyCloudy   Low: 51 °F   \n",
       "\n",
       "                                                desc  \n",
       "0  Overnight: Mostly clear, with a low around 51....  \n",
       "1  Saturday: Mostly sunny, with a high near 69. L...  \n",
       "2  Saturday Night: Partly cloudy, with a low arou...  \n",
       "3  Sunday: Mostly sunny, with a high near 64. Bre...  \n",
       "4  Sunday Night: Mostly cloudy, with a low around...  "
      ]
     },
     "execution_count": 8,
     "metadata": {},
     "output_type": "execute_result"
    }
   ],
   "source": [
    "import pandas as pd\n",
    "df_tempo = pd.DataFrame({\n",
    "        \"period\": periods,\n",
    "         \"short_desc\": short_descs,\n",
    "         \"temp\": temps,\n",
    "         \"desc\":descs\n",
    "    })\n",
    "df_tempo.head()"
   ]
  },
  {
   "cell_type": "code",
   "execution_count": 10,
   "metadata": {},
   "outputs": [
    {
     "name": "stdout",
     "output_type": "stream",
     "text": [
      "0    51\n",
      "1    69\n",
      "2    52\n",
      "3    64\n",
      "4    51\n",
      "5    62\n",
      "6    51\n",
      "7    65\n",
      "8    51\n",
      "Name: temp_num, dtype: object\n"
     ]
    }
   ],
   "source": [
    "temp_nums = df_tempo[\"temp\"].str.extract(\"(?P<temp_num>\\d+)\", expand=False)\n",
    "df_tempo[\"temp_num\"] = temp_nums.astype('int')\n",
    "print(temp_nums)"
   ]
  },
  {
   "cell_type": "code",
   "execution_count": 15,
   "metadata": {},
   "outputs": [
    {
     "name": "stdout",
     "output_type": "stream",
     "text": [
      "57.333333333333336\n"
     ]
    }
   ],
   "source": [
    "print(df_tempo['temp_num'].mean())"
   ]
  },
  {
   "cell_type": "code",
   "execution_count": 17,
   "metadata": {},
   "outputs": [
    {
     "name": "stdout",
     "output_type": "stream",
     "text": [
      "0     True\n",
      "1    False\n",
      "2     True\n",
      "3    False\n",
      "4     True\n",
      "5    False\n",
      "6     True\n",
      "7    False\n",
      "8     True\n",
      "Name: temp, dtype: bool\n"
     ]
    }
   ],
   "source": [
    "is_night = df_tempo[\"temp\"].str.contains(\"Low\") #Noite como sendo a tempertura baixa\n",
    "df_tempo[\"is_night\"] = is_night\n",
    "print(is_night)"
   ]
  },
  {
   "cell_type": "code",
   "execution_count": null,
   "metadata": {},
   "outputs": [],
   "source": []
  }
 ],
 "metadata": {
  "kernelspec": {
   "display_name": "Python 3",
   "language": "python",
   "name": "python3"
  },
  "language_info": {
   "codemirror_mode": {
    "name": "ipython",
    "version": 3
   },
   "file_extension": ".py",
   "mimetype": "text/x-python",
   "name": "python",
   "nbconvert_exporter": "python",
   "pygments_lexer": "ipython3",
   "version": "3.7.3"
  }
 },
 "nbformat": 4,
 "nbformat_minor": 2
}
