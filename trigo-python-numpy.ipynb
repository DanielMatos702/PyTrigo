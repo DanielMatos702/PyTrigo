{
 "cells": [
  {
   "cell_type": "markdown",
   "metadata": {},
   "source": [
    "# Biblioteca numpy\n",
    "\n",
    "Este tutorial é sobre a utilização da biblioteca numpy, uma biblioteca utilizada para trabalhar com **matrizes**, criada para ser utilizada em computação científica.\n",
    "\n",
    "O primeiro passo para trabalhar com uma biblioteca no Python é importá-la com a utilização do comando import."
   ]
  },
  {
   "cell_type": "code",
   "execution_count": 2,
   "metadata": {},
   "outputs": [],
   "source": [
    "import numpy as np"
   ]
  },
  {
   "cell_type": "code",
   "execution_count": 4,
   "metadata": {},
   "outputs": [
    {
     "name": "stdout",
     "output_type": "stream",
     "text": [
      "<class 'numpy.ndarray'>\n",
      "(3,)\n",
      "1 2 3\n",
      "[5 2 3]\n",
      "(2, 3)\n",
      "1 2 4\n"
     ]
    }
   ],
   "source": [
    "a = np.array([1, 2, 3])   # Cria uma atriz com três elementos\n",
    "print(type(a))            # Imprime \"<class 'numpy.ndarray'>\"\n",
    "print(a.shape)            # Imprime o formato da matriz \"(3,)\"\n",
    "print(a[0], a[1], a[2])   # Imprime \"1 2 3\"\n",
    "a[0] = 5                  # Altera o valor de um elemento da matriz\n",
    "print(a)                  # Imprime \"[5, 2, 3]\"\n",
    "\n",
    "b = np.array([[1,2,3],[4,5,6]])    # Cria uma matriz bidimensional\n",
    "print(b.shape)                     # Imprime o formato da matriz \"(2, 3)\"\n",
    "print(b[0, 0], b[0, 1], b[1, 0])   # Imprime \"1 2 4\""
   ]
  },
  {
   "cell_type": "markdown",
   "metadata": {},
   "source": [
    "## Criação de matrizes\n",
    "A bilioteca numpy fornece muitas formas diferentes para criar matrizes."
   ]
  },
  {
   "cell_type": "code",
   "execution_count": 9,
   "metadata": {},
   "outputs": [
    {
     "name": "stdout",
     "output_type": "stream",
     "text": [
      "Matriz a: \n",
      "[[0. 0.]\n",
      " [0. 0.]]\n",
      "Matriz b: \n",
      "[[1. 1.]]\n",
      "Matriz c: \n",
      "[[7 7]\n",
      " [7 7]]\n",
      "Matriz d: \n",
      "[[1. 0.]\n",
      " [0. 1.]]\n",
      "Matriz e: \n",
      "[[0.57849269 0.17514776]\n",
      " [0.56880274 0.71210545]]\n"
     ]
    }
   ],
   "source": [
    "import numpy as np\n",
    "\n",
    "a = np.zeros((2,2))   # Matriz 2x2 de zeros\n",
    "print(\"Matriz a: \")\n",
    "print(a)\n",
    "b = np.ones((1,2))    # Matriz 1x2 de uns\n",
    "print(\"Matriz b: \")\n",
    "print(b)              \n",
    "c = np.full((2,2), 7)  # Cria uma matriz cujos valores são a contante 7\n",
    "print(\"Matriz c: \")\n",
    "print(c)               \n",
    "d = np.eye(2)         # Cria uma matriz identidade 2x2\n",
    "print(\"Matriz d: \")\n",
    "print(d)              \n",
    "e = np.random.random((2,2))  # Cria uma matriz 2x2 com valores aleatórios\n",
    "print(\"Matriz e: \")\n",
    "print(e)                     "
   ]
  },
  {
   "cell_type": "markdown",
   "metadata": {},
   "source": [
    "## Slicing de matrizes\n",
    "\n",
    "Também permite o slicing, visto no tutorial \"Introdução ao Python\""
   ]
  },
  {
   "cell_type": "code",
   "execution_count": 10,
   "metadata": {},
   "outputs": [
    {
     "name": "stdout",
     "output_type": "stream",
     "text": [
      "[[ 1  2  3  4]\n",
      " [ 5  6  7  8]\n",
      " [ 9 10 11 12]]\n",
      "[[2 3]\n",
      " [6 7]]\n"
     ]
    }
   ],
   "source": [
    "import numpy as np\n",
    "a = np.array([[1,2,3,4], [5,6,7,8], [9,10,11,12]])\n",
    "b = a[:2, 1:3]\n",
    "print(a)\n",
    "print(b)"
   ]
  },
  {
   "cell_type": "code",
   "execution_count": 13,
   "metadata": {},
   "outputs": [
    {
     "name": "stdout",
     "output_type": "stream",
     "text": [
      "[5 6 7 8] (4,)\n",
      "[[5 6 7 8]] (1, 4)\n",
      "[ 2  6 10] (3,)\n",
      "[[ 2]\n",
      " [ 6]\n",
      " [10]] (3, 1)\n"
     ]
    }
   ],
   "source": [
    "import numpy as np\n",
    "a = np.array([[1,2,3,4], [5,6,7,8], [9,10,11,12]])\n",
    "\n",
    "l1_d1 = a[1, :]    # Retira a segunda linha para uma matriz unidimensional\n",
    "l1_d2 = a[1:2, :]  # Retira a segunda linha para uma matriz bidimensional\n",
    "print(l1_d1, l1_d1.shape)  # Imprime os valores da segunda linha e respetivo formato\n",
    "print(l1_d2, l1_d2.shape)  # Imprime os valores da segunda linha e respetivo formato\n",
    "\n",
    "c1_d1 = a[:, 1]\n",
    "c1_d2 = a[:, 1:2]\n",
    "print(c1_d1, c1_d1.shape)\n",
    "print(c1_d2, c1_d2.shape)  "
   ]
  },
  {
   "cell_type": "markdown",
   "metadata": {},
   "source": [
    "## Indexação de matrizes\n",
    "\n",
    "A biblioteca numpy permite selecionar elementos de uma matriz tendo por base outras matrizes e expressões booleanas."
   ]
  },
  {
   "cell_type": "code",
   "execution_count": 17,
   "metadata": {},
   "outputs": [
    {
     "name": "stdout",
     "output_type": "stream",
     "text": [
      "[1 4 5]\n",
      "[1 4 5]\n",
      "[2 2]\n",
      "[2 2]\n"
     ]
    }
   ],
   "source": [
    "#Indexação de matrizes utilizando outras matrizes\n",
    "import numpy as np\n",
    "a = np.array([[1,2], [3, 4], [5, 6]])\n",
    "#Indexação utilizando uma matriz de posições a mostrar\n",
    "print(a[[0, 1, 2], [0, 1, 0]])\n",
    "#O exemplo acima pode ser conseguido através de \n",
    "print(np.array([a[0, 0], a[1, 1], a[2, 0]]))\n",
    "#Ao utilizar uma matriz de elementos inteiros para indexação podemos reutilizar elementos\n",
    "print(a[[0, 0], [1, 1]])\n",
    "#O exemplo acima com outra notação\n",
    "print(np.array([a[0, 1], a[0, 1]]))\n"
   ]
  },
  {
   "cell_type": "code",
   "execution_count": 18,
   "metadata": {},
   "outputs": [
    {
     "name": "stdout",
     "output_type": "stream",
     "text": [
      "[[ 1  2  3]\n",
      " [ 4  5  6]\n",
      " [ 7  8  9]\n",
      " [10 11 12]]\n",
      "[ 1  6  7 11]\n",
      "[[11  2  3]\n",
      " [ 4  5 16]\n",
      " [17  8  9]\n",
      " [10 21 12]]\n"
     ]
    }
   ],
   "source": [
    "#Alterar os elementos de posições da matriz\n",
    "import numpy as np\n",
    "a = np.array([[1,2,3], [4,5,6], [7,8,9], [10, 11, 12]])\n",
    "print(a)\n",
    "b = np.array([0, 2, 0, 1])\n",
    "# Selecionar um elemento de cada linha utilizando os indices em b\n",
    "print(a[np.arange(4), b])\n",
    "# Alterar um elemento de cada linha utilizando os indicies em b\n",
    "a[np.arange(4), b] += 10\n",
    "print(a)"
   ]
  },
  {
   "cell_type": "code",
   "execution_count": 20,
   "metadata": {},
   "outputs": [
    {
     "name": "stdout",
     "output_type": "stream",
     "text": [
      "[[False False]\n",
      " [ True  True]\n",
      " [ True  True]]\n",
      "[3 4 5 6]\n",
      "[3 4 5 6]\n"
     ]
    }
   ],
   "source": [
    "#Indexação de matrizes utilizando expressões booleanas\n",
    "#Utilizado para selecionar os lementos de uma matriz que \n",
    "#satisfaçam uma determinada condição\n",
    "import numpy as np\n",
    "a = np.array([[1,2], [3, 4], [5, 6]])\n",
    "bool_idx = (a > 2)\n",
    "print(bool_idx)\n",
    "print(a[bool_idx])\n",
    "print(a[a > 2])"
   ]
  },
  {
   "cell_type": "markdown",
   "metadata": {},
   "source": [
    "## Tipos de dados\n",
    "\n",
    "No numpy todos os elementos de uma matriz são de um determinado tipo de dados."
   ]
  },
  {
   "cell_type": "code",
   "execution_count": 22,
   "metadata": {},
   "outputs": [
    {
     "name": "stdout",
     "output_type": "stream",
     "text": [
      "int32\n",
      "float64\n",
      "int64\n"
     ]
    }
   ],
   "source": [
    "import numpy as np\n",
    "\n",
    "x = np.array([1, 2])   \n",
    "print(x.dtype)         \n",
    "x = np.array([1.0, 2.0])   \n",
    "print(x.dtype)             \n",
    "x = np.array([1, 2], dtype=np.int64)   \n",
    "print(x.dtype)                         "
   ]
  },
  {
   "cell_type": "markdown",
   "metadata": {},
   "source": [
    "## Aritmétia de matrizes\n",
    "\n",
    "De seguida aprentam-se algumas operações aritméticas para  a manipulação dos elementos de uma matriz."
   ]
  },
  {
   "cell_type": "code",
   "execution_count": 23,
   "metadata": {},
   "outputs": [
    {
     "name": "stdout",
     "output_type": "stream",
     "text": [
      "Soma d\n",
      "[[ 6.  8.]\n",
      " [10. 12.]]\n",
      "[[ 6.  8.]\n",
      " [10. 12.]]\n",
      "[[-4. -4.]\n",
      " [-4. -4.]]\n",
      "[[-4. -4.]\n",
      " [-4. -4.]]\n",
      "[[ 5. 12.]\n",
      " [21. 32.]]\n",
      "[[ 5. 12.]\n",
      " [21. 32.]]\n",
      "[[0.2        0.33333333]\n",
      " [0.42857143 0.5       ]]\n",
      "[[0.2        0.33333333]\n",
      " [0.42857143 0.5       ]]\n",
      "[[1.         1.41421356]\n",
      " [1.73205081 2.        ]]\n"
     ]
    }
   ],
   "source": [
    "#Operacoes ao nível dos elementos das matrizes\n",
    "import numpy as np\n",
    "\n",
    "x = np.array([[1,2],[3,4]], dtype=np.float64)\n",
    "y = np.array([[5,6],[7,8]], dtype=np.float64)\n",
    "\n",
    "print(\"Soma dos elementos de x com y\")\n",
    "print(x + y)\n",
    "print(np.add(x, y))\n",
    "\n",
    "print(\"Diferenca dos elementos de x com y\")\n",
    "print(x - y)\n",
    "print(np.subtract(x, y))\n",
    "\n",
    "print(\"Multiplicacao dos elementos de x com y\")\n",
    "print(x * y)\n",
    "print(np.multiply(x, y))\n",
    "\n",
    "print(\"Divisao dos elementos de x por y\")\n",
    "print(x / y)\n",
    "print(np.divide(x, y))\n",
    "\n",
    "print(\"Raiz quadrada dos elementos de x\")\n",
    "print(np.sqrt(x))\n"
   ]
  },
  {
   "cell_type": "code",
   "execution_count": 24,
   "metadata": {},
   "outputs": [
    {
     "name": "stdout",
     "output_type": "stream",
     "text": [
      "Produto das matrizes v com w\n",
      "219\n",
      "219\n",
      "Produto das matrizes x com v\n",
      "[29 67]\n",
      "[29 67]\n",
      "Produto das matrizes x com y\n",
      "[[19 22]\n",
      " [43 50]]\n",
      "[[19 22]\n",
      " [43 50]]\n"
     ]
    }
   ],
   "source": [
    "#Operacoes ao nível das matrizes\n",
    "\n",
    "import numpy as np\n",
    "\n",
    "x = np.array([[1,2],[3,4]])\n",
    "y = np.array([[5,6],[7,8]])\n",
    "\n",
    "v = np.array([9,10])\n",
    "w = np.array([11, 12])\n",
    "\n",
    "print(\"Produto das matrizes v com w\")\n",
    "print(v.dot(w))\n",
    "print(np.dot(v, w))\n",
    "\n",
    "print(\"Produto das matrizes x com v\")\n",
    "print(x.dot(v))\n",
    "print(np.dot(x, v))\n",
    "\n",
    "print(\"Produto das matrizes x com y\")\n",
    "print(x.dot(y))\n",
    "print(np.dot(x, y))\n"
   ]
  },
  {
   "cell_type": "code",
   "execution_count": 25,
   "metadata": {},
   "outputs": [
    {
     "name": "stdout",
     "output_type": "stream",
     "text": [
      "Soma todos os elementos de x\n",
      "10\n",
      "Soma todos os elementos das colunas de x\n",
      "[4 6]\n",
      "Soma todos os elementos das linhas de x\n",
      "[3 7]\n"
     ]
    }
   ],
   "source": [
    "#Operacao soma\n",
    "\n",
    "import numpy as np\n",
    "\n",
    "x = np.array([[1,2],[3,4]])\n",
    "\n",
    "print(\"Soma todos os elementos de x\")\n",
    "print(np.sum(x))\n",
    "print(\"Soma todos os elementos das colunas de x\")\n",
    "print(np.sum(x, axis=0))  \n",
    "print(\"Soma todos os elementos das linhas de x\")\n",
    "print(np.sum(x, axis=1))\n"
   ]
  },
  {
   "cell_type": "markdown",
   "metadata": {},
   "source": [
    "## Broadcasting\n",
    "\n",
    "Mecanismo que permite ao numpy trabalhar com matrizes de diferentes dimensões.\n",
    "\n",
    "No exemplo seguinte mostra-se como adicionar os valores de uma nova coluna a uma matriz, da forma tradicional e utilizando o mecanismo de broadcasting."
   ]
  },
  {
   "cell_type": "code",
   "execution_count": 26,
   "metadata": {},
   "outputs": [
    {
     "name": "stdout",
     "output_type": "stream",
     "text": [
      "Metodo 1:\n",
      "[[ 2  2  4]\n",
      " [ 5  5  7]\n",
      " [ 8  8 10]\n",
      " [11 11 13]]\n",
      "Metodo 2:\n",
      "[[ 2  2  4]\n",
      " [ 5  5  7]\n",
      " [ 8  8 10]\n",
      " [11 11 13]]\n"
     ]
    }
   ],
   "source": [
    "import numpy as np\n",
    "\n",
    "# Adicionar o vetor v`a cada linha da matriz x guardando na matriz y \n",
    "x = np.array([[1,2,3], [4,5,6], [7,8,9], [10, 11, 12]])\n",
    "v = np.array([1, 0, 1])\n",
    "\n",
    "print(\"Metodo 1:\")\n",
    "y = np.empty_like(x)\n",
    "# Adicionar cada vetor v à matriz y\n",
    "for i in range(4):\n",
    "    y[i, :] = x[i, :] + v\n",
    "print(y)\n",
    "\n",
    "print(\"Metodo 2:\")\n",
    "y = x + v \n",
    "print(y)\n"
   ]
  },
  {
   "cell_type": "markdown",
   "metadata": {},
   "source": [
    "### Exercícios sobre numpy\n",
    "1. Crie um vetor com 10 elementos todos a 0\n",
    "2. Crie uma matriz de zeros com a dimensão de 2X5\n",
    "3. Crie um vetor de 10 elementos com valores entre 10 e 49\n",
    "4. Crie uma matriz 2X5 com valores entre 10 e 19\n",
    "5. Crie uma matriz identidade com a dimensão 5x5\n",
    "6. Gere uma matriz 5x5 com valores aleatorios\n",
    "7. Normalize os valores de uma matriz 5x5"
   ]
  },
  {
   "cell_type": "code",
   "execution_count": 43,
   "metadata": {},
   "outputs": [
    {
     "name": "stdout",
     "output_type": "stream",
     "text": [
      "Solucao 1:\n",
      "[0. 0. 0. 0. 0. 0. 0. 0. 0. 0.]\n",
      "Solucao 2:\n",
      "[[0. 0. 0. 0. 0.]\n",
      " [0. 0. 0. 0. 0.]]\n",
      "Solucao 3:\n",
      "[10 11 12 13 14 15 16 17 18 19 20 21 22 23 24 25 26 27 28 29 30 31 32 33\n",
      " 34 35 36 37 38 39 40 41 42 43 44 45 46 47 48 49]\n",
      "Solucao 4:\n",
      "[[10 11 12 13 14]\n",
      " [15 16 17 18 19]]\n",
      "Solucao 5:\n",
      "[[1. 0. 0. 0. 0.]\n",
      " [0. 1. 0. 0. 0.]\n",
      " [0. 0. 1. 0. 0.]\n",
      " [0. 0. 0. 1. 0.]\n",
      " [0. 0. 0. 0. 1.]]\n",
      "Solucao 6:\n",
      "[[0.76281342 0.74408026 0.1148818  0.24977853 0.71412268]\n",
      " [0.60232179 0.37759667 0.71376541 0.37303468 0.81490129]\n",
      " [0.43142016 0.04221845 0.89824405 0.28920499 0.3235289 ]\n",
      " [0.77774327 0.10184018 0.01459283 0.24731747 0.31458038]\n",
      " [0.62006375 0.70798012 0.9686796  0.63054083 0.68064879]]\n",
      "Solucao 7:\n",
      "[[0.2682999  0.39677632 0.37944414 0.38243169 0.84963018]\n",
      " [0.67628489 0.5124799  0.         0.8910218  0.50559513]\n",
      " [0.55275731 0.85354632 0.86499987 0.16524017 0.2618998 ]\n",
      " [0.02245695 0.51673857 0.66303025 0.55777495 0.33436236]\n",
      " [0.04926232 0.42997615 1.         0.9175554  0.58161408]]\n"
     ]
    }
   ],
   "source": [
    "import numpy as np\n",
    "#Solucao 1\n",
    "print(\"Solucao 1:\")\n",
    "v = np.zeros(10)\n",
    "print(v)\n",
    "#Solucao 2\n",
    "print(\"Solucao 2:\")\n",
    "m = np.zeros(shape=(2,5))\n",
    "print(m)\n",
    "#Solucao 3\n",
    "print(\"Solucao 3:\")\n",
    "v = np.arange(10,50)\n",
    "print(v)\n",
    "#Solucao 4\n",
    "print(\"Solucao 4:\")\n",
    "m = np.arange(10,20).reshape(2,5)\n",
    "print(m)\n",
    "#Solucao 5\n",
    "print(\"Solucao 5:\")\n",
    "m = np.eye(5)\n",
    "print(m)\n",
    "#Solucao 6\n",
    "print(\"Solucao 6:\")\n",
    "m = np.random.random((5,5))\n",
    "print(m)\n",
    "#Solucao 7\n",
    "print(\"Solucao 7:\")\n",
    "m = np.random.random((5,5))\n",
    "mmax, mmin = m.max(), m.min()\n",
    "m = (m - mmin)/(mmax - mmin)\n",
    "print(m)"
   ]
  },
  {
   "cell_type": "markdown",
   "metadata": {},
   "source": [
    "### Exemplo da avaliação da velocidade de execução do numpy"
   ]
  },
  {
   "cell_type": "code",
   "execution_count": null,
   "metadata": {},
   "outputs": [],
   "source": [
    "import numpy as np\n",
    "from timeit import timeit\n",
    "\n"
   ]
  }
 ],
 "metadata": {
  "kernelspec": {
   "display_name": "Python 3",
   "language": "python",
   "name": "python3"
  },
  "language_info": {
   "codemirror_mode": {
    "name": "ipython",
    "version": 3
   },
   "file_extension": ".py",
   "mimetype": "text/x-python",
   "name": "python",
   "nbconvert_exporter": "python",
   "pygments_lexer": "ipython3",
   "version": "3.6.4"
  }
 },
 "nbformat": 4,
 "nbformat_minor": 2
}
