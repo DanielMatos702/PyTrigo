{
 "cells": [
  {
   "cell_type": "markdown",
   "metadata": {},
   "source": [
    "## SQLite\n",
    "\n",
    "Embora a biblioteca Pandas seja a indica para o tratamento da maior parte das situações, por vezes torna-se necessário a utilização de bases de dados e das operações associadas às bases de dados.\n",
    "\n",
    "Um dos motores de bases de dados disponíveis para pequenas implementações é o SQLite, cuja utilização se mostra de seguida.\n",
    "\n",
    "Há operações que tipicamente são mais rápidas com o SQLite (select, filter e order) e outras que são mais rápidas com o Pandas (group by, load e join)."
   ]
  },
  {
   "cell_type": "code",
   "execution_count": 1,
   "metadata": {},
   "outputs": [
    {
     "name": "stdout",
     "output_type": "stream",
     "text": [
      "INSERT INTO empregado VALUES (kVcqvncd,f,1951,17632.84458925844);\n",
      "INSERT INTO empregado VALUES (lAkHndJk,e,1968,26757.41549837873);\n",
      "INSERT INTO empregado VALUES (knktcWME,d,1988,58920.147713077364);\n",
      "INSERT INTO empregado VALUES (UanlXumG,e,1969,43956.01899492496);\n",
      "INSERT INTO empregado VALUES (bXtQwjRc,d,1942,12770.075573823411);\n",
      "INSERT INTO empregado VALUES (qDsYPodg,g,1961,85343.50054203243);\n",
      "INSERT INTO empregado VALUES (tAZFCAzX,d,1946,74982.4984803583);\n",
      "INSERT INTO empregado VALUES (mgbBLBOf,a,1936,33463.752116623065);\n"
     ]
    }
   ],
   "source": []
  },
  {
   "cell_type": "code",
   "execution_count": 1,
   "metadata": {},
   "outputs": [
    {
     "data": {
      "text/plain": [
       "<sqlite3.Cursor at 0x1d6399e9d50>"
      ]
     },
     "execution_count": 1,
     "metadata": {},
     "output_type": "execute_result"
    }
   ],
   "source": [
    "import sqlite3\n",
    "conn = sqlite3.connect('empregados.db')\n",
    "\n",
    "c = conn.cursor()\n",
    "#Comando para criar uma tabela de dados (ex. empregado)\n",
    "c.execute('CREATE TABLE empregado (nome varchar(255), departamento char(1), ano_nascimento int, salario double);')\n",
    "#Criacao da tabela bonus\n",
    "c.execute('CREATE TABLE bonus (nome varchar(255), bonus double);')\n",
    "\n",
    "#Depois de criar as tabelas não volte a correr o código acima\n",
    "#Caso deseje recriar a BD, ou apaga o ficheiro da mesma, empregados.db, ou faz DROP das tabelas desejadas."
   ]
  },
  {
   "cell_type": "code",
   "execution_count": 7,
   "metadata": {},
   "outputs": [
    {
     "name": "stdout",
     "output_type": "stream",
     "text": [
      "INSERT INTO empregado VALUES ('JiVapfJZ','c',1931,91068.19509794368);\n",
      "INSERT INTO empregado VALUES ('FwkFQQDM','d',1996,23784.2329737553);\n",
      "INSERT INTO empregado VALUES ('sMtJWaiK','b',1961,37393.51576237766);\n"
     ]
    }
   ],
   "source": [
    "#Criacao de dados random para preencher a tabela empregado (populate)\n",
    "#Existem bibliotecas em Python que permitem preenchimento das tabelas com dados mais parecidos com os reais ex. https://faker.readthedocs.io/en/master/#\n",
    "import random\n",
    "import string\n",
    "\n",
    "def random_string(length, chars=string.ascii_letters):\n",
    "    return ''.join(random.choice(chars) for _ in range(length))\n",
    "\n",
    "def gerar_empregados(n):\n",
    "    for _ in range(n):\n",
    "        yield (random_string(8), random_string(1, chars='abcdefg'), random.randint(1900, 2000), random.uniform(1e4, 1e5))\n",
    "\n",
    "#Teste para ver se gera as linahs corretamente\n",
    "for linha in gerar_empregados(3):\n",
    "    linha2 = \"INSERT INTO empregado VALUES ('\" + linha[0] + \"','\" + linha[1] + \"',\" + str(int(linha[2])) + \",\" + str(linha[3])+\");\" \n",
    "    print(linha2)"
   ]
  },
  {
   "cell_type": "code",
   "execution_count": 4,
   "metadata": {},
   "outputs": [],
   "source": [
    "#Insercao de 10000 linhas utilizando o código acima\n",
    "#Pode alterar o valor 10000 para o valor que desejar quanto estiver a fazer testes à BD\n",
    "\n",
    "for lin in gerar_empregados(10000):\n",
    "    linha = \"INSERT INTO empregado (nome, departamento, ano_nascimento, salario) VALUES ('\" + lin[0] + \"','\" + lin[1] + \"',\" + str(lin[2]) + \",\" + str(lin[3])+\");\"\n",
    "    c.execute(linha)\n",
    "\n",
    "for row in c.execute('SELECT nome FROM empregado'):\n",
    "    c.execute('INSERT INTO bonus (nome, bonus) VALUES (\"' + row[0] + '\",' + str(random.uniform(1e4, 1e5)) + ')')\n",
    "\n",
    "#Guardar as alterações\n",
    "conn.commit()\n",
    "\n",
    "#Fechar a ligação à BD\n",
    "conn.close()"
   ]
  },
  {
   "cell_type": "markdown",
   "metadata": {},
   "source": [
    "De seguida vai-se testar o desempenho de execução da leitura de duas colunas à tabela empregado, uma utilizando o motor de BD SQLite e outra utilizando o Pandas (Fonte: http://bit.ly/2G93lbj). "
   ]
  },
  {
   "cell_type": "code",
   "execution_count": 6,
   "metadata": {},
   "outputs": [
    {
     "name": "stdout",
     "output_type": "stream",
     "text": [
      "       nome departamento  ano_nascimento       salario\n",
      "0  dmpsFlxc            e            1976  45376.294488\n",
      "1  DZHqDfDo            f            1952  27786.967086\n",
      "2  hGhAPxvC            c            1952  72989.332440\n",
      "3  XFVldhgd            b            1991  23090.118032\n",
      "4  xpuTWYpx            g            1910  61787.448490\n",
      "166 µs ± 2.47 µs per loop (mean ± std. dev. of 7 runs, 10000 loops each)\n",
      "1.4 ms ± 183 µs per loop (mean ± std. dev. of 7 runs, 1000 loops each)\n"
     ]
    }
   ],
   "source": [
    "#Para listar os valores das tabelas utilizaos seguintes métodos / funções:\n",
    "import sqlite3\n",
    "import pandas as pd\n",
    "from timeit import timeit\n",
    "\n",
    "conn = sqlite3.connect('empregados.db')\n",
    "df_empregado = pd.read_sql_query('SELECT * FROM empregado', conn)\n",
    "print(df_empregado.head())\n",
    "    \n",
    "def sql_select(conn):\n",
    "    conn.execute('SELECT nome, departamento FROM empregado')\n",
    "    conn.commit()\n",
    "\n",
    "def pd_select(df_empregado):\n",
    "    df_empregado[[\"nome\", \"departamento\"]]\n",
    "        \n",
    "%timeit sql_select(conn)\n",
    "%timeit pd_select(df_empregado)\n",
    "\n",
    "conn.close()\n",
    "\n",
    "print(\"Comente os valores que obteve.\")"
   ]
  },
  {
   "cell_type": "markdown",
   "metadata": {},
   "source": [
    "## Exercício 1:\n",
    "    \n",
    "Teste as restantes situações de manipulações de dados, com as seguintes funções:"
   ]
  },
  {
   "cell_type": "code",
   "execution_count": 8,
   "metadata": {},
   "outputs": [],
   "source": [
    "def sql_sort(c):\n",
    "    c.execute('SELECT * FROM empregado ORDER BY nome ASC;')\n",
    "\n",
    "def pd_sort(df):\n",
    "    df.sort_values(by='nome')\n",
    "\n",
    "def sql_join(c):\n",
    "    c.execute('SELECT empregado.nome, empregado.salario + bonus.bonus FROM empregado INNER JOIN bonus ON empregado.nome = bonus.nome')\n",
    "\n",
    "def pd_join(df_emp, df_bonus):\n",
    "    joined = df_emp.merge(df_bonus, on='nome')\n",
    "    joined['total'] = joined['bonus'] + joined['salario']\n",
    "\n",
    "def sql_filtrar(c):\n",
    "    c.execute('SELECT * FROM empregado WHERE departamento = \"a\";')\n",
    "\n",
    "def pd_filtrar(df):\n",
    "    df[df['departamento'] == 'a']\n",
    "\n",
    "def sql_groupby(c):\n",
    "    c.execute('SELECT avg(ano_nascimento), sum(salario) FROM empregado GROUP BY departamento;')\n",
    "\n",
    "def pd_groupby(self):\n",
    "    df.groupby(\"departamento\").agg({'ano_nascimento': np.mean, 'salario': np.sum})"
   ]
  },
  {
   "cell_type": "markdown",
   "metadata": {},
   "source": [
    "## Exercício 2:\n",
    "\n",
    "Compare a performance do SQLite vs Pandas utilizando um DataSet com 100 000 linhas.\n",
    "\n",
    "Utilize o dataset relativo a vinhos disponível em https://www.kaggle.com/zynicide/wine-reviews/version/4\n",
    "\n",
    "Olhe para os dados e faça medições de tempo relativas a alguns cálculos (ex. preco médio do vinho, vinhos mais baratos com a melhor classificação, etc.)."
   ]
  },
  {
   "cell_type": "markdown",
   "metadata": {},
   "source": [
    "## Sintaxe Pandas vs SQL\n",
    "\n",
    "No seguinte link http://bit.ly/2G9skev podem ver a comparação entre a sintaxe da biblioteca Pandas e a linguagem SQL. "
   ]
  },
  {
   "cell_type": "markdown",
   "metadata": {},
   "source": [
    "## SQLAlchemy\n",
    "\n",
    "Para realizar operações mais complexas consulte a seguinte biblioteca https://www.sqlalchemy.org/"
   ]
  },
  {
   "cell_type": "markdown",
   "metadata": {},
   "source": [
    "## PostgreSQL\n",
    "\n",
    "A base de dados SQLite permite guardar informação e realizar um grande conjunto de tarefas sendo uma das preferidas pelos analistas de dados.\n",
    "\n",
    "No entanto, se desejar trabalhar com bases de dados mais robusta sugere-se a utilização das base de dados PostgreSQL.\n",
    "\n",
    "Para poder interagir com este motor de base de dados terá primeiramente que instalar o PostGreSQL na sua máquina.\n",
    "\n",
    "Faça import da bilioteca psycopg2 para trabalhar com o PostgreSQL.\n",
    "\n",
    "```\n",
    "import psycopg2\n",
    "```\n",
    "\n",
    "Se der erro terá de instalar o package com o comando: \n",
    "\n",
    "```\n",
    "pip install psycopg2\n",
    "```\n",
    "\n",
    "Veja um tutorial de como utilizar a biblioteca psycopg2."
   ]
  },
  {
   "cell_type": "code",
   "execution_count": null,
   "metadata": {},
   "outputs": [],
   "source": []
  }
 ],
 "metadata": {
  "kernelspec": {
   "display_name": "Python 3",
   "language": "python",
   "name": "python3"
  },
  "language_info": {
   "codemirror_mode": {
    "name": "ipython",
    "version": 3
   },
   "file_extension": ".py",
   "mimetype": "text/x-python",
   "name": "python",
   "nbconvert_exporter": "python",
   "pygments_lexer": "ipython3",
   "version": "3.7.3"
  }
 },
 "nbformat": 4,
 "nbformat_minor": 2
}
