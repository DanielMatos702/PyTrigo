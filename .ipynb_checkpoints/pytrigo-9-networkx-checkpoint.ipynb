{
 "cells": [
  {
   "cell_type": "markdown",
   "metadata": {},
   "source": [
    "Biblioteca para trabalho com grafos"
   ]
  },
  {
   "cell_type": "code",
   "execution_count": 5,
   "metadata": {},
   "outputs": [
    {
     "name": "stdout",
     "output_type": "stream",
     "text": [
      "3\n",
      "3\n",
      "[1, 2, 3]\n",
      "[(1, 2), (1, 3), (2, 3)]\n",
      "[1, 3]\n",
      "[(1, 3)]\n"
     ]
    }
   ],
   "source": [
    "#criar um grafo\n",
    "import networkx as nx\n",
    "G = nx.Graph()\n",
    "\n",
    "#criar os nodos\n",
    "#um a um\n",
    "G.add_node(1) \n",
    "#lista de nodos\n",
    "G.add_nodes_from([2, 3]) \n",
    "\n",
    "#cria as arestas\n",
    "#uma a uma\n",
    "G.add_edge(1, 2)\n",
    "e = (2, 3) \n",
    "G.add_edge(*e)\n",
    "#uma lista\n",
    "G.add_edges_from([(1, 2), (1, 3)])\n",
    "print(G.number_of_nodes())\n",
    "print(G.number_of_edges())\n",
    "print(list(G.nodes))\n",
    "print(list(G.edges))\n",
    "G.remove_node(2)\n",
    "print(list(G.nodes))\n",
    "print(list(G.edges))"
   ]
  },
  {
   "cell_type": "code",
   "execution_count": null,
   "metadata": {},
   "outputs": [],
   "source": []
  }
 ],
 "metadata": {
  "kernelspec": {
   "display_name": "Python 3",
   "language": "python",
   "name": "python3"
  },
  "language_info": {
   "codemirror_mode": {
    "name": "ipython",
    "version": 3
   },
   "file_extension": ".py",
   "mimetype": "text/x-python",
   "name": "python",
   "nbconvert_exporter": "python",
   "pygments_lexer": "ipython3",
   "version": "3.6.4"
  }
 },
 "nbformat": 4,
 "nbformat_minor": 2
}
