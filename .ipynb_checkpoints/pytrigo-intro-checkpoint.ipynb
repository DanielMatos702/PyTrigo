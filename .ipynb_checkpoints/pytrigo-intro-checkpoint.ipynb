{
 "cells": [
  {
   "cell_type": "markdown",
   "metadata": {},
   "source": [
    "# Introdução ao Python3\n",
    "\n",
    "Este é o primeiro tutorial sobre Python.\n",
    "\n",
    "Assim, o primeiro passa é entender como funcionam os jupyter notebooks que vamos utilizar ao longo deste conjunto de tutoriais.\n",
    "\n",
    "Os jupyter notebooks permitem a escrita de texto num formato designado de markdown e a escrita de código que se pode exectuar e cujos resultados são visionados na célula seguinte à introdução do código.\n",
    "\n",
    "Para escrever  texto/código deverá inserir células recorrendo ao comando da barra de botões \"Insert cell bellow\". \n",
    "\n",
    "Por omissão as células inseridas são do tipo código (**Code**). Caso queira alterar o seu tipo para texto deverá aceder ao tipo de célula e alterar para **Markdown**.\n",
    "\n",
    "Para correr o código que escreveu numa célula do tipo **Code** tem duas opções, carregar simultanemaente nas teclas shift+Enter ou utilizar o comando da barra de botões \"Run the selected cells in advance\". Vamos experimentar de seguida correr o nosso primeiro programa.\n",
    "\n",
    "São um ótimo instrumento de aprendizagem e de transmissão de trabalho a colegas com quem estejamos a trabalhar pois permite não só transmitir o texto/relatório sobre o mesmo como os resultados obtidos."
   ]
  },
  {
   "cell_type": "markdown",
   "metadata": {},
   "source": [
    "## Primeiro programa - Hello World\n",
    "\n",
    "Na célula seguinte vemos o exemplo típico que é a escrita no ecrã da frase \"Hello World!\" com a instrução print.\n",
    "\n",
    "Par correr o código escrito na célula de código deverá utilizar uma das opções acima descritas."
   ]
  },
  {
   "cell_type": "code",
   "execution_count": 4,
   "metadata": {},
   "outputs": [
    {
     "name": "stdout",
     "output_type": "stream",
     "text": [
      "Hello world\n"
     ]
    }
   ],
   "source": [
    "print(\"Hello world\")"
   ]
  },
  {
   "cell_type": "markdown",
   "metadata": {},
   "source": [
    "## Matemática\n",
    "\n",
    "À semelhança de outras linguagens o Python realiza operações matemáticas.\n",
    "\n",
    "De seguida apresentam-se alguns exemplos que pode experimentar.\n",
    "\n",
    "Se quiser correr outros basta adicionar novas células."
   ]
  },
  {
   "cell_type": "code",
   "execution_count": 2,
   "metadata": {},
   "outputs": [
    {
     "data": {
      "text/plain": [
       "2"
      ]
     },
     "execution_count": 2,
     "metadata": {},
     "output_type": "execute_result"
    }
   ],
   "source": [
    "1+1"
   ]
  },
  {
   "cell_type": "code",
   "execution_count": 7,
   "metadata": {},
   "outputs": [
    {
     "data": {
      "text/plain": [
       "5.0"
      ]
     },
     "execution_count": 7,
     "metadata": {},
     "output_type": "execute_result"
    }
   ],
   "source": [
    "2.5 * 2"
   ]
  },
  {
   "cell_type": "code",
   "execution_count": 41,
   "metadata": {},
   "outputs": [
    {
     "data": {
      "text/plain": [
       "4.5"
      ]
     },
     "execution_count": 41,
     "metadata": {},
     "output_type": "execute_result"
    }
   ],
   "source": [
    "9/2"
   ]
  },
  {
   "cell_type": "code",
   "execution_count": 42,
   "metadata": {},
   "outputs": [
    {
     "data": {
      "text/plain": [
       "4"
      ]
     },
     "execution_count": 42,
     "metadata": {},
     "output_type": "execute_result"
    }
   ],
   "source": [
    "9//2"
   ]
  },
  {
   "cell_type": "markdown",
   "metadata": {},
   "source": [
    "## Tipos de dados\n",
    "\n",
    "Em Python tudo são objetos e todos os objetos são de um determinado tipo.\n",
    "\n",
    "O Python trabalha com os seguintes tipos de dados básicos: int (números inteiros), float (números reais), str (texto), bool (booleanos - verdaeiro (true) ou falso (false)) e NoneType (tipo especial que representa a situação sem valor)\n",
    "\n",
    "Em Python não é preciso declarar de forma explicita o tipo de dados, ele próprio deduz a partir da utilização que lhe estamos a dar (Duck Typing). Em casos de desambiguação é necessário indicar o tipo de dados.\n",
    "\n",
    "## Operadores\n",
    "\n",
    "Os operadores são símbolos especiais que representam a execução de operações sobre os operandos associados.\n",
    "\n",
    "No Python temos os seguintes operadores:\n",
    "* Operadores aritémticos: +, -, *, /, ** (expoente)\n",
    "* Atribuição: =, +=, -=, *=\n",
    "* Comparação (devolve true/false): ==, !=, <, <=, >, >=\n",
    "* Outros para comparação: is, is not, in, not in,  not, and, or, lambda\n",
    "\n",
    "### Precedência de operadores\n",
    "\n",
    "Quando são utilizados múltiplos operadores em expressões é preciso ter em conta na sua utilização a precedência dos mesmos:\n",
    "* (, )\n",
    "* \\*\\*\n",
    "* *, /\n",
    "* +, -\n",
    "* <, <=, >, >=\n",
    "* ==, !=, is, is not, in\n",
    "* not in\n",
    "* not\n",
    "* and\n",
    "* or\n",
    "* lambda\n",
    "\n",
    "Em caso de dúvida utilize os parentesis ( ).\n",
    "\n",
    "## Variáveis\n",
    "\n",
    "Um variável é um espaço em memória que é utilizado para guardar valores de um determinado tipo de dados (que podem ser referências a objetos) para serem utilizadas ao longo do programa.\n",
    "\n",
    "De seguida mostram-se alguns exemplos de utilização de variáveis e operadores em expressões."
   ]
  },
  {
   "cell_type": "code",
   "execution_count": 26,
   "metadata": {},
   "outputs": [],
   "source": [
    "#Atribuicao de valores a variaveis\n",
    "num1 = 10\n",
    "num2 = -5\n",
    "num3 = 2.0\n",
    "num4 = -.8"
   ]
  },
  {
   "cell_type": "code",
   "execution_count": 14,
   "metadata": {},
   "outputs": [
    {
     "data": {
      "text/plain": [
       "24"
      ]
     },
     "execution_count": 14,
     "metadata": {},
     "output_type": "execute_result"
    }
   ],
   "source": [
    "num1+num2"
   ]
  },
  {
   "cell_type": "code",
   "execution_count": 15,
   "metadata": {},
   "outputs": [
    {
     "data": {
      "text/plain": [
       "-8.0"
      ]
     },
     "execution_count": 15,
     "metadata": {},
     "output_type": "execute_result"
    }
   ],
   "source": [
    "num2-num3"
   ]
  },
  {
   "cell_type": "code",
   "execution_count": 16,
   "metadata": {},
   "outputs": [
    {
     "data": {
      "text/plain": [
       "-12.0"
      ]
     },
     "execution_count": 16,
     "metadata": {},
     "output_type": "execute_result"
    }
   ],
   "source": [
    "num2*num3"
   ]
  },
  {
   "cell_type": "code",
   "execution_count": 17,
   "metadata": {},
   "outputs": [
    {
     "data": {
      "text/plain": [
       "36.0"
      ]
     },
     "execution_count": 17,
     "metadata": {},
     "output_type": "execute_result"
    }
   ],
   "source": [
    "num2**num3"
   ]
  },
  {
   "cell_type": "code",
   "execution_count": 20,
   "metadata": {},
   "outputs": [
    {
     "data": {
      "text/plain": [
       "-8"
      ]
     },
     "execution_count": 20,
     "metadata": {},
     "output_type": "execute_result"
    }
   ],
   "source": [
    "num2-=1\n",
    "num2"
   ]
  },
  {
   "cell_type": "code",
   "execution_count": 21,
   "metadata": {},
   "outputs": [
    {
     "data": {
      "text/plain": [
       "270"
      ]
     },
     "execution_count": 21,
     "metadata": {},
     "output_type": "execute_result"
    }
   ],
   "source": [
    "num1*=3\n",
    "num1"
   ]
  },
  {
   "cell_type": "code",
   "execution_count": 24,
   "metadata": {},
   "outputs": [
    {
     "data": {
      "text/plain": [
       "810"
      ]
     },
     "execution_count": 24,
     "metadata": {},
     "output_type": "execute_result"
    }
   ],
   "source": [
    "#Corra outra vez as instrucoes anteriores e comente\n",
    "num1*=3\n",
    "num1"
   ]
  },
  {
   "cell_type": "code",
   "execution_count": 27,
   "metadata": {},
   "outputs": [
    {
     "data": {
      "text/plain": [
       "False"
      ]
     },
     "execution_count": 27,
     "metadata": {},
     "output_type": "execute_result"
    }
   ],
   "source": [
    "#Para este exercicio volte a correr a celula que define os valores das variaveis\n",
    "num1<num2"
   ]
  },
  {
   "cell_type": "code",
   "execution_count": 28,
   "metadata": {},
   "outputs": [
    {
     "data": {
      "text/plain": [
       "True"
      ]
     },
     "execution_count": 28,
     "metadata": {},
     "output_type": "execute_result"
    }
   ],
   "source": [
    "#Em Python e possível comparar mais que um valor\n",
    "5 > 3 > 1"
   ]
  },
  {
   "cell_type": "code",
   "execution_count": 29,
   "metadata": {},
   "outputs": [
    {
     "data": {
      "text/plain": [
       "True"
      ]
     },
     "execution_count": 29,
     "metadata": {},
     "output_type": "execute_result"
    }
   ],
   "source": [
    "5 > 3 < 4 == 3 + 1"
   ]
  },
  {
   "cell_type": "code",
   "execution_count": 36,
   "metadata": {},
   "outputs": [
    {
     "data": {
      "text/plain": [
       "True"
      ]
     },
     "execution_count": 36,
     "metadata": {},
     "output_type": "execute_result"
    }
   ],
   "source": [
    "1 is 1"
   ]
  },
  {
   "cell_type": "code",
   "execution_count": 37,
   "metadata": {},
   "outputs": [
    {
     "data": {
      "text/plain": [
       "False"
      ]
     },
     "execution_count": 37,
     "metadata": {},
     "output_type": "execute_result"
    }
   ],
   "source": [
    "1 is not 1"
   ]
  },
  {
   "cell_type": "code",
   "execution_count": 44,
   "metadata": {},
   "outputs": [
    {
     "data": {
      "text/plain": [
       "False"
      ]
     },
     "execution_count": 44,
     "metadata": {},
     "output_type": "execute_result"
    }
   ],
   "source": [
    "True and False"
   ]
  },
  {
   "cell_type": "code",
   "execution_count": 32,
   "metadata": {},
   "outputs": [
    {
     "data": {
      "text/plain": [
       "'Bom dia Antonio'"
      ]
     },
     "execution_count": 32,
     "metadata": {},
     "output_type": "execute_result"
    }
   ],
   "source": [
    "str1 = \"Bom dia\"\n",
    "str2 = 'Antonio'\n",
    "str3 = str1 + \" \" + str2\n",
    "str3"
   ]
  },
  {
   "cell_type": "code",
   "execution_count": 34,
   "metadata": {},
   "outputs": [
    {
     "data": {
      "text/plain": [
       "'Antonio Antonio Antonio Antonio '"
      ]
     },
     "execution_count": 34,
     "metadata": {},
     "output_type": "execute_result"
    }
   ],
   "source": [
    "#Multiplicacao de strings\n",
    "str4 = 'Antonio '\n",
    "str4*4"
   ]
  },
  {
   "cell_type": "markdown",
   "metadata": {},
   "source": [
    "### Exercicios\n",
    "\n",
    "1. Escreva um programa que converta USD para EUR;\n",
    "2. Escreva um programa que converta m/s em km/h;\n",
    "3. Escreva um programa que converta a tempretura em graus Fahrnheit para graus Celsius (C=5/9x(F-32));\n",
    "4. Escreva um programa que calcule a distância Euclidiana entre dois pontos ![P1=(x1,y1)](https://latex.codecogs.com/svg.latex?P_1%3D%5Cleft%20%28%20x_1%2C%20y_1%20%5Cright%20%29) e \n",
    "![P2=(x2,y2)](https://latex.codecogs.com/svg.latex?P_2%3D%5Cleft%20%28%20x_2%2C%20y_2%20%5Cright%20%29), ![D=RAIZQUADRADA((x1-y1)^2+(x2-y2)^2)](https://latex.codecogs.com/svg.latex?D%3D%5Csqrt%7B%5Cleft%28x_1-x_2%5Cright%29%5E2%2B%5Cleft%28y_1%2By_2%5Cright%29%5E2%7D)"
   ]
  },
  {
   "cell_type": "code",
   "execution_count": null,
   "metadata": {},
   "outputs": [],
   "source": [
    "#Crie aqui os seus exercios\n",
    "#Pode inserir uma celula para cada um"
   ]
  },
  {
   "cell_type": "markdown",
   "metadata": {},
   "source": [
    "## Estruturas de dados disponíveis no Python3\n",
    "\n",
    "As estrutras de dados em Python podem ser de dois tipos, mutáveis ou imutáveis.\n",
    "\n",
    "O Python3 tem disponível as seguintes estruturas de dados:\n",
    "* Lista (list) - lista de elementos indexados por inteiros, os elementos são guardados pela ordem de inserção, mutável;\n",
    "* Tuplo (tuple) - lista de elementos indexados por inteiros, os elementos são guardados pela ordem de inserção, imutável;\n",
    "* Dicionário (dict) - coleção de elementos do tipo chave-valor, os elementos não são guardados pela ordem de inserção, chave imutáveis, valores mutáveis;\n",
    "* Texto/Strings (str) - lista de caracteres indexados por inteiros, os lementos são guardados pela ordem de inserção, imutável;\n",
    "* Conjunto (set) - coleção de elementos não indexados, os elementos não são guardados pela ordem de inserção, imutável.\n",
    "\n",
    "De seguida apresentam-se alguns exemplos de utilização."
   ]
  },
  {
   "cell_type": "code",
   "execution_count": 45,
   "metadata": {},
   "outputs": [],
   "source": [
    "list1 = [3, 5, 6, 3, 'cao', 'gato', False]\n",
    "tuple1 = (3, 5, 6, 3, 'cao', 'gato', False)\n",
    "set1 = {3, 5, 6, 3, 'cao', 'gato', False}\n",
    "dict1 = {'nome': 'Andre', 'idade': 9, 'comidas_favoritas': ['pizza', 'fruta', 'lasanha']}"
   ]
  },
  {
   "cell_type": "code",
   "execution_count": 46,
   "metadata": {},
   "outputs": [
    {
     "data": {
      "text/plain": [
       "[3, 5, 6, 3, 'cao', 'gato', False]"
      ]
     },
     "execution_count": 46,
     "metadata": {},
     "output_type": "execute_result"
    }
   ],
   "source": [
    "list1"
   ]
  },
  {
   "cell_type": "code",
   "execution_count": 47,
   "metadata": {},
   "outputs": [
    {
     "data": {
      "text/plain": [
       "(3, 5, 6, 3, 'cao', 'gato', False)"
      ]
     },
     "execution_count": 47,
     "metadata": {},
     "output_type": "execute_result"
    }
   ],
   "source": [
    "tuple1"
   ]
  },
  {
   "cell_type": "code",
   "execution_count": 48,
   "metadata": {},
   "outputs": [
    {
     "data": {
      "text/plain": [
       "{3, 5, 6, False, 'cao', 'gato'}"
      ]
     },
     "execution_count": 48,
     "metadata": {},
     "output_type": "execute_result"
    }
   ],
   "source": [
    "set1"
   ]
  },
  {
   "cell_type": "code",
   "execution_count": 49,
   "metadata": {},
   "outputs": [
    {
     "data": {
      "text/plain": [
       "{'comidas_favoritas': ['pizza', 'fruta', 'lasanha'],\n",
       " 'idade': 9,\n",
       " 'nome': 'Andre'}"
      ]
     },
     "execution_count": 49,
     "metadata": {},
     "output_type": "execute_result"
    }
   ],
   "source": [
    "dict1"
   ]
  },
  {
   "cell_type": "markdown",
   "metadata": {},
   "source": [
    "As strings, listas, tuplos e dicionários podem ser acedidos utilizando parentesis retos.\n",
    "\n",
    "No caso das strings, listas e tuplos a referência aos elementos pode ser feita utilizando indices do tipo inteiro cuja primeira posicao é 0.\n",
    "\n",
    "Estas sequencias podem ser referenciadas com valores negativos\n",
    "\n",
    "Estas sequencias suportam as operações de acesso a um intervalo de valores (slicing)\n",
    "\n",
    "Nos exercicios seguintes vou começar a utilizar a instrução print para conseguir fazer o output de mais de um valor."
   ]
  },
  {
   "cell_type": "code",
   "execution_count": 56,
   "metadata": {},
   "outputs": [
    {
     "name": "stdout",
     "output_type": "stream",
     "text": [
      "3\n",
      "3\n"
     ]
    }
   ],
   "source": [
    "#Aceder ao primeiro elemento da lista\n",
    "print(list1[0])\n",
    "print(tuple1[0])"
   ]
  },
  {
   "cell_type": "code",
   "execution_count": 53,
   "metadata": {},
   "outputs": [
    {
     "ename": "TypeError",
     "evalue": "'set' object does not support indexing",
     "output_type": "error",
     "traceback": [
      "\u001b[1;31m---------------------------------------------------------------------------\u001b[0m",
      "\u001b[1;31mTypeError\u001b[0m                                 Traceback (most recent call last)",
      "\u001b[1;32m<ipython-input-53-8112db7d5a2d>\u001b[0m in \u001b[0;36m<module>\u001b[1;34m()\u001b[0m\n\u001b[0;32m      1\u001b[0m \u001b[1;31m#No caso do set dá erro. Comente:\u001b[0m\u001b[1;33m\u001b[0m\u001b[1;33m\u001b[0m\u001b[0m\n\u001b[1;32m----> 2\u001b[1;33m \u001b[0mprint\u001b[0m\u001b[1;33m(\u001b[0m\u001b[0mset1\u001b[0m\u001b[1;33m[\u001b[0m\u001b[1;36m0\u001b[0m\u001b[1;33m]\u001b[0m\u001b[1;33m)\u001b[0m\u001b[1;33m\u001b[0m\u001b[0m\n\u001b[0m",
      "\u001b[1;31mTypeError\u001b[0m: 'set' object does not support indexing"
     ]
    }
   ],
   "source": [
    "#No caso do set dá erro. Comente:\n",
    "print(set1[0])"
   ]
  },
  {
   "cell_type": "code",
   "execution_count": 57,
   "metadata": {},
   "outputs": [
    {
     "name": "stdout",
     "output_type": "stream",
     "text": [
      "False\n",
      " dia\n",
      "(3, 5, 6, 3)\n",
      "['cao', 'gato', False]\n",
      "Andre\n",
      "lasanha\n"
     ]
    }
   ],
   "source": [
    "#Aceder ao ultimo elemento do tuplo\n",
    "print(tuple1[-1])\n",
    "#Aceder a um intervalo de elementos\n",
    "print(str1[3:8])\n",
    "print(tuple1[:-3])\n",
    "print(list1[4:])\n",
    "# Aceder a um elemento do dicionario\n",
    "print(dict1['nome'])\n",
    "print(dict1['comidas_favoritas'][2])"
   ]
  },
  {
   "cell_type": "markdown",
   "metadata": {},
   "source": [
    "## Métodos built-in\n",
    "De seguida apresentam-se algumas funções que estão disponíveis no Python sem ser necessário utilizar um biblioteca específica (built-in functions): type(obj), len(obj), sorted(obj), sum(obj), min(obj), max(obj) e abs(numero)."
   ]
  },
  {
   "cell_type": "code",
   "execution_count": 59,
   "metadata": {},
   "outputs": [
    {
     "name": "stdout",
     "output_type": "stream",
     "text": [
      "Tamanho da lista:  7\n",
      "Lista ordenada: [-3, 1, 2, 3.6, 5, 7, 10]\n",
      "Soma:  25.6\n",
      "Minimo:  a\n"
     ]
    }
   ],
   "source": [
    "print(\"Tamanho da lista: \" , len(list1))\n",
    "print(\"Lista ordenada:\" , sorted([10, 1, 3.6, 7, 5, 2, -3]))\n",
    "print(\"Soma: \" , sum([10, 1, 3.6, 7, 5, 2, -3]))\n",
    "print(\"Minimo: \" , min(['g', 'z', 'a', 'y']))"
   ]
  },
  {
   "cell_type": "markdown",
   "metadata": {},
   "source": [
    "## Métodos associados às strings\n",
    "De seguida apresentam-se algumas funções associadas às strings: .capitalize(), .upper(), .lower(), .count(substring), .startswith(substring), .endswith(substring) e .replace(old, new). "
   ]
  },
  {
   "cell_type": "code",
   "execution_count": 61,
   "metadata": {},
   "outputs": [
    {
     "name": "stdout",
     "output_type": "stream",
     "text": [
      "Capitalize:  Isto e uma string\n",
      "Upper:  ISTO E UMA STRING\n",
      "Lower: isto e uma string\n",
      "Count:  2\n",
      "Count a partir da posicao 7:  1\n",
      "Count palavra uma:  1\n",
      "Startswith:  False\n",
      "Replace:  iSTo e XYZ sTriNg\n"
     ]
    }
   ],
   "source": [
    "str1 = 'iSTo e uma sTriNg'\n",
    "print('Capitalize: ' , str1.capitalize())\n",
    "print('Upper: ' , str1.upper())\n",
    "print('Lower:' , str1.lower())\n",
    "print('Count: ' , str1.count('i'))\n",
    "print('Count a partir da posicao 7: ' , str1.count('i',7))\n",
    "print('Count palavra uma: ' , str1.count('uma'))\n",
    "print('Startswith: ' , str1.startswith('this'))\n",
    "print('Replace: ' , str1.replace('uma', 'XYZ'))"
   ]
  },
  {
   "cell_type": "markdown",
   "metadata": {},
   "source": [
    "## Métodos associados às listas\n",
    "\n",
    "* .append(item), adicionar um elemento à lista\n",
    "* .extend([item1, item2, ...]), adicionar múltiplos elementos à lista\n",
    "* .remove(item), remover um elemento da lista\n",
    "* .pop(), remover e devolver o ultimo elemento da lista\n",
    "* .pop(index), remover e devolver um elemento da lista numa deerminada posicao\n"
   ]
  },
  {
   "cell_type": "code",
   "execution_count": 62,
   "metadata": {},
   "outputs": [
    {
     "name": "stdout",
     "output_type": "stream",
     "text": [
      "[3, 4, 5, 6, 7]\n"
     ]
    }
   ],
   "source": [
    "list1 = [3,4,5,6]\n",
    "list1.append(7)\n",
    "print(list1)"
   ]
  },
  {
   "cell_type": "markdown",
   "metadata": {},
   "source": [
    "## Métodos associados a conjuntos\n",
    "\n",
    "* .add(item), adicionar um elemento ao conjunto\n",
    "* .update([item1, item2, ...]), adcionar multiplos elementos ao conjunto\n",
    "* .update(set2, set3, ...), adicionar elementos de outros conjuntos\n",
    "* .remove(item), remover um elemento do conjunto\n",
    "* .pop(), remover e retornar um elemento do conjunto\n",
    "* .difference(set2), retirar elementos do conjunto que não estão no outro\n",
    "* .intersection(set2), devolver elementos dos dois conjuntos\n",
    "* .union(set2), devolver elementos que estão num ou noutro conjunto\n",
    "* .symmetric_difference(set2), devolver elementos que só estão num conjunto\n",
    "* .issuperset(set2), se set contem os elementos do conjunto set2\n",
    "* .issubset(set2), se set é um subconjunto do set2"
   ]
  },
  {
   "cell_type": "code",
   "execution_count": 66,
   "metadata": {},
   "outputs": [
    {
     "name": "stdout",
     "output_type": "stream",
     "text": [
      "{1, 2, 3}\n",
      "{4, 5}\n",
      "{1, 2, 3, 4, 5, 6, 7, 8}\n",
      "{1, 2, 3, 6, 7, 8}\n",
      "True\n",
      "True\n"
     ]
    }
   ],
   "source": [
    "set1 = {1,2,3,4,5}\n",
    "set2 = {4,5,6,7,8}\n",
    "set3 = {6,7,8}\n",
    "print(set1.difference(set2))\n",
    "print(set1.intersection(set2))\n",
    "print(set1.union(set2))\n",
    "print(set1.symmetric_difference(set2))\n",
    "print(set2.issuperset(set3))\n",
    "print(set3.issubset(set2))"
   ]
  },
  {
   "cell_type": "markdown",
   "metadata": {},
   "source": [
    "## Métodos associados a dicionários\n",
    "\n",
    "* .update([(key1, val1), (key2, val2), ...]), adicionar multiplos valores ao dicionário\n",
    "* .update(dict2), adicionar todos os elementos do dicionário dict2 ao dicionário\n",
    "* .pop(key), remover e devolver o valor relativo à chave key\n",
    "* .pop(key, default_val), o mesmo do anterior, mas com a definição de um valor por omissão\n",
    "* .get(key), devolver um valor do dicionário com uma determinada chave\n",
    "* .get(key, default_val), o mesmo do anterior, mas com a definição de um valor por omissão\n",
    "* .keys(), devolver uma lista com as chaves do dicionário\n",
    "* .values(), devolver uma lista com os valores do dicionário\n",
    "* .items(), devolver uma lista de tuplos com as chaves evalores do dicionário"
   ]
  },
  {
   "cell_type": "code",
   "execution_count": 68,
   "metadata": {},
   "outputs": [
    {
     "name": "stdout",
     "output_type": "stream",
     "text": [
      "{'a': 'ana', 'b': 'banana', 'c': 'coimbra', 'd': 'dado', 'm': 'miguel'}\n",
      "banana\n",
      "dict_keys(['a', 'c', 'd', 'm'])\n",
      "dict_values(['ana', 'coimbra', 'dado', 'miguel'])\n",
      "dict_items([('a', 'ana'), ('c', 'coimbra'), ('d', 'dado'), ('m', 'miguel')])\n",
      "{'a': 'ana', 'c': 'coimbra', 'd': 'dado', 'm': 'miguel'}\n"
     ]
    }
   ],
   "source": [
    "dict1 = {'a':'ana','b':'banana','c':'coimbra','d':'dado'}\n",
    "dict1.update({'m':'miguel'})\n",
    "print(dict1)\n",
    "print(dict1.pop('b'))\n",
    "print(dict1.keys())\n",
    "print(dict1.values())\n",
    "print(dict1.items())\n",
    "print(dict1)"
   ]
  },
  {
   "cell_type": "markdown",
   "metadata": {},
   "source": [
    "## Imprimir dados (output)\n",
    "\n",
    "Para imprimir dados (outputs) existem vários métodos. Eles serãa obordados quando forem necessários. \n",
    "\n",
    "Até agora temos utilizado o output direto do resultado de uma conta e a função print quando necessitamos de fazer mais de um output."
   ]
  },
  {
   "cell_type": "markdown",
   "metadata": {},
   "source": [
    "## Solicitar dados ao utilizador (input)\n",
    "\n",
    "Nos trabalhos associados ao jupyer notebooks não é muito comum pedir input de dados através do teclado mas pode existir essa necessidade. Para tal utilize a função input "
   ]
  },
  {
   "cell_type": "code",
   "execution_count": 69,
   "metadata": {},
   "outputs": [
    {
     "name": "stdout",
     "output_type": "stream",
     "text": [
      "antonio\n"
     ]
    }
   ],
   "source": [
    "a = input()\n",
    "print(a)"
   ]
  },
  {
   "cell_type": "markdown",
   "metadata": {},
   "source": [
    "## Estruturas de controlo de fluxo\n",
    "\n",
    "### Decisões (if, if...else)\n",
    "\n",
    "As instruções de decisão permitem tomar decisões com base em comparações.\n",
    "\n",
    "Existem três tipos de estrutura:\n",
    "* ```python\n",
    "if condicao:\n",
    "    code block```\n",
    "\n",
    "* ```python\n",
    "if condicao:\n",
    "    instrucoes\n",
    "else:\n",
    "    instrucoes```\n",
    "\n",
    "* ```python\n",
    "if condicao:  \n",
    "    instrucoes\n",
    "elif condicao:\n",
    "    instrucoes\n",
    "else:\n",
    "    instrucoes```\n",
    "\n",
    "No Python não existem chavetas para efetuar a identificação de blocos de código. Tal é feito recorrendo à identação, pelo que é muito importante que mesma seja feita de forma correta.\n",
    "\n",
    "Apresentam-se de seguida alguns exemplos de instruções de decisão."
   ]
  },
  {
   "cell_type": "code",
   "execution_count": 81,
   "metadata": {},
   "outputs": [
    {
     "name": "stdout",
     "output_type": "stream",
     "text": [
      "Ola\n"
     ]
    }
   ],
   "source": [
    "x = 12\n",
    "if x > 10:\n",
    "    print(\"Ola\")"
   ]
  },
  {
   "cell_type": "code",
   "execution_count": 77,
   "metadata": {},
   "outputs": [
    {
     "name": "stdout",
     "output_type": "stream",
     "text": [
      "Numero inferior ou superior a 11\n"
     ]
    }
   ],
   "source": [
    "x = 12\n",
    "if 10 < x < 12:\n",
    "    print(\"Numero superior a 10 ou inferior a 12.\")\n",
    "else:\n",
    "    print(\"Numero inferior ou superior a 11\")"
   ]
  },
  {
   "cell_type": "code",
   "execution_count": 80,
   "metadata": {},
   "outputs": [
    {
     "name": "stdout",
     "output_type": "stream",
     "text": [
      "x<y\n"
     ]
    }
   ],
   "source": [
    "x = 10\n",
    "y = 12\n",
    "if x > y:\n",
    "    print(\"x>y\")\n",
    "elif x < y:\n",
    "    print(\"x<y\")\n",
    "else:\n",
    "    print(\"x==y\")"
   ]
  },
  {
   "cell_type": "markdown",
   "metadata": {},
   "source": [
    "### Repetições ou ciclos (for e while)\n",
    "\n",
    "As instruções de repetição permitem repetir uma ou mais instruções até uma determinada condição se verificar.\n",
    "\n",
    "As instruções que se utilizam para fazer repetições são:\n",
    "\n",
    "* ```python\n",
    "for variavel in qualquercoisa:\n",
    "    instrucoes```\n",
    "    \n",
    "* ```python\n",
    "while condicao:  \n",
    "    instrucoes```\n",
    "    \n",
    "No caso do for, dependendo da situação em causa, é necessário dar o intervalo de valores que se quer percorrer. Para tal utiliza-se o método range() com diferentes chmadas:\n",
    "* range(n) -> 0, 1, ..., n-1\n",
    "* range(n,m) -> m, m+1, ..., m+n-1\n",
    "* range(n,m,s) -> m, m+s, m+2s, ..., m + ((n-m-1)//s) * s\n",
    "\n",
    "Apresentam-se de seguida alguns exemplos.\n",
    "\n",
    "As isntruções continue e break permitem interromper a normal execução do ciclo. A primeira salta para a próxima iteração, já a segunda interrompe a execução do ciclo."
   ]
  },
  {
   "cell_type": "code",
   "execution_count": 82,
   "metadata": {},
   "outputs": [
    {
     "name": "stdout",
     "output_type": "stream",
     "text": [
      "a\n",
      "b\n",
      "c\n"
     ]
    }
   ],
   "source": [
    "for ch in 'abc':\n",
    "    print(ch)"
   ]
  },
  {
   "cell_type": "code",
   "execution_count": 84,
   "metadata": {},
   "outputs": [
    {
     "data": {
      "text/plain": [
       "10"
      ]
     },
     "execution_count": 84,
     "metadata": {},
     "output_type": "execute_result"
    }
   ],
   "source": [
    "total = 0\n",
    "for i in range(5):\n",
    "    total += i\n",
    "total"
   ]
  },
  {
   "cell_type": "code",
   "execution_count": 86,
   "metadata": {},
   "outputs": [
    {
     "name": "stdout",
     "output_type": "stream",
     "text": [
      "Total = 4\n"
     ]
    }
   ],
   "source": [
    "total = 0\n",
    "for i,j in [(1,2),(3,1)]:\n",
    "    total += i**j\n",
    "print(\"Total =\",total)"
   ]
  },
  {
   "cell_type": "code",
   "execution_count": 88,
   "metadata": {},
   "outputs": [
    {
     "name": "stdout",
     "output_type": "stream",
     "text": [
      "[1, 2, 3]\n",
      "[4, 5, 6]\n",
      "[7, 8, 9]\n",
      "Total:  45\n"
     ]
    }
   ],
   "source": [
    "list_of_lists = [[1, 2, 3], [4, 5, 6], [7, 8, 9]]\n",
    "for list1 in list_of_lists:\n",
    "    print(list1)\n",
    "\n",
    "total=0\n",
    "for list1 in list_of_lists:\n",
    "    for x in list1:\n",
    "        total = total+x\n",
    "\n",
    "print(\"Total: \",total)"
   ]
  },
  {
   "cell_type": "code",
   "execution_count": 89,
   "metadata": {},
   "outputs": [
    {
     "name": "stdout",
     "output_type": "stream",
     "text": [
      "1\n",
      "4\n",
      "Adeus\n"
     ]
    }
   ],
   "source": [
    "i = 1\n",
    "while i < 3:\n",
    "    print(i ** 2)\n",
    "    i = i+1\n",
    "print('Adeus')"
   ]
  },
  {
   "cell_type": "code",
   "execution_count": null,
   "metadata": {},
   "outputs": [],
   "source": [
    "for i in range(100):\n",
    "    print(i)\n",
    "    if i>=7:\n",
    "        break"
   ]
  },
  {
   "cell_type": "code",
   "execution_count": null,
   "metadata": {},
   "outputs": [],
   "source": [
    "for i in range(10):\n",
    "    if i>4:\n",
    "        print(\"Ignorado\",i)\n",
    "        continue\n",
    "    # this statement is not reach if i > 4\n",
    "    print(\"Executado\",i)"
   ]
  },
  {
   "cell_type": "markdown",
   "metadata": {},
   "source": [
    "### Exercicios sobre decisões e repetições\n",
    "\n",
    "1. Crie um programa que verifique se um número é par;\n",
    "2. Crie um programa que verigique se um número é primo;\n",
    "3. Crie um programa que gere os primeiros 50 números primos;\n",
    "4. Crie um programa que apresente a soma, número de lementos, média, mínimo e máximo de uma lista de inteiros;\n",
    "5. Crie um programa que calcule o n termo da série S = 1/1 + 2/3 + 3/5 + 4/7 + ... + n/m."
   ]
  },
  {
   "cell_type": "markdown",
   "metadata": {},
   "source": [
    "## Métodos (funções e procedimentos)\n",
    "\n",
    "Os métodos são pedaços de código a que se dá um nome e que permitem executar um conjunto de instruções sempre que são chamados.\n",
    "\n",
    "A sintaxe é:\n",
    "\n",
    "```python\n",
    "def nomedometodo(arg1, arg2,... argN):\n",
    "    ''' Document String'''\n",
    "    instrucoes\n",
    "    return <valores>```\n",
    "    \n",
    "    \n",
    "Permitem decompor o programa em partes mais pequenas."
   ]
  },
  {
   "cell_type": "code",
   "execution_count": 90,
   "metadata": {},
   "outputs": [
    {
     "name": "stdout",
     "output_type": "stream",
     "text": [
      "Bom dia  Antonio\n"
     ]
    }
   ],
   "source": [
    "#Exemplo 1 - uma função que diz bom dia a uma pessoa\n",
    "def bomdia(nome):\n",
    "    print(\"Bom dia \" , nome)\n",
    "bomdia('Antonio')"
   ]
  },
  {
   "cell_type": "code",
   "execution_count": 91,
   "metadata": {},
   "outputs": [
    {
     "name": "stdout",
     "output_type": "stream",
     "text": [
      "7\n"
     ]
    }
   ],
   "source": [
    "#Exemplo 2 - uma função que devolve a soma de dois valores\n",
    "def soma(num1,num2):\n",
    "    return num1 + num2\n",
    "print(soma(2,5))"
   ]
  },
  {
   "cell_type": "code",
   "execution_count": 94,
   "metadata": {},
   "outputs": [
    {
     "name": "stdout",
     "output_type": "stream",
     "text": [
      "(100, 6, 10, 100)\n",
      " a = 100  b = 6  c = 10  d = 100\n"
     ]
    }
   ],
   "source": [
    "#A devolução de múltiplos valores é feita através de um tuplo\n",
    "#Exemplo 3\n",
    "list1 = [10,50,30,12,6,8,100]\n",
    "\n",
    "def mmpu(lista):\n",
    "    maximo = max(lista)\n",
    "    minimo = min(lista)\n",
    "    primeiro = lista[0]\n",
    "    ultimo = lista[-1]\n",
    "    return maximo,minimo,primeiro,ultimo\n",
    "\n",
    "print(mmpu(list1))\n",
    "\n",
    "a,b,c,d = mmpu(list1)\n",
    "print(' a =',a,' b =',b,' c =',c,' d =',d)"
   ]
  },
  {
   "cell_type": "markdown",
   "metadata": {},
   "source": [
    "## Lambda Functions\n",
    "\n",
    "São pequenas funções sem nome para a qexecução de pequenas expressões. \n",
    "\n",
    "São úteis quando se trabalha com listas."
   ]
  },
  {
   "cell_type": "code",
   "execution_count": 95,
   "metadata": {},
   "outputs": [
    {
     "name": "stdout",
     "output_type": "stream",
     "text": [
      "64\n"
     ]
    }
   ],
   "source": [
    "z = lambda x: x * x\n",
    "print(z(8))"
   ]
  },
  {
   "cell_type": "code",
   "execution_count": 97,
   "metadata": {},
   "outputs": [
    {
     "name": "stdout",
     "output_type": "stream",
     "text": [
      "[4, 6, 8, 12]\n"
     ]
    }
   ],
   "source": [
    "# Filtrar os numeros pares de uma lista de valores\n",
    "list1 = [1, 5, 4, 6, 8, 11, 3, 12]\n",
    "list2 = list(filter(lambda x: (x%2 == 0) , list1))\n",
    "print(list2)"
   ]
  },
  {
   "cell_type": "markdown",
   "metadata": {},
   "source": [
    "Neste tutorial não iremos abordar o conceito de classes pois não são muito utilizadas neste contexto."
   ]
  },
  {
   "cell_type": "code",
   "execution_count": null,
   "metadata": {},
   "outputs": [],
   "source": []
  }
 ],
 "metadata": {
  "kernelspec": {
   "display_name": "Python 3",
   "language": "python",
   "name": "python3"
  },
  "language_info": {
   "codemirror_mode": {
    "name": "ipython",
    "version": 3
   },
   "file_extension": ".py",
   "mimetype": "text/x-python",
   "name": "python",
   "nbconvert_exporter": "python",
   "pygments_lexer": "ipython3",
   "version": "3.6.4"
  }
 },
 "nbformat": 4,
 "nbformat_minor": 2
}
