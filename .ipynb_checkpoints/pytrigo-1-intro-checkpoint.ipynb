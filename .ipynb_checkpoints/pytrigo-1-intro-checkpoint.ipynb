{
 "cells": [
  {
   "cell_type": "markdown",
   "metadata": {},
   "source": [
    "# Introdução ao Python3\n",
    "\n",
    "Este é o primeiro tutorial sobre Python.\n",
    "\n",
    "Assim, o primeiro passa é entender como funcionam os jupyter notebooks que vamos utilizar ao longo deste conjunto de tutoriais.\n",
    "\n",
    "Os jupyter notebooks permitem a escrita de texto num formato designado de markdown e a escrita de código que se pode exectuar e cujos resultados são visionados na célula seguinte à introdução do código.\n",
    "\n",
    "Para escrever  texto/código deverá inserir células recorrendo ao comando da barra de botões \"Insert cell bellow\". \n",
    "\n",
    "Por omissão as células inseridas são do tipo código (**Code**). Caso queira alterar o seu tipo para texto deverá aceder ao tipo de célula e alterar para **Markdown**.\n",
    "\n",
    "Para correr o código que escreveu numa célula do tipo **Code** tem duas opções, carregar simultanemaente nas teclas shift+Enter ou utilizar o comando da barra de botões \"Run the selected cells in advance\". Vamos experimentar de seguida correr o nosso primeiro programa.\n",
    "\n",
    "São um ótimo instrumento de aprendizagem e de transmissão de trabalho a colegas com quem estejamos a trabalhar pois permite não só transmitir o texto/relatório sobre o mesmo como os resultados obtidos."
   ]
  },
  {
   "cell_type": "markdown",
   "metadata": {},
   "source": [
    "## Primeiro programa - Hello World\n",
    "\n",
    "Na célula seguinte vemos o exemplo típico que é a escrita no ecrã da frase \"Hello World!\" com a instrução print.\n",
    "\n",
    "Par correr o código escrito na célula de código deverá utilizar uma das opções acima descritas."
   ]
  },
  {
   "cell_type": "code",
   "execution_count": 1,
   "metadata": {},
   "outputs": [
    {
     "name": "stdout",
     "output_type": "stream",
     "text": [
      "Hello world\n"
     ]
    }
   ],
   "source": [
    "print(\"Hello world\")"
   ]
  },
  {
   "cell_type": "markdown",
   "metadata": {},
   "source": [
    "## Matemática\n",
    "\n",
    "À semelhança de outras linguagens o Python realiza operações matemáticas.\n",
    "\n",
    "De seguida apresentam-se alguns exemplos que pode experimentar.\n",
    "\n",
    "Se quiser correr outros basta adicionar novas células."
   ]
  },
  {
   "cell_type": "code",
   "execution_count": 2,
   "metadata": {},
   "outputs": [
    {
     "data": {
      "text/plain": [
       "3"
      ]
     },
     "execution_count": 2,
     "metadata": {},
     "output_type": "execute_result"
    }
   ],
   "source": [
    "1+2"
   ]
  },
  {
   "cell_type": "code",
   "execution_count": 3,
   "metadata": {},
   "outputs": [
    {
     "data": {
      "text/plain": [
       "5.0"
      ]
     },
     "execution_count": 3,
     "metadata": {},
     "output_type": "execute_result"
    }
   ],
   "source": [
    "2.5 * 2"
   ]
  },
  {
   "cell_type": "code",
   "execution_count": 4,
   "metadata": {},
   "outputs": [
    {
     "data": {
      "text/plain": [
       "4.5"
      ]
     },
     "execution_count": 4,
     "metadata": {},
     "output_type": "execute_result"
    }
   ],
   "source": [
    "9/2"
   ]
  },
  {
   "cell_type": "code",
   "execution_count": 1,
   "metadata": {},
   "outputs": [
    {
     "data": {
      "text/plain": [
       "4"
      ]
     },
     "execution_count": 1,
     "metadata": {},
     "output_type": "execute_result"
    }
   ],
   "source": [
    "9//2 #divisao de inteiros"
   ]
  },
  {
   "cell_type": "markdown",
   "metadata": {},
   "source": [
    "## Tipos de dados\n",
    "\n",
    "Em Python tudo são objetos e todos os objetos são de um determinado tipo.\n",
    "\n",
    "O Python trabalha com os seguintes tipos de dados básicos: int (números inteiros), float (números reais), str (texto), bool (booleanos - verdadeiro (True) ou falso (False)) e NoneType (tipo especial que representa a situação sem valor)\n",
    "\n",
    "Em Python não é preciso declarar de forma explicita o tipo de dados, ele próprio deduz a partir da utilização que lhe estamos a dar (Duck Typing). Em casos de desambiguação é necessário indicar o tipo de dados.\n",
    "\n",
    "## Operadores\n",
    "\n",
    "Os operadores são símbolos especiais que representam a execução de operações sobre os operandos associados.\n",
    "\n",
    "No Python temos os seguintes operadores:\n",
    "* Operadores aritémticos: +, -, *, /, //, *\\*\\* (expoente)\n",
    "* Atribuição: =, +=, -=, *=\n",
    "* Comparação (devolve true/false): ==, !=, <, <=, >, >=\n",
    "* Outros para comparação: is, is not, in, not in,  not, and, or\n",
    "\n",
    "### Precedência de operadores\n",
    "\n",
    "Quando são utilizados múltiplos operadores em expressões é preciso ter em conta na sua utilização a precedência dos mesmos:\n",
    "* (, )\n",
    "* \\*\\*\n",
    "* *, /\n",
    "* +, -\n",
    "* <, <=, >, >=\n",
    "* ==, !=, is, is not, in\n",
    "* not in\n",
    "* not\n",
    "* and\n",
    "* or\n",
    "* lambda\n",
    "\n",
    "Em caso de dúvida utilize os parentesis ( ).\n",
    "\n",
    "## Variáveis\n",
    "\n",
    "Um variável é um espaço em memória que é utilizado para guardar valores de um determinado tipo de dados (que podem ser referências a objetos) para serem utilizadas ao longo do programa.\n",
    "\n",
    "De seguida mostram-se alguns exemplos de utilização de variáveis e operadores em expressões."
   ]
  },
  {
   "cell_type": "code",
   "execution_count": 6,
   "metadata": {},
   "outputs": [],
   "source": [
    "#Atribuicao de valores a variaveis\n",
    "num1 = 10\n",
    "num2 = -5\n",
    "num3 = 2.0\n",
    "num4 = -.8"
   ]
  },
  {
   "cell_type": "code",
   "execution_count": 7,
   "metadata": {},
   "outputs": [
    {
     "data": {
      "text/plain": [
       "20"
      ]
     },
     "execution_count": 7,
     "metadata": {},
     "output_type": "execute_result"
    }
   ],
   "source": [
    "num1+num1"
   ]
  },
  {
   "cell_type": "code",
   "execution_count": 8,
   "metadata": {},
   "outputs": [
    {
     "data": {
      "text/plain": [
       "-7.0"
      ]
     },
     "execution_count": 8,
     "metadata": {},
     "output_type": "execute_result"
    }
   ],
   "source": [
    "num2-num3"
   ]
  },
  {
   "cell_type": "code",
   "execution_count": 9,
   "metadata": {},
   "outputs": [
    {
     "data": {
      "text/plain": [
       "-10.0"
      ]
     },
     "execution_count": 9,
     "metadata": {},
     "output_type": "execute_result"
    }
   ],
   "source": [
    "num2*num3"
   ]
  },
  {
   "cell_type": "code",
   "execution_count": 10,
   "metadata": {},
   "outputs": [
    {
     "data": {
      "text/plain": [
       "25.0"
      ]
     },
     "execution_count": 10,
     "metadata": {},
     "output_type": "execute_result"
    }
   ],
   "source": [
    "num2**num3"
   ]
  },
  {
   "cell_type": "code",
   "execution_count": 11,
   "metadata": {},
   "outputs": [
    {
     "data": {
      "text/plain": [
       "-6"
      ]
     },
     "execution_count": 11,
     "metadata": {},
     "output_type": "execute_result"
    }
   ],
   "source": [
    "num2-=1\n",
    "num2"
   ]
  },
  {
   "cell_type": "code",
   "execution_count": 12,
   "metadata": {},
   "outputs": [
    {
     "data": {
      "text/plain": [
       "30"
      ]
     },
     "execution_count": 12,
     "metadata": {},
     "output_type": "execute_result"
    }
   ],
   "source": [
    "num1*=3\n",
    "num1"
   ]
  },
  {
   "cell_type": "code",
   "execution_count": 13,
   "metadata": {},
   "outputs": [
    {
     "data": {
      "text/plain": [
       "90"
      ]
     },
     "execution_count": 13,
     "metadata": {},
     "output_type": "execute_result"
    }
   ],
   "source": [
    "#Corra outra vez as instrucoes anteriores e comente\n",
    "num1*=3\n",
    "num1"
   ]
  },
  {
   "cell_type": "code",
   "execution_count": 14,
   "metadata": {},
   "outputs": [
    {
     "data": {
      "text/plain": [
       "False"
      ]
     },
     "execution_count": 14,
     "metadata": {},
     "output_type": "execute_result"
    }
   ],
   "source": [
    "#Para este exercicio volte a correr a celula que define os valores das variaveis\n",
    "num1<num2"
   ]
  },
  {
   "cell_type": "code",
   "execution_count": 15,
   "metadata": {},
   "outputs": [
    {
     "data": {
      "text/plain": [
       "True"
      ]
     },
     "execution_count": 15,
     "metadata": {},
     "output_type": "execute_result"
    }
   ],
   "source": [
    "#Em Python e possível comparar mais que um valor\n",
    "5 > 3 > 1"
   ]
  },
  {
   "cell_type": "code",
   "execution_count": 16,
   "metadata": {},
   "outputs": [
    {
     "data": {
      "text/plain": [
       "True"
      ]
     },
     "execution_count": 16,
     "metadata": {},
     "output_type": "execute_result"
    }
   ],
   "source": [
    "5 > 3 < 4 == 3 + 1"
   ]
  },
  {
   "cell_type": "code",
   "execution_count": 17,
   "metadata": {},
   "outputs": [
    {
     "data": {
      "text/plain": [
       "True"
      ]
     },
     "execution_count": 17,
     "metadata": {},
     "output_type": "execute_result"
    }
   ],
   "source": [
    "1 is 1"
   ]
  },
  {
   "cell_type": "code",
   "execution_count": 18,
   "metadata": {},
   "outputs": [
    {
     "data": {
      "text/plain": [
       "False"
      ]
     },
     "execution_count": 18,
     "metadata": {},
     "output_type": "execute_result"
    }
   ],
   "source": [
    "1 is not 1"
   ]
  },
  {
   "cell_type": "code",
   "execution_count": 19,
   "metadata": {},
   "outputs": [
    {
     "data": {
      "text/plain": [
       "False"
      ]
     },
     "execution_count": 19,
     "metadata": {},
     "output_type": "execute_result"
    }
   ],
   "source": [
    "True and False and True"
   ]
  },
  {
   "cell_type": "code",
   "execution_count": 20,
   "metadata": {},
   "outputs": [
    {
     "data": {
      "text/plain": [
       "'Bom dia Antonio'"
      ]
     },
     "execution_count": 20,
     "metadata": {},
     "output_type": "execute_result"
    }
   ],
   "source": [
    "str1 = \"Bom dia\"\n",
    "str2 = 'Antonio'\n",
    "str3 = str1 + \" \" + str2\n",
    "str3"
   ]
  },
  {
   "cell_type": "code",
   "execution_count": 21,
   "metadata": {},
   "outputs": [
    {
     "data": {
      "text/plain": [
       "'Antonio Antonio Antonio Antonio Antonio Antonio Antonio Antonio '"
      ]
     },
     "execution_count": 21,
     "metadata": {},
     "output_type": "execute_result"
    }
   ],
   "source": [
    "#Multiplicacao de strings\n",
    "str4 = 'Antonio '\n",
    "str4*8"
   ]
  },
  {
   "cell_type": "markdown",
   "metadata": {},
   "source": [
    "### Exercicios\n",
    "\n",
    "1. Escreva um programa que converta USD para EUR;\n",
    "2. Escreva um programa que converta m/s em km/h;\n",
    "3. Escreva um programa que converta a tempretura em graus Fahrnheit para graus Celsius (C=5/9x(F-32));\n",
    "4. Escreva um programa que calcule a distância Euclidiana entre dois pontos ![P1=(x1,y1)](https://latex.codecogs.com/svg.latex?P_1%3D%5Cleft%20%28%20x_1%2C%20y_1%20%5Cright%20%29) e \n",
    "![P2=(x2,y2)](https://latex.codecogs.com/svg.latex?P_2%3D%5Cleft%20%28%20x_2%2C%20y_2%20%5Cright%20%29), ![D=RAIZQUADRADA((x1-y1)^2+(x2-y2)^2)](https://latex.codecogs.com/svg.latex?D%3D%5Csqrt%7B%5Cleft%28x_1-x_2%5Cright%29%5E2%2B%5Cleft%28y_1-y_2%5Cright%29%5E2%7D)"
   ]
  },
  {
   "cell_type": "code",
   "execution_count": 22,
   "metadata": {},
   "outputs": [
    {
     "name": "stdout",
     "output_type": "stream",
     "text": [
      "24.390243902439025\n"
     ]
    }
   ],
   "source": [
    "#Solucao 1\n",
    "q_usd=30\n",
    "q_eur=q_usd*(1/1.23)\n",
    "print(q_eur)"
   ]
  },
  {
   "cell_type": "code",
   "execution_count": 23,
   "metadata": {},
   "outputs": [
    {
     "name": "stdout",
     "output_type": "stream",
     "text": [
      "A temperatura em garus celsius correspondente aos  1  é:  -17.22222222222222\n"
     ]
    }
   ],
   "source": [
    "cel = 1\n",
    "far = 1\n",
    "cel = 5/9*(far-32)\n",
    "print(\"A temperatura em garus celsius correspondente aos \", far, \" é: \",cel)\n"
   ]
  },
  {
   "cell_type": "code",
   "execution_count": 24,
   "metadata": {},
   "outputs": [
    {
     "name": "stdout",
     "output_type": "stream",
     "text": [
      "distancia = 14.14\n"
     ]
    }
   ],
   "source": [
    "x1 = 0\n",
    "y1 = 0\n",
    "x2 = 10\n",
    "y2 = 10\n",
    "\n",
    "distancia = ((x1-x2)**2 + (y1-y2)**2)**(1/2.0)\n",
    "print (\"distancia =\", round(distancia,2))"
   ]
  },
  {
   "cell_type": "markdown",
   "metadata": {},
   "source": [
    "## Conversão entre tipos de dados simples\n",
    "* int(), converte um tipo de dados para inteiro\n",
    "* float(), converte um tipo de dador para float \n",
    "* str(), converte um tipo de ados para string\n",
    "* bool(), converte um tipo de dados para booleano"
   ]
  },
  {
   "cell_type": "code",
   "execution_count": 25,
   "metadata": {},
   "outputs": [
    {
     "name": "stdout",
     "output_type": "stream",
     "text": [
      "9\n",
      "6\n",
      "5.0\n",
      "6.0\n",
      "9.0\n",
      "5\n",
      "True\n",
      "True\n"
     ]
    }
   ],
   "source": [
    "a = 9.0\n",
    "b = 5\n",
    "c = '6'\n",
    "d = True\n",
    "e = 'True'\n",
    "\n",
    "#Para inteiro\n",
    "a_int = int(a)\n",
    "c_int = int(c)\n",
    "print(a_int)\n",
    "print(c_int)\n",
    "\n",
    "#Para float\n",
    "b_float = float(b)\n",
    "c_float = float(c)\n",
    "print(b_float)\n",
    "print(c_float)\n",
    "\n",
    "#Para string\n",
    "a_str = str(a)\n",
    "b_str = str(b)\n",
    "d_str = str(d)\n",
    "print(a_str)\n",
    "print(b_str)\n",
    "print(d_str)\n",
    "\n",
    "#Para booleano\n",
    "e_bool = bool(e)\n",
    "print(e_bool)"
   ]
  },
  {
   "cell_type": "markdown",
   "metadata": {},
   "source": [
    "## Estruturas de dados disponíveis no Python3\n",
    "\n",
    "As estrutras de dados em Python podem ser de dois tipos, mutáveis ou imutáveis.\n",
    "\n",
    "O Python3 tem disponível as seguintes estruturas de dados:\n",
    "* Lista (list) - lista de elementos indexados por inteiros, os elementos são guardados pela ordem de inserção, mutável;\n",
    "* Tuplo (tuple) - lista de elementos indexados por inteiros, os elementos são guardados pela ordem de inserção, imutável;\n",
    "* Dicionário (dict) - coleção de elementos do tipo chave-valor, os elementos não são guardados pela ordem de inserção, chave imutáveis, valores mutáveis;\n",
    "* Texto/Strings (str) - lista de caracteres indexados por inteiros, os lementos são guardados pela ordem de inserção, imutável;\n",
    "* Conjunto (set) - coleção de elementos não indexados, os elementos não são guardados pela ordem de inserção, imutável.\n",
    "\n",
    "As listas e os tuplos são similares, sendo uma das diferenças mais a possibilidade de os tuplos poderem ser utilizados como chves de dicionários e lementos de conjuntos enquanto que as listas nao.\n",
    "\n",
    "De seguida apresentam-se alguns exemplos de utilização."
   ]
  },
  {
   "cell_type": "code",
   "execution_count": 20,
   "metadata": {},
   "outputs": [],
   "source": [
    "list1 = [1, 2, 3, 4, 5, 'cao', 'gato', False]\n",
    "tuple1 = (1, 2, 3, 4, 5, 'cao', 'gato', False)\n",
    "dict1 = {'nome': 'Andre', 'idade': 9, 'animais_estimacao': ['cao', 'gato', 'periquito']}\n",
    "str1 = 'Bom dia!'\n",
    "set1 = {1, 2, 3, 4, 5, 'cao', 'gato', False}"
   ]
  },
  {
   "cell_type": "code",
   "execution_count": 14,
   "metadata": {},
   "outputs": [
    {
     "data": {
      "text/plain": [
       "[1, 2, 3, 4, 5, 'cao', 'gato', False]"
      ]
     },
     "execution_count": 14,
     "metadata": {},
     "output_type": "execute_result"
    }
   ],
   "source": [
    "list1"
   ]
  },
  {
   "cell_type": "code",
   "execution_count": 15,
   "metadata": {},
   "outputs": [
    {
     "data": {
      "text/plain": [
       "(1, 2, 3, 4, 5, 'cao', 'gato', False)"
      ]
     },
     "execution_count": 15,
     "metadata": {},
     "output_type": "execute_result"
    }
   ],
   "source": [
    "tuple1"
   ]
  },
  {
   "cell_type": "code",
   "execution_count": 16,
   "metadata": {},
   "outputs": [
    {
     "data": {
      "text/plain": [
       "{1, 2, 3, 4, 5, False, 'cao', 'gato'}"
      ]
     },
     "execution_count": 16,
     "metadata": {},
     "output_type": "execute_result"
    }
   ],
   "source": [
    "set1"
   ]
  },
  {
   "cell_type": "code",
   "execution_count": 17,
   "metadata": {},
   "outputs": [
    {
     "data": {
      "text/plain": [
       "{'animais_estimacao': ['cao', 'gato', 'periquito'],\n",
       " 'idade': 9,\n",
       " 'nome': 'Andre'}"
      ]
     },
     "execution_count": 17,
     "metadata": {},
     "output_type": "execute_result"
    }
   ],
   "source": [
    "dict1"
   ]
  },
  {
   "cell_type": "markdown",
   "metadata": {},
   "source": [
    "As strings, listas, tuplos e dicionários podem ser acedidos utilizando parentesis retos.\n",
    "\n",
    "No caso das strings, listas e tuplos a referência aos elementos pode ser feita utilizando indices do tipo inteiro cuja primeira posicao é 0.\n",
    "\n",
    "Estas coleções podem ser referenciadas com valores negativos\n",
    "\n",
    "Estas coleções suportam as operações de acesso a um intervalo de valores (slicing).\n",
    "\n",
    "Nos exercicios seguintes utiliza-se a instrução print para conseguir fazer o output de mais de um valor."
   ]
  },
  {
   "cell_type": "code",
   "execution_count": 18,
   "metadata": {},
   "outputs": [
    {
     "name": "stdout",
     "output_type": "stream",
     "text": [
      "1\n",
      "1\n"
     ]
    }
   ],
   "source": [
    "#Aceder ao primeiro elemento da lista\n",
    "print(list1[0])\n",
    "print(tuple1[0])"
   ]
  },
  {
   "cell_type": "code",
   "execution_count": 32,
   "metadata": {},
   "outputs": [
    {
     "ename": "TypeError",
     "evalue": "'set' object does not support indexing",
     "output_type": "error",
     "traceback": [
      "\u001b[1;31m---------------------------------------------------------------------------\u001b[0m",
      "\u001b[1;31mTypeError\u001b[0m                                 Traceback (most recent call last)",
      "\u001b[1;32m<ipython-input-32-8112db7d5a2d>\u001b[0m in \u001b[0;36m<module>\u001b[1;34m()\u001b[0m\n\u001b[0;32m      1\u001b[0m \u001b[1;31m#No caso do set dá erro. Comente:\u001b[0m\u001b[1;33m\u001b[0m\u001b[1;33m\u001b[0m\u001b[0m\n\u001b[1;32m----> 2\u001b[1;33m \u001b[0mprint\u001b[0m\u001b[1;33m(\u001b[0m\u001b[0mset1\u001b[0m\u001b[1;33m[\u001b[0m\u001b[1;36m0\u001b[0m\u001b[1;33m]\u001b[0m\u001b[1;33m)\u001b[0m\u001b[1;33m\u001b[0m\u001b[0m\n\u001b[0m",
      "\u001b[1;31mTypeError\u001b[0m: 'set' object does not support indexing"
     ]
    }
   ],
   "source": [
    "#No caso do set dá erro. Comente:\n",
    "print(set1[0])"
   ]
  },
  {
   "cell_type": "code",
   "execution_count": 22,
   "metadata": {},
   "outputs": [
    {
     "name": "stdout",
     "output_type": "stream",
     "text": [
      "(1, 2, 3, 4, 5, 'cao', 'gato', False)\n",
      "Bom dia!\n",
      "False\n",
      " dia!\n",
      "(1, 2, 3, 4, 5)\n",
      "[5, 'cao', 'gato', False]\n",
      "Andre\n",
      "periquito\n"
     ]
    }
   ],
   "source": [
    "print(tuple1)\n",
    "print(str1)\n",
    "#Aceder ao ultimo elemento do tuplo\n",
    "print(tuple1[-1])\n",
    "#Aceder a um intervalo de elementos\n",
    "print(str1[3:8])\n",
    "print(tuple1[:-3])\n",
    "print(list1[4:])\n",
    "# Aceder a um elemento do dicionario\n",
    "print(dict1['nome'])\n",
    "print(dict1['animais_estimacao'][2])"
   ]
  },
  {
   "cell_type": "markdown",
   "metadata": {},
   "source": [
    "### Slicing\n",
    "\n",
    "Aqui vamos manter a designação em inglês para não criar confusão com as palavras inicio e fim\n",
    "\n",
    "```python\n",
    "a[start:end] # elementos que começam em start e terminam em end-1\n",
    "a[start:]    # elementos que começam em start e vão até ao fim da coleção\n",
    "a[:end]      # elementos do inicio até a end-1 da coleção\n",
    "a[:]         # uma cópia de toda a coleção\n",
    "    ```\n",
    "\n",
    "Convém fixar que os elementos copiados vão até end-1 e não até end, ou seja, a posição end não faz parte dos elementos a copiar.\n",
    "\n",
    "Para além do definição do início e fim dos elementos a copiar também se pode definir o step, que indica de quantos em quantos elementos queremos fazer a cópia. O step por omissão é 1, sendo a cópia dos elementos uma cópia sequencial. Caso o step seja definido a cópia é feita de step em step elementos.\n",
    "\n",
    "```python\n",
    "a[start:end:step] \n",
    "    ```\n",
    "\n",
    "No slicing também é possível ter indices negativos, que significa que a ocntagem é feita a partir do fim e não do início.\n",
    "\n",
    "```python\n",
    "a[-1]    # o último elemento da coleção\n",
    "a[-2:]   # os dois últimos elementos da coleção\n",
    "a[:-2]   # tudo menos os dois últimos elementos da coleção\n",
    "    ```\n",
    "\n",
    "De forma similar também o step pode ser negativo.\n",
    "\n",
    "```python\n",
    "a[::-1]    # todos os números da coleção, em ordem inversa\n",
    "a[1::-1]   # os primeiros dois lementos em ordem inversa\n",
    "a[:-3:-1]  # os ultimos dois elementos, em ordem inversa\n",
    "a[-3::-1]  # tudo menos os dois últimos elementos, em ordem inversa\n",
    "    ```\n"
   ]
  },
  {
   "cell_type": "code",
   "execution_count": 34,
   "metadata": {},
   "outputs": [
    {
     "name": "stdout",
     "output_type": "stream",
     "text": [
      "[30, 40, 50, 60, 70]\n",
      "[30, 40, 50, 60, 70, 80, 90, 100]\n",
      "[10, 20, 30, 40, 50, 60, 70]\n",
      "[10, 20, 30, 40, 50, 60, 70, 80, 90, 100]\n",
      "[30, 50, 70]\n",
      "100\n",
      "[90, 100]\n",
      "[10, 20, 30, 40, 50, 60, 70, 80]\n",
      "[100, 90, 80, 70, 60, 50, 40, 30, 20, 10]\n",
      "[20, 10]\n",
      "[100, 90]\n",
      "[80, 70, 60, 50, 40, 30, 20, 10]\n"
     ]
    }
   ],
   "source": [
    "a = [10,20,30,40,50,60,70,80,90,100]\n",
    "print(a[2:7])\n",
    "print(a[2:]) \n",
    "print(a[:7]) \n",
    "print(a[:])\n",
    "print(a[2:7:2]) \n",
    "print(a[-1])\n",
    "print(a[-2:]) \n",
    "print(a[:-2])\n",
    "print(a[::-1])   \n",
    "print(a[1::-1])   \n",
    "print(a[:-3:-1])  \n",
    "print(a[-3::-1]) "
   ]
  },
  {
   "cell_type": "markdown",
   "metadata": {},
   "source": [
    "## Métodos (funções e procedimentos)\n",
    "\n",
    "Uma função é um bloco de código que executa um conjunto de instruções. O bloco de código ao ser chmado pode receber um conjunto de parametros e devolver ou não valores. No Python é possível retornar mais que um valor separado por vírgulas. \n",
    "\n",
    "As funções são definidas com a palavra **def**.\n",
    "\n",
    "A sintaxe é:\n",
    "\n",
    "```python\n",
    "def nomedometodo(arg1, arg2,... argN):\n",
    "    ''' Document String'''\n",
    "    instrucoes\n",
    "    return <valores>```\n",
    "    \n",
    "Permitem decompor o programa em partes mais pequenas.\n",
    "\n",
    "Dado que o Python é uma linguagem orientada a objetos, as funções são designadas de métodos. \n",
    "\n",
    "Ao longo destes textos dependendo da situação utilizar-se-á a palavra função ou método.\n",
    "\n",
    "De seguida apresentam-se alguns exemplos simples:"
   ]
  },
  {
   "cell_type": "code",
   "execution_count": 55,
   "metadata": {},
   "outputs": [
    {
     "name": "stdout",
     "output_type": "stream",
     "text": [
      "Bom dia  Antonio\n"
     ]
    }
   ],
   "source": [
    "#Exemplo 1 - uma função que diz bom dia a uma pessoa\n",
    "def bomdia(nome):\n",
    "    print(\"Bom dia \" , nome)\n",
    "bomdia('Antonio')"
   ]
  },
  {
   "cell_type": "code",
   "execution_count": 56,
   "metadata": {},
   "outputs": [
    {
     "name": "stdout",
     "output_type": "stream",
     "text": [
      "7\n"
     ]
    }
   ],
   "source": [
    "#Exemplo 2 - uma função que devolve a soma de dois valores\n",
    "def soma(num1,num2):\n",
    "    return num1 + num2\n",
    "print(soma(2,5))"
   ]
  },
  {
   "cell_type": "code",
   "execution_count": 7,
   "metadata": {},
   "outputs": [
    {
     "name": "stdout",
     "output_type": "stream",
     "text": [
      "(5, 3)\n"
     ]
    }
   ],
   "source": [
    "#A devolução de múltiplos valores é feita através de um tuplo\n",
    "#Exemplo 3 - trocar os valores de duas variáveis.\n",
    "def troca(a,b):\n",
    "    c = a;\n",
    "    a = b;\n",
    "    b = c;\n",
    "    return a,b\n",
    "print(troca(3,5))"
   ]
  },
  {
   "cell_type": "code",
   "execution_count": 57,
   "metadata": {},
   "outputs": [
    {
     "name": "stdout",
     "output_type": "stream",
     "text": [
      "(100, 6, 10, 100)\n",
      " a = 100  b = 6  c = 10  d = 100\n"
     ]
    }
   ],
   "source": [
    "#Exemplo 4\n",
    "list1 = [10,50,30,12,6,8,100]\n",
    "\n",
    "def mmpu(lista):\n",
    "    maximo = max(lista)\n",
    "    minimo = min(lista)\n",
    "    primeiro = lista[0]\n",
    "    ultimo = lista[-1]\n",
    "    return maximo,minimo,primeiro,ultimo\n",
    "\n",
    "print(mmpu(list1))\n",
    "\n",
    "a,b,c,d = mmpu(list1)\n",
    "print(' a =',a,' b =',b,' c =',c,' d =',d)"
   ]
  },
  {
   "cell_type": "markdown",
   "metadata": {},
   "source": [
    "## Funções built-in\n",
    "De seguida apresentam-se algumas funções que estão disponíveis no Python sem ser necessário utilizar um biblioteca específica (built-in functions): type(obj), len(obj), sorted(obj), sum(obj), min(obj), max(obj) e abs(numero)."
   ]
  },
  {
   "cell_type": "code",
   "execution_count": 23,
   "metadata": {},
   "outputs": [
    {
     "name": "stdout",
     "output_type": "stream",
     "text": [
      "Tipo de dados inteiro:  <class 'int'>\n",
      "Tamanho da lista:  8\n",
      "Lista ordenada: [-3, 1, 2, 3.6, 5, 7, 10]\n",
      "Soma:  25.6\n",
      "Minimo:  a\n"
     ]
    }
   ],
   "source": [
    "print(\"Tipo de dados inteiro: \" ,type(5))\n",
    "print(\"Tamanho da lista: \" , len(list1))\n",
    "print(\"Lista ordenada:\" , sorted([10, 1, 3.6, 7, 5, 2, -3]))\n",
    "print(\"Soma: \" , sum([10, 1, 3.6, 7, 5, 2, -3]))\n",
    "print(\"Minimo: \" , min(['g', 'z', 'a', 'y']))"
   ]
  },
  {
   "cell_type": "markdown",
   "metadata": {},
   "source": [
    "## Métodos associados às strings\n",
    "De seguida apresentam-se algumas funções associadas às strings: .capitalize(), .upper(), .lower(), .count(substring), .startswith(substring), .endswith(substring) e .replace(old, new). "
   ]
  },
  {
   "cell_type": "code",
   "execution_count": 24,
   "metadata": {},
   "outputs": [
    {
     "name": "stdout",
     "output_type": "stream",
     "text": [
      "Capitalize:  Isto e uma string\n",
      "Upper:  ISTO E UMA STRING\n",
      "Lower: isto e uma string\n",
      "Count:  2\n",
      "Count a partir da posicao 7:  1\n",
      "Count palavra uma:  1\n",
      "Startswith:  False\n",
      "Replace:  iSTo e XYZ sTriNg\n"
     ]
    }
   ],
   "source": [
    "str1 = 'iSTo e uma sTriNg'\n",
    "print('Capitalize: ' , str1.capitalize())\n",
    "print('Upper: ' , str1.upper())\n",
    "print('Lower:' , str1.lower())\n",
    "print('Count: ' , str1.count('i'))\n",
    "print('Count a partir da posicao 7: ' , str1.count('i',7))\n",
    "print('Count palavra uma: ' , str1.count('uma'))\n",
    "print('Startswith: ' , str1.startswith('this'))\n",
    "print('Replace: ' , str1.replace('uma', 'XYZ'))"
   ]
  },
  {
   "cell_type": "markdown",
   "metadata": {},
   "source": [
    "## Métodos associados às listas\n",
    "\n",
    "* .append(item), adicionar um elemento à lista\n",
    "* .extend([item1, item2, ...]), adicionar múltiplos elementos à lista\n",
    "* .remove(item), remover um elemento da lista\n",
    "* .pop(), remover e devolver o ultimo elemento da lista\n",
    "* .pop(index), remover e devolver um elemento da lista numa deerminada posicao\n"
   ]
  },
  {
   "cell_type": "code",
   "execution_count": 37,
   "metadata": {},
   "outputs": [
    {
     "name": "stdout",
     "output_type": "stream",
     "text": [
      "[3, 4, 5, 6, 7]\n"
     ]
    }
   ],
   "source": [
    "list1 = [3,4,5,6]\n",
    "list1.append(7)\n",
    "print(list1)"
   ]
  },
  {
   "cell_type": "markdown",
   "metadata": {},
   "source": [
    "## Métodos associados a conjuntos\n",
    "\n",
    "* .add(item), adicionar um elemento ao conjunto\n",
    "* .update([item1, item2, ...]), adcionar multiplos elementos ao conjunto\n",
    "* .update(set2, set3, ...), adicionar elementos de outros conjuntos\n",
    "* .remove(item), remover um elemento do conjunto\n",
    "* .pop(), remover e retornar um elemento do conjunto\n",
    "* .difference(set2), retirar elementos do conjunto que não estão no outro\n",
    "* .intersection(set2), devolver elementos dos dois conjuntos\n",
    "* .union(set2), devolver elementos que estão num ou noutro conjunto\n",
    "* .symmetric_difference(set2), devolver elementos que só estão num conjunto\n",
    "* .issuperset(set2), se set contem os elementos do conjunto set2\n",
    "* .issubset(set2), se set é um subconjunto do set2"
   ]
  },
  {
   "cell_type": "code",
   "execution_count": 38,
   "metadata": {},
   "outputs": [
    {
     "name": "stdout",
     "output_type": "stream",
     "text": [
      "{1, 2, 3}\n",
      "{4, 5}\n",
      "{1, 2, 3, 4, 5, 6, 7, 8}\n",
      "{1, 2, 3, 6, 7, 8}\n",
      "True\n",
      "True\n"
     ]
    }
   ],
   "source": [
    "set1 = {1,2,3,4,5}\n",
    "set2 = {4,5,6,7,8}\n",
    "set3 = {6,7,8}\n",
    "print(set1.difference(set2))\n",
    "print(set1.intersection(set2))\n",
    "print(set1.union(set2))\n",
    "print(set1.symmetric_difference(set2))\n",
    "print(set2.issuperset(set3))\n",
    "print(set3.issubset(set2))"
   ]
  },
  {
   "cell_type": "markdown",
   "metadata": {},
   "source": [
    "## Métodos associados a dicionários\n",
    "\n",
    "* .update([(key1, val1), (key2, val2), ...]), adicionar multiplos valores ao dicionário\n",
    "* .update(dict2), adicionar todos os elementos do dicionário dict2 ao dicionário\n",
    "* .pop(key), remover e devolver o valor relativo à chave key\n",
    "* .pop(key, default_val), o mesmo do anterior, mas com a definição de um valor por omissão\n",
    "* .get(key), devolver um valor do dicionário com uma determinada chave\n",
    "* .get(key, default_val), o mesmo do anterior, mas com a definição de um valor por omissão\n",
    "* .keys(), devolver uma lista com as chaves do dicionário\n",
    "* .values(), devolver uma lista com os valores do dicionário\n",
    "* .items(), devolver uma lista de tuplos com as chaves evalores do dicionário"
   ]
  },
  {
   "cell_type": "code",
   "execution_count": 39,
   "metadata": {},
   "outputs": [
    {
     "name": "stdout",
     "output_type": "stream",
     "text": [
      "{'a': 'ana', 'b': 'banana', 'c': 'coimbra', 'd': 'dado', 'm': 'miguel'}\n",
      "banana\n",
      "dict_keys(['a', 'c', 'd', 'm'])\n",
      "dict_values(['ana', 'coimbra', 'dado', 'miguel'])\n",
      "dict_items([('a', 'ana'), ('c', 'coimbra'), ('d', 'dado'), ('m', 'miguel')])\n",
      "{'a': 'ana', 'c': 'coimbra', 'd': 'dado', 'm': 'miguel'}\n"
     ]
    }
   ],
   "source": [
    "dict1 = {'a':'ana','b':'banana','c':'coimbra','d':'dado'}\n",
    "dict1.update({'m':'miguel'})\n",
    "print(dict1)\n",
    "print(dict1.pop('b'))\n",
    "print(dict1.keys())\n",
    "print(dict1.values())\n",
    "print(dict1.items())\n",
    "print(dict1)"
   ]
  },
  {
   "cell_type": "markdown",
   "metadata": {},
   "source": [
    "## Imprimir dados (output)\n",
    "\n",
    "Para imprimir dados (outputs) existem vários métodos. Eles serão obordados quando forem necessários. \n",
    "\n",
    "Até agora temos utilizado o output direto do resultado de uma conta e a função print quando necessitamos de fazer mais de um output."
   ]
  },
  {
   "cell_type": "markdown",
   "metadata": {},
   "source": [
    "## Solicitar dados ao utilizador (input)\n",
    "\n",
    "Nos trabalhos associados ao jupyer notebooks não é muito comum pedir input de dados através do teclado mas pode existir essa necessidade. Para tal utilize a função input "
   ]
  },
  {
   "cell_type": "code",
   "execution_count": 40,
   "metadata": {},
   "outputs": [
    {
     "name": "stdout",
     "output_type": "stream",
     "text": [
      "ola\n",
      "ola\n"
     ]
    }
   ],
   "source": [
    "a = input()\n",
    "print(a)"
   ]
  },
  {
   "cell_type": "code",
   "execution_count": 41,
   "metadata": {},
   "outputs": [
    {
     "name": "stdout",
     "output_type": "stream",
     "text": [
      "Insira a quantidade em USD?\n",
      "23\n",
      "18.69918699186992\n"
     ]
    }
   ],
   "source": [
    "#Solucao 1\n",
    "print('Insira a quantidade em USD?')\n",
    "q_usd=int(input())\n",
    "q_eur=q_usd*(1/1.23)\n",
    "print(q_eur)"
   ]
  },
  {
   "cell_type": "markdown",
   "metadata": {},
   "source": [
    "## Estruturas de controlo de fluxo\n",
    "\n",
    "### Decisões (if, if...else)\n",
    "\n",
    "As instruções de decisão permitem tomar decisões com base em comparações.\n",
    "\n",
    "Existem três tipos de estrutura:\n",
    "* ```python\n",
    "if condicao:\n",
    "    instrucoes\n",
    "           ```\n",
    "\n",
    "* ```python\n",
    "if condicao:\n",
    "    instrucoes\n",
    "else:\n",
    "    instrucoes```\n",
    "\n",
    "* ```python\n",
    "if condicao:  \n",
    "    instrucoes\n",
    "elif condicao:\n",
    "    instrucoes\n",
    "else:\n",
    "    instrucoes```\n",
    "\n",
    "No Python não existem chavetas para efetuar a identificação de blocos de código. Tal é feito recorrendo à identação, pelo que é muito importante que mesma seja feita de forma correta.\n",
    "\n",
    "Apresentam-se de seguida alguns exemplos de instruções de decisão."
   ]
  },
  {
   "cell_type": "code",
   "execution_count": 42,
   "metadata": {},
   "outputs": [
    {
     "name": "stdout",
     "output_type": "stream",
     "text": [
      "Ola\n"
     ]
    }
   ],
   "source": [
    "x = 12\n",
    "if x > 10:\n",
    "    print(\"Ola\")"
   ]
  },
  {
   "cell_type": "code",
   "execution_count": 43,
   "metadata": {},
   "outputs": [
    {
     "name": "stdout",
     "output_type": "stream",
     "text": [
      "Numero inferior ou superior a 11\n"
     ]
    }
   ],
   "source": [
    "x = 12\n",
    "if 10 < x < 12:\n",
    "    print(\"Numero superior a 10 ou inferior a 12.\")\n",
    "else:\n",
    "    print(\"Numero inferior ou superior a 11\")"
   ]
  },
  {
   "cell_type": "code",
   "execution_count": 44,
   "metadata": {},
   "outputs": [
    {
     "name": "stdout",
     "output_type": "stream",
     "text": [
      "x<y\n"
     ]
    }
   ],
   "source": [
    "x = 10\n",
    "y = 12\n",
    "if x > y:\n",
    "    print(\"x>y\")\n",
    "elif x < y:\n",
    "    print(\"x<y\")\n",
    "else:\n",
    "    print(\"x==y\")"
   ]
  },
  {
   "cell_type": "markdown",
   "metadata": {},
   "source": [
    "### Repetições ou ciclos (for e while)\n",
    "\n",
    "As instruções de repetição permitem repetir uma ou mais instruções até uma determinada condição se verificar.\n",
    "\n",
    "As instruções que se utilizam para fazer repetições são:\n",
    "\n",
    "* ```python\n",
    "for variavel in qualquercoisa:\n",
    "    instrucoes```\n",
    "    \n",
    "* ```python\n",
    "while condicao:  \n",
    "    instrucoes```\n",
    "    \n",
    "No caso do for, dependendo da situação em causa, é necessário dar o intervalo de valores que se quer percorrer. Para tal utiliza-se o método range() com diferentes chmadas:\n",
    "* range(n) -> 0, 1, ..., n-1\n",
    "* range(m,n) -> m, m + 1, ..., m + n - 1\n",
    "* range(m,n,s) -> m, m + s, m + 2s, ..., m + ((m + n - 1)//s) * s\n",
    "\n",
    "Apresentam-se de seguida alguns exemplos.\n",
    "\n",
    "As isntruções continue e break permitem interromper a normal execução do ciclo. A primeira salta para a próxima iteração, já a segunda interrompe a execução do ciclo."
   ]
  },
  {
   "cell_type": "code",
   "execution_count": 45,
   "metadata": {},
   "outputs": [
    {
     "name": "stdout",
     "output_type": "stream",
     "text": [
      "a\n",
      "b\n",
      "c\n"
     ]
    }
   ],
   "source": [
    "for ch in 'abc':\n",
    "    print(ch)"
   ]
  },
  {
   "cell_type": "code",
   "execution_count": 46,
   "metadata": {},
   "outputs": [
    {
     "name": "stdout",
     "output_type": "stream",
     "text": [
      "2\n",
      "4\n",
      "6\n",
      "8\n",
      "20\n"
     ]
    }
   ],
   "source": [
    "total = 0\n",
    "for i in range(2,10,2):\n",
    "    total += i #total = total + i\n",
    "    print(i)\n",
    "print(total)"
   ]
  },
  {
   "cell_type": "code",
   "execution_count": 47,
   "metadata": {},
   "outputs": [
    {
     "name": "stdout",
     "output_type": "stream",
     "text": [
      "i:  1  j:  2\n",
      "i:  3  j:  1\n",
      "Total = 4\n"
     ]
    }
   ],
   "source": [
    "total = 0\n",
    "for i,j in [(1,2),(3,1)]:\n",
    "    print(\"i: \", i , \" j: \", j)\n",
    "    total += i**j\n",
    "print(\"Total =\",total)"
   ]
  },
  {
   "cell_type": "code",
   "execution_count": 6,
   "metadata": {},
   "outputs": [
    {
     "name": "stdout",
     "output_type": "stream",
     "text": [
      "linha  1 :  [1, 2, 3]\n",
      "linha  2 :  [4, 5, 6]\n",
      "linha  3 :  [7, 8, 9]\n",
      "Total:  45\n"
     ]
    }
   ],
   "source": [
    "lista_de_listas = [\n",
    "    [1, 2, 3], \n",
    "    [4, 5, 6], \n",
    "    [7, 8, 9]\n",
    "]\n",
    "i = 0\n",
    "for lista1 in lista_de_listas:\n",
    "    i += 1\n",
    "    print(\"linha \", i, \": \", lista1)\n",
    "\n",
    "total=0\n",
    "for lista1 in lista_de_listas:\n",
    "    for x in lista1:\n",
    "        total += x\n",
    "\n",
    "print(\"Total: \",total)"
   ]
  },
  {
   "cell_type": "code",
   "execution_count": 49,
   "metadata": {},
   "outputs": [
    {
     "name": "stdout",
     "output_type": "stream",
     "text": [
      "1\n",
      "4\n",
      "Adeus\n"
     ]
    }
   ],
   "source": [
    "i = 1\n",
    "while i < 3:\n",
    "    print(i ** 2)\n",
    "    i = i+1\n",
    "print('Adeus')"
   ]
  },
  {
   "cell_type": "code",
   "execution_count": 50,
   "metadata": {},
   "outputs": [
    {
     "name": "stdout",
     "output_type": "stream",
     "text": [
      "0\n",
      "1\n",
      "2\n",
      "3\n",
      "4\n",
      "5\n",
      "6\n",
      "7\n"
     ]
    }
   ],
   "source": [
    "for i in range(100):\n",
    "    print(i)\n",
    "    if i>=7:\n",
    "        break"
   ]
  },
  {
   "cell_type": "code",
   "execution_count": 51,
   "metadata": {},
   "outputs": [
    {
     "name": "stdout",
     "output_type": "stream",
     "text": [
      "Executado 0\n",
      "Executado 1\n",
      "Executado 2\n",
      "Executado 3\n",
      "Executado 4\n",
      "Ignorado 5\n",
      "Ignorado 6\n",
      "Ignorado 7\n",
      "Ignorado 8\n",
      "Ignorado 9\n"
     ]
    }
   ],
   "source": [
    "for i in range(10):\n",
    "    if i>4:\n",
    "        print(\"Ignorado\",i)\n",
    "        continue\n",
    "    # this statement is not reach if i > 4\n",
    "    print(\"Executado\",i)"
   ]
  },
  {
   "cell_type": "markdown",
   "metadata": {},
   "source": [
    "### Exercicios sobre decisões e repetições\n",
    "\n",
    "1. Crie um programa que verifique se um número é par;\n",
    "2. Crie um programa que verifique se um número é primo;\n",
    "3. Crie um programa que gere os primeiros 50 números primos;\n",
    "4. Crie um programa que apresente a soma, número de elementos, média, mínimo e máximo de uma lista de inteiros;\n",
    "5. Crie um programa que calcule o n termo da série S = 1/1 + 2/3 + 3/5 + 4/7 + ... + n/m."
   ]
  },
  {
   "cell_type": "code",
   "execution_count": 52,
   "metadata": {},
   "outputs": [
    {
     "name": "stdout",
     "output_type": "stream",
     "text": [
      "5\n",
      "é ímpar\n"
     ]
    }
   ],
   "source": [
    "#Solucao do exercicio 1\n",
    "num=int(input())\n",
    "if num%2==0:\n",
    "    print(\"é par\")\n",
    "else:\n",
    "    print(\"é ímpar\")"
   ]
  },
  {
   "cell_type": "code",
   "execution_count": 53,
   "metadata": {},
   "outputs": [
    {
     "name": "stdout",
     "output_type": "stream",
     "text": [
      "O numero:  14  nao e primo\n"
     ]
    }
   ],
   "source": [
    "#Solucao do exercicio 2\n",
    "num = 14\n",
    "eprimo = True\n",
    "for i in range(2,num):\n",
    "    #if type(num/i)==int:\n",
    "    if num%i==0:\n",
    "        eprimo = False\n",
    "        break\n",
    "if eprimo:\n",
    "    print('O numero: ',num,' e primo')\n",
    "else:\n",
    "    print('O numero: ',num,' nao e primo')"
   ]
  },
  {
   "cell_type": "code",
   "execution_count": 34,
   "metadata": {},
   "outputs": [
    {
     "name": "stdout",
     "output_type": "stream",
     "text": [
      "2\n",
      "3\n",
      "5\n",
      "7\n",
      "11\n",
      "13\n",
      "17\n",
      "19\n",
      "23\n",
      "29\n",
      "31\n",
      "37\n",
      "41\n",
      "43\n",
      "47\n",
      "53\n",
      "59\n",
      "61\n",
      "67\n",
      "71\n",
      "73\n",
      "79\n",
      "83\n",
      "89\n",
      "97\n",
      "101\n",
      "103\n",
      "107\n",
      "109\n",
      "113\n",
      "127\n",
      "131\n",
      "137\n",
      "139\n",
      "149\n",
      "151\n",
      "157\n",
      "163\n",
      "167\n",
      "173\n",
      "179\n",
      "181\n",
      "191\n",
      "193\n",
      "197\n",
      "199\n",
      "211\n",
      "223\n",
      "227\n",
      "229\n"
     ]
    }
   ],
   "source": [
    "#Solucao do exercicio 3\n",
    "\n",
    "def eprimo(num):\n",
    "    #O 0 e 1 nao sao numeros primos\n",
    "    if num == 0 or num == 1:\n",
    "        return False\n",
    "    eprimo = True\n",
    "    for i in range(2,num):\n",
    "        if num%i==0:\n",
    "            eprimo = False\n",
    "            break\n",
    "    return eprimo\n",
    "\n",
    "contar = 0\n",
    "testanumero = 1\n",
    "while contar < 50:\n",
    "    if eprimo(testanumero)==True:\n",
    "        print(testanumero)\n",
    "        contar+=1\n",
    "    testanumero+=1\n"
   ]
  },
  {
   "cell_type": "markdown",
   "metadata": {},
   "source": [
    "## Lambda Functions\n",
    "\n",
    "São pequenas funções sem nome para a execução de pequenas expressões. \n",
    "\n",
    "São úteis quando se trabalha com listas, vetores, matrizes, etc.\n",
    "\n",
    "No notebook sobre o numpy apresentam-se mais exemplos."
   ]
  },
  {
   "cell_type": "code",
   "execution_count": 58,
   "metadata": {},
   "outputs": [
    {
     "name": "stdout",
     "output_type": "stream",
     "text": [
      "64\n"
     ]
    }
   ],
   "source": [
    "z = lambda x: x * x\n",
    "print(z(8))"
   ]
  },
  {
   "cell_type": "code",
   "execution_count": 59,
   "metadata": {},
   "outputs": [
    {
     "name": "stdout",
     "output_type": "stream",
     "text": [
      "[4, 6, 8, 12]\n"
     ]
    }
   ],
   "source": [
    "# Filtrar os numeros pares de uma lista de valores\n",
    "list1 = [1, 5, 4, 6, 8, 11, 3, 12]\n",
    "list2 = list(filter(lambda x: (x%2 == 0) , list1))\n",
    "print(list2)"
   ]
  },
  {
   "cell_type": "markdown",
   "metadata": {},
   "source": [
    "## List compreensions\n",
    "\n",
    "O Python permite a criação de listas da forma como os matemáticos as definem:\n",
    "1. S = {x² : x in {0 ... 9}}\n",
    "2. V = (1, 2, 4, 8, ..., 2¹²)\n",
    "3. M = {x | x in S and x even}"
   ]
  },
  {
   "cell_type": "code",
   "execution_count": 35,
   "metadata": {},
   "outputs": [
    {
     "name": "stdout",
     "output_type": "stream",
     "text": [
      "S:  [0, 1, 4, 9, 16, 25, 36, 49, 64, 81]\n",
      "V:  [1, 2, 4, 8, 16, 32, 64, 128, 256, 512, 1024, 2048, 4096]\n",
      "M:  [0, 4, 16, 36, 64]\n",
      "Exemplo de criação de uma lista de numeros primos:\n",
      "[2, 3, 5, 7, 11, 13, 17, 19, 23, 29, 31, 37, 41, 43, 47]\n"
     ]
    }
   ],
   "source": [
    "S = [x**2 for x in range(10)]\n",
    "V = [2**i for i in range(13)]\n",
    "M = [x for x in S if x % 2 == 0]\n",
    "\n",
    "print('S: ',S)\n",
    "print('V: ',V)\n",
    "print('M: ',M)\n",
    "\n",
    "print('Exemplo de criação de uma lista de numeros primos:')\n",
    "nao_primos = [j for i in range(2, 8) for j in range(i*2, 50, i)]\n",
    "primos = [x for x in range(2, 50) if x not in nao_primos]\n",
    "print (primos)"
   ]
  },
  {
   "cell_type": "markdown",
   "metadata": {},
   "source": [
    "## Classes\n",
    "\n",
    "Como foi referido no início deste tutorial em Python tudo são objetos. Os objetos são criados recorrendo às classes. \n",
    "\n",
    "Uma classe represnta uma entidade no sistema que possui atributos (características) e métodos (comportamentos).\n",
    "\n",
    "A definição de uma classe em Python faz-se da seguinte forma:\n",
    "\n",
    "```python\n",
    "class NomeDaClasse(object):\n",
    "\n",
    "    # atributos comuns a todas as instancias desta classe\n",
    "    \n",
    "    # Construtor com os atributos proprios de cada instancia\n",
    "    def __init__(self, nome):\n",
    "        instrucoes\n",
    "\n",
    "    # Metodos da classe\n",
    "    def metodo1(...):\n",
    "        instrucoes\n",
    "    \n",
    "    def metodo2(...):\n",
    "        instrucoes```\n",
    "        \n",
    "De seguida mostra-se um exemplo de definição e utilização de uma classe."
   ]
  },
  {
   "cell_type": "code",
   "execution_count": 5,
   "metadata": {},
   "outputs": [
    {
     "name": "stdout",
     "output_type": "stream",
     "text": [
      "Ola!\n",
      "Ola, Antonio!\n"
     ]
    }
   ],
   "source": [
    "class Ola(object):\n",
    "\n",
    "    # Construtor\n",
    "    def __init__(self, nome):\n",
    "        self.nome = nome  # Create an instance variable\n",
    "\n",
    "    # Metodo da classe\n",
    "    def ola(self, mostra_nome=False):\n",
    "        if mostra_nome:\n",
    "            print('Ola, %s!' % self.nome)\n",
    "        else:\n",
    "            print('Ola!')\n",
    "\n",
    "o = Ola('Antonio')  \n",
    "o.ola()            \n",
    "o.ola(mostra_nome=True)"
   ]
  },
  {
   "cell_type": "code",
   "execution_count": null,
   "metadata": {},
   "outputs": [],
   "source": []
  }
 ],
 "metadata": {
  "kernelspec": {
   "display_name": "Python 3",
   "language": "python",
   "name": "python3"
  },
  "language_info": {
   "codemirror_mode": {
    "name": "ipython",
    "version": 3
   },
   "file_extension": ".py",
   "mimetype": "text/x-python",
   "name": "python",
   "nbconvert_exporter": "python",
   "pygments_lexer": "ipython3",
   "version": "3.6.4"
  }
 },
 "nbformat": 4,
 "nbformat_minor": 2
}
