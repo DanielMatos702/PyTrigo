{
 "cells": [
  {
   "cell_type": "markdown",
   "metadata": {},
   "source": [
    "# Biblioteca NumPy\n",
    "\n",
    "Este tutorial é sobre a utilização da biblioteca NumPy, uma biblioteca utilizada para trabalhar com **matrizes**, criada para ser utilizada em computação científica.\n",
    "\n",
    "O primeiro passo para trabalhar com uma biblioteca no Python é importá-la com a utilização do comando import."
   ]
  },
  {
   "cell_type": "code",
   "execution_count": 2,
   "metadata": {},
   "outputs": [],
   "source": [
    "import numpy as np"
   ]
  },
  {
   "cell_type": "code",
   "execution_count": 4,
   "metadata": {},
   "outputs": [
    {
     "name": "stdout",
     "output_type": "stream",
     "text": [
      "<class 'numpy.ndarray'>\n",
      "(3,)\n",
      "1 2 3\n",
      "[5 2 3]\n",
      "(2, 3)\n",
      "1 2 4\n"
     ]
    }
   ],
   "source": [
    "a = np.array([1, 2, 3])   # Cria uma atriz com três elementos\n",
    "print(type(a))            # Imprime \"<class 'numpy.ndarray'>\"\n",
    "print(a.shape)            # Imprime o formato da matriz \"(3,)\"\n",
    "print(a[0], a[1], a[2])   # Imprime \"1 2 3\"\n",
    "a[0] = 5                  # Altera o valor de um elemento da matriz\n",
    "print(a)                  # Imprime \"[5, 2, 3]\"\n",
    "\n",
    "b = np.array([[1,2,3],[4,5,6]])    # Cria uma matriz bidimensional\n",
    "print(b.shape)                     # Imprime o formato da matriz \"(2, 3)\"\n",
    "print(b[0, 0], b[0, 1], b[1, 0])   # Imprime \"1 2 4\""
   ]
  },
  {
   "cell_type": "markdown",
   "metadata": {},
   "source": [
    "## Tipos de dados\n",
    "\n",
    "No numpy todos os elementos de uma matriz são de um determinado tipo de dados."
   ]
  },
  {
   "cell_type": "code",
   "execution_count": 22,
   "metadata": {},
   "outputs": [
    {
     "name": "stdout",
     "output_type": "stream",
     "text": [
      "int32\n",
      "float64\n",
      "int64\n"
     ]
    }
   ],
   "source": [
    "import numpy as np\n",
    "\n",
    "x = np.array([1, 2])   \n",
    "print(x.dtype)         \n",
    "x = np.array([1.0, 2.0])   \n",
    "print(x.dtype)             \n",
    "x = np.array([1, 2], dtype=np.int64)   \n",
    "print(x.dtype)                         "
   ]
  },
  {
   "cell_type": "markdown",
   "metadata": {},
   "source": [
    "## Criação de matrizes\n",
    "A bilioteca NumPy fornece muitas formas diferentes para criar matrizes."
   ]
  },
  {
   "cell_type": "code",
   "execution_count": 9,
   "metadata": {},
   "outputs": [
    {
     "name": "stdout",
     "output_type": "stream",
     "text": [
      "Matriz a: \n",
      "[[0. 0.]\n",
      " [0. 0.]]\n",
      "Matriz b: \n",
      "[[1. 1.]]\n",
      "Matriz c: \n",
      "[[7 7]\n",
      " [7 7]]\n",
      "Matriz d: \n",
      "[[1. 0.]\n",
      " [0. 1.]]\n",
      "Matriz e: \n",
      "[[0.57849269 0.17514776]\n",
      " [0.56880274 0.71210545]]\n"
     ]
    }
   ],
   "source": [
    "import numpy as np\n",
    "\n",
    "a = np.zeros((2,2))   # Matriz 2x2 de zeros\n",
    "print(\"Matriz a: \")\n",
    "print(a)\n",
    "b = np.ones((1,2))    # Matriz 1x2 de uns\n",
    "print(\"Matriz b: \")\n",
    "print(b)              \n",
    "c = np.full((2,2), 7)  # Cria uma matriz cujos valores são a contante 7\n",
    "print(\"Matriz c: \")\n",
    "print(c)               \n",
    "d = np.eye(2)         # Cria uma matriz identidade 2x2\n",
    "print(\"Matriz d: \")\n",
    "print(d)              \n",
    "e = np.random.random((2,2))  # Cria uma matriz 2x2 com valores aleatórios\n",
    "print(\"Matriz e: \")\n",
    "print(e)                     "
   ]
  },
  {
   "cell_type": "markdown",
   "metadata": {},
   "source": [
    "## Slicing de matrizes\n",
    "\n",
    "Também permite o slicing, visto no tutorial \"Introdução ao Python\""
   ]
  },
  {
   "cell_type": "code",
   "execution_count": 10,
   "metadata": {},
   "outputs": [
    {
     "name": "stdout",
     "output_type": "stream",
     "text": [
      "[[ 1  2  3  4]\n",
      " [ 5  6  7  8]\n",
      " [ 9 10 11 12]]\n",
      "[[2 3]\n",
      " [6 7]]\n"
     ]
    }
   ],
   "source": [
    "import numpy as np\n",
    "a = np.array([[1,2,3,4], [5,6,7,8], [9,10,11,12]])\n",
    "b = a[:2, 1:3]\n",
    "print(a)\n",
    "print(b)"
   ]
  },
  {
   "cell_type": "code",
   "execution_count": 13,
   "metadata": {},
   "outputs": [
    {
     "name": "stdout",
     "output_type": "stream",
     "text": [
      "[5 6 7 8] (4,)\n",
      "[[5 6 7 8]] (1, 4)\n",
      "[ 2  6 10] (3,)\n",
      "[[ 2]\n",
      " [ 6]\n",
      " [10]] (3, 1)\n"
     ]
    }
   ],
   "source": [
    "import numpy as np\n",
    "a = np.array([[1,2,3,4], [5,6,7,8], [9,10,11,12]])\n",
    "\n",
    "l1_d1 = a[1, :]    # Retira a segunda linha para uma matriz unidimensional\n",
    "l1_d2 = a[1:2, :]  # Retira a segunda linha para uma matriz bidimensional\n",
    "print(l1_d1, l1_d1.shape)  # Imprime os valores da segunda linha e respetivo formato\n",
    "print(l1_d2, l1_d2.shape)  # Imprime os valores da segunda linha e respetivo formato\n",
    "\n",
    "c1_d1 = a[:, 1]\n",
    "c1_d2 = a[:, 1:2]\n",
    "print(c1_d1, c1_d1.shape)\n",
    "print(c1_d2, c1_d2.shape)  "
   ]
  },
  {
   "cell_type": "markdown",
   "metadata": {},
   "source": [
    "## Indexação de matrizes\n",
    "\n",
    "A biblioteca NumPy permite selecionar elementos de uma matriz tendo por base outras matrizes e expressões booleanas."
   ]
  },
  {
   "cell_type": "code",
   "execution_count": 17,
   "metadata": {},
   "outputs": [
    {
     "name": "stdout",
     "output_type": "stream",
     "text": [
      "[1 4 5]\n",
      "[1 4 5]\n",
      "[2 2]\n",
      "[2 2]\n"
     ]
    }
   ],
   "source": [
    "#Indexação de matrizes utilizando outras matrizes\n",
    "import numpy as np\n",
    "a = np.array([[1,2], [3, 4], [5, 6]])\n",
    "#Indexação utilizando uma matriz de posições a mostrar\n",
    "print(a[[0, 1, 2], [0, 1, 0]])\n",
    "#O exemplo acima pode ser conseguido através de \n",
    "print(np.array([a[0, 0], a[1, 1], a[2, 0]]))\n",
    "#Ao utilizar uma matriz de elementos inteiros para indexação podemos reutilizar elementos\n",
    "print(a[[0, 0], [1, 1]])\n",
    "#O exemplo acima com outra notação\n",
    "print(np.array([a[0, 1], a[0, 1]]))\n"
   ]
  },
  {
   "cell_type": "code",
   "execution_count": 18,
   "metadata": {},
   "outputs": [
    {
     "name": "stdout",
     "output_type": "stream",
     "text": [
      "[[ 1  2  3]\n",
      " [ 4  5  6]\n",
      " [ 7  8  9]\n",
      " [10 11 12]]\n",
      "[ 1  6  7 11]\n",
      "[[11  2  3]\n",
      " [ 4  5 16]\n",
      " [17  8  9]\n",
      " [10 21 12]]\n"
     ]
    }
   ],
   "source": [
    "#Alterar os elementos de posições da matriz\n",
    "import numpy as np\n",
    "a = np.array([[1,2,3], [4,5,6], [7,8,9], [10, 11, 12]])\n",
    "print(a)\n",
    "b = np.array([0, 2, 0, 1])\n",
    "# Selecionar um elemento de cada linha utilizando os indices em b\n",
    "print(a[np.arange(4), b])\n",
    "# Alterar um elemento de cada linha utilizando os indicies em b\n",
    "a[np.arange(4), b] += 10\n",
    "print(a)"
   ]
  },
  {
   "cell_type": "code",
   "execution_count": 20,
   "metadata": {},
   "outputs": [
    {
     "name": "stdout",
     "output_type": "stream",
     "text": [
      "[[False False]\n",
      " [ True  True]\n",
      " [ True  True]]\n",
      "[3 4 5 6]\n",
      "[3 4 5 6]\n"
     ]
    }
   ],
   "source": [
    "#Indexação de matrizes utilizando expressões booleanas\n",
    "#Utilizado para selecionar os lementos de uma matriz que \n",
    "#satisfaçam uma determinada condição\n",
    "import numpy as np\n",
    "a = np.array([[1,2], [3, 4], [5, 6]])\n",
    "bool_idx = (a > 2)\n",
    "print(bool_idx)\n",
    "print(a[bool_idx])\n",
    "print(a[a > 2])"
   ]
  },
  {
   "cell_type": "markdown",
   "metadata": {},
   "source": [
    "## Aritmética de matrizes\n",
    "\n",
    "De seguida aprentam-se algumas operações aritméticas para  a manipulação dos elementos de uma matriz."
   ]
  },
  {
   "cell_type": "code",
   "execution_count": 19,
   "metadata": {},
   "outputs": [
    {
     "name": "stdout",
     "output_type": "stream",
     "text": [
      "Soma dos elementos de x com y\n",
      "[[ 6.  8.]\n",
      " [10. 12.]]\n",
      "[[ 6.  8.]\n",
      " [10. 12.]]\n",
      "Diferenca dos elementos de x com y\n",
      "[[-4. -4.]\n",
      " [-4. -4.]]\n",
      "[[-4. -4.]\n",
      " [-4. -4.]]\n",
      "Multiplicacao dos elementos de x com y\n",
      "[[ 5. 12.]\n",
      " [21. 32.]]\n",
      "[[ 5. 12.]\n",
      " [21. 32.]]\n",
      "Divisao dos elementos de x por y\n",
      "[[0.2        0.33333333]\n",
      " [0.42857143 0.5       ]]\n",
      "[[0.2        0.33333333]\n",
      " [0.42857143 0.5       ]]\n",
      "Raiz quadrada dos elementos de x\n",
      "[[1.         1.41421356]\n",
      " [1.73205081 2.        ]]\n"
     ]
    }
   ],
   "source": [
    "#Operacoes ao nível dos elementos das matrizes\n",
    "import numpy as np\n",
    "\n",
    "a = np.array([[1,2],[3,4]], dtype=np.float64)\n",
    "b = np.array([[5,6],[7,8]], dtype=np.float64)\n",
    "\n",
    "print(\"Soma dos elementos de x com y\")\n",
    "print(a + b)\n",
    "print(np.add(a, b))\n",
    "print(\"Diferenca dos elementos de x com y\")\n",
    "print(a - b)\n",
    "print(np.subtract(a, b))\n",
    "print(\"Multiplicacao dos elementos de x com y\")\n",
    "print(a * b)\n",
    "print(np.multiply(a, b))\n",
    "print(\"Divisao dos elementos de x por y\")\n",
    "print(a / b)\n",
    "print(np.divide(a, b))\n",
    "print(\"Raiz quadrada dos elementos de x\")\n",
    "print(np.sqrt(a))\n"
   ]
  },
  {
   "cell_type": "code",
   "execution_count": 24,
   "metadata": {},
   "outputs": [
    {
     "name": "stdout",
     "output_type": "stream",
     "text": [
      "Produto das matrizes v com w\n",
      "219\n",
      "219\n",
      "Produto das matrizes x com v\n",
      "[29 67]\n",
      "[29 67]\n",
      "Produto das matrizes x com y\n",
      "[[19 22]\n",
      " [43 50]]\n",
      "[[19 22]\n",
      " [43 50]]\n"
     ]
    }
   ],
   "source": [
    "#Operacoes ao nível das matrizes\n",
    "\n",
    "import numpy as np\n",
    "\n",
    "x = np.array([[1,2],[3,4]])\n",
    "y = np.array([[5,6],[7,8]])\n",
    "\n",
    "v = np.array([9,10])\n",
    "w = np.array([11, 12])\n",
    "\n",
    "print(\"Produto das matrizes v com w\")\n",
    "print(v.dot(w))\n",
    "print(np.dot(v, w))\n",
    "\n",
    "print(\"Produto das matrizes x com v\")\n",
    "print(x.dot(v))\n",
    "print(np.dot(x, v))\n",
    "\n",
    "print(\"Produto das matrizes x com y\")\n",
    "print(x.dot(y))\n",
    "print(np.dot(x, y))\n"
   ]
  },
  {
   "cell_type": "markdown",
   "metadata": {},
   "source": [
    "## Soma de elementos da matriz"
   ]
  },
  {
   "cell_type": "code",
   "execution_count": 1,
   "metadata": {},
   "outputs": [
    {
     "name": "stdout",
     "output_type": "stream",
     "text": [
      "Soma todos os elementos de x\n",
      "10\n",
      "Soma todos os elementos das colunas de x\n",
      "[4 6]\n",
      "Soma todos os elementos das linhas de x\n",
      "[3 7]\n"
     ]
    }
   ],
   "source": [
    "import numpy as np\n",
    "\n",
    "a = np.array([[1,2],[3,4]])\n",
    "print('Matriz a:')\n",
    "print(a)\n",
    "print(\"Soma todos os elementos de x\")\n",
    "print(np.sum(a))\n",
    "print(\"Soma todos os elementos das colunas de x\")\n",
    "print(np.sum(a, axis=0))  \n",
    "print(\"Soma todos os elementos das linhas de x\")\n",
    "print(np.sum(a, axis=1))"
   ]
  },
  {
   "cell_type": "markdown",
   "metadata": {},
   "source": [
    "## Ordenação de elementos da matriz"
   ]
  },
  {
   "cell_type": "code",
   "execution_count": 23,
   "metadata": {},
   "outputs": [
    {
     "name": "stdout",
     "output_type": "stream",
     "text": [
      "Matriz a:\n",
      "[[4 3 5]\n",
      " [1 2 1]]\n",
      "Ordenar os elementos das linhas:\n",
      "[[3 4 5]\n",
      " [1 1 2]]\n"
     ]
    }
   ],
   "source": [
    "a = np.array([[4, 3, 5], [1, 2, 1]])\n",
    "print(\"Matriz a:\")\n",
    "print(a)\n",
    "print(\"Ordenar os elementos das linhas:\")\n",
    "b = np.sort(a, axis=1)\n",
    "print(b)"
   ]
  },
  {
   "cell_type": "markdown",
   "metadata": {},
   "source": [
    "## Broadcasting\n",
    "\n",
    "Mecanismo que permite ao NumPy trabalhar com matrizes de diferentes dimensões.\n",
    "\n",
    "No exemplo seguinte mostra-se como adicionar os valores de uma nova coluna a uma matriz, da forma tradicional e utilizando o mecanismo de broadcasting."
   ]
  },
  {
   "cell_type": "code",
   "execution_count": 22,
   "metadata": {},
   "outputs": [
    {
     "name": "stdout",
     "output_type": "stream",
     "text": [
      "Metodo 1:\n",
      "[[ 2  2  4]\n",
      " [ 5  5  7]\n",
      " [ 8  8 10]\n",
      " [11 11 13]]\n",
      "Metodo 2:\n",
      "[[ 2  2  4]\n",
      " [ 5  5  7]\n",
      " [ 8  8 10]\n",
      " [11 11 13]]\n"
     ]
    }
   ],
   "source": [
    "import numpy as np\n",
    "\n",
    "# Adicionar o vetor v`a cada linha da matriz x guardando na matriz y \n",
    "a = np.array([[1,2,3], [4,5,6], [7,8,9], [10, 11, 12]])\n",
    "v = np.array([1, 0, 1])\n",
    "\n",
    "print(\"Metodo 1:\")\n",
    "b = np.empty_like(a)\n",
    "# Adicionar cada vetor v à matriz y\n",
    "for i in range(4):\n",
    "    b[i, :] = a[i, :] + v\n",
    "print(b)\n",
    "\n",
    "print(\"Metodo 2:\")\n",
    "b = a + v \n",
    "print(b)\n"
   ]
  },
  {
   "cell_type": "markdown",
   "metadata": {},
   "source": [
    "## Alterar o formato das matrizes\n",
    "\n",
    "A bilbioteca NumPy permite alterar o formato das matrizes.\n",
    "\n",
    "Para isso possui os seguintes métodos:\n",
    "* transpose, que apresenta a matriz transposta\n",
    "* ravel, que transforma uma matriz numa lista de elementos\n",
    "* reshape, que dá a forma da matriz desejada a uma lista de elementos\n",
    "* newaxis, que permite adicionar uma nova dimensão à matriz\n",
    "* resize, que permite adicionar elementos à matriz\n",
    "\n",
    "Exemplos:"
   ]
  },
  {
   "cell_type": "code",
   "execution_count": 25,
   "metadata": {},
   "outputs": [
    {
     "name": "stdout",
     "output_type": "stream",
     "text": [
      "Matriz a:\n",
      "[[1 2 3]\n",
      " [4 5 6]]\n",
      "(2, 3)\n",
      "Matriz a transposta:\n",
      "[[1 4]\n",
      " [2 5]\n",
      " [3 6]]\n",
      "Elementos da matriz transformados numa lista:\n",
      "[1 2 3 4 5 6]\n",
      "Matriz b:\n",
      "[[1 2]\n",
      " [3 4]\n",
      " [5 6]]\n",
      "(3, 2)\n",
      "[1 2 3 4 5 6]\n",
      "Redimensionar uma matriz:\n",
      "[[1 2]\n",
      " [3 4]\n",
      " [5 6]\n",
      " [0 0]\n",
      " [0 0]]\n",
      "Adicionar uma dimensão a uma matriz:\n",
      "[0 1 2 3]\n",
      "[0 1 2 3]\n"
     ]
    }
   ],
   "source": [
    "import numpy as np\n",
    "\n",
    "a = np.array([[1, 2, 3], [4, 5, 6]])\n",
    "print('Matriz a:')\n",
    "print(a)\n",
    "print(a.shape)\n",
    "print('Matriz a transposta:')\n",
    "print(np.transpose(a))\n",
    "print('Elementos da matriz transformados numa lista:')\n",
    "print(a.ravel())\n",
    "print('Matriz b:')\n",
    "b = a.reshape((3, 2))\n",
    "print(b)\n",
    "print(b.shape)\n",
    "print(b.ravel())\n",
    "print('Redimensionar uma matriz:') \n",
    "c = np.array([[1, 2, 3], [4, 5, 6]])\n",
    "c.resize((5,2))\n",
    "print(c)\n",
    "#Não se pode redimensionar uma matriz que tenha já sido refernciada anteriormente\n",
    "print('Adicionar uma dimensão a uma matriz:')\n",
    "d = np.arange(4)\n",
    "print(d)\n",
    "d[:,np.newaxis]\n",
    "print(d)\n"
   ]
  },
  {
   "cell_type": "markdown",
   "metadata": {},
   "source": [
    "## Leitura e escrita de ficheiros\n",
    "\n",
    "A leitura e escrita de ficheiros na biblioteca NumPy faz-se recorrendo aos métodos:\n",
    "* loadtxt(fname[, dtype, comments, delimiter, ...])\n",
    "* savetxt(fname, X[, fmt, delimiter, newline, ...])\n",
    "* genfromtxt(fname[, dtype, comments, ...])\n",
    "* fromregex(file, regexp, dtype)\n",
    "* fromstring(string[, dtype, count, sep])\n",
    "* ndarray.tofile(fid[, sep, format])\n",
    "* ndarray.tolist()\n",
    "\n",
    "De seguida apresentam-se dois exemplos:\n",
    "* o primeiro le um ficheiro csv para um array, divide os elementos por 2 e grava num novo ficheiro.\n",
    "* o segundo le um ficheiro csv para um array, mas com a especificação do tipo de dados (inteiros)\n"
   ]
  },
  {
   "cell_type": "code",
   "execution_count": 1,
   "metadata": {},
   "outputs": [
    {
     "name": "stdout",
     "output_type": "stream",
     "text": [
      "Exemplo 1:\n",
      "Matriz a:\n",
      "[[ 1.  2.  3.  4.  5.]\n",
      " [ 6.  7.  8.  9. 10.]\n",
      " [11. 12. 13. 14. 15.]\n",
      " [16. 17. 18. 19. 20.]]\n",
      "Matriz a/2:\n",
      "[[ 2.  4.  6.  8. 10.]\n",
      " [12. 14. 16. 18. 20.]\n",
      " [22. 24. 26. 28. 30.]\n",
      " [32. 34. 36. 38. 40.]]\n",
      "Exemplo 2:\n",
      "Matriz a (inteiros):\n",
      "[[ 1  2  3  4  5]\n",
      " [ 6  7  8  9 10]\n",
      " [11 12 13 14 15]\n",
      " [16 17 18 19 20]]\n"
     ]
    }
   ],
   "source": [
    "import numpy as np\n",
    "#Exemplo 1\n",
    "print('Exemplo 1:')\n",
    "a = np.genfromtxt('pytrigo-numpy-csv1.csv', delimiter=',')\n",
    "print('Matriz a:')\n",
    "print(a)\n",
    "b = a*2\n",
    "print('Matriz a/2:')\n",
    "print(b)\n",
    "np.savetxt('pytrigo-numpy-csv2.csv', b, delimiter=',')\n",
    "print('Exemplo 2:')\n",
    "a = np.genfromtxt('pytrigo-numpy-csv1.csv', delimiter=',',dtype=int)\n",
    "print('Matriz a (inteiros):')\n",
    "print(a)\n",
    "# Existem mais opcoes para a leitura / escrita de dados\n",
    "# A funcao genfromtxt tambem permite indicar o tratamento a dar aos missing values"
   ]
  },
  {
   "cell_type": "markdown",
   "metadata": {},
   "source": [
    "### Velocidade de execução: Python vs NumPy\n",
    "\n",
    "De seguida apresenta-se o tempo de execução de um código para fazer o cálculo da distância entre todas as linhas da matriz, retirado de \n",
    "http://nbviewer.jupyter.org/github/ogrisel/notebooks/blob/master/Numba%20Parakeet%20Cython.ipynb.\n",
    "\n",
    "No seguinte link - http://arogozhnikov.github.io/2015/01/06/benchmarks-of-speed-numpy-vs-all.html - poderá obter mais informação sobre outras bibliotecas, criadas com o bjetivo de serem mais eficientes que a biblioteca NumPy, como a Numba ou a Cython.  "
   ]
  },
  {
   "cell_type": "code",
   "execution_count": 50,
   "metadata": {},
   "outputs": [
    {
     "name": "stdout",
     "output_type": "stream",
     "text": [
      "3.31 s ± 64.3 ms per loop (mean ± std. dev. of 7 runs, 1 loop each)\n",
      "57 ms ± 1.28 ms per loop (mean ± std. dev. of 7 runs, 10 loops each)\n",
      "A segunda implementação recorrendo à biblioteca NumPy é 500x mais rápida!\n"
     ]
    }
   ],
   "source": [
    "import numpy as np\n",
    "from timeit import timeit\n",
    "\n",
    "X = np.random.random((1000 ,3))\n",
    "#X_wide = np.random.random((1000, 100))\n",
    "\n",
    "#Python\n",
    "def pairwise_python(X):\n",
    "    M = X.shape[0]\n",
    "    N = X.shape[1]\n",
    "    D = np.empty((M, M), dtype=np.float)\n",
    "    for i in range(M):\n",
    "        for j in range(M):\n",
    "            d = 0.0\n",
    "            for k in range(N):\n",
    "                tmp = X[i, k] - X[j, k]\n",
    "                d += tmp * tmp\n",
    "            D[i, j] = np.sqrt(d)\n",
    "    return D\n",
    "%timeit pairwise_python(X)\n",
    "\n",
    "#NumPy\n",
    "def pairwise_numpy(X):\n",
    "    return np.sqrt(((X[:, None, :] - X) ** 2).sum(-1))\n",
    "%timeit pairwise_numpy(X)\n",
    "\n",
    "print('A segunda implementação recorrendo à biblioteca NumPy é 500x mais rápida!')"
   ]
  },
  {
   "cell_type": "markdown",
   "metadata": {},
   "source": [
    "### Exercícios sobre numpy\n",
    "1. Crie um vetor com 10 elementos todos a 0\n",
    "2. Crie uma matriz de zeros com a dimensão de 2X5\n",
    "3. Crie um vetor de 10 elementos com valores entre 10 e 49\n",
    "4. Crie uma matriz 2X5 com valores entre 10 e 19\n",
    "5. Crie uma matriz identidade com a dimensão 5x5\n",
    "6. Gere uma matriz 5x5 com valores aleatorios\n",
    "7. Normalize os valores de uma matriz 5x5\n",
    "8. Crie um vetor com 10 elementos aleatórios e ordene-o.\n",
    "9. Descubra a posicao num vetor do elemento com o valor mais próximo de um valor gerado aleatoriamente. "
   ]
  },
  {
   "cell_type": "code",
   "execution_count": 51,
   "metadata": {},
   "outputs": [
    {
     "name": "stdout",
     "output_type": "stream",
     "text": [
      "Solucao 1:\n",
      "[0. 0. 0. 0. 0. 0. 0. 0. 0. 0.]\n",
      "Solucao 2:\n",
      "[[0. 0. 0. 0. 0.]\n",
      " [0. 0. 0. 0. 0.]]\n",
      "Solucao 3:\n",
      "[10 11 12 13 14 15 16 17 18 19 20 21 22 23 24 25 26 27 28 29 30 31 32 33\n",
      " 34 35 36 37 38 39 40 41 42 43 44 45 46 47 48 49]\n",
      "Solucao 4:\n",
      "[[10 11 12 13 14]\n",
      " [15 16 17 18 19]]\n",
      "Solucao 5:\n",
      "[[1. 0. 0. 0. 0.]\n",
      " [0. 1. 0. 0. 0.]\n",
      " [0. 0. 1. 0. 0.]\n",
      " [0. 0. 0. 1. 0.]\n",
      " [0. 0. 0. 0. 1.]]\n",
      "Solucao 6:\n",
      "[[0.57753741 0.70173018 0.49110646 0.70828796 0.41696769]\n",
      " [0.79180209 0.22218492 0.05493148 0.58821771 0.48874327]\n",
      " [0.3810542  0.86757173 0.86517114 0.46342595 0.08469246]\n",
      " [0.24639119 0.95787779 0.42031302 0.55379964 0.51500967]\n",
      " [0.66128331 0.71256974 0.49066012 0.10790001 0.42646875]]\n",
      "Solucao 7:\n",
      "[[0.08468925 0.65726423 0.31952716 0.05184643 0.23976443]\n",
      " [0.23513671 1.         0.         0.92682388 0.40858854]\n",
      " [0.68576145 0.78434402 0.95991702 0.67189783 0.97566371]\n",
      " [0.46148296 0.54181284 0.77840707 0.21433191 0.27234732]\n",
      " [0.09031278 0.04374324 0.53719471 0.45996535 0.22280654]]\n",
      "Solucao 8:\n",
      "[0.01613564 0.03651494 0.34344279 0.40717507 0.5538853  0.66797035\n",
      " 0.67276054 0.79176337 0.91914255 0.98429026]\n",
      "Solucao 9:\n",
      "[ 0  1  2  3  4  5  6  7  8  9 10 11 12 13 14 15 16 17 18 19 20 21 22 23\n",
      " 24 25 26 27 28 29 30 31 32 33 34 35 36 37 38 39 40 41 42 43 44 45 46 47\n",
      " 48 49 50 51 52 53 54 55 56 57 58 59 60 61 62 63 64 65 66 67 68 69 70 71\n",
      " 72 73 74 75 76 77 78 79 80 81 82 83 84 85 86 87 88 89 90 91 92 93 94 95\n",
      " 96 97 98 99]\n",
      "88.81023292421784\n",
      "Posicao:  89  Valor:  89\n"
     ]
    }
   ],
   "source": [
    "import numpy as np\n",
    "#Solucao 1\n",
    "print(\"Solucao 1:\")\n",
    "v = np.zeros(10)\n",
    "print(v)\n",
    "#Solucao 2\n",
    "print(\"Solucao 2:\")\n",
    "m = np.zeros(shape=(2,5))\n",
    "print(m)\n",
    "#Solucao 3\n",
    "print(\"Solucao 3:\")\n",
    "v = np.arange(10,50)\n",
    "print(v)\n",
    "#Solucao 4\n",
    "print(\"Solucao 4:\")\n",
    "m = np.arange(10,20).reshape(2,5)\n",
    "print(m)\n",
    "#Solucao 5\n",
    "print(\"Solucao 5:\")\n",
    "m = np.eye(5)\n",
    "print(m)\n",
    "#Solucao 6\n",
    "print(\"Solucao 6:\")\n",
    "m = np.random.random((5,5))\n",
    "print(m)\n",
    "#Solucao 7\n",
    "print(\"Solucao 7:\")\n",
    "m = np.random.random((5,5))\n",
    "mmax, mmin = m.max(), m.min()\n",
    "m = (m - mmin)/(mmax - mmin)\n",
    "print(m)\n",
    "#Solucao 8\n",
    "print('Solucao 8:')\n",
    "m = np.random.random(10)\n",
    "m.sort()\n",
    "print(m)\n",
    "#Solucao 9\n",
    "print('Solucao 9:')\n",
    "m = np.arange(100)\n",
    "valor = np.random.uniform(0,100)\n",
    "indice = (np.abs(m-valor)).argmin()\n",
    "print(m)\n",
    "print(valor)\n",
    "print('Posicao: ', indice,' Valor: ', m[indice])"
   ]
  },
  {
   "cell_type": "markdown",
   "metadata": {},
   "source": [
    "Mais exercícios disponíveis em: http://www.labri.fr/perso/nrougier/teaching/numpy.100/"
   ]
  },
  {
   "cell_type": "code",
   "execution_count": null,
   "metadata": {},
   "outputs": [],
   "source": []
  }
 ],
 "metadata": {
  "kernelspec": {
   "display_name": "Python 3",
   "language": "python",
   "name": "python3"
  },
  "language_info": {
   "codemirror_mode": {
    "name": "ipython",
    "version": 3
   },
   "file_extension": ".py",
   "mimetype": "text/x-python",
   "name": "python",
   "nbconvert_exporter": "python",
   "pygments_lexer": "ipython3",
   "version": "3.6.4"
  }
 },
 "nbformat": 4,
 "nbformat_minor": 2
}
