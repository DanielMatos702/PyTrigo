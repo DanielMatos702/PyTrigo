{
 "cells": [
  {
   "cell_type": "code",
   "execution_count": 5,
   "metadata": {},
   "outputs": [],
   "source": [
    "import requests\n",
    "from lxml import html\n",
    "import csv\n",
    "from bs4 import BeautifulSoup\n",
    "\n",
    "USERNAME = \"ivqs7813\"\n",
    "PASSWORD = \"wovo6417\"\n",
    "\n",
    "LOGIN_URL = \"https://b2b.abtyres.pt\"\n",
    "URL = \"https://b2b.abtyres.pt/pneus\"\n",
    "\n",
    "sess = requests.session()"
   ]
  },
  {
   "cell_type": "code",
   "execution_count": 5,
   "metadata": {},
   "outputs": [],
   "source": []
  },
  {
   "cell_type": "code",
   "execution_count": 5,
   "metadata": {},
   "outputs": [],
   "source": [
    "# Perform login\n",
    "result = sess.get(LOGIN_URL)\n",
    "tree = html.fromstring(result.text)\n",
    "_token = list(set(tree.xpath(\"//input[@name='_token']/@value\")))[0]\n",
    "\n",
    "payload = {\"user\": USERNAME, \"pass\": PASSWORD, \"_token\": _token}\n",
    "\n",
    "# result = sess.post(LOGIN_URL, data = payload, headers = dict(referer = LOGIN_URL))\n",
    "result = sess.post(LOGIN_URL, data = payload)\n",
    "soup = BeautifulSoup(result.text, 'html.parser')"
   ]
  },
  {
   "cell_type": "code",
   "execution_count": 10,
   "metadata": {},
   "outputs": [],
   "source": [
    "# Query pneus\n",
    "result = sess.get(URL)\n",
    "tree = html.fromstring(result.text)\n",
    "_token = list(set(tree.xpath(\"//input[@name='_token']/@value\")))[0]\n",
    "#print(_token)\n",
    "# Create payload\n",
    "payload = {'id':'formPesquisaCarro', \"_token\": _token, 'pesq': '205'}\n",
    "# Scrape url\n",
    "result = sess.post(URL, data = payload)\n",
    "soup = BeautifulSoup(result.text, 'html.parser')\n",
    "print(soup)"
   ]
  },
  {
   "cell_type": "code",
   "execution_count": 21,
   "metadata": {},
   "outputs": [],
   "source": [
    "table = soup.find(lambda tag: tag.name=='table' and tag.has_attr('id') and tag['id']==\"datagrid2\") \n",
    "#rows = table.findAll(lambda tag: tag.name=='tr')\n",
    "print(table)"
   ]
  },
  {
   "cell_type": "code",
   "execution_count": 52,
   "metadata": {},
   "outputs": [
    {
     "name": "stdout",
     "output_type": "stream",
     "text": [
      "{1: {'Nome': '205/40 R 17 - 84W - HP102 XL P', 'Preco': '25.99'}, 2: {'Nome': '205/55 R 16 - 91V - L919', 'Preco': '26'}, 3: {'Nome': '205/55 R 16 - 91V - TQ021', 'Preco': '26.5'}, 4: {'Nome': '205/55 R 16 - 91V - NY801', 'Preco': '26.5'}, 5: {'Nome': '205/45 R 16 - 87V - S1063 XL P', 'Preco': '26.64'}, 6: {'Nome': '205/55 R 16 - 91V - ENDURO HP', 'Preco': '27.5'}, 7: {'Nome': '205/45 R 16 - 87W - S1063 XL P', 'Preco': '28.21'}, 8: {'Nome': '205/50 R 15 - 86V - S1063 P', 'Preco': '28.49'}, 9: {'Nome': '205/45 R 16 - 87W - TQ901 XL', 'Preco': '28.7'}, 10: {'Nome': '205/50 R 15 - 89V - SA302 XL', 'Preco': '29.23'}, 11: {'Nome': '205/50 ZR 16 - 87W - B717', 'Preco': '29.25'}, 12: {'Nome': '205/60 R 16 - 92V - TQ021', 'Preco': '29.3'}, 13: {'Nome': '205/55 R 16 - 91V - RA01', 'Preco': '29.5'}, 14: {'Nome': '205/50 R 16 - 87V - B717', 'Preco': '29.5'}, 15: {'Nome': '205/55 R 16 - 91V - R302', 'Preco': '29.5'}, 16: {'Nome': '205/40 R 17 - 84W - TQ901 XL P', 'Preco': '29.7'}, 17: {'Nome': '205/65 R 15 - 94H - S1200', 'Preco': '30.06'}, 18: {'Nome': '205/55 R 16 - 91V - DX390 FR', 'Preco': '30.5'}, 19: {'Nome': '205/60 R 15 - 91H - ENDURO HP', 'Preco': '30.65'}, 20: {'Nome': '205/50 R 16 - 87V - TQ021', 'Preco': '30.9'}, 21: {'Nome': '205/60 R 16 - 96V - S1023 XL', 'Preco': '31.45'}, 22: {'Nome': '205/40 ZR 17 - 84W - CF700 XL', 'Preco': '31.7'}, 23: {'Nome': '205/65 R 15 - 94H - TS880', 'Preco': '31.9'}, 24: {'Nome': '205/55 R 16 - 91H - TOURING2', 'Preco': '31.9'}, 25: {'Nome': '205/60 R 15 - 91H - B717', 'Preco': '32.25'}, 26: {'Nome': '205/50 R 17 - 93W - TQ901 XL', 'Preco': '32.35'}, 27: {'Nome': '205/60 R 15 - 91H - BC100', 'Preco': '32.5'}, 28: {'Nome': '205/55 R 16 - 91V - BC100 P', 'Preco': '32.5'}, 29: {'Nome': '205/70 R 15 - 96H - TQ021', 'Preco': '32.9'}, 30: {'Nome': '205/70 R 15C - 106/104S - C212', 'Preco': '32.9'}, 31: {'Nome': '205/65 R 15 - 94V - TQ021', 'Preco': '32.95'}, 32: {'Nome': '205/55 R 16 - 91H - BC100 MFS', 'Preco': '33'}, 33: {'Nome': '205/55 R 16 - 91V - TOURING2', 'Preco': '33.1'}, 34: {'Nome': '205/55 R 16 - 94V - TOURING2 XL', 'Preco': '33.5'}, 35: {'Nome': '205/55 R 16 - 91W - TOURING2', 'Preco': '33.5'}, 36: {'Nome': '205/60 R 15 - 91V - RA01', 'Preco': '33.5'}, 37: {'Nome': '205/45 R 17 - 88W - DX640 XL FR', 'Preco': '33.9'}, 38: {'Nome': '205/55 R 16 - 94V - DX390 XL FR', 'Preco': '34.5'}, 39: {'Nome': '205/55 R 15 - 88V - DX390 FR', 'Preco': '34.9'}, 40: {'Nome': '205/55 R 16 - 91V - SPORT-JET3', 'Preco': '34.9'}, 41: {'Nome': '205/50 ZR 17 - 93W - RA801E XL', 'Preco': '35.5'}, 42: {'Nome': '205/45 R 16 - 87W - PERFORMANCE926 XL', 'Preco': '36'}, 43: {'Nome': '205/55 R 16 - 91H - SPORT-JET3', 'Preco': '36.05'}, 44: {'Nome': '205/55 R 16 - 94W - DX390 XL FR', 'Preco': '36.2'}, 45: {'Nome': '205/55 R 16 - 91Y - SPORT-JET3', 'Preco': '36.4'}, 46: {'Nome': '205/50 R 17 - 93W - DX640 XL FR', 'Preco': '36.5'}, 47: {'Nome': '205/60 R 15 - 91V - TOURING2', 'Preco': '36.9'}, 48: {'Nome': '205/50 R 16 - 91W - TOURING2 XL', 'Preco': '36.9'}, 49: {'Nome': '205/45 R 16 - 87W - DX390 XL FR', 'Preco': '36.9'}, 50: {'Nome': '205/65 R 15C - 102/100T - TQ05', 'Preco': '37.15'}, 51: {'Nome': '205/60 R 16 - 96V - DX390 XL', 'Preco': '37.5'}, 52: {'Nome': '205/50 R 16 - 91W - PERFORMANCE926 XL', 'Preco': '37.8'}, 53: {'Nome': '205/40 ZR 17 - 84W - PERFORMANCE926 XL', 'Preco': '37.95'}, 54: {'Nome': '205/60 R 15 - 95V - BC100 XL', 'Preco': '38'}, 55: {'Nome': '205/70 R 15C - 106/104R - TQ05 8PR', 'Preco': '38.25'}, 56: {'Nome': '205/55 R 16 - 94W - BC100 XL P', 'Preco': '38.5'}, 57: {'Nome': '205/45 R 17 - 88W - PERFORMANCE926 XL', 'Preco': '38.5'}, 58: {'Nome': '205/65 R 16C - 107/105R - C212', 'Preco': '38.5'}, 59: {'Nome': '205/65 R 15 - 94H - ENDURO HP', 'Preco': '38.75'}, 60: {'Nome': '205/55 R 16 - 91V - RAINSPORT3', 'Preco': '39.5'}, 61: {'Nome': '205/65 R 15 - 94V - TOURING2', 'Preco': '39.5'}, 62: {'Nome': '205/65 R 16C - 107/105T - TQ05', 'Preco': '39.6'}, 63: {'Nome': '205/55 R 16 - 91V - P7 P', 'Preco': '39.8'}, 64: {'Nome': '205/50 R 17 - 93W - PERFORMANCE926 XL', 'Preco': '39.9'}, 65: {'Nome': '205/60 R 16 - 92H - TOURING2', 'Preco': '39.9'}, 66: {'Nome': '205/55 R 16 - 91V - ZE310EC', 'Preco': '40'}, 67: {'Nome': '205/55 R 16 - 91V - ROADHAWK', 'Preco': '40.5'}, 68: {'Nome': '205/50 R 17 - 93W - TOURING2 XL', 'Preco': '40.9'}, 69: {'Nome': '205/55 R 16 - 91V - EFF.GRIP PERF', 'Preco': '40.95'}, 70: {'Nome': '205/55 R 16 - 91H - RAINSPORT3', 'Preco': '41.45'}, 71: {'Nome': '205/45 R 16 - 87V - BC100 XL MFS', 'Preco': '41.5'}, 72: {'Nome': '205/45 R 16 - 87W - TOURING2 XL', 'Preco': '41.5'}, 73: {'Nome': '205/55 R 16 - 91V - EFF.GRIP', 'Preco': '41.9'}, 74: {'Nome': '205/55 R 16 - 91H - ROADHAWK', 'Preco': '41.9'}}\n",
      "                                      Nome  Preco\n",
      "1           205/40 R 17 - 84W - HP102 XL P  25.99\n",
      "2                 205/55 R 16 - 91V - L919     26\n",
      "3                205/55 R 16 - 91V - TQ021   26.5\n",
      "4                205/55 R 16 - 91V - NY801   26.5\n",
      "5           205/45 R 16 - 87V - S1063 XL P  26.64\n",
      "6            205/55 R 16 - 91V - ENDURO HP   27.5\n",
      "7           205/45 R 16 - 87W - S1063 XL P  28.21\n",
      "8              205/50 R 15 - 86V - S1063 P  28.49\n",
      "9             205/45 R 16 - 87W - TQ901 XL   28.7\n",
      "10            205/50 R 15 - 89V - SA302 XL  29.23\n",
      "11               205/50 ZR 16 - 87W - B717  29.25\n",
      "12               205/60 R 16 - 92V - TQ021   29.3\n",
      "13                205/55 R 16 - 91V - RA01   29.5\n",
      "14                205/50 R 16 - 87V - B717   29.5\n",
      "15                205/55 R 16 - 91V - R302   29.5\n",
      "16          205/40 R 17 - 84W - TQ901 XL P   29.7\n",
      "17               205/65 R 15 - 94H - S1200  30.06\n",
      "18            205/55 R 16 - 91V - DX390 FR   30.5\n",
      "19           205/60 R 15 - 91H - ENDURO HP  30.65\n",
      "20               205/50 R 16 - 87V - TQ021   30.9\n",
      "21            205/60 R 16 - 96V - S1023 XL  31.45\n",
      "22           205/40 ZR 17 - 84W - CF700 XL   31.7\n",
      "23               205/65 R 15 - 94H - TS880   31.9\n",
      "24            205/55 R 16 - 91H - TOURING2   31.9\n",
      "25                205/60 R 15 - 91H - B717  32.25\n",
      "26            205/50 R 17 - 93W - TQ901 XL  32.35\n",
      "27               205/60 R 15 - 91H - BC100   32.5\n",
      "28             205/55 R 16 - 91V - BC100 P   32.5\n",
      "29               205/70 R 15 - 96H - TQ021   32.9\n",
      "30          205/70 R 15C - 106/104S - C212   32.9\n",
      "..                                     ...    ...\n",
      "45          205/55 R 16 - 91Y - SPORT-JET3   36.4\n",
      "46         205/50 R 17 - 93W - DX640 XL FR   36.5\n",
      "47            205/60 R 15 - 91V - TOURING2   36.9\n",
      "48         205/50 R 16 - 91W - TOURING2 XL   36.9\n",
      "49         205/45 R 16 - 87W - DX390 XL FR   36.9\n",
      "50          205/65 R 15C - 102/100T - TQ05  37.15\n",
      "51            205/60 R 16 - 96V - DX390 XL   37.5\n",
      "52   205/50 R 16 - 91W - PERFORMANCE926 XL   37.8\n",
      "53  205/40 ZR 17 - 84W - PERFORMANCE926 XL  37.95\n",
      "54            205/60 R 15 - 95V - BC100 XL     38\n",
      "55      205/70 R 15C - 106/104R - TQ05 8PR  38.25\n",
      "56          205/55 R 16 - 94W - BC100 XL P   38.5\n",
      "57   205/45 R 17 - 88W - PERFORMANCE926 XL   38.5\n",
      "58          205/65 R 16C - 107/105R - C212   38.5\n",
      "59           205/65 R 15 - 94H - ENDURO HP  38.75\n",
      "60          205/55 R 16 - 91V - RAINSPORT3   39.5\n",
      "61            205/65 R 15 - 94V - TOURING2   39.5\n",
      "62          205/65 R 16C - 107/105T - TQ05   39.6\n",
      "63                205/55 R 16 - 91V - P7 P   39.8\n",
      "64   205/50 R 17 - 93W - PERFORMANCE926 XL   39.9\n",
      "65            205/60 R 16 - 92H - TOURING2   39.9\n",
      "66             205/55 R 16 - 91V - ZE310EC     40\n",
      "67            205/55 R 16 - 91V - ROADHAWK   40.5\n",
      "68         205/50 R 17 - 93W - TOURING2 XL   40.9\n",
      "69       205/55 R 16 - 91V - EFF.GRIP PERF  40.95\n",
      "70          205/55 R 16 - 91H - RAINSPORT3  41.45\n",
      "71        205/45 R 16 - 87V - BC100 XL MFS   41.5\n",
      "72         205/45 R 16 - 87W - TOURING2 XL   41.5\n",
      "73            205/55 R 16 - 91V - EFF.GRIP   41.9\n",
      "74            205/55 R 16 - 91H - ROADHAWK   41.9\n",
      "\n",
      "[74 rows x 2 columns]\n"
     ]
    }
   ],
   "source": [
    "import pandas as pd\n",
    "i = 1\n",
    "resultados = {}\n",
    "while True:\n",
    "    form1_id = \"formAddCart\" + str(i)\n",
    "    form1 = soup.find(lambda tag: tag.name=='form' and tag.has_attr('id') and tag['id']==form1_id)\n",
    "    if form1 == None:\n",
    "        break\n",
    "    #print(form1)\n",
    "    nome = form1.find('input', {'id': 'nome'}).get('value')\n",
    "    preco = form1.find('input', {'id': 'preco'}).get('value')\n",
    "    #df([['nome'],['preco']] = nome\n",
    "    #df['preco'] = preco\n",
    "    #df['Nome','Preco'] = [nome]\n",
    "    #if i==1:\n",
    "    #    df = pd.DataFrame([[nome, preco]], columns=['Nome','Preco'])\n",
    "    #else:\n",
    "    #    df2 = df.append({'Nome' : nome , 'Preco' : preco} , ignore_index=True)        \n",
    "    resultados[i] = {'Nome':nome, 'Preco': preco}\n",
    "    i = i + 1\n",
    "\n",
    "df = pd.DataFrame.from_dict(resultados, orient='index')\n",
    "#print(resultados)\n",
    "print(df)"
   ]
  },
  {
   "cell_type": "code",
   "execution_count": null,
   "metadata": {},
   "outputs": [],
   "source": []
  }
 ],
 "metadata": {
  "kernelspec": {
   "display_name": "Python 3",
   "language": "python",
   "name": "python3"
  },
  "language_info": {
   "codemirror_mode": {
    "name": "ipython",
    "version": 3
   },
   "file_extension": ".py",
   "mimetype": "text/x-python",
   "name": "python",
   "nbconvert_exporter": "python",
   "pygments_lexer": "ipython3",
   "version": "3.7.3"
  }
 },
 "nbformat": 4,
 "nbformat_minor": 2
}
