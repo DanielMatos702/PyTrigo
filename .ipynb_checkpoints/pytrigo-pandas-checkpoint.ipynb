{
 "cells": [
  {
   "cell_type": "markdown",
   "metadata": {},
   "source": [
    "# Biblioteca Pandas\n",
    "\n",
    "Este tutorial é sobre a utilização da biblioteca Pandas, uma biblioteca Python,  para manipulação e análise de dados. Oferece estruturas de dadso e operações para manipular tabelas numéricas e séries temporais.\n",
    "\n",
    "O nome Pandas é derivado da palavra Panel Data (painel de dados), um termo econométrico para conjuntos de dados que incluem observações ao longo do tempo.\n",
    "\n",
    "Esta biblioteca fornece três estruturas de dados:\n",
    "1. Series, um vetor de dados do mesmo tipo (uma dimensão)\n",
    "2. DataFrame, que contem um conjunto de Series, que podem ser de diferentes tipos (possui duas dimensões). Uma DataFrame pode ser vista como uma tabela de dados da base de dados ou uma folha de Excel.\n",
    "3. Panel, que contém um conjunto de DataFrame (possui três dimensões)\n"
   ]
  },
  {
   "cell_type": "markdown",
   "metadata": {},
   "source": [
    "## Serie\n",
    "\n",
    "A criação de uma Serie é feita utilizando o seguinte método construtor: pandas.Series( data, index, dtype, copy), que possui os seguintes argumentos:\n",
    "1. data, que pode vir de diferentes fontes, como ndarray, list ou constantes.\n",
    "2. index, o inddice tem de ser composto por valores únicos. Se não for indicado nada são utilizados valores de 0,...,n (np.arrange(n))\n",
    "3. dtype, tipo de dados\n",
    "4. copy, copia as fontes de dados\n",
    "\n",
    "De seguida apresentam-se alguns exemplos de criação e manipulação de Series"
   ]
  },
  {
   "cell_type": "code",
   "execution_count": 9,
   "metadata": {},
   "outputs": [
    {
     "name": "stdout",
     "output_type": "stream",
     "text": [
      "Serie 1:\n",
      "0    a\n",
      "1    b\n",
      "2    c\n",
      "3    d\n",
      "dtype: object\n",
      "Serie 2:\n",
      "100    a\n",
      "101    b\n",
      "102    c\n",
      "103    d\n",
      "dtype: object\n",
      "Serie 3:\n",
      "a    0.0\n",
      "b    1.0\n",
      "c    2.0\n",
      "dtype: float64\n"
     ]
    }
   ],
   "source": [
    "#Criacao de Series\n",
    "#Criacao de uma serie a partir de um array numpy\n",
    "import numpy as np\n",
    "import pandas as pd\n",
    "data = np.array(['a','b','c','d'])\n",
    "s = pd.Series(data)\n",
    "print('Serie 1:')\n",
    "print(s)\n",
    "#Criacao de uma serie a partir de um array numpy, passando-lhe os indices\n",
    "data = np.array(['a','b','c','d'])\n",
    "s = pd.Series(data,index=[100,101,102,103])\n",
    "print('Serie 2:')\n",
    "print(s)\n",
    "#Criacao de uma serie a partir de um dicionario\n",
    "data = {'a' : 0., 'b' : 1., 'c' : 2.}\n",
    "s = pd.Series(data)\n",
    "print('Serie 3:')\n",
    "print(s)"
   ]
  },
  {
   "cell_type": "markdown",
   "metadata": {},
   "source": [
    "## DataFrame\n",
    "\n",
    "A criação de um DataFrame é feita utilizando o seguinte método construtor: pandas.DataFrame( data, index, columns, dtype, copy), que possui os seguintes argumentos:\n",
    "\n",
    "1. data, são os dados que se passam ao DataFrame e podem ser ndarray, series, map, lists, dict, constantes e outro DataFrame.\n",
    "2. index, são os rótulos das linhas, se não se passar nada gera inteiros de 0 a n (np.arrange(n))\n",
    "3. columns, são os rótulos das colunas\n",
    "4. dtype, o tipo de dados de cada coluna\n",
    "5. copy, indica a cópia dos dados por de entrada\n",
    "\n",
    "De seguida apresentam-se alguns exemplos de criação e manipulação de DataFrames\n"
   ]
  },
  {
   "cell_type": "code",
   "execution_count": 16,
   "metadata": {},
   "outputs": [
    {
     "name": "stdout",
     "output_type": "stream",
     "text": [
      "DataFrame 1:\n",
      "   0\n",
      "0  1\n",
      "1  2\n",
      "2  3\n",
      "3  4\n",
      "4  5\n",
      "DataFrame 2:\n",
      "      Nome  Idade\n",
      "0    Andre    9.0\n",
      "1  Matilde   11.0\n",
      "2  Goncalo   12.0\n",
      "DataFrame 3:\n",
      "   Idade     Nome\n",
      "0      9    Andre\n",
      "1     10  Matilde\n",
      "DataFrame 4:\n",
      "   a   b     c\n",
      "0  1   2   NaN\n",
      "1  5  10  20.0\n",
      "DataFrame 4:\n",
      "        a   b     c\n",
      "linha1  1   2   NaN\n",
      "linha2  5  10  20.0\n"
     ]
    }
   ],
   "source": [
    "#Criacao de DataFrames\n",
    "import pandas as pd\n",
    "#Exemplo 1 - a partir de uma lista de valores\n",
    "data = [1,2,3,4,5]\n",
    "df = pd.DataFrame(data)\n",
    "print('DataFrame 1:')\n",
    "print(df)\n",
    "#Exemplo 2\n",
    "data = [['Andre',9],['Matilde',11],['Goncalo',12]]\n",
    "df = pd.DataFrame(data,columns=['Nome','Idade'],dtype=float)\n",
    "print('DataFrame 2:')\n",
    "print(df)\n",
    "#Exemplo 3 - a partir de um dicionario\n",
    "data = {'Nome':['Andre', 'Matilde'],'Idade':[9,10]}\n",
    "df = pd.DataFrame(data)\n",
    "print('DataFrame 3:')\n",
    "print(df)\n",
    "#Exemplo 4 -  a paritr de uma lista de dicionarios - contem um missing value marcado como NaN\n",
    "data = [{'a': 1, 'b': 2},{'a': 5, 'b': 10, 'c': 20}]\n",
    "df = pd.DataFrame(data)\n",
    "print('DataFrame 4:')\n",
    "print(df)\n",
    "#Exemplo 5 - o exemplo de cima, mas dando títulos às linhas\n",
    "import pandas as pd\n",
    "data = [{'a': 1, 'b': 2},{'a': 5, 'b': 10, 'c': 20}]\n",
    "df = pd.DataFrame(data, index=['linha1', 'linha2'])\n",
    "print('DataFrame 4:')\n",
    "print(df)"
   ]
  },
  {
   "cell_type": "markdown",
   "metadata": {},
   "source": [
    "### Operações sobre DataFrames: \n",
    "1. Manipular colunas (mostrar, adicionar, apagar)\n",
    "2. Manipular linhas (mostrar, adicionar, apagar)"
   ]
  },
  {
   "cell_type": "code",
   "execution_count": 22,
   "metadata": {},
   "outputs": [
    {
     "name": "stdout",
     "output_type": "stream",
     "text": [
      "Manipular colunas: \n",
      "a    1.0\n",
      "b    2.0\n",
      "c    3.0\n",
      "d    NaN\n",
      "Name: col1, dtype: float64\n",
      "Adicionar uma nova coluna do tipo Serie:\n",
      "   col1  col2  col3\n",
      "a   1.0     1  10.0\n",
      "b   2.0     2  20.0\n",
      "c   3.0     3  30.0\n",
      "d   NaN     4   NaN\n",
      "Adicioanar uma nova coluna com base em colunas existentes na DataFrame:\n",
      "   col1  col2  col3  col4\n",
      "a   1.0     1  10.0  11.0\n",
      "b   2.0     2  20.0  22.0\n",
      "c   3.0     3  30.0  33.0\n",
      "d   NaN     4   NaN   NaN\n",
      "DataFrame original:\n",
      "   col1  col2  col3\n",
      "a   1.0     1  10.0\n",
      "b   2.0     2  20.0\n",
      "c   3.0     3  30.0\n",
      "d   NaN     4   NaN\n",
      "Apagar a primeira coluna:\n",
      "   col2  col3\n",
      "a     1  10.0\n",
      "b     2  20.0\n",
      "c     3  30.0\n",
      "d     4   NaN\n",
      "Apagar a segunda coluna com pop:\n",
      "   col3\n",
      "a  10.0\n",
      "b  20.0\n",
      "c  30.0\n",
      "d   NaN\n"
     ]
    }
   ],
   "source": [
    "#mostrar so uma coluna\n",
    "import pandas as pd\n",
    "print('Manipular colunas: ')\n",
    "data = {'col1' : pd.Series([1, 2, 3], index=['a', 'b', 'c']),\n",
    "      'col2' : pd.Series([1, 2, 3, 4], index=['a', 'b', 'c', 'd'])}\n",
    "df = pd.DataFrame(data)\n",
    "print (df ['col1'])\n",
    "\n",
    "#adicionar uma coluna\n",
    "data = {'col1' : pd.Series([1, 2, 3], index=['a', 'b', 'c']),\n",
    "      'col2' : pd.Series([1, 2, 3, 4], index=['a', 'b', 'c', 'd'])}\n",
    "df = (pd.DataFrame(data))\n",
    "# Adding a new column to an existing DataFrame object with column label by passing new series\n",
    "print (\"Adicionar uma nova coluna do tipo Serie:\")\n",
    "df['col3']=pd.Series([10,20,30],index=['a','b','c'])\n",
    "print (df)\n",
    "print (\"Adicioanar uma nova coluna com base em colunas existentes na DataFrame:\")\n",
    "df['col4']=df['col1']+df['col3']\n",
    "print (df)\n",
    "\n",
    "#Apgar uma coluna\n",
    "d = {'col1' : pd.Series([1, 2, 3], index=['a', 'b', 'c']), \n",
    "     'col2' : pd.Series([1, 2, 3, 4], index=['a', 'b', 'c', 'd']), \n",
    "     'col3' : pd.Series([10,20,30], index=['a','b','c'])}\n",
    "\n",
    "df = pd.DataFrame(d)\n",
    "print (\"DataFrame original:\")\n",
    "print (df)\n",
    "\n",
    "# using del function\n",
    "print (\"Apagar a primeira coluna:\")\n",
    "del df['col1']\n",
    "print (df)\n",
    "\n",
    "# using pop function\n",
    "print (\"Apagar a segunda coluna com pop:\")\n",
    "df.pop('col2')\n",
    "print (df)"
   ]
  },
  {
   "cell_type": "code",
   "execution_count": 27,
   "metadata": {},
   "outputs": [
    {
     "name": "stdout",
     "output_type": "stream",
     "text": [
      "DataFrame df:\n",
      "   linha1  linha2\n",
      "a     1.0       1\n",
      "b     2.0       2\n",
      "c     3.0       3\n",
      "d     NaN       4\n",
      "Retirar os valores da linha com indice 2 (terceira linha):\n",
      "linha1    3.0\n",
      "linha2    3.0\n",
      "Name: c, dtype: float64\n",
      "Mostrar as linhas com os indices 2 e 3:\n",
      "   linha1  linha2\n",
      "c     3.0       3\n",
      "d     NaN       4\n",
      "Adicionar as linhas de df2 a df1:\n",
      "   linha1  linha2\n",
      "a     1.0       1\n",
      "b     2.0       2\n",
      "c     3.0       3\n",
      "d     NaN       4\n",
      "Apagar linha com o indice 0\n",
      "   a  b\n",
      "0  1  2\n",
      "1  3  4\n",
      "0  5  6\n",
      "1  7  8\n",
      "   a  b\n",
      "1  3  4\n",
      "1  7  8\n"
     ]
    }
   ],
   "source": [
    "#Aceder a uma linha\n",
    "import pandas as pd\n",
    "data = {'linha1' : pd.Series([1, 2, 3], index=['a', 'b', 'c']),\n",
    "     'linha2' : pd.Series([1, 2, 3, 4], index=['a', 'b', 'c', 'd'])}\n",
    "print('DataFrame df:')\n",
    "print (df)\n",
    "\n",
    "df = pd.DataFrame(data)\n",
    "print('Retirar os valores da linha com indice 2 (terceira linha):')\n",
    "print (df.iloc[2])\n",
    "\n",
    "#Mostrar varias linhas \n",
    "print('Mostrar as linhas com os indices 2 e 3:')\n",
    "print (df[2:4])\n",
    "\n",
    "#Adicionar linhas\n",
    "df1 = pd.DataFrame([[1, 2], [3, 4]], columns = ['a','b'])\n",
    "df2 = pd.DataFrame([[5, 6], [7, 8]], columns = ['a','b'])\n",
    "df1 = df1.append(df2)\n",
    "print('Adicionar as linhas de df2 a df1:')\n",
    "print (df)\n",
    "\n",
    "#Apagar linhas\n",
    "print('Apagar linha com a etiqueta 0')\n",
    "df1 = pd.DataFrame([[1, 2], [3, 4]], columns = ['a','b'])\n",
    "df2 = pd.DataFrame([[5, 6], [7, 8]], columns = ['a','b'])\n",
    "df1 = df1.append(df2)\n",
    "print (df1)\n",
    "df1 = df1.drop(0) #Apaga as linhas com a etiqueta 0\n",
    "print (df1)\n"
   ]
  },
  {
   "cell_type": "markdown",
   "metadata": {},
   "source": [
    "## Panel\n",
    "\n",
    "A criação de um Panel é feita utilizando o seguinte método construtor: pandas.Panel(data, items, major_axis, minor_axis, dtype, copy), que possui os seguintes argumentos:\n",
    "\n",
    "1. data, são os dados que se passam ao DataFrame e podem ser ndarray, series, map, lists, dict, constantes e outro DataFrame.\n",
    "2. items, corresponde aos elementos do Panel que são compostos por DataFrame (axis = 0).\n",
    "3. major_axis, é o indice das linhas de cada DataFrame (axis = 1) \n",
    "4. minor_axis, é o indice das colunas de cada DataFram (axis = 2)\n",
    "5. dtype, o tipo de dados de cada coluna\n",
    "6. copy, indica a cópia dos dados por de entrada\n",
    "\n",
    "De seguida apresentam-se alguns exemplos de criação e manipulação de DataFrames"
   ]
  },
  {
   "cell_type": "code",
   "execution_count": 28,
   "metadata": {},
   "outputs": [
    {
     "name": "stdout",
     "output_type": "stream",
     "text": [
      "<class 'pandas.core.panel.Panel'>\n",
      "Dimensions: 2 (items) x 4 (major_axis) x 5 (minor_axis)\n",
      "Items axis: 0 to 1\n",
      "Major_axis axis: 0 to 3\n",
      "Minor_axis axis: 0 to 4\n"
     ]
    }
   ],
   "source": [
    "#Criacao de um painel vazio a partir \n",
    "import pandas as pd\n",
    "import numpy as np\n",
    "\n",
    "data = np.random.rand(2,4,5)\n",
    "p = pd.Panel(data)\n",
    "print(p)"
   ]
  },
  {
   "cell_type": "code",
   "execution_count": 30,
   "metadata": {},
   "outputs": [
    {
     "name": "stdout",
     "output_type": "stream",
     "text": [
      "          0         1         2\n",
      "0 -0.463225  2.616680  0.412108\n",
      "1  0.097327  0.048357  0.465134\n",
      "2 -0.224537  0.068305 -0.220902\n",
      "3 -0.962832  0.706825  0.611760\n"
     ]
    }
   ],
   "source": [
    "#Criacao de um painel a partir de dois DataFrames e selecao do primeiro DataFrame\n",
    "import pandas as pd\n",
    "import numpy as np\n",
    "data = {'Item1' : pd.DataFrame(np.random.randn(4, 3)), \n",
    "        'Item2' : pd.DataFrame(np.random.randn(4, 2))}\n",
    "p = pd.Panel(data)\n",
    "print(p['Item1'])\n",
    "\n",
    "# creating an empty panel\n",
    "import pandas as pd\n",
    "import numpy as np\n",
    "data = {'Item1' : pd.DataFrame(np.random.randn(4, 3)), \n",
    "        'Item2' : pd.DataFrame(np.random.randn(4, 2))}\n",
    "p = pd.Panel(data)\n",
    "print p.major_xs(1)\n",
    "\n",
    "# creating an empty panel\n",
    "import pandas as pd\n",
    "import numpy as np\n",
    "data = {'Item1' : pd.DataFrame(np.random.randn(4, 3)), \n",
    "        'Item2' : pd.DataFrame(np.random.randn(4, 2))}\n",
    "p = pd.Panel(data)\n",
    "print p.minor_xs(1)"
   ]
  },
  {
   "cell_type": "code",
   "execution_count": null,
   "metadata": {},
   "outputs": [],
   "source": []
  }
 ],
 "metadata": {
  "kernelspec": {
   "display_name": "Python 3",
   "language": "python",
   "name": "python3"
  },
  "language_info": {
   "codemirror_mode": {
    "name": "ipython",
    "version": 3
   },
   "file_extension": ".py",
   "mimetype": "text/x-python",
   "name": "python",
   "nbconvert_exporter": "python",
   "pygments_lexer": "ipython3",
   "version": "3.6.4"
  }
 },
 "nbformat": 4,
 "nbformat_minor": 2
}
