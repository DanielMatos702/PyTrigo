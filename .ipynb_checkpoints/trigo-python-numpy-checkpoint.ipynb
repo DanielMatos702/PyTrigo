{
 "cells": [
  {
   "cell_type": "markdown",
   "metadata": {},
   "source": [
    "# Biblioteca numpy\n",
    "\n",
    "Este tutorial é sobre a utilização da biblioteca numpy, uma biblioteca utilizada para trabalhar com **matrizes**, criada para ser utilizado em computação científica.\n",
    "\n",
    "O primeiro passo para trabalhar com uma biblioteca no Python é importá-la com a utilização do comando import."
   ]
  },
  {
   "cell_type": "code",
   "execution_count": 2,
   "metadata": {},
   "outputs": [],
   "source": [
    "import numpy as np"
   ]
  },
  {
   "cell_type": "code",
   "execution_count": 4,
   "metadata": {},
   "outputs": [
    {
     "name": "stdout",
     "output_type": "stream",
     "text": [
      "<class 'numpy.ndarray'>\n",
      "(3,)\n",
      "1 2 3\n",
      "[5 2 3]\n",
      "(2, 3)\n",
      "1 2 4\n"
     ]
    }
   ],
   "source": [
    "a = np.array([1, 2, 3])   # Cria uma atriz com três elementos\n",
    "print(type(a))            # Imprime \"<class 'numpy.ndarray'>\"\n",
    "print(a.shape)            # Imprime o formato da matriz \"(3,)\"\n",
    "print(a[0], a[1], a[2])   # Imprime \"1 2 3\"\n",
    "a[0] = 5                  # Altera o valor de um elemento da matriz\n",
    "print(a)                  # Imprime \"[5, 2, 3]\"\n",
    "\n",
    "b = np.array([[1,2,3],[4,5,6]])    # Cria uma matriz bidimensional\n",
    "print(b.shape)                     # Imprime o formato da matriz \"(2, 3)\"\n",
    "print(b[0, 0], b[0, 1], b[1, 0])   # Imprime \"1 2 4\""
   ]
  },
  {
   "cell_type": "markdown",
   "metadata": {},
   "source": [
    "A bilioteca numpy fornece muitas formas diferentes para criar matrizes."
   ]
  },
  {
   "cell_type": "code",
   "execution_count": 9,
   "metadata": {},
   "outputs": [
    {
     "name": "stdout",
     "output_type": "stream",
     "text": [
      "Matriz a: \n",
      "[[0. 0.]\n",
      " [0. 0.]]\n",
      "Matriz b: \n",
      "[[1. 1.]]\n",
      "Matriz c: \n",
      "[[7 7]\n",
      " [7 7]]\n",
      "Matriz d: \n",
      "[[1. 0.]\n",
      " [0. 1.]]\n",
      "Matriz e: \n",
      "[[0.57849269 0.17514776]\n",
      " [0.56880274 0.71210545]]\n"
     ]
    }
   ],
   "source": [
    "import numpy as np\n",
    "\n",
    "a = np.zeros((2,2))   # Matriz 2x2 de zeros\n",
    "print(\"Matriz a: \")\n",
    "print(a)\n",
    "b = np.ones((1,2))    # Matriz 1x2 de uns\n",
    "print(\"Matriz b: \")\n",
    "print(b)              \n",
    "c = np.full((2,2), 7)  # Cria uma matriz cujos valores são a contante 7\n",
    "print(\"Matriz c: \")\n",
    "print(c)               \n",
    "d = np.eye(2)         # Cria uma matriz identidade 2x2\n",
    "print(\"Matriz d: \")\n",
    "print(d)              \n",
    "e = np.random.random((2,2))  # Cria uma matriz 2x2 com valores aleatórios\n",
    "print(\"Matriz e: \")\n",
    "print(e)                     "
   ]
  },
  {
   "cell_type": "markdown",
   "metadata": {},
   "source": [
    "Também permite o slicing, visto no tutorial \"Introdução ao Python\""
   ]
  },
  {
   "cell_type": "code",
   "execution_count": 10,
   "metadata": {},
   "outputs": [
    {
     "name": "stdout",
     "output_type": "stream",
     "text": [
      "[[ 1  2  3  4]\n",
      " [ 5  6  7  8]\n",
      " [ 9 10 11 12]]\n",
      "[[2 3]\n",
      " [6 7]]\n"
     ]
    }
   ],
   "source": [
    "import numpy as np\n",
    "a = np.array([[1,2,3,4], [5,6,7,8], [9,10,11,12]])\n",
    "b = a[:2, 1:3]\n",
    "print(a)\n",
    "print(b)"
   ]
  },
  {
   "cell_type": "code",
   "execution_count": 13,
   "metadata": {},
   "outputs": [
    {
     "name": "stdout",
     "output_type": "stream",
     "text": [
      "[5 6 7 8] (4,)\n",
      "[[5 6 7 8]] (1, 4)\n",
      "[ 2  6 10] (3,)\n",
      "[[ 2]\n",
      " [ 6]\n",
      " [10]] (3, 1)\n"
     ]
    }
   ],
   "source": [
    "import numpy as np\n",
    "a = np.array([[1,2,3,4], [5,6,7,8], [9,10,11,12]])\n",
    "\n",
    "l1_d1 = a[1, :]    # Retira a segunda linha para uma matriz unidimensional\n",
    "l1_d2 = a[1:2, :]  # Retira a segunda linha para uma matriz bidimensional\n",
    "print(l1_d1, l1_d1.shape)  # Imprime os valores da segunda linha e respetivo formato\n",
    "print(l1_d2, l1_d2.shape)  # Imprime os valores da segunda linha e respetivo formato\n",
    "\n",
    "c1_d1 = a[:, 1]\n",
    "c1_d2 = a[:, 1:2]\n",
    "print(c1_d1, c1_d1.shape)\n",
    "print(c1_d2, c1_d2.shape)  "
   ]
  },
  {
   "cell_type": "code",
   "execution_count": 17,
   "metadata": {},
   "outputs": [
    {
     "name": "stdout",
     "output_type": "stream",
     "text": [
      "[1 4 5]\n",
      "[1 4 5]\n",
      "[2 2]\n",
      "[2 2]\n"
     ]
    }
   ],
   "source": [
    "#Indexação de matrizes utilizando outras matrizes\n",
    "import numpy as np\n",
    "a = np.array([[1,2], [3, 4], [5, 6]])\n",
    "#Indexação utilizando uma matriz de posições a mostrar\n",
    "print(a[[0, 1, 2], [0, 1, 0]])\n",
    "#O exemplo acima pode ser conseguido através de \n",
    "print(np.array([a[0, 0], a[1, 1], a[2, 0]]))\n",
    "#Ao utilizar uma matriz de elementos inteiros para indexação podemos reutilizar elementos\n",
    "print(a[[0, 0], [1, 1]])\n",
    "#O exemplo acima com outra notação\n",
    "print(np.array([a[0, 1], a[0, 1]]))\n"
   ]
  },
  {
   "cell_type": "code",
   "execution_count": 18,
   "metadata": {},
   "outputs": [
    {
     "name": "stdout",
     "output_type": "stream",
     "text": [
      "[[ 1  2  3]\n",
      " [ 4  5  6]\n",
      " [ 7  8  9]\n",
      " [10 11 12]]\n",
      "[ 1  6  7 11]\n",
      "[[11  2  3]\n",
      " [ 4  5 16]\n",
      " [17  8  9]\n",
      " [10 21 12]]\n"
     ]
    }
   ],
   "source": [
    "#Alterar os elementos de posições da matriz\n",
    "import numpy as np\n",
    "a = np.array([[1,2,3], [4,5,6], [7,8,9], [10, 11, 12]])\n",
    "print(a)\n",
    "b = np.array([0, 2, 0, 1])\n",
    "# Selecionar um elemento de cada linha utilizando os indices em b\n",
    "print(a[np.arange(4), b])\n",
    "# Trocar o elemento de cada linha utilizando os indicies em b\n",
    "a[np.arange(4), b] += 10\n",
    "print(a)"
   ]
  },
  {
   "cell_type": "code",
   "execution_count": 19,
   "metadata": {},
   "outputs": [
    {
     "name": "stdout",
     "output_type": "stream",
     "text": [
      "[[False False]\n",
      " [ True  True]\n",
      " [ True  True]]\n",
      "[3 4 5 6]\n",
      "[3 4 5 6]\n"
     ]
    }
   ],
   "source": [
    "#Indexação de matrizes utilizando booleanos\n",
    "import numpy as np\n",
    "a = np.array([[1,2], [3, 4], [5, 6]])\n",
    "bool_idx = (a > 2)\n",
    "print(bool_idx)\n",
    "print(a[bool_idx])\n",
    "print(a[a > 2])"
   ]
  },
  {
   "cell_type": "code",
   "execution_count": null,
   "metadata": {},
   "outputs": [],
   "source": []
  },
  {
   "cell_type": "code",
   "execution_count": null,
   "metadata": {},
   "outputs": [],
   "source": []
  }
 ],
 "metadata": {
  "kernelspec": {
   "display_name": "Python 3",
   "language": "python",
   "name": "python3"
  },
  "language_info": {
   "codemirror_mode": {
    "name": "ipython",
    "version": 3
   },
   "file_extension": ".py",
   "mimetype": "text/x-python",
   "name": "python",
   "nbconvert_exporter": "python",
   "pygments_lexer": "ipython3",
   "version": "3.6.4"
  }
 },
 "nbformat": 4,
 "nbformat_minor": 2
}
