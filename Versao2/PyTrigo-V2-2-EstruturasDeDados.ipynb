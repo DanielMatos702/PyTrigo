{
 "cells": [
  {
   "cell_type": "markdown",
   "metadata": {},
   "source": [
    "## Estruturas de dados disponíveis no Python3\n",
    "\n",
    "As estrutras de dados em Python3 podem ser de dois tipos, mutáveis ou imutáveis.\n",
    "\n",
    "O Python3 tem disponível as seguintes estruturas de dados:\n",
    "* Lista (list) - lista de elementos indexados por inteiros, os elementos são guardados pela ordem de inserção, mutável;\n",
    "* Tuplo (tuple) - lista de elementos indexados por inteiros, os elementos são guardados pela ordem de inserção, imutável;\n",
    "* Dicionário (dict) - coleção de elementos do tipo chave-valor, os elementos não são guardados pela ordem de inserção, chave imutáveis, valores mutáveis;\n",
    "* Texto/Strings (str) - lista de caracteres indexados por inteiros, os lementos são guardados pela ordem de inserção, imutável;\n",
    "* Conjunto (set) - coleção de elementos não indexados, os elementos não são guardados pela ordem de inserção, imutável.\n",
    "\n",
    "As listas e os tuplos são similares, sendo uma das diferenças mais importante a possibilidade de os tuplos poderem ser utilizados como chaves de dicionários e elementos de conjuntos enquanto que as listas não.\n",
    "\n",
    "De seguida apresentam-se alguns exemplos de utilização."
   ]
  },
  {
   "cell_type": "code",
   "execution_count": 25,
   "metadata": {},
   "outputs": [],
   "source": [
    "#Lista\n",
    "lista1 = [1, 2, 3, 4, 5, 'cao', 'gato', False]\n",
    "#Tuplo\n",
    "tuplo1 = (1, 2, 3, 4, 5, 'cao', 'gato', False)\n",
    "#Dicionairo\n",
    "dict1 = {'nome': 'Andre', 'idade': 9, 'animais_estimacao': ['cao', 'gato', 'periquito']}\n",
    "#String\n",
    "str1 = 'Bom dia!'\n",
    "#Conjunto\n",
    "set1 = {1, 2, 3, 4, 5, 'cao', 'gato', False}"
   ]
  },
  {
   "cell_type": "code",
   "execution_count": 26,
   "metadata": {},
   "outputs": [
    {
     "name": "stdout",
     "output_type": "stream",
     "text": [
      "[1, 2, 3, 4, 5, 'cao', 'gato', False]\n",
      "(1, 2, 3, 4, 5, 'cao', 'gato', False)\n",
      "{'nome': 'Andre', 'idade': 9, 'animais_estimacao': ['cao', 'gato', 'periquito']}\n",
      "Bom dia!\n",
      "{False, 1, 2, 3, 4, 5, 'gato', 'cao'}\n"
     ]
    }
   ],
   "source": [
    "print(lista1)\n",
    "print(tuplo1)\n",
    "print(dict1)\n",
    "print(str1)\n",
    "print(set1)"
   ]
  },
  {
   "cell_type": "markdown",
   "metadata": {},
   "source": [
    "As strings, listas, tuplos e dicionários podem ser acedidos utilizando parentesis retos.\n",
    "\n",
    "No caso das strings, listas e tuplos a referência aos elementos pode ser feita utilizando indices do tipo inteiro cuja primeira posicao é 0.\n",
    "\n",
    "Estas coleções podem ser referenciadas com valores negativos\n",
    "\n",
    "Estas coleções suportam as operações de acesso a um intervalo de valores (slicing).\n",
    "\n",
    "Nos exercicios seguintes utiliza-se a instrução print para conseguir fazer o output de mais de um valor."
   ]
  },
  {
   "cell_type": "code",
   "execution_count": 27,
   "metadata": {},
   "outputs": [
    {
     "name": "stdout",
     "output_type": "stream",
     "text": [
      "1\n",
      "1\n"
     ]
    }
   ],
   "source": [
    "#Aceder ao primeiro elemento da lista\n",
    "print(lista1[0])\n",
    "#Aceder ao primeiro elemento do tuplo\n",
    "print(tuplo1[0])"
   ]
  },
  {
   "cell_type": "code",
   "execution_count": 28,
   "metadata": {},
   "outputs": [
    {
     "ename": "TypeError",
     "evalue": "'set' object is not subscriptable",
     "output_type": "error",
     "traceback": [
      "\u001b[1;31m---------------------------------------------------------------------------\u001b[0m",
      "\u001b[1;31mTypeError\u001b[0m                                 Traceback (most recent call last)",
      "\u001b[1;32m~\\AppData\\Local\\Temp/ipykernel_27200/716601937.py\u001b[0m in \u001b[0;36m<module>\u001b[1;34m\u001b[0m\n\u001b[0;32m      1\u001b[0m \u001b[1;31m#No caso do set dá erro. Comente:\u001b[0m\u001b[1;33m\u001b[0m\u001b[1;33m\u001b[0m\u001b[1;33m\u001b[0m\u001b[0m\n\u001b[1;32m----> 2\u001b[1;33m \u001b[0mprint\u001b[0m\u001b[1;33m(\u001b[0m\u001b[0mset1\u001b[0m\u001b[1;33m[\u001b[0m\u001b[1;36m0\u001b[0m\u001b[1;33m]\u001b[0m\u001b[1;33m)\u001b[0m\u001b[1;33m\u001b[0m\u001b[1;33m\u001b[0m\u001b[0m\n\u001b[0m",
      "\u001b[1;31mTypeError\u001b[0m: 'set' object is not subscriptable"
     ]
    }
   ],
   "source": [
    "#No caso do set dá erro. Comente:\n",
    "print(set1[0])"
   ]
  },
  {
   "cell_type": "code",
   "execution_count": null,
   "metadata": {},
   "outputs": [],
   "source": [
    "print(tuplo1)\n",
    "print(str1)\n",
    "#Aceder ao ultimo elemento do tuplo\n",
    "print(tuplo1[-1])\n",
    "#Aceder a um intervalo de elementos\n",
    "print(str1[3:8])\n",
    "print(tuplo1[:-3])\n",
    "print(lista1[4:])\n",
    "# Aceder a um elemento do dicionario\n",
    "print(dict1['nome'])\n",
    "print(dict1['animais_estimacao'][2])"
   ]
  },
  {
   "cell_type": "code",
   "execution_count": null,
   "metadata": {},
   "outputs": [
    {
     "name": "stdout",
     "output_type": "stream",
     "text": [
      "{False, 1, 2, 3, 4, 5, 6, 'eee', 8, 'fds', '2', 'www'}\n",
      "morango\n",
      "morango\n",
      "tanjerina\n",
      "['ananas', 'tamarilho', 'maracuja']\n",
      "tamarilho\n"
     ]
    }
   ],
   "source": [
    "# Mais exemplos\n",
    "set2 = {8,1,2,3,4,5,6,'www','eee','fds','2',False,True}\n",
    "print(set2)\n",
    "frutas = ['maca','laranja','tanjerina','morango']\n",
    "print(frutas[3])\n",
    "dict2 = {0:'maca',1:'laranja',2:'tanjerina',3:'morango'}\n",
    "print(dict2[3])\n",
    "dict3 = {'ma':'maca','la':'laranja','ta':'tanjerina','mo':'morango'}\n",
    "print(dict3['ta'])\n",
    "dict4 = {'ma':'maca','la':'laranja','ta':'tanjerina','mo':'morango','ex':['ananas','tamarilho','maracuja']}\n",
    "print(dict4['ex'])\n",
    "#Mostrar a palavra 'tamarilho' -> tem de aceder primeiro ao elemento do dicionario que contem a lista e depois\n",
    "#dentro desse elemento aceder ao elemento da lista que contém a palavra tamarilho\n",
    "print(dict4['ex'][1])"
   ]
  },
  {
   "cell_type": "markdown",
   "metadata": {},
   "source": [
    "### Slicing\n",
    "\n",
    "Aqui vamos manter a designação em inglês para não criar confusão com as palavras inicio e fim\n",
    "\n",
    "```python\n",
    "a[start:end] # elementos que começam em start e terminam em end-1\n",
    "a[start:]    # elementos que começam em start e vão até ao fim da coleção\n",
    "a[:end]      # elementos do inicio até a end-1 da coleção\n",
    "a[:]         # uma cópia de toda a coleção\n",
    "    ```\n",
    "\n",
    "Convém fixar que os elementos copiados vão até end-1 e não até end, ou seja, a posição end não faz parte dos elementos a copiar.\n",
    "\n",
    "Para além do definição do início e fim dos elementos a copiar também se pode definir o step, que indica de quantos em quantos elementos queremos fazer a cópia. O step por omissão é 1, sendo a cópia dos elementos uma cópia sequencial. Caso o step seja definido a cópia é feita de step em step elementos.\n",
    "\n",
    "```python\n",
    "a[start:end:step] \n",
    "    ```\n",
    "\n",
    "No slicing também é possível ter indices negativos, que significa que a ocntagem é feita a partir do fim e não do início.\n",
    "\n",
    "```python\n",
    "a[-1]    # o último elemento da coleção\n",
    "a[-2:]   # os dois últimos elementos da coleção\n",
    "a[:-2]   # tudo menos os dois últimos elementos da coleção\n",
    "    ```\n",
    "\n",
    "De forma similar também o step pode ser negativo.\n",
    "\n",
    "```python\n",
    "a[::-1]    # todos os números da coleção, em ordem inversa\n",
    "a[1::-1]   # os primeiros dois lementos em ordem inversa\n",
    "a[:-3:-1]  # os ultimos dois elementos, em ordem inversa\n",
    "a[-3::-1]  # tudo menos os dois últimos elementos, em ordem inversa\n",
    "    ```\n"
   ]
  },
  {
   "cell_type": "code",
   "execution_count": null,
   "metadata": {},
   "outputs": [
    {
     "name": "stdout",
     "output_type": "stream",
     "text": [
      "[30, 40, 50, 60, 70]\n",
      "[30, 40, 50, 60, 70, 80, 90, 100]\n",
      "[10, 20, 30, 40, 50, 60, 70]\n",
      "[10, 20, 30, 40, 50, 60, 70, 80, 90, 100]\n",
      "[30, 50, 70]\n",
      "100\n",
      "[90, 100]\n",
      "[10, 20, 30, 40, 50, 60, 70, 80]\n",
      "[100, 90, 80, 70, 60, 50, 40, 30, 20, 10]\n",
      "[20, 10]\n",
      "[100, 90]\n",
      "[80, 70, 60, 50, 40, 30, 20, 10]\n"
     ]
    }
   ],
   "source": [
    "#Exemplos\n",
    "\n",
    "a = [10,20,30,40,50,60,70,80,90,100]\n",
    "print(a[2:7])\n",
    "print(a[2:]) \n",
    "print(a[:7]) \n",
    "print(a[:])\n",
    "print(a[2:7:2]) \n",
    "print(a[-1])\n",
    "print(a[-2:]) \n",
    "print(a[:-2])\n",
    "print(a[::-1])   \n",
    "print(a[1::-1])   \n",
    "print(a[:-3:-1])  \n",
    "print(a[-3::-1]) "
   ]
  },
  {
   "cell_type": "markdown",
   "metadata": {},
   "source": [
    "Exercícios utilizando os conceitos apresentados no notebook \"PyTrigo-V2-Introducao\""
   ]
  },
  {
   "cell_type": "code",
   "execution_count": null,
   "metadata": {},
   "outputs": [
    {
     "name": "stdout",
     "output_type": "stream",
     "text": [
      "15\n",
      "15\n",
      "15\n"
     ]
    }
   ],
   "source": [
    "#Exemplo 1. Somar 5 elementos de uma lista\n",
    "lista3 = [1,2,3,4,5]\n",
    "soma = 0\n",
    "for i in range (5):\n",
    "  soma = soma + lista3[i]\n",
    "print(soma)\n",
    "\n",
    "soma = 0\n",
    "for ele in lista3:\n",
    "  soma = soma + ele\n",
    "print(soma)\n",
    "\n",
    "print(sum(lista3)) #Utilizando a função built-in sum"
   ]
  },
  {
   "cell_type": "code",
   "execution_count": null,
   "metadata": {},
   "outputs": [
    {
     "name": "stdout",
     "output_type": "stream",
     "text": [
      "[1.0, 4.0, 9.0, 16.0, 25.0, 25.0, 16.0, 4.0, 4.0, 16.0, 25.0, 5929.0]\n"
     ]
    }
   ],
   "source": [
    "#Exemplo 2. Alterar a lista para passar a conter os numeros originais ao quadrado\n",
    "import math\n",
    "lista4 = [1,2,3,4,5,5,4,2,2,4,5,77]\n",
    "for i in range(len(lista4)):\n",
    "  lista4[i] = math.pow(lista4[i],2)\n",
    "print(lista4)"
   ]
  },
  {
   "cell_type": "code",
   "execution_count": null,
   "metadata": {},
   "outputs": [
    {
     "name": "stdout",
     "output_type": "stream",
     "text": [
      "(5, 3)\n"
     ]
    }
   ],
   "source": [
    "#Exemplo 3. Trocar os valores de duas variáveis.\n",
    "def troca(a,b):\n",
    "    c = a\n",
    "    a = b\n",
    "    b = c\n",
    "    return a,b #Devolve um tuplo com dois valores\n",
    "print(troca(3,5))"
   ]
  },
  {
   "cell_type": "code",
   "execution_count": null,
   "metadata": {},
   "outputs": [
    {
     "name": "stdout",
     "output_type": "stream",
     "text": [
      "(100, 6, 10, 100)\n",
      " a = 100  b = 6  c = 10  d = 100\n"
     ]
    }
   ],
   "source": [
    "#Exemplo 4. Criar uma função que devolva o maximo, o minimo, o primeiro e o ultimo elemento de uma lista\n",
    "lista1 = [10,50,30,12,6,8,100]\n",
    "\n",
    "def mmpu(lista):\n",
    "    maximo = max(lista)\n",
    "    minimo = min(lista)\n",
    "    primeiro = lista[0]\n",
    "    ultimo = lista[-1]\n",
    "    return maximo,minimo,primeiro,ultimo\n",
    "\n",
    "print(mmpu(lista1))\n",
    "\n",
    "a,b,c,d = mmpu(lista1)\n",
    "print(' a =',a,' b =',b,' c =',c,' d =',d)"
   ]
  },
  {
   "cell_type": "code",
   "execution_count": null,
   "metadata": {},
   "outputs": [
    {
     "name": "stdout",
     "output_type": "stream",
     "text": [
      "2\n",
      "3\n",
      "2\n",
      "3\n",
      "O menor valor presente na lista e o valor 2 e aparece 3 vezes\n"
     ]
    }
   ],
   "source": [
    "#Exemplo 5. Qual é e quantas aparece o menor valor da lista\n",
    "lista2=[3,4,3,6,7,2,3,2,2,7,6]\n",
    "\n",
    "#Sem utilizar funcoes builtin\n",
    "def menor_lista(lista):\n",
    "  menor = lista[0]\n",
    "  for ele in lista:\n",
    "    if ele < menor:\n",
    "      menor = ele\n",
    "  return menor\n",
    "\n",
    "def contar_lista(lista,valor):\n",
    "  contar = 0\n",
    "  for ele in lista:\n",
    "    if valor==ele:\n",
    "      contar=contar+1 \n",
    "  return contar\n",
    "\n",
    "print(menor_lista(lista2))\n",
    "print(contar_lista(lista2,menor_lista(lista2)))\n",
    "\n",
    "#Com funcoes built-in\n",
    "print(min(lista2))\n",
    "print(lista2.count(min(lista2)))\n",
    "\n",
    "print('O menor valor presente na lista e o valor %d e aparece %d vezes' % (min(lista2), lista2.count(min(lista2))))"
   ]
  },
  {
   "cell_type": "code",
   "execution_count": 30,
   "metadata": {},
   "outputs": [
    {
     "name": "stdout",
     "output_type": "stream",
     "text": [
      "5\n",
      "linha 1 ([1, 2, 3]) - soma: 6 \n",
      "linha 2 ([4, 5, 6]) - soma: 15 \n",
      "linha 3 ([7, 8, 9]) - soma: 24 \n",
      "linha 1 ([1, 2, 3]) - soma: 6 \n",
      "linha 2 ([4, 5, 6]) - soma: 15 \n",
      "linha 3 ([7, 8, 9]) - soma: 24 \n"
     ]
    }
   ],
   "source": [
    "#Exemplo 6. Utilização de listas para construção de matrizes\n",
    "\n",
    "m = [\n",
    "     [1,2,3],\n",
    "     [4,5,6],\n",
    "     [7,8,9]\n",
    "     ]\n",
    "print(m[1][1])\n",
    "\n",
    "#imprimir a soma das linhas\n",
    "i = 1\n",
    "for linha in m:\n",
    "  print(\"linha %d (%s) - soma: %d \" % (i, str(linha), sum(linha)))\n",
    "  i+=1 #i=i+1\n",
    "\n",
    "i = 1\n",
    "for linha in m:\n",
    "  soma = 0\n",
    "  for ele in linha:\n",
    "    soma+=ele\n",
    "  print(\"linha %d (%s) - soma: %d \" % (i, linha, soma))\n",
    "  i+=1"
   ]
  },
  {
   "cell_type": "markdown",
   "metadata": {},
   "source": [
    "## Algumas funções built-in com listas\n",
    "De seguida apresentam-se algumas funções que estão disponíveis no Python sem ser necessário utilizar um biblioteca específica (built-in functions): type(obj), len(obj), sorted(obj), sum(obj), min(obj), max(obj) e abs(numero)."
   ]
  },
  {
   "cell_type": "code",
   "execution_count": null,
   "metadata": {},
   "outputs": [
    {
     "name": "stdout",
     "output_type": "stream",
     "text": [
      "Tipo de dados inteiro:  <class 'int'>\n",
      "Tamanho da lista:  7\n",
      "Lista ordenada: [-3, 1, 2, 3.6, 5, 7, 10]\n",
      "Soma:  25.6\n",
      "Minimo:  a\n"
     ]
    }
   ],
   "source": [
    "print(\"Tipo de dados inteiro: \" ,type(5))\n",
    "list1 = [10,50,30,12,6,8,100]\n",
    "print(\"Tamanho da lista: \" , len(list1))\n",
    "print(\"Lista ordenada:\" , sorted([10, 1, 3.6, 7, 5, 2, -3]))\n",
    "print(\"Soma: \" , sum([10, 1, 3.6, 7, 5, 2, -3]))\n",
    "print(\"Minimo: \" , min(['g', 'z', 'a', 'y']))"
   ]
  },
  {
   "cell_type": "markdown",
   "metadata": {},
   "source": [
    "## Métodos associados às strings\n",
    "De seguida apresentam-se alguns métodos/funções associadas às strings: .capitalize(), .upper(), .lower(), .count(substring), .startswith(substring), .endswith(substring) e .replace(old, new). "
   ]
  },
  {
   "cell_type": "code",
   "execution_count": null,
   "metadata": {},
   "outputs": [
    {
     "name": "stdout",
     "output_type": "stream",
     "text": [
      "Capitalize:  Isto e uma string\n",
      "Upper:  ISTO E UMA STRING\n",
      "Lower: isto e uma string\n",
      "Count:  2\n",
      "Count a partir da posicao 7:  1\n",
      "Count palavra uma:  1\n",
      "Startswith:  False\n",
      "Replace:  iSTo e XYZ sTriNg\n"
     ]
    }
   ],
   "source": [
    "str1 = 'iSTo e uma sTriNg'\n",
    "print('Capitalize: ' , str1.capitalize())\n",
    "print('Upper: ' , str1.upper())\n",
    "print('Lower:' , str1.lower())\n",
    "print('Count: ' , str1.count('i'))\n",
    "print('Count a partir da posicao 7: ' , str1.count('i',7))\n",
    "print('Count palavra uma: ' , str1.count('uma'))\n",
    "print('Startswith: ' , str1.startswith('this'))\n",
    "print('Replace: ' , str1.replace('uma', 'XYZ'))"
   ]
  },
  {
   "cell_type": "markdown",
   "metadata": {},
   "source": [
    "## Métodos associados às listas\n",
    "\n",
    "* .append(item), adicionar um elemento à lista\n",
    "* .extend([item1, item2, ...]), adicionar múltiplos elementos à lista\n",
    "* .remove(item), remover um elemento da lista\n",
    "* .pop(), remover e devolver o ultimo elemento da lista\n",
    "* .pop(index), remover e devolver um elemento da lista numa determinada posicao"
   ]
  },
  {
   "cell_type": "code",
   "execution_count": null,
   "metadata": {},
   "outputs": [
    {
     "name": "stdout",
     "output_type": "stream",
     "text": [
      "[3, 4, 5, 6]\n",
      "[3, 4, 5, 6, 7]\n"
     ]
    }
   ],
   "source": [
    "list1 = [3,4,5,6]\n",
    "print(list1)\n",
    "list1.append(7)\n",
    "print(list1)"
   ]
  },
  {
   "cell_type": "markdown",
   "metadata": {},
   "source": [
    "## Métodos associados a conjuntos\n",
    "\n",
    "* .add(item), adicionar um elemento ao conjunto\n",
    "* .update({item1, item2, ...}), adcionar multiplos elementos ao conjunto\n",
    "* .update(set2, set3, ...), adicionar elementos de outros conjuntos\n",
    "* .remove(item), remover um elemento do conjunto\n",
    "* .pop(), remover e retornar um elemento do conjunto (como os conjuntos não estão ordenados não se consegue determinar qual o elemento que vai sair)\n",
    "* .difference(set2), retirar elementos do conjunto que não estão no outro\n",
    "* .intersection(set2), devolver elementos dos dois conjuntos\n",
    "* .union(set2), devolver elementos que estão num ou noutro conjunto\n",
    "* .symmetric_difference(set2), devolver elementos que só estão num conjunto\n",
    "* .issuperset(set2), se set contem os elementos do conjunto set2\n",
    "* .issubset(set2), se set é um subconjunto do set2"
   ]
  },
  {
   "cell_type": "code",
   "execution_count": null,
   "metadata": {},
   "outputs": [
    {
     "name": "stdout",
     "output_type": "stream",
     "text": [
      "{1, 2, 3}\n",
      "{4, 5}\n",
      "{1, 2, 3, 4, 5, 6, 7, 8}\n",
      "{1, 2, 3, 6, 7, 8}\n",
      "True\n",
      "True\n"
     ]
    }
   ],
   "source": [
    "set1 = {1,2,3,4,5}\n",
    "set2 = {4,5,6,7,8}\n",
    "set3 = {6,7,8}\n",
    "print(set1.difference(set2))\n",
    "print(set1.intersection(set2))\n",
    "print(set1.union(set2))\n",
    "print(set1.symmetric_difference(set2))\n",
    "print(set2.issuperset(set3))\n",
    "print(set3.issubset(set2))"
   ]
  },
  {
   "cell_type": "markdown",
   "metadata": {},
   "source": [
    "## Métodos associados a dicionários\n",
    "\n",
    "* .update([(key1, val1), (key2, val2), ...]), adicionar multiplos valores ao dicionário\n",
    "* .update(dict2), adicionar todos os elementos do dicionário dict2 ao dicionário\n",
    "* .pop(key), remover e devolver o valor relativo à chave key\n",
    "* .pop(key, default_val), o mesmo do anterior, mas com a definição de um valor por omissão\n",
    "* .get(key), devolver um valor do dicionário com uma determinada chave\n",
    "* .get(key, default_val), o mesmo do anterior, mas com a definição de um valor por omissão\n",
    "* .keys(), devolver uma lista com as chaves do dicionário\n",
    "* .values(), devolver uma lista com os valores do dicionário\n",
    "* .items(), devolver uma lista de tuplos com as chaves evalores do dicionário"
   ]
  },
  {
   "cell_type": "code",
   "execution_count": null,
   "metadata": {},
   "outputs": [
    {
     "name": "stdout",
     "output_type": "stream",
     "text": [
      "{'a': 'ana', 'b': 'banana', 'c': 'coimbra', 'd': 'dado', 'm': 'miguel'}\n",
      "banana\n",
      "dict_keys(['a', 'c', 'd', 'm'])\n",
      "dict_values(['ana', 'coimbra', 'dado', 'miguel'])\n",
      "dict_items([('a', 'ana'), ('c', 'coimbra'), ('d', 'dado'), ('m', 'miguel')])\n",
      "{'a': 'ana', 'c': 'coimbra', 'd': 'dado', 'm': 'miguel'}\n"
     ]
    }
   ],
   "source": [
    "dict1 = {'a':'ana','b':'banana','c':'coimbra','d':'dado'}\n",
    "dict1.update({'m':'miguel'})\n",
    "print(dict1)\n",
    "print(dict1.pop('b'))\n",
    "print(dict1.keys())\n",
    "print(dict1.values())\n",
    "print(dict1.items())\n",
    "print(dict1)"
   ]
  },
  {
   "cell_type": "markdown",
   "metadata": {},
   "source": [
    "## List comprehension / Definição de listas por compreensão\n",
    "\n",
    "A definição de conjuntos por compreensão é uma mecanismo matemático de representação de conjuntos, onde é dificil a definição por extensão (enumeração de todos os elementos do conjunto). Neste tipo de representação o que se faz é descrever o conjunto mencionando as características comuns dos elementos que o forma. Exemplo: os quadrados dos primeiros 100 números inteiros positivos.\n",
    "\n",
    "O mecanismo de list comprehension permite criar listas a partir de outras listas com a aplicação de funções a todos os elementos da lista original, permitindo ainda a realização das operações map, filter e reduce acima apresentadas.\n",
    "\n",
    "De seguida apresenta-se a resolução dos exercícios acima com **list comprehension**."
   ]
  },
  {
   "cell_type": "code",
   "execution_count": null,
   "metadata": {},
   "outputs": [
    {
     "name": "stdout",
     "output_type": "stream",
     "text": [
      "[1, 25, 16, 36, 64, 121, 9, 144]\n",
      "[4, 6, 8, 12]\n",
      "50\n"
     ]
    }
   ],
   "source": [
    "list1 = [1, 5, 4, 6, 8, 11, 3, 12]\n",
    "\n",
    "# Calcular o quadrado de todos os elementos de uma lista\n",
    "list2 = [x**2 for x in list1]\n",
    "print(list2)\n",
    "\n",
    "# Filtrar os numeros pares de uma lista de valores\n",
    "list3 = [x for x in list1 if x%2 == 0]\n",
    "print(list3)\n",
    "\n",
    "# Reduzir todos os elementos a um só somando-os\n",
    "# Como o mecanismo de list comprehension tem como objetivo criar uma nova lista\n",
    "# para a função reduce utiliza-se a função soma, que também poderia ser diretamente\n",
    "# aplicada à lista original\n",
    "total = sum([x for x in list1])\n",
    "print (total)"
   ]
  },
  {
   "cell_type": "markdown",
   "metadata": {},
   "source": [
    "Este mecanismo permite a definição de listas da forma como os matemáticos as definem:\n",
    "\n",
    "1. S = {x² : x in {0 ... 9}}\n",
    "2. V = (1, 2, 4, 8, ..., 2¹²)\n",
    "3. M = {x | x in S and x even}"
   ]
  },
  {
   "cell_type": "code",
   "execution_count": null,
   "metadata": {},
   "outputs": [
    {
     "name": "stdout",
     "output_type": "stream",
     "text": [
      "S:  [0, 1, 4, 9, 16, 25, 36, 49, 64, 81]\n",
      "V:  [1, 2, 4, 8, 16, 32, 64, 128, 256, 512, 1024, 2048, 4096]\n",
      "M:  [0, 4, 16, 36, 64]\n",
      "Exemplo de criação de uma lista de numeros primos:\n",
      "[2, 3, 5, 7, 11, 13, 17, 19, 23, 29, 31, 37, 41, 43, 47]\n"
     ]
    }
   ],
   "source": [
    "S = [x**2 for x in range(10)]\n",
    "V = [2**i for i in range(13)]\n",
    "M = [x for x in S if x % 2 == 0]\n",
    "\n",
    "print('S: ',S)\n",
    "print('V: ',V)\n",
    "print('M: ',M)\n",
    "\n",
    "print('Exemplo de criação de uma lista de numeros primos:')\n",
    "nao_primos = [j for i in range(2, 8) for j in range(i*2, 50, i)]\n",
    "primos = [x for x in range(2, 50) if x not in nao_primos]\n",
    "print (primos)"
   ]
  },
  {
   "cell_type": "markdown",
   "metadata": {},
   "source": []
  },
  {
   "cell_type": "code",
   "execution_count": null,
   "metadata": {},
   "outputs": [],
   "source": []
  },
  {
   "cell_type": "code",
   "execution_count": null,
   "metadata": {},
   "outputs": [],
   "source": []
  },
  {
   "cell_type": "code",
   "execution_count": null,
   "metadata": {},
   "outputs": [],
   "source": [
    "print(m[1][1])\n",
    "\n",
    "#imprimir a soma das linhas\n",
    "i = 1\n",
    "for linha in m:\n",
    "  print(\"linha %d (%s) - soma: %d \" % (i, str(linha), sum(linha)))\n",
    "  i+=1 #i=i+1\n",
    "\n",
    "i = 1\n",
    "for linha in m:\n",
    "  soma = 0\n",
    "  for ele in linha:\n",
    "    soma+=ele\n",
    "  print(\"linha %d (%s) - soma: %d \" % (i, linha, soma))\n",
    "  i+=1"
   ]
  }
 ],
 "metadata": {
  "interpreter": {
   "hash": "d35df7b5978006640fcee2d11bdf55c4c26792c7ab08406a9d192995e025ccf9"
  },
  "kernelspec": {
   "display_name": "Python 3.9.5 64-bit",
   "language": "python",
   "name": "python3"
  },
  "language_info": {
   "codemirror_mode": {
    "name": "ipython",
    "version": 3
   },
   "file_extension": ".py",
   "mimetype": "text/x-python",
   "name": "python",
   "nbconvert_exporter": "python",
   "pygments_lexer": "ipython3",
   "version": "3.9.5"
  },
  "orig_nbformat": 4
 },
 "nbformat": 4,
 "nbformat_minor": 2
}
