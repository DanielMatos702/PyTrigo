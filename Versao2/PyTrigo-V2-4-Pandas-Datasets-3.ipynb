{
  "cells": [
    {
      "cell_type": "markdown",
      "metadata": {
        "id": "P5cilQws1unF"
      },
      "source": [
        "# Notebook de apresentação de alguns conceitos sobre preparação de dados\n",
        "Este notebook tem por base os dados e os notebooks:\n",
        "\n",
        "https://www.kaggle.com/uciml/pima-indians-diabetes-database\n",
        "\n",
        "https://www.kaggle.com/ravichaubey1506/univariate-statistical-analysis-on-diabetes\n",
        "\n",
        "Este notebook tal como anterior apresenta somente alguns exemplos do que é possível fazer com Python."
      ]
    },
    {
      "cell_type": "markdown",
      "metadata": {
        "id": "4qSv-GZw1unS"
      },
      "source": [
        "## Data Preparation"
      ]
    },
    {
      "cell_type": "code",
      "execution_count": 1,
      "metadata": {
        "_kg_hide-input": true,
        "execution": {
          "iopub.execute_input": "2022-01-05T09:52:26.651797Z",
          "iopub.status.busy": "2022-01-05T09:52:26.651182Z",
          "iopub.status.idle": "2022-01-05T09:52:26.662156Z",
          "shell.execute_reply": "2022-01-05T09:52:26.660054Z",
          "shell.execute_reply.started": "2022-01-05T09:52:26.651747Z"
        },
        "id": "p3OJRO2z1unT",
        "trusted": true
      },
      "outputs": [],
      "source": [
        "#Importar algumas das bibliotecas que são necessárias\n",
        "import pandas as pd\n",
        "import numpy as np\n",
        "import matplotlib.pyplot as plt\n",
        "import seaborn as sns\n",
        "sns.set_style('darkgrid')\n",
        "%matplotlib inline\n",
        "from matplotlib.ticker import FormatStrFormatter\n",
        "import warnings\n",
        "warnings.filterwarnings('ignore')"
      ]
    },
    {
      "cell_type": "code",
      "execution_count": 2,
      "metadata": {
        "colab": {
          "base_uri": "https://localhost:8080/",
          "height": 206
        },
        "execution": {
          "iopub.execute_input": "2022-01-05T09:52:26.664982Z",
          "iopub.status.busy": "2022-01-05T09:52:26.664448Z",
          "iopub.status.idle": "2022-01-05T09:52:26.696947Z",
          "shell.execute_reply": "2022-01-05T09:52:26.695975Z",
          "shell.execute_reply.started": "2022-01-05T09:52:26.664936Z"
        },
        "id": "I9QSGI301unU",
        "outputId": "514ca27c-1747-4aee-827b-44d1aafbdfa0",
        "trusted": true
      },
      "outputs": [
        {
          "data": {
            "text/html": [
              "<div>\n",
              "<style scoped>\n",
              "    .dataframe tbody tr th:only-of-type {\n",
              "        vertical-align: middle;\n",
              "    }\n",
              "\n",
              "    .dataframe tbody tr th {\n",
              "        vertical-align: top;\n",
              "    }\n",
              "\n",
              "    .dataframe thead th {\n",
              "        text-align: right;\n",
              "    }\n",
              "</style>\n",
              "<table border=\"1\" class=\"dataframe\">\n",
              "  <thead>\n",
              "    <tr style=\"text-align: right;\">\n",
              "      <th></th>\n",
              "      <th>Pregnancies</th>\n",
              "      <th>Glucose</th>\n",
              "      <th>BloodPressure</th>\n",
              "      <th>SkinThickness</th>\n",
              "      <th>Insulin</th>\n",
              "      <th>BMI</th>\n",
              "      <th>DiabetesPedigreeFunction</th>\n",
              "      <th>Age</th>\n",
              "      <th>Outcome</th>\n",
              "    </tr>\n",
              "  </thead>\n",
              "  <tbody>\n",
              "    <tr>\n",
              "      <th>0</th>\n",
              "      <td>6</td>\n",
              "      <td>148</td>\n",
              "      <td>72</td>\n",
              "      <td>35</td>\n",
              "      <td>0</td>\n",
              "      <td>33.6</td>\n",
              "      <td>0.627</td>\n",
              "      <td>50</td>\n",
              "      <td>1</td>\n",
              "    </tr>\n",
              "    <tr>\n",
              "      <th>1</th>\n",
              "      <td>1</td>\n",
              "      <td>85</td>\n",
              "      <td>66</td>\n",
              "      <td>29</td>\n",
              "      <td>0</td>\n",
              "      <td>26.6</td>\n",
              "      <td>0.351</td>\n",
              "      <td>31</td>\n",
              "      <td>0</td>\n",
              "    </tr>\n",
              "    <tr>\n",
              "      <th>2</th>\n",
              "      <td>8</td>\n",
              "      <td>183</td>\n",
              "      <td>64</td>\n",
              "      <td>0</td>\n",
              "      <td>0</td>\n",
              "      <td>23.3</td>\n",
              "      <td>0.672</td>\n",
              "      <td>32</td>\n",
              "      <td>1</td>\n",
              "    </tr>\n",
              "    <tr>\n",
              "      <th>3</th>\n",
              "      <td>1</td>\n",
              "      <td>89</td>\n",
              "      <td>66</td>\n",
              "      <td>23</td>\n",
              "      <td>94</td>\n",
              "      <td>28.1</td>\n",
              "      <td>0.167</td>\n",
              "      <td>21</td>\n",
              "      <td>0</td>\n",
              "    </tr>\n",
              "    <tr>\n",
              "      <th>4</th>\n",
              "      <td>0</td>\n",
              "      <td>137</td>\n",
              "      <td>40</td>\n",
              "      <td>35</td>\n",
              "      <td>168</td>\n",
              "      <td>43.1</td>\n",
              "      <td>2.288</td>\n",
              "      <td>33</td>\n",
              "      <td>1</td>\n",
              "    </tr>\n",
              "  </tbody>\n",
              "</table>\n",
              "</div>"
            ],
            "text/plain": [
              "   Pregnancies  Glucose  BloodPressure  SkinThickness  Insulin   BMI  \\\n",
              "0            6      148             72             35        0  33.6   \n",
              "1            1       85             66             29        0  26.6   \n",
              "2            8      183             64              0        0  23.3   \n",
              "3            1       89             66             23       94  28.1   \n",
              "4            0      137             40             35      168  43.1   \n",
              "\n",
              "   DiabetesPedigreeFunction  Age  Outcome  \n",
              "0                     0.627   50        1  \n",
              "1                     0.351   31        0  \n",
              "2                     0.672   32        1  \n",
              "3                     0.167   21        0  \n",
              "4                     2.288   33        1  "
            ]
          },
          "execution_count": 2,
          "metadata": {},
          "output_type": "execute_result"
        }
      ],
      "source": [
        "df = pd.read_csv('https://raw.githubusercontent.com/atrigo/PyTrigo/master/Versao2/diabetes.csv')\n",
        "#df = pd.read_csv('../input/pima-indians-diabetes-database/diabetes.csv')\n",
        "df.head()\n",
        "#Como é possível ver no resultado deste comando temos 9 colunas em que 8 são variáveis independentes (caracteristicas/features) e 1 (Outcome) a variável dependente (alvo/target)"
      ]
    },
    {
      "cell_type": "code",
      "execution_count": 3,
      "metadata": {
        "colab": {
          "base_uri": "https://localhost:8080/"
        },
        "execution": {
          "iopub.execute_input": "2022-01-05T09:52:26.699140Z",
          "iopub.status.busy": "2022-01-05T09:52:26.698750Z",
          "iopub.status.idle": "2022-01-05T09:52:26.705332Z",
          "shell.execute_reply": "2022-01-05T09:52:26.704383Z",
          "shell.execute_reply.started": "2022-01-05T09:52:26.699083Z"
        },
        "id": "pMoS9vSK1unW",
        "outputId": "bd40bf5f-b20a-4e8f-cae1-4f8c4e2d8852",
        "trusted": true
      },
      "outputs": [
        {
          "data": {
            "text/plain": [
              "(768, 9)"
            ]
          },
          "execution_count": 3,
          "metadata": {},
          "output_type": "execute_result"
        }
      ],
      "source": [
        "#Quantas linhas (obervações) e colunas tem o dataset\n",
        "df.shape"
      ]
    },
    {
      "cell_type": "code",
      "execution_count": 4,
      "metadata": {
        "colab": {
          "base_uri": "https://localhost:8080/",
          "height": 332
        },
        "execution": {
          "iopub.execute_input": "2022-01-05T09:52:26.707301Z",
          "iopub.status.busy": "2022-01-05T09:52:26.706936Z",
          "iopub.status.idle": "2022-01-05T09:52:26.722743Z",
          "shell.execute_reply": "2022-01-05T09:52:26.721042Z",
          "shell.execute_reply.started": "2022-01-05T09:52:26.707238Z"
        },
        "id": "mkjakliI1unW",
        "outputId": "f5445a67-54a2-4d60-e877-43eac1522e1e",
        "trusted": true
      },
      "outputs": [
        {
          "data": {
            "text/html": [
              "<div>\n",
              "<style scoped>\n",
              "    .dataframe tbody tr th:only-of-type {\n",
              "        vertical-align: middle;\n",
              "    }\n",
              "\n",
              "    .dataframe tbody tr th {\n",
              "        vertical-align: top;\n",
              "    }\n",
              "\n",
              "    .dataframe thead th {\n",
              "        text-align: right;\n",
              "    }\n",
              "</style>\n",
              "<table border=\"1\" class=\"dataframe\">\n",
              "  <thead>\n",
              "    <tr style=\"text-align: right;\">\n",
              "      <th></th>\n",
              "      <th>count</th>\n",
              "      <th>mean</th>\n",
              "      <th>std</th>\n",
              "      <th>min</th>\n",
              "      <th>25%</th>\n",
              "      <th>50%</th>\n",
              "      <th>75%</th>\n",
              "      <th>max</th>\n",
              "    </tr>\n",
              "  </thead>\n",
              "  <tbody>\n",
              "    <tr>\n",
              "      <th>Pregnancies</th>\n",
              "      <td>768.0</td>\n",
              "      <td>3.845052</td>\n",
              "      <td>3.369578</td>\n",
              "      <td>0.000</td>\n",
              "      <td>1.00000</td>\n",
              "      <td>3.0000</td>\n",
              "      <td>6.00000</td>\n",
              "      <td>17.00</td>\n",
              "    </tr>\n",
              "    <tr>\n",
              "      <th>Glucose</th>\n",
              "      <td>768.0</td>\n",
              "      <td>120.894531</td>\n",
              "      <td>31.972618</td>\n",
              "      <td>0.000</td>\n",
              "      <td>99.00000</td>\n",
              "      <td>117.0000</td>\n",
              "      <td>140.25000</td>\n",
              "      <td>199.00</td>\n",
              "    </tr>\n",
              "    <tr>\n",
              "      <th>BloodPressure</th>\n",
              "      <td>768.0</td>\n",
              "      <td>69.105469</td>\n",
              "      <td>19.355807</td>\n",
              "      <td>0.000</td>\n",
              "      <td>62.00000</td>\n",
              "      <td>72.0000</td>\n",
              "      <td>80.00000</td>\n",
              "      <td>122.00</td>\n",
              "    </tr>\n",
              "    <tr>\n",
              "      <th>SkinThickness</th>\n",
              "      <td>768.0</td>\n",
              "      <td>20.536458</td>\n",
              "      <td>15.952218</td>\n",
              "      <td>0.000</td>\n",
              "      <td>0.00000</td>\n",
              "      <td>23.0000</td>\n",
              "      <td>32.00000</td>\n",
              "      <td>99.00</td>\n",
              "    </tr>\n",
              "    <tr>\n",
              "      <th>Insulin</th>\n",
              "      <td>768.0</td>\n",
              "      <td>79.799479</td>\n",
              "      <td>115.244002</td>\n",
              "      <td>0.000</td>\n",
              "      <td>0.00000</td>\n",
              "      <td>30.5000</td>\n",
              "      <td>127.25000</td>\n",
              "      <td>846.00</td>\n",
              "    </tr>\n",
              "    <tr>\n",
              "      <th>BMI</th>\n",
              "      <td>768.0</td>\n",
              "      <td>31.992578</td>\n",
              "      <td>7.884160</td>\n",
              "      <td>0.000</td>\n",
              "      <td>27.30000</td>\n",
              "      <td>32.0000</td>\n",
              "      <td>36.60000</td>\n",
              "      <td>67.10</td>\n",
              "    </tr>\n",
              "    <tr>\n",
              "      <th>DiabetesPedigreeFunction</th>\n",
              "      <td>768.0</td>\n",
              "      <td>0.471876</td>\n",
              "      <td>0.331329</td>\n",
              "      <td>0.078</td>\n",
              "      <td>0.24375</td>\n",
              "      <td>0.3725</td>\n",
              "      <td>0.62625</td>\n",
              "      <td>2.42</td>\n",
              "    </tr>\n",
              "    <tr>\n",
              "      <th>Age</th>\n",
              "      <td>768.0</td>\n",
              "      <td>33.240885</td>\n",
              "      <td>11.760232</td>\n",
              "      <td>21.000</td>\n",
              "      <td>24.00000</td>\n",
              "      <td>29.0000</td>\n",
              "      <td>41.00000</td>\n",
              "      <td>81.00</td>\n",
              "    </tr>\n",
              "    <tr>\n",
              "      <th>Outcome</th>\n",
              "      <td>768.0</td>\n",
              "      <td>0.348958</td>\n",
              "      <td>0.476951</td>\n",
              "      <td>0.000</td>\n",
              "      <td>0.00000</td>\n",
              "      <td>0.0000</td>\n",
              "      <td>1.00000</td>\n",
              "      <td>1.00</td>\n",
              "    </tr>\n",
              "  </tbody>\n",
              "</table>\n",
              "</div>"
            ],
            "text/plain": [
              "                          count        mean         std     min       25%  \\\n",
              "Pregnancies               768.0    3.845052    3.369578   0.000   1.00000   \n",
              "Glucose                   768.0  120.894531   31.972618   0.000  99.00000   \n",
              "BloodPressure             768.0   69.105469   19.355807   0.000  62.00000   \n",
              "SkinThickness             768.0   20.536458   15.952218   0.000   0.00000   \n",
              "Insulin                   768.0   79.799479  115.244002   0.000   0.00000   \n",
              "BMI                       768.0   31.992578    7.884160   0.000  27.30000   \n",
              "DiabetesPedigreeFunction  768.0    0.471876    0.331329   0.078   0.24375   \n",
              "Age                       768.0   33.240885   11.760232  21.000  24.00000   \n",
              "Outcome                   768.0    0.348958    0.476951   0.000   0.00000   \n",
              "\n",
              "                               50%        75%     max  \n",
              "Pregnancies                 3.0000    6.00000   17.00  \n",
              "Glucose                   117.0000  140.25000  199.00  \n",
              "BloodPressure              72.0000   80.00000  122.00  \n",
              "SkinThickness              23.0000   32.00000   99.00  \n",
              "Insulin                    30.5000  127.25000  846.00  \n",
              "BMI                        32.0000   36.60000   67.10  \n",
              "DiabetesPedigreeFunction    0.3725    0.62625    2.42  \n",
              "Age                        29.0000   41.00000   81.00  \n",
              "Outcome                     0.0000    1.00000    1.00  "
            ]
          },
          "execution_count": 4,
          "metadata": {},
          "output_type": "execute_result"
        }
      ],
      "source": [
        "#Estatisticas sobre os dados das colunas\n",
        "df.describe().T"
      ]
    },
    {
      "cell_type": "code",
      "execution_count": 5,
      "metadata": {
        "colab": {
          "base_uri": "https://localhost:8080/",
          "height": 206
        },
        "execution": {
          "iopub.execute_input": "2022-01-05T09:52:26.747939Z",
          "iopub.status.busy": "2022-01-05T09:52:26.747451Z",
          "iopub.status.idle": "2022-01-05T09:52:26.764061Z",
          "shell.execute_reply": "2022-01-05T09:52:26.763150Z",
          "shell.execute_reply.started": "2022-01-05T09:52:26.747871Z"
        },
        "id": "HBzj_-nr1unX",
        "outputId": "62782895-8447-4283-8e6f-8dc696525e27",
        "trusted": true
      },
      "outputs": [
        {
          "data": {
            "text/html": [
              "<div>\n",
              "<style scoped>\n",
              "    .dataframe tbody tr th:only-of-type {\n",
              "        vertical-align: middle;\n",
              "    }\n",
              "\n",
              "    .dataframe tbody tr th {\n",
              "        vertical-align: top;\n",
              "    }\n",
              "\n",
              "    .dataframe thead th {\n",
              "        text-align: right;\n",
              "    }\n",
              "</style>\n",
              "<table border=\"1\" class=\"dataframe\">\n",
              "  <thead>\n",
              "    <tr style=\"text-align: right;\">\n",
              "      <th></th>\n",
              "      <th>Pregnancies</th>\n",
              "      <th>Glucose</th>\n",
              "      <th>BP</th>\n",
              "      <th>ST</th>\n",
              "      <th>Insulin</th>\n",
              "      <th>BMI</th>\n",
              "      <th>DPF</th>\n",
              "      <th>Age</th>\n",
              "      <th>Outcome</th>\n",
              "    </tr>\n",
              "  </thead>\n",
              "  <tbody>\n",
              "    <tr>\n",
              "      <th>0</th>\n",
              "      <td>6</td>\n",
              "      <td>148</td>\n",
              "      <td>72</td>\n",
              "      <td>35</td>\n",
              "      <td>0</td>\n",
              "      <td>33.6</td>\n",
              "      <td>0.627</td>\n",
              "      <td>50</td>\n",
              "      <td>1</td>\n",
              "    </tr>\n",
              "    <tr>\n",
              "      <th>1</th>\n",
              "      <td>1</td>\n",
              "      <td>85</td>\n",
              "      <td>66</td>\n",
              "      <td>29</td>\n",
              "      <td>0</td>\n",
              "      <td>26.6</td>\n",
              "      <td>0.351</td>\n",
              "      <td>31</td>\n",
              "      <td>0</td>\n",
              "    </tr>\n",
              "    <tr>\n",
              "      <th>2</th>\n",
              "      <td>8</td>\n",
              "      <td>183</td>\n",
              "      <td>64</td>\n",
              "      <td>0</td>\n",
              "      <td>0</td>\n",
              "      <td>23.3</td>\n",
              "      <td>0.672</td>\n",
              "      <td>32</td>\n",
              "      <td>1</td>\n",
              "    </tr>\n",
              "    <tr>\n",
              "      <th>3</th>\n",
              "      <td>1</td>\n",
              "      <td>89</td>\n",
              "      <td>66</td>\n",
              "      <td>23</td>\n",
              "      <td>94</td>\n",
              "      <td>28.1</td>\n",
              "      <td>0.167</td>\n",
              "      <td>21</td>\n",
              "      <td>0</td>\n",
              "    </tr>\n",
              "    <tr>\n",
              "      <th>4</th>\n",
              "      <td>0</td>\n",
              "      <td>137</td>\n",
              "      <td>40</td>\n",
              "      <td>35</td>\n",
              "      <td>168</td>\n",
              "      <td>43.1</td>\n",
              "      <td>2.288</td>\n",
              "      <td>33</td>\n",
              "      <td>1</td>\n",
              "    </tr>\n",
              "  </tbody>\n",
              "</table>\n",
              "</div>"
            ],
            "text/plain": [
              "   Pregnancies  Glucose  BP  ST  Insulin   BMI    DPF  Age  Outcome\n",
              "0            6      148  72  35        0  33.6  0.627   50        1\n",
              "1            1       85  66  29        0  26.6  0.351   31        0\n",
              "2            8      183  64   0        0  23.3  0.672   32        1\n",
              "3            1       89  66  23       94  28.1  0.167   21        0\n",
              "4            0      137  40  35      168  43.1  2.288   33        1"
            ]
          },
          "execution_count": 5,
          "metadata": {},
          "output_type": "execute_result"
        }
      ],
      "source": [
        "df.rename({'DiabetesPedigreeFunction':'DPF','BloodPressure':'BP','SkinThickness':'ST'},inplace = True,axis =1)\n",
        "df.head()"
      ]
    },
    {
      "cell_type": "markdown",
      "metadata": {
        "id": "6BB5YwBg1unX"
      },
      "source": [
        "## Data Cleaning\n",
        "\n",
        "Nesta secção olhamos para os dados à procura de situações que não façam sentido e tenham de ser corrigidas, como missing values, valores que não fazem sentido (ex. glucose não pode ser igual a 0), deteção de outliers, etc.\n",
        "\n",
        "### Missing Values"
      ]
    },
    {
      "cell_type": "code",
      "execution_count": 6,
      "metadata": {
        "colab": {
          "base_uri": "https://localhost:8080/",
          "height": 332
        },
        "id": "o2IbmXGS1unY",
        "outputId": "4404ccb1-42ca-40b8-d6fb-d9ac4dd034fb"
      },
      "outputs": [
        {
          "data": {
            "text/html": [
              "<div>\n",
              "<style scoped>\n",
              "    .dataframe tbody tr th:only-of-type {\n",
              "        vertical-align: middle;\n",
              "    }\n",
              "\n",
              "    .dataframe tbody tr th {\n",
              "        vertical-align: top;\n",
              "    }\n",
              "\n",
              "    .dataframe thead th {\n",
              "        text-align: right;\n",
              "    }\n",
              "</style>\n",
              "<table border=\"1\" class=\"dataframe\">\n",
              "  <thead>\n",
              "    <tr style=\"text-align: right;\">\n",
              "      <th></th>\n",
              "      <th>count</th>\n",
              "      <th>mean</th>\n",
              "      <th>std</th>\n",
              "      <th>min</th>\n",
              "      <th>25%</th>\n",
              "      <th>50%</th>\n",
              "      <th>75%</th>\n",
              "      <th>max</th>\n",
              "    </tr>\n",
              "  </thead>\n",
              "  <tbody>\n",
              "    <tr>\n",
              "      <th>Pregnancies</th>\n",
              "      <td>768.0</td>\n",
              "      <td>3.845052</td>\n",
              "      <td>3.369578</td>\n",
              "      <td>0.000</td>\n",
              "      <td>1.00000</td>\n",
              "      <td>3.0000</td>\n",
              "      <td>6.00000</td>\n",
              "      <td>17.00</td>\n",
              "    </tr>\n",
              "    <tr>\n",
              "      <th>Glucose</th>\n",
              "      <td>768.0</td>\n",
              "      <td>120.894531</td>\n",
              "      <td>31.972618</td>\n",
              "      <td>0.000</td>\n",
              "      <td>99.00000</td>\n",
              "      <td>117.0000</td>\n",
              "      <td>140.25000</td>\n",
              "      <td>199.00</td>\n",
              "    </tr>\n",
              "    <tr>\n",
              "      <th>BP</th>\n",
              "      <td>768.0</td>\n",
              "      <td>69.105469</td>\n",
              "      <td>19.355807</td>\n",
              "      <td>0.000</td>\n",
              "      <td>62.00000</td>\n",
              "      <td>72.0000</td>\n",
              "      <td>80.00000</td>\n",
              "      <td>122.00</td>\n",
              "    </tr>\n",
              "    <tr>\n",
              "      <th>ST</th>\n",
              "      <td>768.0</td>\n",
              "      <td>20.536458</td>\n",
              "      <td>15.952218</td>\n",
              "      <td>0.000</td>\n",
              "      <td>0.00000</td>\n",
              "      <td>23.0000</td>\n",
              "      <td>32.00000</td>\n",
              "      <td>99.00</td>\n",
              "    </tr>\n",
              "    <tr>\n",
              "      <th>Insulin</th>\n",
              "      <td>768.0</td>\n",
              "      <td>79.799479</td>\n",
              "      <td>115.244002</td>\n",
              "      <td>0.000</td>\n",
              "      <td>0.00000</td>\n",
              "      <td>30.5000</td>\n",
              "      <td>127.25000</td>\n",
              "      <td>846.00</td>\n",
              "    </tr>\n",
              "    <tr>\n",
              "      <th>BMI</th>\n",
              "      <td>768.0</td>\n",
              "      <td>31.992578</td>\n",
              "      <td>7.884160</td>\n",
              "      <td>0.000</td>\n",
              "      <td>27.30000</td>\n",
              "      <td>32.0000</td>\n",
              "      <td>36.60000</td>\n",
              "      <td>67.10</td>\n",
              "    </tr>\n",
              "    <tr>\n",
              "      <th>DPF</th>\n",
              "      <td>768.0</td>\n",
              "      <td>0.471876</td>\n",
              "      <td>0.331329</td>\n",
              "      <td>0.078</td>\n",
              "      <td>0.24375</td>\n",
              "      <td>0.3725</td>\n",
              "      <td>0.62625</td>\n",
              "      <td>2.42</td>\n",
              "    </tr>\n",
              "    <tr>\n",
              "      <th>Age</th>\n",
              "      <td>768.0</td>\n",
              "      <td>33.240885</td>\n",
              "      <td>11.760232</td>\n",
              "      <td>21.000</td>\n",
              "      <td>24.00000</td>\n",
              "      <td>29.0000</td>\n",
              "      <td>41.00000</td>\n",
              "      <td>81.00</td>\n",
              "    </tr>\n",
              "    <tr>\n",
              "      <th>Outcome</th>\n",
              "      <td>768.0</td>\n",
              "      <td>0.348958</td>\n",
              "      <td>0.476951</td>\n",
              "      <td>0.000</td>\n",
              "      <td>0.00000</td>\n",
              "      <td>0.0000</td>\n",
              "      <td>1.00000</td>\n",
              "      <td>1.00</td>\n",
              "    </tr>\n",
              "  </tbody>\n",
              "</table>\n",
              "</div>"
            ],
            "text/plain": [
              "             count        mean         std     min       25%       50%  \\\n",
              "Pregnancies  768.0    3.845052    3.369578   0.000   1.00000    3.0000   \n",
              "Glucose      768.0  120.894531   31.972618   0.000  99.00000  117.0000   \n",
              "BP           768.0   69.105469   19.355807   0.000  62.00000   72.0000   \n",
              "ST           768.0   20.536458   15.952218   0.000   0.00000   23.0000   \n",
              "Insulin      768.0   79.799479  115.244002   0.000   0.00000   30.5000   \n",
              "BMI          768.0   31.992578    7.884160   0.000  27.30000   32.0000   \n",
              "DPF          768.0    0.471876    0.331329   0.078   0.24375    0.3725   \n",
              "Age          768.0   33.240885   11.760232  21.000  24.00000   29.0000   \n",
              "Outcome      768.0    0.348958    0.476951   0.000   0.00000    0.0000   \n",
              "\n",
              "                   75%     max  \n",
              "Pregnancies    6.00000   17.00  \n",
              "Glucose      140.25000  199.00  \n",
              "BP            80.00000  122.00  \n",
              "ST            32.00000   99.00  \n",
              "Insulin      127.25000  846.00  \n",
              "BMI           36.60000   67.10  \n",
              "DPF            0.62625    2.42  \n",
              "Age           41.00000   81.00  \n",
              "Outcome        1.00000    1.00  "
            ]
          },
          "execution_count": 6,
          "metadata": {},
          "output_type": "execute_result"
        }
      ],
      "source": [
        "#Apos correr o comando abaixo é possível verificar que não existem missing values. Caso existissem poderíamos optar pelas seguintes situações:\n",
        "#Eliminação de todos os valores em falta (dropna)\n",
        "#Substituição de valores em falta pela mediana/média de colunas contínuas (fillna)\n",
        "#Utilizar a média para dados centrados e a mediana caso contrário\n",
        "#Substituição de valores em falta pelo moda para colunas categóricas (fillna)\n",
        "#Interpolar valores (interpolate)\n",
        "#Poderão também ser corridos algoritmos para determinar quais as melhores opções de susbtituição dos valores\n",
        "#https://vitalflux.com/pandas-impute-missing-values-mean-median-mode/\n",
        "#https://scikit-learn.org/stable/modules/impute.html\n",
        "df.describe().T"
      ]
    },
    {
      "cell_type": "code",
      "execution_count": 7,
      "metadata": {
        "colab": {
          "base_uri": "https://localhost:8080/",
          "height": 479
        },
        "id": "_H1MhpH91unY",
        "outputId": "abb2f1fa-81b7-4916-9c08-a1c635b40847"
      },
      "outputs": [
        {
          "data": {
            "image/png": "[encoded data removed]",
            "text/plain": [
              "<Figure size 960x480 with 2 Axes>"
            ]
          },
          "metadata": {
            "needs_background": "light"
          },
          "output_type": "display_data"
        }
      ],
      "source": [
        "fig,axes = plt.subplots(nrows=1,ncols=2,dpi=120,figsize = (8,4))\n",
        "plot00=sns.distplot(df['Glucose'],ax=axes[0],color='b')\n",
        "axes[0].set_title('Distribution of Glucose',fontdict={'fontsize':8})\n",
        "axes[0].set_xlabel('Glucose Class',fontdict={'fontsize':7})\n",
        "axes[0].set_ylabel('Frequency/Distrubtion',fontdict={'fontsize':7})\n",
        "plt.tight_layout()\n",
        "plot01=sns.boxplot('Glucose',data=df,ax=axes[1],orient = 'v',color='m')\n",
        "axes[1].set_title('Five Point Summary',fontdict={'fontsize':8})\n",
        "plt.tight_layout()"
      ]
    },
    {
      "cell_type": "markdown",
      "metadata": {
        "id": "4ONjhAzX1unZ"
      },
      "source": [
        "### Valores que não fazem sentido\n",
        "\n",
        "Há várias opções para corrigir esta situação, por exemplo, eliminar os registos que contêm zero, como foi feito no notebook anterior, ou dado que a distribuição é normal, podemos substituir os valores zero pela média. Vamos optar por esta segundo opção embora uma análise mais cuidada possa invalidar tal hipótese."
      ]
    },
    {
      "cell_type": "code",
      "execution_count": 8,
      "metadata": {
        "id": "UJ35D88w1una"
      },
      "outputs": [],
      "source": [
        "df.Glucose = df.Glucose.replace(0,df.Glucose.mean())\n",
        "#a mesma situação - se quiserem mostrar o gráfico utilizem o código do gráfico anterior\n",
        "df.BP = df.BP.replace(0,df.BP.median())\n",
        "df.ST = df.ST.replace(0,df.ST.mean())\n",
        "df.BMI = df.BMI.replace(0,df.BMI.mean())\n",
        "df.Insulin = df.Insulin.replace(0,df.Insulin.median())"
      ]
    },
    {
      "cell_type": "markdown",
      "metadata": {
        "id": "HTfixtPo1unc"
      },
      "source": [
        "### Outliers\n",
        "\n",
        "Apos eliminados os valores 0 nas variáveis em que não faz sentido passamos à deteção dos outliers (estes 0s antes da sua subtituição também eram outliers)"
      ]
    },
    {
      "cell_type": "code",
      "execution_count": 9,
      "metadata": {
        "colab": {
          "base_uri": "https://localhost:8080/",
          "height": 609
        },
        "id": "38Lt46oo1une",
        "outputId": "dec162fc-e82b-4aa5-f319-b7bf817c1417"
      },
      "outputs": [
        {
          "data": {
            "text/plain": [
              "<AxesSubplot:>"
            ]
          },
          "execution_count": 9,
          "metadata": {},
          "output_type": "execute_result"
        },
        {
          "data": {
            "image/png": "[encoded data removed]",
            "text/plain": [
              "<Figure size 1080x720 with 1 Axes>"
            ]
          },
          "metadata": {
            "needs_background": "light"
          },
          "output_type": "display_data"
        }
      ],
      "source": [
        "#Detecao de outliers - os gráficos bloxplot (caixa de bigodes) permitem identifcar os outliers\n",
        "import seaborn as sns\n",
        "import matplotlib.pyplot as plt\n",
        "plt.rcParams[\"figure.figsize\"] = [15, 10]\n",
        "sns.boxplot(data=df.loc[:,df.columns!='Outcome'],orient=\"h\")\n",
        "#Os outliers são os valores que aparecem como pontos"
      ]
    },
    {
      "cell_type": "markdown",
      "metadata": {
        "id": "sS26Crrn1unf"
      },
      "source": [
        "Existem várias formas de tratar os outliers e mesmo utilizando essas diferentes formas é preciso ter cuidado, pois podem eixistir\n",
        "outliers que não o são.\n",
        "\n",
        "Uma forma commumente utilizada é a eliminação dos valores que estão a mais de 3 std da média (Three standard deviations from the mean is a common cut-off in practice for identifying outliers in a Gaussian or Gaussian-like distribution. For smaller samples of data, perhaps a value of 2 standard deviations (95%) can be used, and for larger samples, perhaps a value of 4 standard deviations (99.9%) can be used)."
      ]
    },
    {
      "cell_type": "code",
      "execution_count": 10,
      "metadata": {
        "colab": {
          "base_uri": "https://localhost:8080/",
          "height": 609
        },
        "id": "_khWrWlg1unf",
        "outputId": "47e9f3d2-eead-4d59-b12c-ef87c993b3b1"
      },
      "outputs": [
        {
          "data": {
            "text/plain": [
              "<AxesSubplot:>"
            ]
          },
          "execution_count": 10,
          "metadata": {},
          "output_type": "execute_result"
        },
        {
          "data": {
            "image/png": "[encoded data removed]",
            "text/plain": [
              "<Figure size 1080x720 with 1 Axes>"
            ]
          },
          "metadata": {
            "needs_background": "light"
          },
          "output_type": "display_data"
        }
      ],
      "source": [
        "#Método para eliminar os valores que estão acima de 3 std para as diferentes colunas\n",
        "def std_based(col_name,df):\n",
        "    mean = df[col_name].mean()\n",
        "    std = df[col_name].std()\n",
        "    cut_off = std * 3\n",
        "    lower, upper = mean - cut_off, mean + cut_off\n",
        "    new_df = df[(df[col_name] < upper) & (df[col_name] > lower)]\n",
        "    return new_df\n",
        "\n",
        "\n",
        "#Olhando para os bloxplots vamos correr a função anteriormente definida em algumas colunas e voltar a mostrar os boxplots\n",
        "df = std_based(\"BP\",df)\n",
        "df = std_based(\"ST\",df)\n",
        "df = std_based(\"Insulin\",df)\n",
        "df = std_based(\"BMI\",df)\n",
        "df = std_based('DPF',df)\n",
        "df = std_based('Age',df)\n",
        "plt.rcParams[\"figure.figsize\"] = [15, 10]\n",
        "sns.boxplot(data=df.loc[:,df.columns!='Outcome'],orient=\"h\")"
      ]
    }
  ],
  "metadata": {
    "colab": {
      "name": "PyTrigo-V2-4-Pandas-Datasets-3.ipynb",
      "provenance": []
    },
    "kernelspec": {
      "display_name": "Python 3",
      "language": "python",
      "name": "python3"
    },
    "language_info": {
      "codemirror_mode": {
        "name": "ipython",
        "version": 3
      },
      "file_extension": ".py",
      "mimetype": "text/x-python",
      "name": "python",
      "nbconvert_exporter": "python",
      "pygments_lexer": "ipython3",
      "version": "3.11.0 (main, Oct 24 2022, 18:26:48) [MSC v.1933 64 bit (AMD64)]"
    },
    "vscode": {
      "interpreter": {
        "hash": "8b3862bff8ec4c0913ff501ec59a91eeec109cc3060137e5ac68f23925615549"
      }
    }
  },
  "nbformat": 4,
  "nbformat_minor": 0
}
