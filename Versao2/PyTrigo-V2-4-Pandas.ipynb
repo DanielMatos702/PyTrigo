{
 "cells": [
  {
   "cell_type": "markdown",
   "metadata": {},
   "source": [
    "# Biblioteca Pandas\n",
    "\n",
    "Este tutorial é sobre a utilização da biblioteca Pandas, uma biblioteca Python,  para manipulação e análise de dados. Oferece estruturas de dados e operações para manipular séries, tabelas e dados em painel.\n",
    "\n",
    "O nome Pandas é derivado da palavra Panel Data (painel de dados), um termo econométrico para conjuntos de dados que incluem observações ao longo do tempo.\n",
    "\n",
    "Esta biblioteca fornece três estruturas de dados:\n",
    "1. Series, um vetor de dados do mesmo tipo (uma dimensão)\n",
    "2. DataFrame, que contem um conjunto de Series, que podem ser de diferentes tipos (duas dimensões). Uma DataFrame pode ser vista como uma tabela de dados da base de dados ou uma folha de Excel.\n",
    "3. Panel, que contém um conjunto de DataFrame (três dimensões)\n",
    "\n",
    "A bilbioteca Pandas permite fazer várias coisas como:\n",
    "\n",
    "- Tratar dados em falta (missing values).\n",
    "- Indexação implicita e explicita de dados.\n",
    "- Agregação e transformação de dados (Group By)\n",
    "- Conversão entre diferentes estruturas de dados (entre Python, NumPy e Pandas).\n",
    "- Criação de subconjuntos de dados.\n",
    "- Fusão e união de conjuntos de dados.\n",
    "- Leitura e importação de dados de ficheiros CSV, TXT, XLSX.\n",
    "- Geração de intervalo de dados, mudança de data, conversão de frequências e outras funcionalidades de séries temporais.\n",
    "- Organização fácil de dados e análise de séries temporais.\n",
    "- Manipulação de dados usando indexação integrada para objectos de dataframe.\n",
    "\n",
    "Os conteúdos para este tutorial vieram de diversas fontes com particular destaque para a documentação sobre a biblioteca pandas https://pandas.pydata.org/pandas-docs/stable/ e para um tutorial disponível no site https://www.tutorialspoint.com/python_pandas/index.htm.\n",
    "\n",
    "A estrutura mais utilizada na biblioteca Pandas é a estrutura DataFrame.\n",
    "\n",
    "A biblioteca Pandas permite um tratamento muito eficaz das séries temporais utilizadas nas finanças.\n",
    "\n",
    "O primeiro passo para trabalhar com uma biblioteca no Python é importá-la com a utilização do comando import."
   ]
  },
  {
   "cell_type": "code",
   "execution_count": 1,
   "metadata": {},
   "outputs": [],
   "source": [
    "#Caso seja necessário instalar\n",
    "#from platform import python_version\n",
    "#print(python_version())\n",
    "#pip install pandas ou !pip install pandas\n",
    "import pandas as pd\n"
   ]
  },
  {
   "cell_type": "markdown",
   "metadata": {},
   "source": [
    "# Estruturas de dados\n",
    "\n",
    "As principais funcionalidades serão apresentadas de acordo com os tipos de dados do Pandas, com principal destaque para os DataFrames.\n",
    "\n",
    "## Série\n",
    "\n",
    "A criação de uma Serie é feita utilizando o seguinte método construtor: pandas.Series( data, index, dtype, copy), que possui os seguintes argumentos:\n",
    "1. data, que pode vir de diferentes fontes, como ndarray, list ou constantes.\n",
    "2. index, o inddice tem de ser composto por valores únicos. Se não for indicado nada são utilizados valores de 0,...,n (np.arange(n))\n",
    "3. dtype, tipo de dados\n",
    "4. copy, copia as fontes de dados\n",
    "\n",
    "De seguida apresentam-se alguns exemplos de criação e manipulação de Series"
   ]
  },
  {
   "cell_type": "code",
   "execution_count": 2,
   "metadata": {},
   "outputs": [
    {
     "name": "stdout",
     "output_type": "stream",
     "text": [
      "Serie 1:\n",
      "0    a\n",
      "1    b\n",
      "2    c\n",
      "3    d\n",
      "dtype: object\n",
      "Serie 2:\n",
      "100    a\n",
      "101    b\n",
      "102    c\n",
      "103    d\n",
      "dtype: object\n",
      "Serie 3:\n",
      "a    0.0\n",
      "b    1.0\n",
      "c    2.0\n",
      "dtype: float64\n"
     ]
    }
   ],
   "source": [
    "#Criacao de Series\n",
    "#Criacao de uma serie a partir de um array numpy\n",
    "import numpy as np\n",
    "import pandas as pd\n",
    "data = np.array(['a','b','c','d'])\n",
    "s1 = pd.Series(data)\n",
    "print('Serie 1:')\n",
    "print(s1)\n",
    "#Criacao de uma serie a partir de um array numpy, passando-lhe os indices\n",
    "s2_data = np.array(['a','b','c','d'])\n",
    "s2 = pd.Series(s2_data,index=[100,101,102,103])\n",
    "print('Serie 2:')\n",
    "print(s2)\n",
    "#Criacao de uma serie a partir de um dicionario\n",
    "data = {'a' : 0., 'b' : 1., 'c' : 2.}\n",
    "s3 = pd.Series(data)\n",
    "print('Serie 3:')\n",
    "print(s3)\n"
   ]
  },
  {
   "cell_type": "code",
   "execution_count": 3,
   "metadata": {},
   "outputs": [
    {
     "name": "stdout",
     "output_type": "stream",
     "text": [
      "0    0.562628\n",
      "1    1.104753\n",
      "2    1.914419\n",
      "3    0.478729\n",
      "4    0.090137\n",
      "Name: Serie 4, dtype: float64\n"
     ]
    }
   ],
   "source": [
    "#Dar um nome a uma série\n",
    "s4 = pd.Series(np.random.randn(5), name=\"Serie 4\")\n",
    "print(s4)"
   ]
  },
  {
   "cell_type": "code",
   "execution_count": 4,
   "metadata": {},
   "outputs": [
    {
     "name": "stdout",
     "output_type": "stream",
     "text": [
      "Index(['a', 'b', 'c', 'd', 'e'], dtype='object')\n",
      "RangeIndex(start=0, stop=5, step=1)\n"
     ]
    }
   ],
   "source": [
    "#Com e sem indice definido\n",
    "s5 = pd.Series(np.random.randn(5), index=[\"a\", \"b\", \"c\", \"d\", \"e\"])\n",
    "print(s5.index)\n",
    "s6 = pd.Series(np.random.randn(5))\n",
    "print(s6.index)\n"
   ]
  },
  {
   "cell_type": "code",
   "execution_count": 5,
   "metadata": {},
   "outputs": [
    {
     "name": "stdout",
     "output_type": "stream",
     "text": [
      "a   -0.252656\n",
      "b   -1.787629\n",
      "c   -0.766906\n",
      "dtype: float64\n",
      "a   -0.252656\n",
      "e   -0.455783\n",
      "dtype: float64\n",
      "[-0.25265634 -1.78762854 -0.7669064  -0.45580164 -0.45578289]\n",
      "-0.2526563414887477\n",
      "a   -0.505313\n",
      "b   -3.575257\n",
      "c   -1.533813\n",
      "d   -0.911603\n",
      "e   -0.911566\n",
      "dtype: float64\n",
      "a   -0.505313\n",
      "b   -3.575257\n",
      "c   -1.533813\n",
      "d   -0.911603\n",
      "e   -0.911566\n",
      "dtype: float64\n"
     ]
    }
   ],
   "source": [
    "#As series comportam-se como arrays pelo que muitas das operaçoes se mantem\n",
    "s7 = pd.Series(np.random.randn(5), index=[\"a\", \"b\", \"c\", \"d\", \"e\"])\n",
    "print(s7[:3])\n",
    "print(s7[s7 > s7.median()])\n",
    "#também são de um determinado tipo de dados dtype\n",
    "print(s7.to_numpy())\n",
    "#também como dicionarios\n",
    "print(s7['a'])\n",
    "#operacoes vetorias\n",
    "print(s7+s7)\n",
    "print(s7*2)"
   ]
  },
  {
   "cell_type": "markdown",
   "metadata": {},
   "source": [
    "## Funcionalidades base das Séries\n",
    "\n",
    "* axes, devolve a lista de rótulos dos eixos\n",
    "* dtype, devolve o tipo de objeto\n",
    "* empty, devolve True se a série estiver vazia\n",
    "* ndim, devolve o número de dimensões dos dados\n",
    "* size, devolve o número de elementos dos dados\n",
    "* values, devolve a Serie como um ndarray\n",
    "* head(), permite ver as primeiras n linhas\n",
    "* tail(), permite ver as últimas n linhas"
   ]
  },
  {
   "cell_type": "code",
   "execution_count": 6,
   "metadata": {},
   "outputs": [
    {
     "name": "stdout",
     "output_type": "stream",
     "text": [
      "Série s:\n",
      "0   -0.759323\n",
      "1   -0.378666\n",
      "2   -1.783482\n",
      "3    0.124711\n",
      "dtype: float64\n",
      "Os eixos da série s são:\n",
      "[RangeIndex(start=0, stop=4, step=1)]\n",
      "A série s está vazia?\n",
      "False\n",
      "Dimensoes da série s:\n",
      "1\n",
      "Tamanho da série s:\n",
      "4\n",
      "Os valores da série s são:\n",
      "[-0.7593228  -0.37866573 -1.7834822   0.12471102]\n",
      "Os primeiros dois elementos da série s são:\n",
      "0   -0.759323\n",
      "1   -0.378666\n",
      "dtype: float64\n",
      "Os últimos dois elementos da série s são:\n",
      "2   -1.783482\n",
      "3    0.124711\n",
      "dtype: float64\n"
     ]
    }
   ],
   "source": [
    "import pandas as pd\n",
    "import numpy as np\n",
    "\n",
    "#Cria uma série com 100 números aleatórios\n",
    "s8 = pd.Series(np.random.randn(4))\n",
    "print('Série s:')\n",
    "print (s8)\n",
    "print (\"Os eixos da série s são:\")\n",
    "print (s8.axes)\n",
    "print (\"A série s está vazia?\")\n",
    "print (s8.empty)\n",
    "print (\"Dimensoes da série s:\")\n",
    "print (s8.ndim)\n",
    "print (\"Tamanho da série s:\")\n",
    "print (s8.size)\n",
    "print (\"Os valores da série s são:\")\n",
    "print (s8.values)\n",
    "print (\"Os primeiros dois elementos da série s são:\")\n",
    "print (s8.head(2))\n",
    "print (\"Os últimos dois elementos da série s são:\")\n",
    "print (s8.tail(2))"
   ]
  },
  {
   "cell_type": "markdown",
   "metadata": {},
   "source": [
    "## Indexação e seleção de elementos das Series\n",
    "\n",
    "Muitas das operações de indexação e seleção são similares às disponíveis no Python e na biblioteca NumPy.\n",
    "\n",
    "Utilização dos indexadores loc (nome do indice), iloc(numero do indice) e ix(misto - em desuso)."
   ]
  },
  {
   "cell_type": "code",
   "execution_count": 7,
   "metadata": {},
   "outputs": [
    {
     "name": "stdout",
     "output_type": "stream",
     "text": [
      "a    0.25\n",
      "b    0.50\n",
      "c    0.75\n",
      "d    1.00\n",
      "dtype: float64\n",
      "0.5\n",
      "True\n",
      "0.25\n",
      "0.5\n"
     ]
    }
   ],
   "source": [
    "#import pandas as pd\n",
    "s9 = pd.Series([0.25, 0.5, 0.75, 1.0], index=['a', 'b', 'c', 'd'])\n",
    "print(s9)\n",
    "print(s9['b'])\n",
    "print('a' in s9)\n",
    "print(s9.loc['a']) #indicacao explicita do indice\n",
    "print(s9.iloc[1]) #indicacao da posicao do indice"
   ]
  },
  {
   "cell_type": "markdown",
   "metadata": {},
   "source": [
    "### Séries temporais\n",
    "\n",
    "Uma série temporal é uma sequência de observações em intervalos de tempo regularmente espaçados (ex. variação diária da temperatura num local, taxa de desemprego mensal, variação da população, cotações de ações, etc.).\n",
    "\n",
    "As séries temporais possuem características como tendência, sazonalidade, ciclos (subidas e descidas sem períodos fixos (sazonalidade)) e movimentos irregulares."
   ]
  },
  {
   "cell_type": "code",
   "execution_count": 8,
   "metadata": {},
   "outputs": [
    {
     "name": "stdout",
     "output_type": "stream",
     "text": [
      "DatetimeIndex(['2021-11-30', '2021-12-31', '2022-01-31', '2022-02-28',\n",
      "               '2022-03-31', '2022-04-30', '2022-05-31', '2022-06-30',\n",
      "               '2022-07-31', '2022-08-31', '2022-09-30', '2022-10-31'],\n",
      "              dtype='datetime64[ns]', freq='M')\n",
      "2021-11-30     5\n",
      "2021-12-31    10\n",
      "2022-01-31    10\n",
      "2022-02-28    12\n",
      "2022-03-31    17\n",
      "2022-04-30    20\n",
      "2022-05-31    21\n",
      "2022-06-30    23\n",
      "2022-07-31    25\n",
      "2022-08-31    28\n",
      "2022-09-30    23\n",
      "2022-10-31    12\n",
      "Freq: M, dtype: int64\n",
      "12\n",
      "2022-02-28 00:00:00\n",
      "12\n",
      "12\n"
     ]
    }
   ],
   "source": [
    "#Para a definição de uma série temporal é necessário definir como indice um intervalo de datas. Para tal,\n",
    "#utiliza-se \n",
    "#Séries temporais\n",
    "rng = pd.date_range('2011-03-01 10:15', periods = 10, freq = 'M')\n",
    "type(rng[0])\n",
    "#Criar series temporais com um só valor\n",
    "dates = pd.date_range('2015-01-12', '2015-06-14', freq = 'M')\n",
    "atemp = pd.Series([100.2, 98, 93, 98, 100], index=dates)\n",
    "idx = atemp.index[3]\n",
    "atemp[idx]\n",
    "\n",
    "\n",
    "rng1 = pd.date_range('2021-11-27', periods = 12, freq='M')\n",
    "type(rng1)\n",
    "print(rng1)\n",
    "st1 = pd.Series([5,10,10,12,17,20,21,23,25,28,23,12],index=rng1)\n",
    "print(st1)\n",
    "\n",
    "print(st1['2022-02-28'])\n",
    "print(st1.index[3])\n",
    "print(st1[st1.index[3]])\n",
    "print(st1[3])\n"
   ]
  },
  {
   "cell_type": "code",
   "execution_count": 39,
   "metadata": {},
   "outputs": [
    {
     "name": "stdout",
     "output_type": "stream",
     "text": [
      "15\n",
      "2021-11-21    14.5\n",
      "2021-11-22    10.7\n",
      "2021-11-23     8.5\n",
      "2021-11-24     9.1\n",
      "2021-11-25     7.7\n",
      "Freq: D, dtype: float64\n",
      "2021-12-01    10.5\n",
      "2021-12-02    10.2\n",
      "2021-12-03     8.7\n",
      "2021-12-04    12.2\n",
      "2021-12-05    10.6\n",
      "Freq: D, dtype: float64\n"
     ]
    },
    {
     "data": {
      "image/png": "[encoded data removed]",
      "text/plain": [
       "<Figure size 432x288 with 1 Axes>"
      ]
     },
     "metadata": {
      "needs_background": "light"
     },
     "output_type": "display_data"
    }
   ],
   "source": [
    "#Criar uma série com as temperaturas entre os dias 21-11-2021 e 05-12-2021\n",
    "#1. Primeiro cria-se o período temporal que irá servir de indice à série\n",
    "rng2 = pd.date_range('2021-11-21', periods = 15, freq='D')\n",
    "#2. Defininem-se os valores das temperaturas para os dias em questão\n",
    "#Nota: estes valores são reais e foram retirados de meteoblue\n",
    "st2 = pd.Series([14.5,10.7,8.5,9.1,7.7,8.0,9.1,8.3,11.5,10.7,10.5,10.2,8.7,12.2,10.6]\n",
    "                ,index=rng2)\n",
    "#Para desenhar os gráficos pode ter de instalar a bilbioteca matplotlib\n",
    "#!pip install matplotlib\n",
    "st2.plot()\n",
    "#Sugestao casa: criar um vetor de temperaturas que segue a distribuicao normal, tem que acertar com as datas\n",
    "#vtemp = np.random.normal(20,15,12)\n",
    "#print(vtemp)\n",
    "\n",
    "print(st2.size)\n",
    "print(st2.head())\n",
    "print(st2.tail())"
   ]
  },
  {
   "cell_type": "markdown",
   "metadata": {},
   "source": [
    "## DataFrame\n",
    "\n",
    "A criação de um DataFrame é feita utilizando o seguinte método construtor: pandas.DataFrame( data, index, columns, dtype, copy), que possui os seguintes argumentos:\n",
    "\n",
    "1. data, são os dados que se passam ao DataFrame e podem ser ndarray, series, map, lists, dict, constantes e outro DataFrame.\n",
    "2. index, são os rótulos das linhas, se não se passar nada gera inteiros de 0 a n (np.arange(n))\n",
    "3. columns, são os rótulos das colunas\n",
    "4. dtype, o tipo de dados de cada coluna\n",
    "5. copy, indica a cópia dos dados por de entrada\n",
    "\n",
    "De seguida apresentam-se alguns exemplos de criação e manipulação de DataFrames\n"
   ]
  },
  {
   "cell_type": "code",
   "execution_count": 10,
   "metadata": {},
   "outputs": [
    {
     "name": "stdout",
     "output_type": "stream",
     "text": [
      "DataFrame 1:\n",
      "   0\n",
      "0  1\n",
      "1  2\n",
      "2  3\n",
      "3  4\n",
      "4  5\n",
      "DataFrame 2:\n",
      "      Nome  Idade\n",
      "0    Andre    9.0\n",
      "1  Matilde   11.0\n",
      "2  Goncalo   12.0\n",
      "DataFrame 3:\n",
      "      Nome  Idade\n",
      "0    Andre      9\n",
      "1  Matilde     10\n",
      "DataFrame 4:\n",
      "   a   b     c\n",
      "0  1   2   NaN\n",
      "1  5  10  20.0\n",
      "DataFrame 5:\n",
      "        a   b     c\n",
      "linha1  1   2   NaN\n",
      "linha2  5  10  20.0\n"
     ]
    },
    {
     "name": "stderr",
     "output_type": "stream",
     "text": [
      "C:\\Users\\anton\\AppData\\Local\\Programs\\Python\\Python310\\lib\\site-packages\\IPython\\core\\interactiveshell.py:3457: FutureWarning: Could not cast to float64, falling back to object. This behavior is deprecated. In a future version, when a dtype is passed to 'DataFrame', either all columns will be cast to that dtype, or a TypeError will be raised\n",
      "  exec(code_obj, self.user_global_ns, self.user_ns)\n"
     ]
    }
   ],
   "source": [
    "#Criacao de DataFrames\n",
    "import pandas as pd\n",
    "#Exemplo 1 - a partir de uma lista de valores\n",
    "data = [1,2,3,4,5]\n",
    "df1 = pd.DataFrame(data)\n",
    "print('DataFrame 1:')\n",
    "print(df1)\n",
    "#Exemplo 2 - a partir de uma lista de valores de duas dimensões com diferentes tipos de dados e definição do nome das colunas\n",
    "data = [['Andre',9],['Matilde',11],['Goncalo',12]]\n",
    "df2 = pd.DataFrame(data,columns=['Nome','Idade'],dtype=float)\n",
    "print('DataFrame 2:')\n",
    "print(df2)\n",
    "#Exemplo 3 - a partir de um dicionario\n",
    "data = {'Nome':['Andre', 'Matilde'],'Idade':[9,10]}\n",
    "df3 = pd.DataFrame(data)\n",
    "print('DataFrame 3:')\n",
    "print(df3)\n",
    "#Exemplo 4 -  a paritr de uma lista de dicionarios - contem um missing value marcado como NaN\n",
    "data = [{'a': 1, 'b': 2},{'a': 5, 'b': 10, 'c': 20}]\n",
    "df4 = pd.DataFrame(data)\n",
    "print('DataFrame 4:')\n",
    "print(df4)\n",
    "#Exemplo 5 - o exemplo de cima, mas dando títulos às linhas\n",
    "import pandas as pd\n",
    "data = [{'a': 1, 'b': 2},{'a': 5, 'b': 10, 'c': 20}]\n",
    "df5 = pd.DataFrame(data, index=['linha1', 'linha2'])\n",
    "print('DataFrame 5:')\n",
    "print(df5)"
   ]
  },
  {
   "cell_type": "markdown",
   "metadata": {},
   "source": [
    "### Operações sobre DataFrames: \n",
    "1. Manipular colunas (mostrar, adicionar, apagar)\n",
    "2. Manipular linhas (mostrar, adicionar, apagar)"
   ]
  },
  {
   "cell_type": "code",
   "execution_count": 11,
   "metadata": {},
   "outputs": [
    {
     "name": "stdout",
     "output_type": "stream",
     "text": [
      "Manipular colunas: \n",
      "a    1.0\n",
      "b    2.0\n",
      "c    3.0\n",
      "d    NaN\n",
      "Name: col1, dtype: float64\n",
      "Adicionar uma nova coluna do tipo Serie:\n",
      "   col1  col2  col3\n",
      "a   1.0     1  10.0\n",
      "b   2.0     2  20.0\n",
      "c   3.0     3  30.0\n",
      "d   NaN     4   NaN\n",
      "Adicioanar uma nova coluna com base em colunas existentes na DataFrame:\n",
      "   col1  col2  col3  col4\n",
      "a   1.0     1  10.0  11.0\n",
      "b   2.0     2  20.0  22.0\n",
      "c   3.0     3  30.0  33.0\n",
      "d   NaN     4   NaN   NaN\n",
      "DataFrame original:\n",
      "   col1  col2  col3\n",
      "a   1.0     1  10.0\n",
      "b   2.0     2  20.0\n",
      "c   3.0     3  30.0\n",
      "d   NaN     4   NaN\n",
      "Apagar a primeira coluna:\n",
      "   col2  col3\n",
      "a     1  10.0\n",
      "b     2  20.0\n",
      "c     3  30.0\n",
      "d     4   NaN\n",
      "Apagar a segunda coluna com pop:\n",
      "   col3\n",
      "a  10.0\n",
      "b  20.0\n",
      "c  30.0\n",
      "d   NaN\n"
     ]
    }
   ],
   "source": [
    "#Mostrar so uma coluna\n",
    "import pandas as pd\n",
    "print('Manipular colunas: ')\n",
    "data = {'col1' : pd.Series([1, 2, 3], index=['a', 'b', 'c']),\n",
    "      'col2' : pd.Series([1, 2, 3, 4], index=['a', 'b', 'c', 'd'])}\n",
    "df6 = pd.DataFrame(data)\n",
    "print (df6 ['col1'])\n",
    "\n",
    "#Adicionar uma coluna com base numa serie e com base numa coluna existente na DataFrame\n",
    "data = {'col1' : pd.Series([1, 2, 3], index=['a', 'b', 'c']),\n",
    "      'col2' : pd.Series([1, 2, 3, 4], index=['a', 'b', 'c', 'd'])}\n",
    "df7 = (pd.DataFrame(data))\n",
    "# Serie\n",
    "print (\"Adicionar uma nova coluna do tipo Serie:\")\n",
    "df7['col3']=pd.Series([10,20,30],index=['a','b','c'])\n",
    "print (df7)\n",
    "# Coluna existente - improtante para contruir campos calculados\n",
    "print (\"Adicioanar uma nova coluna com base em colunas existentes na DataFrame:\")\n",
    "df7['col4']=df7['col1']+df7['col3']\n",
    "print (df7)\n",
    "\n",
    "#Apagar uma coluna\n",
    "data = {'col1' : pd.Series([1, 2, 3], index=['a', 'b', 'c']), \n",
    "     'col2' : pd.Series([1, 2, 3, 4], index=['a', 'b', 'c', 'd']), \n",
    "     'col3' : pd.Series([10,20,30], index=['a','b','c'])}\n",
    "df8 = pd.DataFrame(data)\n",
    "print (\"DataFrame original:\")\n",
    "print (df8)\n",
    "print (\"Apagar a primeira coluna:\")\n",
    "del df8['col1']\n",
    "print (df8)\n",
    "\n",
    "# using pop function\n",
    "print (\"Apagar a segunda coluna com pop:\")\n",
    "df8.pop('col2')\n",
    "print (df8)"
   ]
  },
  {
   "cell_type": "code",
   "execution_count": 12,
   "metadata": {},
   "outputs": [
    {
     "name": "stdout",
     "output_type": "stream",
     "text": [
      "DataFrame df:\n",
      "   linha1  linha2\n",
      "a     1.0       1\n",
      "b     2.0       2\n",
      "c     3.0       3\n",
      "d     NaN       4\n",
      "Retirar os valores da linha com indice 2 (terceira linha):\n",
      "linha1    3.0\n",
      "linha2    3.0\n",
      "Name: c, dtype: float64\n",
      "Mostrar as linhas com os indices 2 e 3:\n",
      "   linha1  linha2\n",
      "c     3.0       3\n",
      "d     NaN       4\n",
      "Adicionar as linhas de df2 a df1:\n",
      "   a  b\n",
      "0  1  2\n",
      "1  3  4\n",
      "0  5  6\n",
      "1  7  8\n",
      "Apagar linha com a etiqueta 0\n",
      "   a  b\n",
      "1  3  4\n",
      "1  7  8\n"
     ]
    }
   ],
   "source": [
    "#Mais exemplos\n",
    "import pandas as pd\n",
    "data = {'linha1' : pd.Series([1, 2, 3], index=['a', 'b', 'c']),\n",
    "     'linha2' : pd.Series([1, 2, 3, 4], index=['a', 'b', 'c', 'd'])}\n",
    "df9 = pd.DataFrame(data)\n",
    "print('DataFrame df:')\n",
    "print (df9)\n",
    "#Aceder a uma linha\n",
    "print('Retirar os valores da linha com indice 2 (terceira linha):')\n",
    "print (df9.iloc[2])\n",
    "#Mostrar varias linhas \n",
    "print('Mostrar as linhas com os indices 2 e 3:')\n",
    "print (df9[2:4])\n",
    "#Adicionar linhas\n",
    "df10 = pd.DataFrame([[1, 2], [3, 4]], columns = ['a','b'])\n",
    "df11 = pd.DataFrame([[5, 6], [7, 8]], columns = ['a','b'])\n",
    "print('Adicionar as linhas de df2 a df1:')\n",
    "df10 = df10.append(df11)\n",
    "print (df10)\n",
    "#Apagar linhas\n",
    "print('Apagar linha com a etiqueta 0')\n",
    "df10 = df10.drop(0) #Apaga as linhas com a etiqueta 0\n",
    "print (df10)"
   ]
  },
  {
   "cell_type": "markdown",
   "metadata": {},
   "source": [
    "## Funcionalidades base das DataFrames\n",
    "\n",
    "* T, apresenta a transposta da DataFrame\n",
    "* axes, devolve a lista de rótulos dos eixos das linhas e colunas\n",
    "* dtypes, devolve os tipos de objeto\n",
    "* empty, devolve True se a DataFrame estiver vazia\n",
    "* ndim, devolve o número de dimensões dos dados\n",
    "* shape, devolve um tuplo representando o formato da DataFrame\n",
    "* size, devolve o número de elementos dos dados\n",
    "* values, devolve a representação NumPy da DataFrame\n",
    "* head(), permite ver as primeiras n linhas\n",
    "* tail(), permite ver as últimas n linhas"
   ]
  },
  {
   "cell_type": "code",
   "execution_count": 13,
   "metadata": {},
   "outputs": [
    {
     "name": "stdout",
     "output_type": "stream",
     "text": [
      "A DataFrame (séries de dados) e:\n",
      "      Nome  Idade  Rating\n",
      "0  Antonio     25    4.23\n",
      "1   Miguel     26    3.24\n",
      "2    Joana     25    3.98\n",
      "3     Joao     23    2.56\n",
      "4  Liliana     30    3.20\n",
      "5  Alcides     29    4.60\n",
      "6   Monica     23    3.80\n",
      "A transposta da DataFrame e:\n",
      "              0       1      2     3        4        5       6\n",
      "Nome    Antonio  Miguel  Joana  Joao  Liliana  Alcides  Monica\n",
      "Idade        25      26     25    23       30       29      23\n",
      "Rating     4.23    3.24   3.98  2.56      3.2      4.6     3.8\n",
      "Rotulos dos eixos das linhas e colunas:\n",
      "[RangeIndex(start=0, stop=7, step=1), Index(['Nome', 'Idade', 'Rating'], dtype='object')]\n",
      "Tipo de dados de cada coluna:\n",
      "Nome       object\n",
      "Idade       int64\n",
      "Rating    float64\n",
      "dtype: object\n",
      "Vazia?\n",
      "False\n",
      "Dimensao da DataFrame:\n",
      "2\n",
      "Formato da DataFrame:\n",
      "(7, 3)\n",
      "Numero total de elementos:\n",
      "21\n",
      "Dados da DataFrame:\n",
      "[['Antonio' 25 4.23]\n",
      " ['Miguel' 26 3.24]\n",
      " ['Joana' 25 3.98]\n",
      " ['Joao' 23 2.56]\n",
      " ['Liliana' 30 3.2]\n",
      " ['Alcides' 29 4.6]\n",
      " ['Monica' 23 3.8]]\n",
      "Os valores das duas primeiras linhas:\n",
      "      Nome  Idade  Rating\n",
      "0  Antonio     25    4.23\n",
      "1   Miguel     26    3.24\n",
      "Os calores das duas ultimas linhas:\n",
      "      Nome  Idade  Rating\n",
      "5  Alcides     29     4.6\n",
      "6   Monica     23     3.8\n"
     ]
    }
   ],
   "source": [
    "import pandas as pd\n",
    "import numpy as np\n",
    "\n",
    "#Criar um dicionario de series\n",
    "data = {'Nome':pd.Series(['Antonio','Miguel','Joana','Joao','Liliana','Alcides','Monica']),\n",
    "   'Idade':pd.Series([25,26,25,23,30,29,23]),\n",
    "   'Rating':pd.Series([4.23,3.24,3.98,2.56,3.20,4.6,3.8])}\n",
    "\n",
    "#Criar a DataFrame\n",
    "df12 = pd.DataFrame(data)\n",
    "print (\"A DataFrame (séries de dados) e:\")\n",
    "print (df12)\n",
    "print (\"A transposta da DataFrame e:\")\n",
    "print (df12.T)\n",
    "print (\"Rotulos dos eixos das linhas e colunas:\")\n",
    "print (df12.axes)\n",
    "print (\"Tipo de dados de cada coluna:\")\n",
    "print (df12.dtypes)\n",
    "print (\"Vazia?\")\n",
    "print (df12.empty)\n",
    "print (\"Dimensao da DataFrame:\")\n",
    "print (df12.ndim)\n",
    "print (\"Formato da DataFrame:\")\n",
    "print (df12.shape)\n",
    "print (\"Numero total de elementos:\")\n",
    "print (df12.size)\n",
    "print (\"Dados da DataFrame:\")\n",
    "print (df12.values)\n",
    "print (\"Os valores das duas primeiras linhas:\")\n",
    "print (df12.head(2))\n",
    "print (\"Os calores das duas ultimas linhas:\")\n",
    "print (df12.tail(2))"
   ]
  },
  {
   "cell_type": "markdown",
   "metadata": {},
   "source": [
    "## Indexação e seleção de dados nos DataFrames"
   ]
  },
  {
   "cell_type": "code",
   "execution_count": 37,
   "metadata": {},
   "outputs": [
    {
     "name": "stdout",
     "output_type": "stream",
     "text": [
      "DataFrame:\n",
      "         area      pop\n",
      "Lisboa   2761  2244984\n",
      "Porto    2395  2027191\n",
      "Setubal  5064   849842\n",
      "Braga    2673   848444\n",
      "Aveiro   2808   714351\n",
      "DataFrame [area]:\n",
      "Lisboa     2761\n",
      "Porto      2395\n",
      "Setubal    5064\n",
      "Braga      2673\n",
      "Aveiro     2808\n",
      "Name: area, dtype: int64\n",
      "Lisboa     2761\n",
      "Porto      2395\n",
      "Setubal    5064\n",
      "Braga      2673\n",
      "Aveiro     2808\n",
      "Name: area, dtype: int64\n",
      "DataFrame com a densidade populacional:\n",
      "         area      pop   densidade\n",
      "Lisboa   2761  2244984  813.105397\n",
      "Porto    2395  2027191  846.426305\n",
      "Setubal  5064   849842  167.820300\n",
      "Braga    2673   848444  317.412645\n",
      "Aveiro   2808   714351  254.398504\n",
      "         area      pop\n",
      "Lisboa   2761  2244984\n",
      "Porto    2395  2027191\n",
      "Setubal  5064   849842\n",
      "        area      pop\n",
      "Lisboa  2761  2244984\n"
     ]
    }
   ],
   "source": [
    "import pandas as pd\n",
    "area = pd.Series({'Lisboa': 2761, 'Porto': 2395,\n",
    "                  'Setubal': 5064, 'Braga': 2673,\n",
    "                  'Aveiro': 2808})\n",
    "pop = pd.Series({'Lisboa': 2244984, 'Porto': 2027191,\n",
    "                  'Setubal': 849842, 'Braga': 848444,\n",
    "                  'Aveiro': 714351})\n",
    "df13 = pd.DataFrame({'area':area, 'pop':pop})\n",
    "print(\"DataFrame:\")\n",
    "print(df13)\n",
    "print(\"DataFrame [area]:\")\n",
    "print(df13['area'])\n",
    "print(df13.area)\n",
    "#Criar uma nova coluna com a densidade populacional\n",
    "df13['densidade'] = df13['pop'] / df13['area']\n",
    "print(\"DataFrame com a densidade populacional:\")\n",
    "print(df13)\n",
    "print(df13.iloc[:3, :2])\n",
    "print(df13.loc[:'Lisboa', :'pop'])\n"
   ]
  },
  {
   "cell_type": "markdown",
   "metadata": {},
   "source": [
    "## Funções estatísticas das DataFrames\n",
    "\n",
    "* count(), numero de observações não nulas\n",
    "* sum(), soma dos valores\n",
    "* mean(), média dos valores\n",
    "* median(), mediana dos valores\n",
    "* mode(), moda dos valores\n",
    "* std(), desvio padrão dos valores\n",
    "* min(), minimo dos valores\n",
    "* max(), maximo dos valores\n",
    "* abs(), valor absoluto\n",
    "* prod(), produto dos valores\n",
    "* cumsum(), soma cumulativa\n",
    "* cumprod(), produto cumulativo\n",
    "* describe(), apresenta várias estatísticas"
   ]
  },
  {
   "cell_type": "code",
   "execution_count": 38,
   "metadata": {},
   "outputs": [
    {
     "name": "stdout",
     "output_type": "stream",
     "text": [
      "           Idade    Rating\n",
      "count   7.000000  7.000000\n",
      "mean   25.857143  3.658571\n",
      "std     2.734262  0.698628\n",
      "min    23.000000  2.560000\n",
      "25%    24.000000  3.220000\n",
      "50%    25.000000  3.800000\n",
      "75%    27.500000  4.105000\n",
      "max    30.000000  4.600000\n"
     ]
    }
   ],
   "source": [
    "import pandas as pd\n",
    "import numpy as np\n",
    "\n",
    "#Criar um dicionario de series\n",
    "d = {'Nome':pd.Series(['Antonio','Miguel','Joana','Joao','Liliana','Alcides','Monica']),\n",
    "   'Idade':pd.Series([25,26,25,23,30,29,23]),\n",
    "   'Rating':pd.Series([4.23,3.24,3.98,2.56,3.20,4.6,3.8])}\n",
    "\n",
    "#Criar a DataFrame\n",
    "df14 = pd.DataFrame(d)\n",
    "print (df14.describe())"
   ]
  },
  {
   "cell_type": "markdown",
   "metadata": {},
   "source": [
    "## Funções estatísticas envolvendo mais de uma Serie ou DataFrame\n",
    "\n",
    "A biblioteca Pandas possui funções estatísticas que permitem cálculo de algumas métricas entre Series:\n",
    "* pct_change()\n",
    "* cov(), convariância\n",
    "* corr(), correlação\n",
    "* rank(), produz um ranking dos elementos dentro de uma série"
   ]
  },
  {
   "cell_type": "code",
   "execution_count": 43,
   "metadata": {},
   "outputs": [
    {
     "name": "stdout",
     "output_type": "stream",
     "text": [
      "Serie s:\n",
      "0    1\n",
      "1    2\n",
      "2    3\n",
      "3    4\n",
      "4    5\n",
      "5    4\n",
      "dtype: int64\n",
      "Mostra a diferença em percentagem entre o primeiro elemento da série e os seguintes:\n",
      "0         NaN\n",
      "1    1.000000\n",
      "2    0.500000\n",
      "3    0.333333\n",
      "4    0.250000\n",
      "5   -0.200000\n",
      "dtype: float64\n",
      "Covariancia 1:\n",
      "0   -0.064587\n",
      "1   -1.193220\n",
      "2   -0.788508\n",
      "3   -1.378096\n",
      "4   -1.158639\n",
      "5   -0.544974\n",
      "6    2.078728\n",
      "7    0.621632\n",
      "8    1.436081\n",
      "9    1.443878\n",
      "dtype: float64\n",
      "0   -0.211586\n",
      "1    0.674954\n",
      "2   -0.242796\n",
      "3   -0.149111\n",
      "4    0.523815\n",
      "5   -0.374184\n",
      "6   -2.778050\n",
      "7    1.116477\n",
      "8    0.273427\n",
      "9    0.158024\n",
      "dtype: float64\n",
      "-0.5791182214596616\n",
      "Covariancia 2:\n",
      "-0.20573053318032317\n",
      "          a         b         c         d         e\n",
      "a  0.332334 -0.205731 -0.118083 -0.251951 -0.032037\n",
      "b -0.205731  0.826956 -0.120147  0.022723  0.405723\n",
      "c -0.118083 -0.120147  0.334698  0.235042 -0.015205\n",
      "d -0.251951  0.022723  0.235042  1.088072 -0.133202\n",
      "e -0.032037  0.405723 -0.015205 -0.133202  0.510382\n",
      "Correlacao:\n",
      "-0.39243721855254565\n",
      "          a         b         c         d         e\n",
      "a  1.000000 -0.392437 -0.354058 -0.418987 -0.077788\n",
      "b -0.392437  1.000000 -0.228373  0.023955  0.624513\n",
      "c -0.354058 -0.228373  1.000000  0.389485 -0.036788\n",
      "d -0.418987  0.023955  0.389485  1.000000 -0.178745\n",
      "e -0.077788  0.624513 -0.036788 -0.178745  1.000000\n",
      "Ranking:\n",
      "a   -0.109450\n",
      "b    0.413090\n",
      "c   -0.207708\n",
      "d   -1.470274\n",
      "e   -0.360652\n",
      "dtype: float64\n",
      "a   -0.109450\n",
      "b    0.413090\n",
      "c   -0.207708\n",
      "d    0.413090\n",
      "e   -0.360652\n",
      "dtype: float64\n",
      "a    3.0\n",
      "b    4.5\n",
      "c    2.0\n",
      "d    4.5\n",
      "e    1.0\n",
      "dtype: float64\n"
     ]
    }
   ],
   "source": [
    "import pandas as pd\n",
    "import numpy as np\n",
    "\n",
    "print(\"Serie s:\")\n",
    "s10 = pd.Series([1,2,3,4,5,4])\n",
    "print(s10)\n",
    "#Percentagem de elementos diferentes\n",
    "print('Mostra a diferença em percentagem entre o primeiro elemento da série e os seguintes:')\n",
    "print(s10.pct_change())\n",
    "\n",
    "#Covariancia\n",
    "print('Covariancia 1:')\n",
    "s11 = pd.Series(np.random.randn(10))\n",
    "s12 = pd.Series(np.random.randn(10))\n",
    "print(s11)\n",
    "print(s12)\n",
    "print (s11.cov(s12))\n",
    "\n",
    "#Covariancia\n",
    "print('Covariancia 2:')\n",
    "df15 = pd.DataFrame(np.random.randn(10, 5), columns=['a', 'b', 'c', 'd', 'e'])\n",
    "print (df15['a'].cov(df15['b']))\n",
    "print (df15.cov())\n",
    "\n",
    "#Correlacao\n",
    "print('Correlacao:')\n",
    "print (df15['a'].corr(df15['b']))\n",
    "print (df15.corr())\n",
    "\n",
    "#Ranking dos elementos\n",
    "print('Ranking:')\n",
    "s13 = pd.Series(np.random.randn(5), index=list('abcde'))\n",
    "print(s13)\n",
    "s13['d'] = s13['b'] # igualar d a b ficando com dois elementos iguais\n",
    "print(s13)\n",
    "print (s13.rank()) #quando há items com valores iguais ficam com o valor médio do rank"
   ]
  },
  {
   "cell_type": "markdown",
   "metadata": {},
   "source": [
    "## Janelas de períodos\n",
    "\n",
    "Os métodos rolling, expanding e ewm permitem aplicar as funções estatísticas a partes dos dados agrupadas em períodos, permitindo por exemplo calcular a média de três em três linhas.\n",
    "\n",
    "O método rolling permite cálculo de uma função estatística como a média com uma determinada janela de períodos (de 3 em 3 dias).\n",
    "\n",
    "O método expanding permite algo similar ao rolling mas inclui todos os registos anteriores, até ao registo em questão.\n",
    "\n",
    "O método exponential weighted permite correr funções com base exponencial, como a média. \n",
    "\n",
    "Estes métodos têm aplicação especial em séries temporais."
   ]
  },
  {
   "cell_type": "code",
   "execution_count": 44,
   "metadata": {},
   "outputs": [
    {
     "name": "stdout",
     "output_type": "stream",
     "text": [
      "                   A         B         C         D\n",
      "2000-01-01 -0.874082 -0.035232 -0.459731  0.638876\n",
      "2000-01-02 -0.388622  0.040000 -0.832807 -0.412884\n",
      "2000-01-03 -0.280387  0.326881  0.093105  0.245791\n",
      "2000-01-04 -0.433122 -1.239367  1.437239  0.649057\n",
      "2000-01-05 -0.358350  1.098700  0.605447  0.885720\n",
      "2000-01-06 -1.176963  1.011641 -1.536289  0.509624\n",
      "2000-01-07 -1.736734 -0.683747  0.412756 -0.195916\n",
      "2000-01-08 -2.992352  1.782201 -1.203664  0.699658\n",
      "2000-01-09 -0.096532  1.013340 -1.001865  0.710641\n",
      "2000-01-10  1.253223 -0.867090  1.015165  1.025783\n",
      "Calculo da media dos ultimos três períodos para cada elemento:\n",
      "Para os dois primeiros elementos não é possível fazer o cálculo.\n",
      "                   A         B         C         D\n",
      "2000-01-01       NaN       NaN       NaN       NaN\n",
      "2000-01-02       NaN       NaN       NaN       NaN\n",
      "2000-01-03 -0.514363  0.110550 -0.399811  0.157261\n",
      "2000-01-04 -0.367377 -0.290829  0.232512  0.160655\n",
      "2000-01-05 -0.357286  0.062071  0.711930  0.593523\n",
      "2000-01-06 -0.656145  0.290325  0.168799  0.681467\n",
      "2000-01-07 -1.090683  0.475531 -0.172695  0.399809\n",
      "2000-01-08 -1.968683  0.703365 -0.775732  0.337789\n",
      "2000-01-09 -1.608539  0.703932 -0.597591  0.404794\n",
      "2000-01-10 -0.611887  0.642817 -0.396788  0.812028\n",
      "Calculo da media dos ultimos três períodos desde o inicio:\n",
      "                   A         B         C         D\n",
      "2000-01-01       NaN       NaN       NaN       NaN\n",
      "2000-01-02       NaN       NaN       NaN       NaN\n",
      "2000-01-03 -0.514363  0.110550 -0.399811  0.157261\n",
      "2000-01-04 -0.494053 -0.226929  0.059451  0.280210\n",
      "2000-01-05 -0.466912  0.038196  0.168651  0.401312\n",
      "2000-01-06 -0.585254  0.200437 -0.115506  0.419364\n",
      "2000-01-07 -0.749751  0.074125 -0.040040  0.331467\n",
      "2000-01-08 -1.030076  0.287635 -0.185493  0.377491\n",
      "2000-01-09 -0.926349  0.368269 -0.276201  0.414507\n",
      "2000-01-10 -0.708392  0.244733 -0.147065  0.475635\n",
      "                   A         B         C         D\n",
      "2000-01-01 -0.874082 -0.035232 -0.459731  0.638876\n",
      "2000-01-02 -0.509987  0.021192 -0.739538 -0.149944\n",
      "2000-01-03 -0.351033  0.232823 -0.163093  0.124026\n",
      "2000-01-04 -0.406443 -0.760905  0.917131  0.478422\n",
      "2000-01-05 -0.374249  0.483955  0.708483  0.751076\n",
      "2000-01-06 -0.910127  0.836229 -0.790088  0.589887\n",
      "2000-01-07 -1.461451 -0.177552  0.012175  0.065779\n",
      "2000-01-08 -2.482207  1.129149 -0.798508  0.488429\n",
      "2000-01-09 -0.891676  1.051940 -0.934086  0.636578\n",
      "2000-01-10  0.538281 -0.227435  0.365437  0.896053\n",
      "0     1\n",
      "1     2\n",
      "2     3\n",
      "3     4\n",
      "4     5\n",
      "5     6\n",
      "6     7\n",
      "7     8\n",
      "8     9\n",
      "9    10\n",
      "dtype: int32\n",
      "0    NaN\n",
      "1    NaN\n",
      "2    2.0\n",
      "3    3.0\n",
      "4    4.0\n",
      "5    5.0\n",
      "6    6.0\n",
      "7    7.0\n",
      "8    8.0\n",
      "9    9.0\n",
      "dtype: float64\n",
      "0    NaN\n",
      "1    NaN\n",
      "2    2.0\n",
      "3    2.5\n",
      "4    3.0\n",
      "5    3.5\n",
      "6    4.0\n",
      "7    4.5\n",
      "8    5.0\n",
      "9    5.5\n",
      "dtype: float64\n",
      "0    1.000000\n",
      "1    1.750000\n",
      "2    2.615385\n",
      "3    3.550000\n",
      "4    4.520661\n",
      "5    5.508242\n",
      "6    6.503202\n",
      "7    7.501220\n",
      "8    8.500457\n",
      "9    9.500169\n",
      "dtype: float64\n"
     ]
    }
   ],
   "source": [
    "import pandas as pd\n",
    "import numpy as np\n",
    "\n",
    "df15 = pd.DataFrame(np.random.randn(10, 4),\n",
    "index = pd.date_range('1/1/2000', periods=10),\n",
    "columns = ['A', 'B', 'C', 'D'])\n",
    "\n",
    "print (df15)\n",
    "#Rolling\n",
    "print('Calculo da media dos ultimos três períodos para cada elemento:')\n",
    "print('Para os dois primeiros elementos não é possível fazer o cálculo.')\n",
    "print (df15.rolling(window=3).mean())\n",
    "#Este metodo permite criar medias moveis para os precos de acoes\n",
    "#Expanding\n",
    "print('Calculo da media dos ultimos três períodos desde o inicio:')\n",
    "print (df15.expanding(min_periods=3).mean())\n",
    "#EWM\n",
    "print (df15.ewm(com=0.5).mean())\n",
    "\n",
    "s14 = pd.Series(np.arange(1, 11))\n",
    "print(s14)\n",
    "print(s14.rolling(window=3).mean())\n",
    "print(s14.expanding(min_periods=3).mean())\n",
    "print(s14.ewm(com=0.5).mean())"
   ]
  },
  {
   "cell_type": "code",
   "execution_count": 46,
   "metadata": {},
   "outputs": [
    {
     "data": {
      "image/png": "[encoded data removed]",
      "text/plain": [
       "<Figure size 864x576 with 1 Axes>"
      ]
     },
     "metadata": {
      "needs_background": "light"
     },
     "output_type": "display_data"
    },
    {
     "data": {
      "image/png": "[encoded data removed]",
      "text/plain": [
       "<Figure size 864x576 with 1 Axes>"
      ]
     },
     "metadata": {
      "needs_background": "light"
     },
     "output_type": "display_data"
    }
   ],
   "source": [
    "#Exemplo das cotações do BCP com médias móveis\n",
    "\n",
    "import numpy as np\n",
    "import matplotlib as plt\n",
    "import pandas as pd\n",
    "import seaborn as snb\n",
    "import urllib.request\n",
    "\n",
    "#urllib.request.urlretrieve(\n",
    "#    'https://query1.finance.yahoo.com/v7/finance/download/BCP.LS?period1=1493348019&period2=1524884019&interval=1d&events=history&crumb=AjVhRK.0yPw',\n",
    "#    'bcp2.csv'\n",
    "#)\n",
    "\n",
    "url = 'https://raw.githubusercontent.com/atrigo/PyTrigo/master/Versao2/BCP.LS.csv'\n",
    "df_bcp = pd.read_csv(url)\n",
    "\n",
    "#df1.head(5)\n",
    "df_bcp.tail()\n",
    "\n",
    "#Gráfico do campo 'Adj Close'\n",
    "df_bcp['Adj Close'].plot(figsize=(12,8),title=\"Gráfico do BCP (Adj Close)\")\n",
    "\n",
    "#Gráfico do campo 'Adj Close' e respetivas médias móveis\n",
    "bcp_ma20 = df_bcp['Adj Close'].rolling(window=20).mean()\n",
    "bcp_ma50 = df_bcp['Adj Close'].rolling(window=50).mean()\n",
    "bcp_ma100 = df_bcp['Adj Close'].rolling(window=100).mean()\n",
    "\n",
    "fig, ax = plt.pyplot.subplots(figsize=(12,8))\n",
    "ax.plot(df_bcp['Date'],df_bcp['Adj Close'], label='BCP')\n",
    "ax.plot(bcp_ma20.index,bcp_ma20, label='ma 20 dias')\n",
    "ax.plot(bcp_ma50.index,bcp_ma50, label='ma 50 dias')\n",
    "ax.plot(bcp_ma100.index,bcp_ma100, label='ma 100 dias')\n",
    "\n",
    "ax.xaxis.set_major_locator(plt.ticker.MultipleLocator(30))\n",
    "\n",
    "ax.set_xlabel('Dados')\n",
    "ax.set_ylabel('Preço do fecho ajustado')\n",
    "ax.legend()\n",
    "\n",
    "plt.pyplot.title(\"Gráfico do BCP (Adj Close) com médias móveis\")\n",
    "plt.pyplot.show()\n"
   ]
  },
  {
   "cell_type": "markdown",
   "metadata": {},
   "source": [
    "Com base nas funções anteriores é possível utilizar funções de agregação para os diferentes horizontes temporais.\n",
    "\n",
    "De seguida mostram-se alguns exemplos."
   ]
  },
  {
   "cell_type": "code",
   "execution_count": 47,
   "metadata": {},
   "outputs": [
    {
     "name": "stdout",
     "output_type": "stream",
     "text": [
      "                   A         B         C         D\n",
      "2000-01-01  0.924554  0.410968  0.188780  0.708316\n",
      "2000-01-02 -1.321027 -0.317321  1.537007 -1.013706\n",
      "2000-01-03  1.260807  0.172238 -2.477192 -0.657962\n",
      "2000-01-04  0.951186  1.182030 -0.371445  0.976572\n",
      "2000-01-05 -1.289254 -0.623839  0.941782 -0.048804\n",
      "2000-01-06  0.360494  0.451236  0.091717 -0.220233\n",
      "2000-01-07 -0.350801 -1.080958 -1.614336 -1.190047\n",
      "2000-01-08  0.539433  0.276697 -0.800719 -0.009024\n",
      "2000-01-09  1.454537  0.660378  1.081871  1.402278\n",
      "2000-01-10 -0.052146 -1.080415 -1.082821 -0.723233\n",
      "Soma dos elementos de três em três.\n",
      "                   A         B         C         D\n",
      "2000-01-01  0.924554  0.410968  0.188780  0.708316\n",
      "2000-01-02 -0.396474  0.093647  1.725787 -0.305390\n",
      "2000-01-03  0.864333  0.265885 -0.751405 -0.963353\n",
      "2000-01-04  0.890965  1.036947 -1.311630 -0.695096\n",
      "2000-01-05  0.922739  0.730429 -1.906854  0.269806\n",
      "2000-01-06  0.022426  1.009427  0.662055  0.707536\n",
      "2000-01-07 -1.279561 -1.253561 -0.580836 -1.459084\n",
      "2000-01-08  0.549126 -0.353025 -2.323338 -1.419304\n",
      "2000-01-09  1.643169 -0.143883 -1.333184  0.203206\n",
      "2000-01-10  1.941824 -0.143340 -0.801669  0.670020\n",
      "Soma e média dos elementos de três em três.\n",
      "                   A                   B                   C            \\\n",
      "                 sum      mean       sum      mean       sum      mean   \n",
      "2000-01-01  0.924554  0.924554  0.410968  0.410968  0.188780  0.188780   \n",
      "2000-01-02 -0.396474 -0.198237  0.093647  0.046824  1.725787  0.862893   \n",
      "2000-01-03  0.864333  0.288111  0.265885  0.088628 -0.751405 -0.250468   \n",
      "2000-01-04  0.890965  0.296988  1.036947  0.345649 -1.311630 -0.437210   \n",
      "2000-01-05  0.922739  0.307580  0.730429  0.243476 -1.906854 -0.635618   \n",
      "2000-01-06  0.022426  0.007475  1.009427  0.336476  0.662055  0.220685   \n",
      "2000-01-07 -1.279561 -0.426520 -1.253561 -0.417854 -0.580836 -0.193612   \n",
      "2000-01-08  0.549126  0.183042 -0.353025 -0.117675 -2.323338 -0.774446   \n",
      "2000-01-09  1.643169  0.547723 -0.143883 -0.047961 -1.333184 -0.444395   \n",
      "2000-01-10  1.941824  0.647275 -0.143340 -0.047780 -0.801669 -0.267223   \n",
      "\n",
      "                   D            \n",
      "                 sum      mean  \n",
      "2000-01-01  0.708316  0.708316  \n",
      "2000-01-02 -0.305390 -0.152695  \n",
      "2000-01-03 -0.963353 -0.321118  \n",
      "2000-01-04 -0.695096 -0.231699  \n",
      "2000-01-05  0.269806  0.089935  \n",
      "2000-01-06  0.707536  0.235845  \n",
      "2000-01-07 -1.459084 -0.486361  \n",
      "2000-01-08 -1.419304 -0.473101  \n",
      "2000-01-09  0.203206  0.067735  \n",
      "2000-01-10  0.670020  0.223340  \n",
      "Soma dos elementos da coluna A e média dos elementos da coluna B de três em três.\n",
      "                   A         B\n",
      "2000-01-01  0.924554  0.410968\n",
      "2000-01-02 -0.396474  0.046824\n",
      "2000-01-03  0.864333  0.088628\n",
      "2000-01-04  0.890965  0.345649\n",
      "2000-01-05  0.922739  0.243476\n",
      "2000-01-06  0.022426  0.336476\n",
      "2000-01-07 -1.279561 -0.417854\n",
      "2000-01-08  0.549126 -0.117675\n",
      "2000-01-09  1.643169 -0.047961\n",
      "2000-01-10  1.941824 -0.047780\n"
     ]
    }
   ],
   "source": [
    "import pandas as pd\n",
    "import numpy as np\n",
    "\n",
    "df16 = pd.DataFrame(np.random.randn(10, 4),\n",
    "      index = pd.date_range('1/1/2000', periods=10),\n",
    "      columns = ['A', 'B', 'C', 'D'])\n",
    "print (df16)\n",
    "\n",
    "print('Soma dos elementos de três em três.')\n",
    "r = df16.rolling(window=3,min_periods=1)\n",
    "print (r.aggregate(np.sum))\n",
    "\n",
    "print('Soma e média dos elementos de três em três.')\n",
    "r = df16.rolling(window=3,min_periods=1)\n",
    "print (r.aggregate([np.sum,np.mean]))\n",
    "\n",
    "print('Soma dos elementos da coluna A e média dos elementos da coluna B de três em três.')\n",
    "r = df16.rolling(window=3,min_periods=1)\n",
    "print (r.aggregate({'A' : np.sum,'B' : np.mean}))"
   ]
  },
  {
   "cell_type": "markdown",
   "metadata": {},
   "source": [
    "## Funções aplicadas a todos os elementos da DataFrame\n",
    "\n",
    "* pipe(), apply() e applymap()"
   ]
  },
  {
   "cell_type": "code",
   "execution_count": 48,
   "metadata": {},
   "outputs": [
    {
     "name": "stdout",
     "output_type": "stream",
     "text": [
      "DataFrame:\n",
      "       col1      col2      col3\n",
      "0  0.418849 -1.536573  1.166802\n",
      "1  0.190907  0.564010 -0.655452\n",
      "2 -0.169929  0.542626 -0.906588\n",
      "3 -1.093468  0.789814  1.262838\n",
      "4  0.237000  0.327996  0.249584\n",
      "Adiciona o valor 2 aos elementos da DataFrame:\n",
      "       col1      col2      col3\n",
      "0  2.418849  0.463427  3.166802\n",
      "1  2.190907  2.564010  1.344548\n",
      "2  1.830071  2.542626  1.093412\n",
      "3  0.906532  2.789814  3.262838\n",
      "4  2.237000  2.327996  2.249584\n",
      "Calcula a média dos valores relativos a cada coluna:\n",
      "col1   -0.083328\n",
      "col2    0.137574\n",
      "col3    0.223437\n",
      "dtype: float64\n",
      "Calcula a média dos valores relativos a cada linha:\n",
      "0    0.016359\n",
      "1    0.033155\n",
      "2   -0.177964\n",
      "3    0.319728\n",
      "4    0.271526\n",
      "dtype: float64\n",
      "Corre uma função lambda em todos os elementos, neste caso o valor maximo - valor minimo:\n",
      "col1    1.512317\n",
      "col2    2.326387\n",
      "col3    2.169427\n",
      "dtype: float64\n",
      "Corre uma função particular só numa coluna\n",
      "0     41.884901\n",
      "1     19.090684\n",
      "2    -16.992919\n",
      "3   -109.346768\n",
      "4     23.700008\n",
      "Name: col1, dtype: float64\n",
      "       col1      col2      col3\n",
      "0  0.418849 -1.536573  1.166802\n",
      "1  0.190907  0.564010 -0.655452\n",
      "2 -0.169929  0.542626 -0.906588\n",
      "3 -1.093468  0.789814  1.262838\n",
      "4  0.237000  0.327996  0.249584\n"
     ]
    }
   ],
   "source": [
    "import pandas as pd\n",
    "import numpy as np\n",
    "\n",
    "def adder(ele1,ele2):\n",
    "    return ele1+ele2\n",
    "\n",
    "df17 = pd.DataFrame(np.random.randn(5,3),columns=['col1','col2','col3'])\n",
    "print('DataFrame:')\n",
    "print(df17)\n",
    "print('Adiciona o valor 2 aos elementos da DataFrame:')\n",
    "print(df17.pipe(adder,2))\n",
    "print('Calcula a média dos valores relativos a cada coluna:')\n",
    "print(df17.apply(np.mean))\n",
    "print('Calcula a média dos valores relativos a cada linha:')\n",
    "print (df17.apply(np.mean,axis=1))\n",
    "print('Corre uma função lambda em todos os elementos, neste caso o valor maximo - valor minimo:')\n",
    "print(df17.apply(lambda x: x.max() - x.min()))\n",
    "print('Corre uma função particular só numa coluna')\n",
    "print(df17['col1'].map(lambda x:x*100)) #ou df.applymap(lambda x:x*100)\n",
    "print(df17)"
   ]
  },
  {
   "cell_type": "markdown",
   "metadata": {},
   "source": [
    "## Missing values\n",
    "\n",
    "Os missing values (valores em falta) podem ser de dois tipos:\n",
    "* None, que representa um valor nulo\n",
    "* NaN, Not a Number, que representa um valor que não é um número\n",
    "\n",
    "A bilbioteca Pandas possui métodos para detetar os valores nulos, nomeadamente, os isnull() e notnull().\n",
    "\n",
    "A biblioteca Pandas possui métodos para substituir os valores nulos:\n",
    "* dropna() para remover o valor NaN\n",
    "* fillna() que preenche com outros valores e tem três opções:\n",
    "    * valor indicado pelo utilizador\n",
    "    * ffill, que preenche para a frente todos os valores seguintes com o valor igual ao anterior\n",
    "    * bfill, que preenche para trás com todos os valores seguintes com o valor igual ao aanterior"
   ]
  },
  {
   "cell_type": "code",
   "execution_count": 49,
   "metadata": {},
   "outputs": [
    {
     "name": "stdout",
     "output_type": "stream",
     "text": [
      "[1 None 3 4]\n",
      "object\n",
      "[ 1. nan  3.  4.]\n",
      "float64\n",
      "nan\n",
      "nan\n",
      "0    False\n",
      "1     True\n",
      "2    False\n",
      "3    False\n",
      "dtype: bool\n",
      "0     True\n",
      "1    False\n",
      "2     True\n",
      "3     True\n",
      "dtype: bool\n",
      "0    1.0\n",
      "1    NaN\n",
      "2    3.0\n",
      "3    4.0\n",
      "dtype: float64\n",
      "Preenche com o valor 0:\n",
      "0    1.0\n",
      "1    0.0\n",
      "2    3.0\n",
      "3    4.0\n",
      "dtype: float64\n",
      "Preenche com o valor anterior para a frente:\n",
      "0    1.0\n",
      "1    1.0\n",
      "2    3.0\n",
      "3    4.0\n",
      "dtype: float64\n",
      "Preenche com o valor anterior para trás:\n",
      "0    1.0\n",
      "1    3.0\n",
      "2    3.0\n",
      "3    4.0\n",
      "dtype: float64\n"
     ]
    }
   ],
   "source": [
    "import numpy as np\n",
    "import pandas as pd\n",
    "\n",
    "v1 = np.array([1, None, 3, 4])\n",
    "print(v1)\n",
    "print(v1.dtype)\n",
    "\n",
    "v2 = np.array([1, np.nan, 3, 4]) \n",
    "print(v2)\n",
    "print(v2.dtype)\n",
    "\n",
    "#Operacoes de numeros com NaN devolvem outros NaN\n",
    "print(v2[1]+5)\n",
    "print(v2.sum())\n",
    "\n",
    "#Detecao de valores nulos\n",
    "s15 = pd.Series(np.array([1, None, 3, 4]))\n",
    "\n",
    "print(s15.isnull())\n",
    "print(s15.notnull())\n",
    "\n",
    "#Tratamento de valores nulos\n",
    "#Remocao\n",
    "s16 = pd.Series(np.array([1, np.nan, 3, 4]))\n",
    "s16.dropna()\n",
    "print(s16)\n",
    "\n",
    "#Substituicao do valor NaN por zero (0)\n",
    "s17 = pd.Series(np.array([1, np.nan, 3, 4]))\n",
    "print('Preenche com o valor 0:')\n",
    "print(s17.fillna(0))\n",
    "\n",
    "#forward-fill\n",
    "print('Preenche com o valor anterior para a frente:')\n",
    "print(s17.fillna(method='ffill'))\n",
    "\n",
    "#back-fill\n",
    "print('Preenche com o valor anterior para trás:')\n",
    "print(s17.fillna(method='bfill'))\n"
   ]
  },
  {
   "cell_type": "markdown",
   "metadata": {},
   "source": [
    "De seguida apresentam-se algumas operações disponíveis na bilioteca Pandas sobre os DataFrames:\n",
    "    \n",
    "* Reindexing, rearranjar os dados de um DataFrame para que fiquem com o formato de outro DataFrame\n",
    "* Iteration, permite iterar o DataFrame\n",
    "* Sorting, permite ordenar o DataFrame\n",
    "* Indexing e Slicing, permite escolher os elementos do DataFrame\n"
   ]
  },
  {
   "cell_type": "code",
   "execution_count": 50,
   "metadata": {},
   "outputs": [
    {
     "name": "stdout",
     "output_type": "stream",
     "text": [
      "Reindexing:\n",
      "       col1      col2      col3\n",
      "0 -1.979454 -0.311398 -0.412123\n",
      "1  1.122842  0.022225  1.390555\n",
      "2 -0.463095 -1.239268  0.336354\n",
      "3  0.168377  1.738072  0.020415\n",
      "4  0.758642  0.871897 -0.443059\n",
      "5  0.461001  1.215028  0.764357\n",
      "      col1      col2      col3\n",
      "0 -0.32284 -0.347339  0.096487\n",
      "1  0.01610 -0.649494 -0.029867\n",
      "      col1      col2      col3\n",
      "0 -0.32284 -0.347339  0.096487\n",
      "1  0.01610 -0.649494 -0.029867\n",
      "2      NaN       NaN       NaN\n",
      "3      NaN       NaN       NaN\n",
      "4      NaN       NaN       NaN\n",
      "5      NaN       NaN       NaN\n",
      "Preencher os NaNs com o valor da ultima linha:\n",
      "      col1      col2      col3\n",
      "0 -0.32284 -0.347339  0.096487\n",
      "1  0.01610 -0.649494 -0.029867\n",
      "2  0.01610 -0.649494 -0.029867\n",
      "3  0.01610 -0.649494 -0.029867\n",
      "4  0.01610 -0.649494 -0.029867\n",
      "5  0.01610 -0.649494 -0.029867\n"
     ]
    }
   ],
   "source": [
    "import pandas as pd\n",
    "import numpy as np\n",
    "\n",
    "#Reindexing\n",
    "print('Reindexing:')\n",
    "df18 = pd.DataFrame(np.random.randn(6,3),columns=['col1','col2','col3'])\n",
    "df19 = pd.DataFrame(np.random.randn(2,3),columns=['col1','col2','col3'])\n",
    "print(df18)\n",
    "print(df19)\n",
    "#Reformatar o df2 como o df1 \n",
    "print (df19.reindex_like(df18))\n",
    "# Preencher os NaNs com o valor da ultima linha\n",
    "print (\"Preencher os NaNs com o valor da ultima linha:\")\n",
    "print (df19.reindex_like(df18,method='ffill'))"
   ]
  },
  {
   "cell_type": "code",
   "execution_count": 51,
   "metadata": {},
   "outputs": [
    {
     "name": "stdout",
     "output_type": "stream",
     "text": [
      "Iterar (percorrer) um DataFrame:\n",
      "       col1      col2      col3\n",
      "0  1.147689  1.291196 -0.431696\n",
      "1  0.398380  0.494384  0.376648\n",
      "2  0.499244 -1.129223  0.888472\n",
      "3 -0.481457  0.977517  0.331355\n",
      "Colunas:\n",
      "col1\n",
      "col2\n",
      "col3\n",
      "Chaves e valores (coluna a coluna):\n",
      "col1 0    1.147689\n",
      "1    0.398380\n",
      "2    0.499244\n",
      "3   -0.481457\n",
      "Name: col1, dtype: float64\n",
      "col2 0    1.291196\n",
      "1    0.494384\n",
      "2   -1.129223\n",
      "3    0.977517\n",
      "Name: col2, dtype: float64\n",
      "col3 0   -0.431696\n",
      "1    0.376648\n",
      "2    0.888472\n",
      "3    0.331355\n",
      "Name: col3, dtype: float64\n",
      "Chaves e valores (linha a linha):\n",
      "0 col1    1.147689\n",
      "col2    1.291196\n",
      "col3   -0.431696\n",
      "Name: 0, dtype: float64\n",
      "1 col1    0.398380\n",
      "col2    0.494384\n",
      "col3    0.376648\n",
      "Name: 1, dtype: float64\n",
      "2 col1    0.499244\n",
      "col2   -1.129223\n",
      "col3    0.888472\n",
      "Name: 2, dtype: float64\n",
      "3 col1   -0.481457\n",
      "col2    0.977517\n",
      "col3    0.331355\n",
      "Name: 3, dtype: float64\n"
     ]
    }
   ],
   "source": [
    "#Iterar (Iteration)\n",
    "print('Iterar (percorrer) um DataFrame:')\n",
    "import pandas as pd\n",
    "import numpy as np\n",
    " \n",
    "df20 = pd.DataFrame(np.random.randn(4,3),columns=['col1','col2','col3'])\n",
    "print (df20)\n",
    "\n",
    "print('Colunas:')\n",
    "for col in df20:\n",
    "    print(col)\n",
    "\n",
    "print('Chaves e valores (coluna a coluna):')\n",
    "for key,value in df20.iteritems():\n",
    "    print(key,value)\n",
    "\n",
    "print('Chaves e valores (linha a linha):')\n",
    "for row_index,row in df20.iterrows():\n",
    "    print(row_index,row)\n",
    "    \n",
    "#A iteracao de valores destina-se a mostrar valores, nao serve para alterar valores"
   ]
  },
  {
   "cell_type": "code",
   "execution_count": 24,
   "metadata": {},
   "outputs": [
    {
     "name": "stdout",
     "output_type": "stream",
     "text": [
      "       col2      col1\n",
      "1  0.963501 -2.389549\n",
      "4 -0.572907 -0.513022\n",
      "6 -0.745991 -0.157834\n",
      "2  0.949122  0.691368\n",
      "3 -1.252351  0.306106\n",
      "5  0.767009 -1.480945\n",
      "9 -1.144779  0.791394\n",
      "8 -0.174499  0.207217\n",
      "0  1.423636 -0.294247\n",
      "7  1.264177  0.052373\n",
      "       col2      col1\n",
      "0  1.423636 -0.294247\n",
      "1  0.963501 -2.389549\n",
      "2  0.949122  0.691368\n",
      "3 -1.252351  0.306106\n",
      "4 -0.572907 -0.513022\n",
      "5  0.767009 -1.480945\n",
      "6 -0.745991 -0.157834\n",
      "7  1.264177  0.052373\n",
      "8 -0.174499  0.207217\n",
      "9 -1.144779  0.791394\n",
      "       col2      col1\n",
      "9 -1.144779  0.791394\n",
      "8 -0.174499  0.207217\n",
      "7  1.264177  0.052373\n",
      "6 -0.745991 -0.157834\n",
      "5  0.767009 -1.480945\n",
      "4 -0.572907 -0.513022\n",
      "3 -1.252351  0.306106\n",
      "2  0.949122  0.691368\n",
      "1  0.963501 -2.389549\n",
      "0  1.423636 -0.294247\n",
      "       col1      col2\n",
      "1 -2.389549  0.963501\n",
      "4 -0.513022 -0.572907\n",
      "6 -0.157834 -0.745991\n",
      "2  0.691368  0.949122\n",
      "3  0.306106 -1.252351\n",
      "5 -1.480945  0.767009\n",
      "9  0.791394 -1.144779\n",
      "8  0.207217 -0.174499\n",
      "0 -0.294247  1.423636\n",
      "7  0.052373  1.264177\n",
      "       col2      col1\n",
      "1  0.963501 -2.389549\n",
      "5  0.767009 -1.480945\n",
      "4 -0.572907 -0.513022\n",
      "0  1.423636 -0.294247\n",
      "6 -0.745991 -0.157834\n",
      "7  1.264177  0.052373\n",
      "8 -0.174499  0.207217\n",
      "3 -1.252351  0.306106\n",
      "2  0.949122  0.691368\n",
      "9 -1.144779  0.791394\n",
      "       col2      col1\n",
      "1  0.963501 -2.389549\n",
      "5  0.767009 -1.480945\n",
      "4 -0.572907 -0.513022\n",
      "0  1.423636 -0.294247\n",
      "6 -0.745991 -0.157834\n",
      "7  1.264177  0.052373\n",
      "8 -0.174499  0.207217\n",
      "3 -1.252351  0.306106\n",
      "2  0.949122  0.691368\n",
      "9 -1.144779  0.791394\n"
     ]
    }
   ],
   "source": [
    "#Ordenacao (Sorting)\n",
    "\n",
    "import pandas as pd\n",
    "import numpy as np\n",
    "\n",
    "unsorted_df=pd.DataFrame(np.random.randn(10,2),index=[1,4,6,2,3,5,9,8,0,7],columns=['col2','col1'])\n",
    "print(unsorted_df)\n",
    "\n",
    "#Ordenacao por indice\n",
    "sorted_df=unsorted_df.sort_index()\n",
    "print(sorted_df)\n",
    "\n",
    "#Ordenacao ascendente/descendente por indice\n",
    "sorted_df = unsorted_df.sort_index(ascending=False)\n",
    "print(sorted_df)\n",
    "\n",
    "#Ordenacao dos nomes das colunas\n",
    "sorted_df=unsorted_df.sort_index(axis=1)\n",
    "print(sorted_df)\n",
    "\n",
    "#Ordenacao pelos valores da col1\n",
    "sorted_df = unsorted_df.sort_values(by='col1')\n",
    "print(sorted_df)\n",
    "\n",
    "#Ordenacao pelos valores da col1 seguidos da col2\n",
    "sorted_df = unsorted_df.sort_values(by=['col1','col2'])\n",
    "print(sorted_df)"
   ]
  },
  {
   "cell_type": "markdown",
   "metadata": {},
   "source": [
    "## GroupBy\n",
    "\n",
    "Similar à função GroupBy do SQL permite agrupar os itens por tipo.\n",
    "\n",
    "Associada a esta função é possível executar operações de agregação, transformação e filtragem dos dados."
   ]
  },
  {
   "cell_type": "code",
   "execution_count": 52,
   "metadata": {},
   "outputs": [
    {
     "name": "stdout",
     "output_type": "stream",
     "text": [
      "      Equipa  Rank   Ano  Pontos\n",
      "0        FCP     1  2014      87\n",
      "1        FCP     2  2015      78\n",
      "2        SLB     2  2014      86\n",
      "3        SLB     3  2015      67\n",
      "4        SCP     3  2014      74\n",
      "5        SCP     4  2015      81\n",
      "6        SCP     1  2016      75\n",
      "7        SCP     1  2017      78\n",
      "8        FCP     2  2016      69\n",
      "9        SLB     4  2014      70\n",
      "10       SLB     1  2015      80\n",
      "11  Boavista     2  2017      69\n",
      "Mostrar os grupos criados\n",
      "Boavista\n",
      "      Equipa  Rank   Ano  Pontos\n",
      "11  Boavista     2  2017      69\n",
      "FCP\n",
      "  Equipa  Rank   Ano  Pontos\n",
      "0    FCP     1  2014      87\n",
      "1    FCP     2  2015      78\n",
      "8    FCP     2  2016      69\n",
      "SCP\n",
      "  Equipa  Rank   Ano  Pontos\n",
      "4    SCP     3  2014      74\n",
      "5    SCP     4  2015      81\n",
      "6    SCP     1  2016      75\n",
      "7    SCP     1  2017      78\n",
      "SLB\n",
      "   Equipa  Rank   Ano  Pontos\n",
      "2     SLB     2  2014      86\n",
      "3     SLB     3  2015      67\n",
      "9     SLB     4  2014      70\n",
      "10    SLB     1  2015      80\n",
      "Mostrar só um dos grupos\n",
      "  Equipa  Rank   Ano  Pontos\n",
      "0    FCP     1  2014      87\n",
      "1    FCP     2  2015      78\n",
      "8    FCP     2  2016      69\n",
      "Calcular metricas agregadas:\n",
      "          Rank  Ano  Pontos\n",
      "Equipa                     \n",
      "Boavista     1    1       1\n",
      "FCP          3    3       3\n",
      "SCP          4    4       4\n",
      "SLB          4    4       4\n",
      "          sum   mean       std\n",
      "Equipa                        \n",
      "Boavista   69  69.00       NaN\n",
      "FCP       234  78.00  9.000000\n",
      "SCP       308  77.00  3.162278\n",
      "SLB       303  75.75  8.808140\n",
      "Efetuar transformações nos dados:\n",
      "    Rank    Ano  Pontos\n",
      "0    0.1  201.4     8.7\n",
      "1    0.2  201.5     7.8\n",
      "2    0.2  201.4     8.6\n",
      "3    0.3  201.5     6.7\n",
      "4    0.3  201.4     7.4\n",
      "5    0.4  201.5     8.1\n",
      "6    0.1  201.6     7.5\n",
      "7    0.1  201.7     7.8\n",
      "8    0.2  201.6     6.9\n",
      "9    0.4  201.4     7.0\n",
      "10   0.1  201.5     8.0\n",
      "11   0.2  201.7     6.9\n",
      "Filtrar os dados:\n",
      "   Equipa  Rank   Ano  Pontos\n",
      "0     FCP     1  2014      87\n",
      "1     FCP     2  2015      78\n",
      "2     SLB     2  2014      86\n",
      "3     SLB     3  2015      67\n",
      "4     SCP     3  2014      74\n",
      "5     SCP     4  2015      81\n",
      "6     SCP     1  2016      75\n",
      "7     SCP     1  2017      78\n",
      "8     FCP     2  2016      69\n",
      "9     SLB     4  2014      70\n",
      "10    SLB     1  2015      80\n"
     ]
    }
   ],
   "source": [
    "# import the pandas library\n",
    "import pandas as pd\n",
    "import numpy as np\n",
    "\n",
    "campeonato = {'Equipa': ['FCP', 'FCP', 'SLB', 'SLB', 'SCP', 'SCP', 'SCP', 'SCP', 'FCP', 'SLB', 'SLB', 'Boavista'], \n",
    "              'Rank': [1, 2, 2, 3, 3,4 ,1 ,1,2 , 4,1,2],\n",
    "              'Ano': [2014,2015,2014,2015,2014,2015,2016,2017,2016,2014,2015,2017],\n",
    "              'Pontos':[87,78,86,67,74,81,75,78,69,70,80,69]}\n",
    "df = pd.DataFrame(campeonato)\n",
    "\n",
    "print(df)\n",
    "df_equipa = df.groupby('Equipa')\n",
    "\n",
    "print('Mostrar os grupos criados')\n",
    "for nome_grupo,resultados_grupo in df_equipa:\n",
    "    print (nome_grupo)\n",
    "    print (resultados_grupo)\n",
    "    \n",
    "print('Mostrar só um dos grupos')\n",
    "print(df_equipa.get_group('FCP'))\n",
    "\n",
    "print('Calcular metricas agregadas:')\n",
    "print(df_equipa.agg(np.size))\n",
    "print(df_equipa['Pontos'].agg([np.sum, np.mean, np.std]))\n",
    "\n",
    "print('Efetuar transformações nos dados:')\n",
    "print (df_equipa.transform(lambda x: x/10))\n",
    "\n",
    "print('Filtrar os dados:')\n",
    "print (df_equipa.filter(lambda x: len(x) >= 3))"
   ]
  },
  {
   "cell_type": "markdown",
   "metadata": {},
   "source": [
    "## Join\n",
    "\n",
    "O Pandas permite operações similares às operações JOIN das bases de dados.\n",
    "\n",
    "O prototipo da função é: pd.merge(left, right, how='inner', on=None, left_on=None, right_on=None, left_index=False, right_index=False, sort=True)\n",
    "\n",
    "onde:\n",
    "* left − A DataFrame object.\n",
    "* right − Another DataFrame object.\n",
    "* on − Columns (names) to join on. Must be found in both the left and right DataFrame objects.\n",
    "* left_on − Columns from the left DataFrame to use as keys. Can either be column names or arrays with length equal to the length of the DataFrame.\n",
    "* right_on − Columns from the right DataFrame to use as keys. Can either be column names or arrays with length equal to the length of the DataFrame.\n",
    "* left_index − If True, use the index (row labels) from the left DataFrame as its join key(s). In case of a DataFrame with a MultiIndex (hierarchical), the number of levels must match the number of join keys from the right DataFrame.\n",
    "* right_index − Same usage as left_index for the right DataFrame.\n",
    "* how − One of 'left', 'right', 'outer', 'inner'. Defaults to inner. Each method has been described below.\n",
    "* sort − Sort the result DataFrame by the join keys in lexicographical order. Defaults to True, setting to False will improve the performance substantially in many cases.\n"
   ]
  },
  {
   "cell_type": "code",
   "execution_count": 53,
   "metadata": {},
   "outputs": [
    {
     "name": "stdout",
     "output_type": "stream",
     "text": [
      "   Id     Nome Curso\n",
      "0   1  Antonio    c1\n",
      "1   2  Armando    c2\n",
      "2   3      Ana    c4\n",
      "3   4    Alice    c6\n",
      "4   5   Amalia    c5\n",
      "   Id      Nome Curso\n",
      "0   1      Joao    c2\n",
      "1   2     Joana    c4\n",
      "2   3     Julia    c3\n",
      "3   4  Josefina    c6\n",
      "4   5     Jorge    c5\n",
      "Juntar dois df por chave, neste caso Id (Inner Join):\n",
      "   Id   Nome_x Curso_x    Nome_y Curso_y\n",
      "0   1  Antonio      c1      Joao      c2\n",
      "1   2  Armando      c2     Joana      c4\n",
      "2   3      Ana      c4     Julia      c3\n",
      "3   4    Alice      c6  Josefina      c6\n",
      "4   5   Amalia      c5     Jorge      c5\n",
      "Juntar dois df por chave, neste caso Id e Curso  (Inner Join):\n",
      "   Id  Nome_x Curso    Nome_y\n",
      "0   4   Alice    c6  Josefina\n",
      "1   5  Amalia    c5     Jorge\n",
      "Left Join pelo Curso:\n",
      "   Id_x   Nome_x Curso  Id_y    Nome_y\n",
      "0     1  Antonio    c1   NaN       NaN\n",
      "1     2  Armando    c2   1.0      Joao\n",
      "2     3      Ana    c4   2.0     Joana\n",
      "3     4    Alice    c6   4.0  Josefina\n",
      "4     5   Amalia    c5   5.0     Jorge\n",
      "Right Join pelo Curso:\n",
      "   Id_x   Nome_x Curso  Id_y    Nome_y\n",
      "0   2.0  Armando    c2     1      Joao\n",
      "1   3.0      Ana    c4     2     Joana\n",
      "2   NaN      NaN    c3     3     Julia\n",
      "3   4.0    Alice    c6     4  Josefina\n",
      "4   5.0   Amalia    c5     5     Jorge\n",
      "Outer Join pelo Curso:\n",
      "   Id_x   Nome_x Curso  Id_y    Nome_y\n",
      "0   1.0  Antonio    c1   NaN       NaN\n",
      "1   2.0  Armando    c2   1.0      Joao\n",
      "2   3.0      Ana    c4   2.0     Joana\n",
      "3   4.0    Alice    c6   4.0  Josefina\n",
      "4   5.0   Amalia    c5   5.0     Jorge\n",
      "5   NaN      NaN    c3   3.0     Julia\n",
      "Inner Join pelo Curso:\n",
      "   Id_x   Nome_x Curso  Id_y    Nome_y\n",
      "0     2  Armando    c2     1      Joao\n",
      "1     3      Ana    c4     2     Joana\n",
      "2     4    Alice    c6     4  Josefina\n",
      "3     5   Amalia    c5     5     Jorge\n"
     ]
    }
   ],
   "source": [
    "import pandas as pd\n",
    "\n",
    "df_esquerda = pd.DataFrame({\n",
    "         'Id':[1,2,3,4,5],\n",
    "         'Nome': ['Antonio', 'Armando', 'Ana', 'Alice', 'Amalia'],\n",
    "         'Curso':['c1','c2','c4','c6','c5']})\n",
    "df_direita = pd.DataFrame(\n",
    "         {'Id':[1,2,3,4,5],\n",
    "         'Nome': ['Joao', 'Joana', 'Julia', 'Josefina', 'Jorge'],\n",
    "         'Curso':['c2','c4','c3','c6','c5']})\n",
    "print (df_esquerda)\n",
    "print (df_direita)\n",
    "print('Juntar dois df por chave, neste caso Id (Inner Join):')\n",
    "print (pd.merge(df_esquerda,df_direita,on='Id'))\n",
    "print('Juntar dois df por chave, neste caso Id e Curso  (Inner Join):')\n",
    "print (pd.merge(df_esquerda,df_direita,on=['Id','Curso']))\n",
    "print('Left Join pelo Curso:')\n",
    "print (pd.merge(df_esquerda,df_direita,on='Curso', how='left'))\n",
    "print('Right Join pelo Curso:')\n",
    "print (pd.merge(df_esquerda,df_direita,on='Curso', how='right'))\n",
    "print('Outer Join pelo Curso:')\n",
    "print (pd.merge(df_esquerda,df_direita, how='outer', on='Curso'))\n",
    "print('Inner Join pelo Curso:')\n",
    "print (pd.merge(df_esquerda,df_direita, how='inner', on='Curso'))"
   ]
  },
  {
   "cell_type": "markdown",
   "metadata": {},
   "source": [
    "## Concatenação de Series e DataFrames\n",
    "\n",
    "Método para combinar Series e DataFrames.\n",
    "\n",
    "Sintaxe: pd.concat(objs,axis=0,join='outer',join_axes=None,ignore_index=False)\n",
    "    \n",
    "Onde:\n",
    "* objs − This is a sequence or mapping of Series or DataFrames objects.\n",
    "* axis − {0, 1, ...}, default 0. This is the axis to concatenate along.\n",
    "* join − {‘inner’, ‘outer’}, default ‘outer’. How to handle indexes on other axis(es). Outer for union and inner for intersection.\n",
    "* ignore_index − boolean, default False. If True, do not use the index values on the concatenation axis. The resulting axis will be labeled 0, ..., n - 1.\n",
    "* join_axes − This is the list of Index objects. Specific indexes to use for the other (n-1) axes instead of performing inner/outer set logic.\n"
   ]
  },
  {
   "cell_type": "code",
   "execution_count": 54,
   "metadata": {},
   "outputs": [
    {
     "name": "stdout",
     "output_type": "stream",
     "text": [
      "Concatena mantendo os indices originais:\n",
      "   Id      Nome Curso\n",
      "0   1   Antonio    c1\n",
      "1   2   Armando    c2\n",
      "2   3       Ana    c4\n",
      "3   4     Alice    c6\n",
      "4   5    Amalia    c5\n",
      "0   1      Joao    c2\n",
      "1   2     Joana    c4\n",
      "2   3     Julia    c3\n",
      "3   4  Josefina    c6\n",
      "4   5     Jorge    c5\n",
      "Concatena criando novos indices para o novo DataFrame:\n",
      "     Id      Nome Curso\n",
      "x 0   1   Antonio    c1\n",
      "  1   2   Armando    c2\n",
      "  2   3       Ana    c4\n",
      "  3   4     Alice    c6\n",
      "  4   5    Amalia    c5\n",
      "y 0   1      Joao    c2\n",
      "  1   2     Joana    c4\n",
      "  2   3     Julia    c3\n",
      "  3   4  Josefina    c6\n",
      "  4   5     Jorge    c5\n",
      "Concatena alterando os indices originais:\n",
      "   Id      Nome Curso\n",
      "0   1   Antonio    c1\n",
      "1   2   Armando    c2\n",
      "2   3       Ana    c4\n",
      "3   4     Alice    c6\n",
      "4   5    Amalia    c5\n",
      "5   1      Joao    c2\n",
      "6   2     Joana    c4\n",
      "7   3     Julia    c3\n",
      "8   4  Josefina    c6\n",
      "9   5     Jorge    c5\n",
      "Concatena ao longo das colunas:\n",
      "   Id     Nome Curso  Id      Nome Curso\n",
      "0   1  Antonio    c1   1      Joao    c2\n",
      "1   2  Armando    c2   2     Joana    c4\n",
      "2   3      Ana    c4   3     Julia    c3\n",
      "3   4    Alice    c6   4  Josefina    c6\n",
      "4   5   Amalia    c5   5     Jorge    c5\n"
     ]
    }
   ],
   "source": [
    "import pandas as pd\n",
    "\n",
    "df1 = pd.DataFrame({\n",
    "         'Id':[1,2,3,4,5],\n",
    "         'Nome': ['Antonio', 'Armando', 'Ana', 'Alice', 'Amalia'],\n",
    "         'Curso':['c1','c2','c4','c6','c5']})\n",
    "df2 = pd.DataFrame(\n",
    "         {'Id':[1,2,3,4,5],\n",
    "         'Nome': ['Joao', 'Joana', 'Julia', 'Josefina', 'Jorge'],\n",
    "         'Curso':['c2','c4','c3','c6','c5']})\n",
    "\n",
    "print('Concatena mantendo os indices originais:')\n",
    "print (pd.concat([df1,df2]))\n",
    "print('Concatena criando novos indices para o novo DataFrame:')\n",
    "print (pd.concat([df1,df2],keys=['x','y']))\n",
    "print('Concatena alterando os indices originais:')\n",
    "print (pd.concat([df1,df2],keys=['x','y'],ignore_index=True))\n",
    "print('Concatena ao longo das colunas:')\n",
    "print (pd.concat([df1,df2],axis=1))\n"
   ]
  },
  {
   "cell_type": "markdown",
   "metadata": {},
   "source": [
    "## Datas\n",
    "\n",
    "Um dos pontos fortes da biblioteca Pandas é o trabalho com séries temporais e consecutivamente com Datas.\n",
    "\n",
    "Se sugida apresentam-se algumas funções de manipulção de datas."
   ]
  },
  {
   "cell_type": "code",
   "execution_count": 55,
   "metadata": {},
   "outputs": [
    {
     "name": "stdout",
     "output_type": "stream",
     "text": [
      "Dias:\n",
      "DatetimeIndex(['2018-04-28', '2018-04-29', '2018-04-30', '2018-05-01',\n",
      "               '2018-05-02'],\n",
      "              dtype='datetime64[ns]', freq='D')\n",
      "Meses:\n",
      "DatetimeIndex(['2018-04-30', '2018-05-31', '2018-06-30', '2018-07-31',\n",
      "               '2018-08-31'],\n",
      "              dtype='datetime64[ns]', freq='M')\n",
      "Dias de trabalho:\n",
      "DatetimeIndex(['2018-04-30', '2018-05-01', '2018-05-02', '2018-05-03',\n",
      "               '2018-05-04'],\n",
      "              dtype='datetime64[ns]', freq='B')\n",
      "Entre duas datas:\n",
      "DatetimeIndex(['2018-04-12', '2018-04-13', '2018-04-14', '2018-04-15',\n",
      "               '2018-04-16', '2018-04-17', '2018-04-18', '2018-04-19',\n",
      "               '2018-04-20', '2018-04-21', '2018-04-22', '2018-04-23'],\n",
      "              dtype='datetime64[ns]', freq='D')\n"
     ]
    },
    {
     "name": "stderr",
     "output_type": "stream",
     "text": [
      "C:\\Users\\anton\\AppData\\Local\\Temp/ipykernel_11540/1342790781.py:10: FutureWarning: The pandas.datetime class is deprecated and will be removed from pandas in a future version. Import from datetime module instead.\n",
      "  start = pd.datetime(2018, 4, 12)\n",
      "C:\\Users\\anton\\AppData\\Local\\Temp/ipykernel_11540/1342790781.py:11: FutureWarning: The pandas.datetime class is deprecated and will be removed from pandas in a future version. Import from datetime module instead.\n",
      "  end = pd.datetime(2018, 4, 23)\n"
     ]
    }
   ],
   "source": [
    "#Criar um intervalo de datas\n",
    "import pandas as pd\n",
    "print('Dias:')\n",
    "print (pd.date_range('28/4/2018', periods=5))\n",
    "print('Meses:')\n",
    "print (pd.date_range('28/4/2018', periods=5, freq='M'))\n",
    "print('Dias de trabalho:')\n",
    "print (pd.bdate_range('28/4/2018', periods=5))\n",
    "print('Entre duas datas:')\n",
    "start = pd.datetime(2018, 4, 12)\n",
    "end = pd.datetime(2018, 4, 23)\n",
    "print (pd.date_range(start, end))"
   ]
  },
  {
   "cell_type": "markdown",
   "metadata": {},
   "source": [
    "## Visualização de dados\n",
    "\n",
    "A biblioteca Pandas permite desenhar gráficos relativos aos dados contidos no DataFrame.\n",
    "\n",
    "De seguida apresentam-se alguns exemplos ilustrativos."
   ]
  },
  {
   "cell_type": "code",
   "execution_count": 56,
   "metadata": {},
   "outputs": [
    {
     "name": "stdout",
     "output_type": "stream",
     "text": [
      "                   A         B         C         D\n",
      "2017-01-01 -0.632445  0.213388 -0.641401  0.532795\n",
      "2017-01-02 -1.761417 -0.938969 -0.304054  0.428040\n",
      "2017-01-03 -0.160929 -1.411392  0.027359  1.024875\n",
      "2017-01-04 -0.378099  0.736981 -1.394545 -1.783205\n",
      "2017-01-05 -1.993005  0.005629  1.018395 -0.190545\n",
      "2017-01-06 -0.187891  0.501485 -1.044640 -0.464643\n",
      "2017-01-07 -1.083868  0.214653  0.578248 -1.099384\n",
      "2017-01-08  0.552810  0.428681  0.473163 -1.275655\n",
      "2017-01-09  0.879242  1.051892  0.063419 -1.138117\n",
      "2017-01-10 -0.392794  0.064326  0.524694 -0.699943\n"
     ]
    },
    {
     "data": {
      "text/plain": [
       "<AxesSubplot:>"
      ]
     },
     "execution_count": 56,
     "metadata": {},
     "output_type": "execute_result"
    },
    {
     "data": {
      "image/png": "[encoded data removed]",
      "text/plain": [
       "<Figure size 432x288 with 1 Axes>"
      ]
     },
     "metadata": {
      "needs_background": "light"
     },
     "output_type": "display_data"
    }
   ],
   "source": [
    "%matplotlib inline\n",
    "import matplotlib\n",
    "import pandas as pd\n",
    "import numpy as np\n",
    "import matplotlib.pyplot as plt\n",
    "\n",
    "df = pd.DataFrame(np.random.randn(10,4),index=pd.date_range('1/1/2017', periods=10), columns=list('ABCD'))\n",
    "print(df)\n",
    "df.plot()"
   ]
  },
  {
   "cell_type": "code",
   "execution_count": 57,
   "metadata": {},
   "outputs": [
    {
     "data": {
      "text/plain": [
       "<AxesSubplot:>"
      ]
     },
     "execution_count": 57,
     "metadata": {},
     "output_type": "execute_result"
    },
    {
     "data": {
      "image/png": "[encoded data removed]",
      "text/plain": [
       "<Figure size 432x288 with 1 Axes>"
      ]
     },
     "metadata": {
      "needs_background": "light"
     },
     "output_type": "display_data"
    },
    {
     "data": {
      "image/png": "[encoded data removed]",
      "text/plain": [
       "<Figure size 432x288 with 1 Axes>"
      ]
     },
     "metadata": {
      "needs_background": "light"
     },
     "output_type": "display_data"
    }
   ],
   "source": [
    "%matplotlib inline\n",
    "import matplotlib\n",
    "import pandas as pd\n",
    "import numpy as np\n",
    "import matplotlib.pyplot as plt\n",
    "\n",
    "df = pd.DataFrame(np.random.rand(10,4),columns=['a','b','c','d'])\n",
    "df.plot.bar()\n",
    "df.plot.bar(stacked=True)"
   ]
  },
  {
   "cell_type": "code",
   "execution_count": 58,
   "metadata": {},
   "outputs": [
    {
     "data": {
      "text/plain": [
       "<AxesSubplot:ylabel='Frequency'>"
      ]
     },
     "execution_count": 58,
     "metadata": {},
     "output_type": "execute_result"
    },
    {
     "data": {
      "image/png": "[encoded data removed]",
      "text/plain": [
       "<Figure size 432x288 with 1 Axes>"
      ]
     },
     "metadata": {
      "needs_background": "light"
     },
     "output_type": "display_data"
    }
   ],
   "source": [
    "%matplotlib inline\n",
    "import matplotlib\n",
    "import pandas as pd\n",
    "import numpy as np\n",
    "import matplotlib.pyplot as plt\n",
    "\n",
    "df = pd.DataFrame({'a':np.random.randn(1000)+1,'b':np.random.randn(1000),'c':np.random.randn(1000) - 1}, columns=['a', 'b', 'c'])\n",
    "df.plot.hist(bins=20)"
   ]
  },
  {
   "cell_type": "code",
   "execution_count": 59,
   "metadata": {},
   "outputs": [
    {
     "data": {
      "text/plain": [
       "array([[<AxesSubplot:title={'center':'a'}>,\n",
       "        <AxesSubplot:title={'center':'b'}>],\n",
       "       [<AxesSubplot:title={'center':'c'}>, <AxesSubplot:>]], dtype=object)"
      ]
     },
     "execution_count": 59,
     "metadata": {},
     "output_type": "execute_result"
    },
    {
     "data": {
      "image/png": "[encoded data removed]",
      "text/plain": [
       "<Figure size 432x288 with 4 Axes>"
      ]
     },
     "metadata": {
      "needs_background": "light"
     },
     "output_type": "display_data"
    }
   ],
   "source": [
    "%matplotlib inline\n",
    "import matplotlib\n",
    "import pandas as pd\n",
    "import numpy as np\n",
    "import matplotlib.pyplot as plt\n",
    "\n",
    "df=pd.DataFrame({'a':np.random.randn(1000)+1,'b':np.random.randn(1000),'c':np.random.randn(1000) - 1}, columns=['a', 'b', 'c'])\n",
    "df.diff().hist(bins=20)"
   ]
  },
  {
   "cell_type": "code",
   "execution_count": 60,
   "metadata": {},
   "outputs": [
    {
     "name": "stdout",
     "output_type": "stream",
     "text": [
      "          A         B         C         D         E\n",
      "0  0.553440  0.317169  0.729084  0.531394  0.588966\n",
      "1  0.267453  0.712435  0.062427  0.397923  0.922755\n",
      "2  0.273629  0.368162  0.953164  0.565010  0.145601\n",
      "3  0.345717  0.578530  0.957733  0.839009  0.176978\n",
      "4  0.836150  0.100318  0.491751  0.447287  0.244896\n",
      "5  0.513586  0.973780  0.285388  0.625783  0.951271\n",
      "6  0.477358  0.105144  0.614552  0.844133  0.037688\n",
      "7  0.499989  0.526846  0.556645  0.202030  0.656653\n",
      "8  0.144433  0.942001  0.946591  0.648048  0.959698\n",
      "9  0.203700  0.909631  0.401726  0.715405  0.249243\n"
     ]
    },
    {
     "data": {
      "text/plain": [
       "<AxesSubplot:>"
      ]
     },
     "execution_count": 60,
     "metadata": {},
     "output_type": "execute_result"
    },
    {
     "data": {
      "image/png": "[encoded data removed]",
      "text/plain": [
       "<Figure size 432x288 with 1 Axes>"
      ]
     },
     "metadata": {
      "needs_background": "light"
     },
     "output_type": "display_data"
    }
   ],
   "source": [
    "%matplotlib inline\n",
    "import matplotlib\n",
    "import pandas as pd\n",
    "import numpy as np\n",
    "import matplotlib.pyplot as plt\n",
    "\n",
    "df = pd.DataFrame(np.random.rand(10, 5), columns=['A', 'B', 'C', 'D', 'E'])\n",
    "print(df)\n",
    "df.plot.box()"
   ]
  },
  {
   "cell_type": "code",
   "execution_count": 61,
   "metadata": {},
   "outputs": [
    {
     "data": {
      "text/plain": [
       "<AxesSubplot:>"
      ]
     },
     "execution_count": 61,
     "metadata": {},
     "output_type": "execute_result"
    },
    {
     "data": {
      "image/png": "[encoded data removed]",
      "text/plain": [
       "<Figure size 432x288 with 1 Axes>"
      ]
     },
     "metadata": {
      "needs_background": "light"
     },
     "output_type": "display_data"
    }
   ],
   "source": [
    "%matplotlib inline\n",
    "import matplotlib\n",
    "import pandas as pd\n",
    "import numpy as np\n",
    "import matplotlib.pyplot as plt\n",
    "\n",
    "df = pd.DataFrame(np.random.rand(10, 4), columns=['a', 'b', 'c', 'd'])\n",
    "df.plot.area()"
   ]
  },
  {
   "cell_type": "code",
   "execution_count": 62,
   "metadata": {},
   "outputs": [
    {
     "data": {
      "text/plain": [
       "<AxesSubplot:xlabel='a', ylabel='b'>"
      ]
     },
     "execution_count": 62,
     "metadata": {},
     "output_type": "execute_result"
    },
    {
     "data": {
      "image/png": "[encoded data removed]",
      "text/plain": [
       "<Figure size 432x288 with 1 Axes>"
      ]
     },
     "metadata": {
      "needs_background": "light"
     },
     "output_type": "display_data"
    }
   ],
   "source": [
    "%matplotlib inline\n",
    "import matplotlib\n",
    "import pandas as pd\n",
    "import numpy as np\n",
    "import matplotlib.pyplot as plt\n",
    "\n",
    "df = pd.DataFrame(np.random.rand(50, 4), columns=['a', 'b', 'c', 'd'])\n",
    "df.plot.scatter(x='a', y='b')"
   ]
  },
  {
   "cell_type": "markdown",
   "metadata": {},
   "source": [
    "## Leitura e escrita de dados\n",
    "\n",
    "A biblioteca Pandas possui métodos para ler e escrever de ficheiros:\n",
    "* read_csv e to_csv, para ler e escrever dados separados por vírgulas (texto)\n",
    "* read_json e to_json, para ler e escrever dados no formato json\n",
    "* read_html e to_html, para ler e escrever html\n",
    "* read_clipboard e to_clipboard, para ler e escrever para o clipboard (texto)\n",
    "* read_excel e to_excel, para ler e escrever par ficheiros Excel\n",
    "* read_hdf e to_hdf (HDF5)\n",
    "* read_feather e to_feather (Feather Format)\n",
    "* read_parquet e to_parquet (PArquet Format)\n",
    "* read_msgpack e to_msgpack (Msgpack)\n",
    "* read_stata e to_stata (STATA)\n",
    "* read_sas (SAS)\n",
    "* read_pickle e to_pickle (Python Pickle Format)\n",
    "* read_sql e to_sql (SQL)\n",
    "* read_gbq e to_gbq (Google Big Query)\n",
    "\n",
    "O método que irá ser apresentado neste tutorial é o método read_csv, cujo protótipo é:\n",
    "\n",
    "pandas.read_csv(filepath_or_buffer, sep=', ', dialect=None, compression=None, doublequote=True, escapechar=None, quotechar='\"', quoting=0, skipinitialspace=False, lineterminator=None, header='infer', index_col=None, names=None, prefix=None, skiprows=None, skipfooter=None, skip_footer=0, na_values=None, na_fvalues=None, true_values=None, false_values=None, delimiter=None, converters=None, dtype=None, usecols=None, engine=None, delim_whitespace=False, as_recarray=False, na_filter=True, compact_ints=False, use_unsigned=False, low_memory=True, buffer_lines=None, warn_bad_lines=True, error_bad_lines=True, keep_default_na=True, thousands=None, comment=None, decimal='.', parse_dates=False, keep_date_col=False, dayfirst=False, date_parser=None, memory_map=False, float_precision=None, nrows=None, iterator=False, chunksize=None, verbose=False, encoding=None, squeeze=False, mangle_dupe_cols=True, tupleize_cols=False, infer_datetime_format=False, skip_blank_lines=True)\n",
    "\n",
    "Como se pode ver possui imensos parametros sendo os mais comummente utilizados, o filepath_or_buffer, que indica o caminho para o ficheiro, o sep que indica o separador a utilizar, dtype, que indica o tipo de dados, o index_col que indica a coluna a utilizar como rótulos das linhas e o usecols que indica qual o subconjunto de colunas a importar."
   ]
  },
  {
   "cell_type": "code",
   "execution_count": 63,
   "metadata": {},
   "outputs": [
    {
     "name": "stdout",
     "output_type": "stream",
     "text": [
      "   Numero    Nome  Idade  Cidade  Salario\n",
      "0       1  Miguel     32   Porto     3000\n",
      "1       2   Joana     43  Lisboa     8300\n",
      "2       3  Estela     38  Madrid     3900\n",
      "          Nome  Idade  Cidade  Salario\n",
      "Numero                                \n",
      "1       Miguel     32   Porto     3000\n",
      "2        Joana     43  Lisboa     8300\n",
      "3       Estela     38  Madrid     3900\n",
      "Numero       int64\n",
      "Nome        object\n",
      "Idade        int64\n",
      "Cidade      object\n",
      "Salario    float64\n",
      "dtype: object\n",
      "        a       b      c       d        e\n",
      "0  Numero    Nome  Idade  Cidade  Salario\n",
      "1       1  Miguel     32   Porto     3000\n",
      "2       2   Joana     43  Lisboa     8300\n",
      "3       3  Estela     38  Madrid     3900\n",
      "   a       b   c       d     e\n",
      "0  1  Miguel  32   Porto  3000\n",
      "1  2   Joana  43  Lisboa  8300\n",
      "2  3  Estela  38  Madrid  3900\n",
      "   2   Joana  43  Lisboa  8300\n",
      "0  3  Estela  38  Madrid  3900\n"
     ]
    }
   ],
   "source": [
    "import pandas as pd\n",
    "df=pd.read_csv(\"PyTrigo-V2-4-Pandas-csv1.csv\")\n",
    "print(df)\n",
    "df=pd.read_csv(\"PyTrigo-V2-4-Pandas-csv1.csv\",index_col=['Numero'])\n",
    "print(df)\n",
    "df = pd.read_csv(\"PyTrigo-V2-4-Pandas-csv1.csv\", dtype={'Salario': np.float64})\n",
    "print(df.dtypes)\n",
    "df=pd.read_csv(\"PyTrigo-V2-4-Pandas-csv1.csv\", names=['a', 'b', 'c','d','e'])\n",
    "print(df)\n",
    "df=pd.read_csv(\"PyTrigo-V2-4-Pandas-csv1.csv\", names=['a', 'b', 'c','d','e'],header=0)\n",
    "print(df)\n",
    "df=pd.read_csv(\"PyTrigo-V2-4-Pandas-csv1.csv\", skiprows=2)\n",
    "print(df)\n",
    "df=pd.read_csv(\"PyTrigo-V2-4-Pandas-csv1.csv\",index_col=['Numero'])\n",
    "df.to_csv(\"PyTrigo-V2-4-Pandas-csv2.csv\", sep='\\t')\n",
    "#Devido a utilizacao de caracteres nao ascii pode ser necessario utilizar a codificaão utf-8\n",
    "df.to_csv(\"PyTrigo-V2-4-Pandas-csv2.csv\", sep='\\t', encoding='utf-8')"
   ]
  },
  {
   "cell_type": "markdown",
   "metadata": {},
   "source": [
    "## Exercícios\n",
    "\n",
    "A biblioteca seaborn possui vários datasets com que pode trabalhar. \n",
    "\n",
    "Um deles é o relativo aos passageiros do titanic.\n",
    "\n",
    "Para carregar o dataset deverá utilizar as seguintes instruções:\n",
    "    \n",
    "```python\n",
    "import seaborn as sns\n",
    "titanic = sns.load_dataset('titanic')```\n",
    "    \n",
    "Após carregar o dataset,\n",
    "1. Visualize as primeiras cinco linhas.\n",
    "2. Conte todos os passageiros que estavam bordo.\n",
    "3. Mostre quantos homens sobreviveram.\n",
    "4. Mostre quantas pessoas sobreviveram com menos de 30 anos.\n",
    "5. Mostre as estatísticas relativas a idade dos passageiros.\n",
    "6. Se reparar nos dados da resposta anterior o parametro count não é o mesmo que o número de passageiros. O que se passa? Identifique as linhas com problema.\n",
    "\n",
    "Execute no dataset as seguintes operações de SQL:\n",
    "7. SELECT sex, age, embark_town FROM TITANIC LIMT 5\n",
    "8. SELECT sex, age, embark_town FROM TITANIC WHERE sex = 'male' LIMT 5\n",
    "9. SELECT COUNT(*) GROUP BY sex "
   ]
  },
  {
   "cell_type": "code",
   "execution_count": 67,
   "metadata": {},
   "outputs": [
    {
     "name": "stdout",
     "output_type": "stream",
     "text": [
      "   survived  pclass     sex   age  sibsp  parch     fare embarked  class  \\\n",
      "0         0       3    male  22.0      1      0   7.2500        S  Third   \n",
      "1         1       1  female  38.0      1      0  71.2833        C  First   \n",
      "2         1       3  female  26.0      0      0   7.9250        S  Third   \n",
      "3         1       1  female  35.0      1      0  53.1000        S  First   \n",
      "4         0       3    male  35.0      0      0   8.0500        S  Third   \n",
      "\n",
      "     who  adult_male deck  embark_town alive  alone  \n",
      "0    man        True  NaN  Southampton    no  False  \n",
      "1  woman       False    C    Cherbourg   yes  False  \n",
      "2  woman       False  NaN  Southampton   yes   True  \n",
      "3  woman       False    C  Southampton   yes  False  \n",
      "4    man        True  NaN  Southampton    no   True  \n",
      "891\n",
      "Homens sobreviventes:  88\n",
      "Pessoas sobreviventes com menos de 30 anos:  156\n",
      "count    714.000000\n",
      "mean      29.699118\n",
      "std       14.526497\n",
      "min        0.420000\n",
      "25%       20.125000\n",
      "50%       28.000000\n",
      "75%       38.000000\n",
      "max       80.000000\n",
      "Name: age, dtype: float64\n",
      "    survived  pclass     sex  age  sibsp  parch     fare embarked   class  \\\n",
      "5          0       3    male  NaN      0      0   8.4583        Q   Third   \n",
      "17         1       2    male  NaN      0      0  13.0000        S  Second   \n",
      "19         1       3  female  NaN      0      0   7.2250        C   Third   \n",
      "26         0       3    male  NaN      0      0   7.2250        C   Third   \n",
      "28         1       3  female  NaN      0      0   7.8792        Q   Third   \n",
      "\n",
      "      who  adult_male deck  embark_town alive  alone  \n",
      "5     man        True  NaN   Queenstown    no   True  \n",
      "17    man        True  NaN  Southampton   yes   True  \n",
      "19  woman       False  NaN    Cherbourg   yes   True  \n",
      "26    man        True  NaN    Cherbourg    no   True  \n",
      "28  woman       False  NaN   Queenstown   yes   True  \n",
      "      sex   age  embark_town\n",
      "0    male  22.0  Southampton\n",
      "1  female  38.0    Cherbourg\n",
      "2  female  26.0  Southampton\n",
      "3  female  35.0  Southampton\n",
      "4    male  35.0  Southampton\n",
      "    sex   age  embark_town\n",
      "0  male  22.0  Southampton\n",
      "4  male  35.0  Southampton\n",
      "5  male   NaN   Queenstown\n",
      "6  male  54.0  Southampton\n",
      "7  male   2.0  Southampton\n",
      "sex\n",
      "female    314\n",
      "male      577\n",
      "dtype: int64\n"
     ]
    }
   ],
   "source": [
    "import seaborn as sns\n",
    "df_titanic = sns.load_dataset('titanic')\n",
    "\n",
    "#Exercicio 1\n",
    "print(df_titanic.head(5))\n",
    "\n",
    "#Exercicio 2\n",
    "print(len(df_titanic))\n",
    "\n",
    "#Exercicio 3\n",
    "print(\"Homens sobreviventes: \" , len(df_titanic[(df_titanic['survived']==1)&(df_titanic['adult_male']==True)]))\n",
    "\n",
    "#Exercicio 4\n",
    "print(\"Pessoas sobreviventes com menos de 30 anos: \",len(df_titanic[(df_titanic['survived']==1)&(df_titanic['age']<30)]))\n",
    "\n",
    "#Exercicio 5\n",
    "print(df_titanic['age'].describe())\n",
    "\n",
    "#Exercicio 6\n",
    "print(df_titanic[df_titanic['age'].isnull()].head(5))\n",
    "\n",
    "#Exercicio 7\n",
    "print(df_titanic[['sex','age','embark_town']].head(5))\n",
    "\n",
    "#Exercicio 8\n",
    "print(df_titanic[df_titanic['sex']=='male'][['sex','age','embark_town']].head(5))\n",
    "\n",
    "#Exercicio 9\n",
    "print(df_titanic.groupby('sex').size())"
   ]
  }
 ],
 "metadata": {
  "kernelspec": {
   "display_name": "Python 3",
   "language": "python",
   "name": "python3"
  },
  "language_info": {
   "codemirror_mode": {
    "name": "ipython",
    "version": 3
   },
   "file_extension": ".py",
   "mimetype": "text/x-python",
   "name": "python",
   "nbconvert_exporter": "python",
   "pygments_lexer": "ipython3",
   "version": "3.10.0"
  }
 },
 "nbformat": 4,
 "nbformat_minor": 2
}
