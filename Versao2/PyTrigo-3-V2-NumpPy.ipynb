{
 "cells": [
  {
   "cell_type": "markdown",
   "metadata": {},
   "source": [
    "# Biblioteca NumPy\n",
    "\n",
    "Este tutorial é sobre a utilização da biblioteca NumPy, uma das bibliotecas fundamentais do Python para computação científica, utilizada para trabalhar com **matrizes**, cuja designação em inglês e ao longo deste tutorial é **n-dimensional array** ou simplesmente **ndarrays**.\n",
    "\n",
    "Esta bilbioteca faz parte do package de computação científica [SciPy](https://www.scipy.org/).\n",
    "\n",
    "A biblioteca NumPy foi pensada para lidar com computação vetorizada possuindo funcionalidades para manipulação de vetores/matrizes muito mais eficientes do que a utilização de ciclos de repetição como o **for**.\n",
    "\n",
    "É a base de muitas outras bibliotecas como o Pandas, MatplotLib, Sickit-learn, entre outros.\n",
    "\n",
    "O primeiro passo para trabalhar com uma biblioteca no Python é importá-la com a utilização do comando import. Para além de importá-la podemos dar-lhe um nome (alias) mais curto para escrever menos texto. No caso da numpy utiliza-se comumente a sigla np."
   ]
  },
  {
   "cell_type": "code",
   "execution_count": 1,
   "metadata": {},
   "outputs": [],
   "source": [
    "#Para importar bilbiotecas em python é necessário utilizar o comando import\n",
    "import numpy as np\n",
    "#Caso o numpy não esteja instalado deverá correr o comando \"pip install numpy\""
   ]
  },
  {
   "cell_type": "code",
   "execution_count": 2,
   "metadata": {},
   "outputs": [
    {
     "name": "stdout",
     "output_type": "stream",
     "text": [
      "<class 'numpy.ndarray'>\n",
      "(3,)\n",
      "1 2 3\n",
      "[5 2 3]\n",
      "(2, 3)\n",
      "1 2 4\n",
      "(5, 3)\n",
      "miguel\n"
     ]
    }
   ],
   "source": [
    "a = np.array([1, 2, 3])   # Cria uma matriz com três elementos\n",
    "print(type(a))            # Imprime \"<class 'numpy.ndarray'>\"\n",
    "print(a.shape)            # Imprime o formato da matriz \"(3,)\"\n",
    "print(a[0], a[1], a[2])   # Imprime \"1 2 3\"\n",
    "a[0] = 5                  # Altera o valor de um elemento da matriz\n",
    "print(a)                  # Imprime \"[5, 2, 3]\"\n",
    "\n",
    "\n",
    "\n",
    "b = np.array([[1,2,3],[4,5,6]])    # Cria uma matriz bidimensional\n",
    "print(b.shape)                     # Imprime o formato da matriz \"(2, 3)\"\n",
    "print(b[0, 0], b[0, 1], b[1, 0])   # Imprime \"1 2 4\"\n",
    "\n",
    "c = np.array([[23,1.75,'antonio'],[23,1.75,'antonio'],[23,1.75,'miguel'],[23,1.75,'antonio'],[23,1.75,'antonio']])\n",
    "print(c.shape) # Imprime o formato da matriz \"(2, 3)\"\n",
    "print(c[2,2]) # Imprime o elemento da matriz na posicao (2,2) neste caso o valor 'miguel'"
   ]
  },
  {
   "cell_type": "markdown",
   "metadata": {},
   "source": [
    "## Tipos de dados\n",
    "\n",
    "No numpy todos os elementos de uma matriz/ndarray são de um determinado tipo de dados."
   ]
  },
  {
   "cell_type": "code",
   "execution_count": 3,
   "metadata": {},
   "outputs": [
    {
     "name": "stdout",
     "output_type": "stream",
     "text": [
      "int32\n",
      "float64\n",
      "float64\n"
     ]
    }
   ],
   "source": [
    "#Depois de importar a biblioteca uma primeira vez para o notebook não é preciso voltar a importar.\n",
    "#Neste notebook importa-se em cada uma das células por uma questão de demonstração\n",
    "import numpy as np\n",
    "\n",
    "x = np.array([1, 2])   \n",
    "print(x.dtype)         \n",
    "x = np.array([1.0, 2.0])   \n",
    "print(x.dtype)             \n",
    "x = np.array([1, 2], dtype=np.float64)   \n",
    "print(x.dtype)                         "
   ]
  },
  {
   "cell_type": "markdown",
   "metadata": {},
   "source": [
    "## Criação de matrizes/ndarray\n",
    "A bilioteca NumPy fornece muitas formas para criar matrizes/ndarray."
   ]
  },
  {
   "cell_type": "code",
   "execution_count": 4,
   "metadata": {},
   "outputs": [
    {
     "name": "stdout",
     "output_type": "stream",
     "text": [
      "Vetor de 5 elementos seguidos: \n",
      "[0 1 2 3 4]\n",
      "Vetor de 5 elementos (igualmente espaçados), entre 1 e 2: \n",
      "[1.   1.25 1.5  1.75 2.  ]\n",
      "Vetor de 5 elementos iguais a 0s:\n",
      "[0. 0. 0. 0. 0.]\n",
      "Matriz 2x2 de zeros: \n",
      "[[0. 0.]\n",
      " [0. 0.]]\n",
      "Matriz 2x3 de uns:\n",
      "[[1. 1. 1.]\n",
      " [1. 1. 1.]]\n",
      "Matriz 4x2 de setes(7):\n",
      "[[7 7]\n",
      " [7 7]\n",
      " [7 7]\n",
      " [7 7]]\n",
      "Matriz identidade 2x2: \n",
      "[[1. 0.]\n",
      " [0. 1.]]\n"
     ]
    }
   ],
   "source": [
    "import numpy as np\n",
    "\n",
    "print(\"Vetor de 5 elementos seguidos: \")\n",
    "print(np.arange(5))\n",
    "print(\"Vetor de 5 elementos (igualmente espaçados), entre 1 e 2: \")\n",
    "print(np.linspace(1,2,5))\n",
    "print(\"Vetor de 5 elementos iguais a 0s:\")\n",
    "print(np.zeros(5))\n",
    "print(\"Matriz 2x2 de zeros: \")\n",
    "print(np.zeros((2,2)))\n",
    "print(\"Matriz 2x3 de uns:\")\n",
    "print(np.ones((2,3)))              \n",
    "print(\"Matriz 4x2 de setes(7):\")           \n",
    "print(np.full((4,2), 7))               \n",
    "print(\"Matriz identidade 2x2: \")\n",
    "print(np.eye(2))                 "
   ]
  },
  {
   "cell_type": "markdown",
   "metadata": {},
   "source": [
    "### Criação matrizes com valores aleatórios\n",
    "\n",
    "O NumPy permite a criação de matrizes com valores aleatórios que podem seguir uma das muitas distribuições disponíveis no NumPy (beta, binomial, chisquare, dirichlet, exponential, \n",
    "f, gamma, geometric, gumbel, hypergeometric, laplace, logistic, lognormal, logseries, multinomial, multivariate_normal, negative_binomial, noncentral_chisquare, noncentral_f,\n",
    "normal, pareto, poisson, power, rayleigh, standard_cauchy, standard_exponential, standard_gamma(shape[, size]), standard_normal([size]), standard_t, triangular, uniform, \n",
    "vonmises, wald, weibull, zipf) \n",
    "                              \n",
    "Ver mais em [Random sampling](https://docs.scipy.org/doc/numpy-1.14.0/reference/routines.random.html).\n",
    "\n",
    "De seguida apresentam-se alguns exemplos."
   ]
  },
  {
   "cell_type": "code",
   "execution_count": 6,
   "metadata": {},
   "outputs": [
    {
     "name": "stdout",
     "output_type": "stream",
     "text": [
      "[0.23277514 0.94916488 0.06681783 ... 0.56444099 0.83069089 0.7535711 ]\n",
      "Media: 0.503627558676053\n",
      "Desvio padrao: 0.2883124152487892\n",
      "Media: -0.012738527066338863\n",
      "Desvio padrao: 1.0060664293481285\n",
      "Matriz de valores aleatórios entre 0, 1 com base numa distribuição uniforme: \n",
      "[[0.82122354 0.41402336 0.17301212 0.82324417 0.98989913]\n",
      " [0.81561679 0.6227411  0.97740409 0.60263931 0.87246993]\n",
      " [0.26888415 0.54408409 0.27090453 0.62203862 0.70267653]]\n",
      "Média (a+b)/2, em que a = 0 e b = 1: 0.6347240969028843\n",
      "Desvio padrão (Raiz Quadrada ((b-a)^2/12)): 0.2510515734583557\n",
      "\n",
      "Matriz de valores aleatórios entre 0, 1 com base numa distribuição normal: \n",
      "[[ 0.3180864   0.92497805  0.05886141 -0.12391226  0.87400077]\n",
      " [ 0.0295627  -1.42025827 -0.73768432  0.14188705  0.01783391]\n",
      " [ 0.26428412  0.89158713  1.04017867 -0.93242333 -0.66525743]]\n",
      "Média (0): 0.04544830742953119\n",
      "Desvio padrão (1): 0.709452283570614\n",
      "Nota: com poucos valores é provável que a média e o desvio padrão não sejam 0 e 1. Correr para uma matriz de maiores dimensões.\n",
      "\n",
      "Matriz de valores aleatórios entre 0,1 com base numa distribuição exponencial: \n",
      "[[0.07211035 0.16894286 0.34023807 0.19683642 0.19616674]\n",
      " [0.05568714 0.66152071 0.41361753 0.02960599 0.28084903]\n",
      " [0.40780561 0.00149907 0.07433424 0.04611937 0.06387546]]\n",
      "Média (1/lambda): 0.20061390634164245\n",
      "Desvio Padrão (Raiz Quadrada (1/lambda^2)): 0.18122243929202875\n",
      "Nota: caso a média e o desvio padrão não sejam próximos dos valores esperados, correr para uma matriz de maiores dimensões.\n"
     ]
    }
   ],
   "source": [
    "import numpy as np\n",
    "\n",
    "#Geracao de vetores com valores aleatorios\n",
    "#Utilizando uma distribuico uniforme\n",
    "v1 = np.random.random(5000)\n",
    "print(\"Vetor v1:\")\n",
    "print(v1)\n",
    "print(\"Media: \" + str(np.mean(v1)))\n",
    "print(\"Desvio padrao: \" + str(np.std(v1)))\n",
    "#Utilizando uma distribuição normal de média 0 e desvio padrão 0\n",
    "v2 = np.random.normal(0,1,5000)\n",
    "print(\"Vetor v2:\")\n",
    "print(v2)\n",
    "print(\"Media: \" + str(np.mean(v2)))\n",
    "print(\"Desvio padrao: \" + str(np.std(v2)))\n",
    "\n",
    "#Geração de uma matriz/ndarray (3x5) com valores aleatórios com base na distribuição uniforme \n",
    "#contínua com valores entre [0,1) \n",
    "m1 = np.random.random((3,5))  \n",
    "print(\"Matriz de valores aleatórios entre 0, 1 com base numa distribuição uniforme: \")\n",
    "print(m1)\n",
    "#Para verificar pode-se calcular a média e o desvio padrão dos valores\n",
    "print(\"Média (a+b)/2, em que a = 0 e b = 1: \" + str(np.mean(m1)))\n",
    "print(\"Desvio padrão (Raiz Quadrada ((b-a)^2/12)): \" + str(np.std(m1)))\n",
    "print()\n",
    "\n",
    "#Geração de uma matriz/ndarray (3x5) com valores aleatórios com base na distribuição normal\n",
    "#com média 0 e desivo padrão 1\n",
    "#O primeiro parametro é a média, o segundo o desvio padrão e o terceiro a matriz\n",
    "m2 = np.random.normal(0,1,(3,5))  \n",
    "print(\"Matriz de valores aleatórios entre 0, 1 com base numa distribuição normal: \")\n",
    "print(m2)\n",
    "#Para verificar pode-se calcular a média e o desvio padrão dos valores\n",
    "print(\"Média (0): \" + str(np.mean(m2)))\n",
    "print(\"Desvio padrão (1): \" + str(np.std(m2)))\n",
    "print(\"Nota: com poucos valores é provável que a média e o desvio padrão não sejam 0 e 1. Correr para uma matriz de maiores dimensões.\")\n",
    "print()\n",
    "\n",
    "#Geração de uma matriz/ndarray (3x5) com valores aleatórios com base na distribuição exponencial \n",
    "#O primeiro padrão é a escala (inverso da taxa, escala = 1/lambda) e o segundo a matriz\n",
    "lambda1 = 5\n",
    "g = np.random.exponential(1/lambda1,(3,5))  \n",
    "print(\"Matriz de valores aleatórios entre 0,1 com base numa distribuição exponencial: \")\n",
    "print(g)\n",
    "#Para verificar que está certo pode-se calcular a média e a variância dos valores\n",
    "#print(\"Lambda: \" + str(lambda1))\n",
    "print(\"Média (1/lambda): \" + str(np.mean(g))) #Deverá ser igual a 1/\n",
    "print(\"Desvio Padrão (Raiz Quadrada (1/lambda^2)): \" + str(np.std(g)))\n",
    "print(\"Nota: caso a média e o desvio padrão não sejam próximos dos valores esperados, correr para uma matriz de maiores dimensões.\")\n"
   ]
  },
  {
   "cell_type": "code",
   "execution_count": 7,
   "metadata": {},
   "outputs": [
    {
     "name": "stdout",
     "output_type": "stream",
     "text": [
      "[1 2 3 4]\n",
      "[0.         0.33333333 0.66666667 1.        ]\n"
     ]
    }
   ],
   "source": [
    "#Por vezes é necessário colocar os valores de vetor/matriz entre 0 e 1\n",
    "#Este processo designa-se de normalização\n",
    "#Para tal é necessário subtrair cada um dos elementos pelo menor elemento e dividir pela amplitude dos elementos\n",
    "# do vetor/matriz\n",
    "#Exemplo:\n",
    "v3 = np.arange(1,5)\n",
    "print(v3)\n",
    "#Normalizar\n",
    "v3 = (v3-min(v3))/(max(v3)-min(v3))\n",
    "print(v3)"
   ]
  },
  {
   "cell_type": "markdown",
   "metadata": {},
   "source": [
    "## Slicing de matrizes/ndarray\n",
    "\n",
    "Também permite o slicing, visto no notebook \"Introdução ao Python\""
   ]
  },
  {
   "cell_type": "code",
   "execution_count": 40,
   "metadata": {},
   "outputs": [
    {
     "name": "stdout",
     "output_type": "stream",
     "text": [
      "[[ 1  2  3  4]\n",
      " [ 5  6  7  8]\n",
      " [ 9 10 11 12]]\n",
      "[[2 3]\n",
      " [6 7]]\n"
     ]
    }
   ],
   "source": [
    "import numpy as np\n",
    "a = np.array([[1,2,3,4], [5,6,7,8], [9,10,11,12]])\n",
    "b = a[:2, 1:3]\n",
    "print(a)\n",
    "print(b)"
   ]
  },
  {
   "cell_type": "code",
   "execution_count": 41,
   "metadata": {},
   "outputs": [
    {
     "name": "stdout",
     "output_type": "stream",
     "text": [
      "[5 6 7 8] (4,)\n",
      "[[5 6 7 8]] (1, 4)\n",
      "[ 2  6 10] (3,)\n",
      "[[ 2]\n",
      " [ 6]\n",
      " [10]] (3, 1)\n"
     ]
    }
   ],
   "source": [
    "import numpy as np\n",
    "a = np.array([[1,2,3,4], [5,6,7,8], [9,10,11,12]])\n",
    "\n",
    "l1_d1 = a[1, :]    # Retira a segunda linha para uma matriz unidimensional\n",
    "l1_d2 = a[1:2, :]  # Retira a segunda linha para uma matriz bidimensional\n",
    "print(l1_d1, l1_d1.shape)  # Imprime os valores da segunda linha e respetivo formato\n",
    "print(l1_d2, l1_d2.shape)  # Imprime os valores da segunda linha e respetivo formato\n",
    "\n",
    "c1_d1 = a[:, 1]\n",
    "c1_d2 = a[:, 1:2]\n",
    "print(c1_d1, c1_d1.shape)\n",
    "print(c1_d2, c1_d2.shape)  "
   ]
  },
  {
   "cell_type": "markdown",
   "metadata": {},
   "source": [
    "## Indexação de matrizes/ndarray\n",
    "\n",
    "A biblioteca NumPy permite selecionar elementos de uma matriz/ndarray tendo por base outras matrizes e expressões booleanas."
   ]
  },
  {
   "cell_type": "code",
   "execution_count": 42,
   "metadata": {},
   "outputs": [
    {
     "name": "stdout",
     "output_type": "stream",
     "text": [
      "Matriz a de 3x2:\n",
      "[[1 2]\n",
      " [3 4]\n",
      " [5 6]]\n",
      "[1 4 5]\n",
      "[1 4 5]\n",
      "[2 2]\n",
      "[2 2]\n"
     ]
    }
   ],
   "source": [
    "#Indexação de matrizes utilizando outras matrizes\n",
    "import numpy as np\n",
    "a = np.array([[1,2], [3, 4], [5, 6]])\n",
    "print(\"Matriz a de 3x2:\")\n",
    "print(a)\n",
    "#Indexação utilizando uma matriz de posições a mostrar\n",
    "print(a[[0, 1, 2], [0, 1, 0]]) #mostrar os elementos que estão na posição 0,0->1; 1,1->4; 2,0->5\n",
    "#O exemplo acima pode ser conseguido através da indicação de cada um dos elementos \n",
    "print(np.array([a[0, 0], a[1, 1], a[2, 0]])) \n",
    "#Ao utilizar uma matriz de elementos inteiros para indexação podemos reutilizar elementos\n",
    "print(a[[0, 0], [1, 1]])\n",
    "#O exemplo acima com outra notação\n",
    "print(np.array([a[0, 1], a[0, 1]]))"
   ]
  },
  {
   "cell_type": "code",
   "execution_count": 43,
   "metadata": {},
   "outputs": [
    {
     "name": "stdout",
     "output_type": "stream",
     "text": [
      "[[ 1  2  3]\n",
      " [ 4  5  6]\n",
      " [ 7  8  9]\n",
      " [10 11 12]]\n",
      "[ 1  6  7 11]\n",
      "[[11  2  3]\n",
      " [ 4  5 16]\n",
      " [17  8  9]\n",
      " [10 21 12]]\n",
      "[0 1 2 3]\n"
     ]
    }
   ],
   "source": [
    "#Alterar os elementos de posições da matriz\n",
    "import numpy as np\n",
    "a = np.array([[1,2,3], [4,5,6], [7,8,9], [10, 11, 12]])\n",
    "print(a)\n",
    "b = np.array([0, 2, 0, 1])\n",
    "# Selecionar um elemento de cada linha utilizando os indices em b\n",
    "print(a[np.arange(4), b])\n",
    "# Alterar um elemento de cada linha utilizando os indicies em b\n",
    "a[np.arange(4), b] += 10\n",
    "print(a)\n",
    "print(np.arange(4))"
   ]
  },
  {
   "cell_type": "code",
   "execution_count": 44,
   "metadata": {},
   "outputs": [
    {
     "name": "stdout",
     "output_type": "stream",
     "text": [
      "[[False False]\n",
      " [ True  True]\n",
      " [ True  True]]\n",
      "[3 4 5 6]\n",
      "[3 4 5 6]\n",
      "[3 4 5 6]\n"
     ]
    }
   ],
   "source": [
    "#Indexação de matrizes utilizando expressões booleanas\n",
    "#Utilizado para selecionar os lementos de uma matriz que \n",
    "#satisfaçam uma determinada condição\n",
    "import numpy as np\n",
    "a = np.array([[1,2], [3, 4], [5, 6]])\n",
    "bool_idx = (a > 2)\n",
    "print(bool_idx)\n",
    "print(a[bool_idx])\n",
    "print(a[a > 2])\n",
    "\n",
    "#Utilizando a função where\n",
    "print(a[np.where(a>2)])"
   ]
  },
  {
   "cell_type": "markdown",
   "metadata": {},
   "source": [
    "## Aritmética de matrizes/ndarray\n",
    "\n",
    "De seguida aprentam-se algumas operações aritméticas para  a manipulação dos elementos de uma matriz/ndarray."
   ]
  },
  {
   "cell_type": "code",
   "execution_count": 45,
   "metadata": {},
   "outputs": [
    {
     "name": "stdout",
     "output_type": "stream",
     "text": [
      "Soma dos elementos de x com y\n",
      "[[ 6.  8.]\n",
      " [10. 12.]]\n",
      "[[ 6.  8.]\n",
      " [10. 12.]]\n",
      "Diferenca dos elementos de x com y\n",
      "[[-4. -4.]\n",
      " [-4. -4.]]\n",
      "[[-4. -4.]\n",
      " [-4. -4.]]\n",
      "Multiplicacao dos elementos de x com y\n",
      "[[ 5. 12.]\n",
      " [21. 32.]]\n",
      "[[ 5. 12.]\n",
      " [21. 32.]]\n",
      "Divisao dos elementos de x por y\n",
      "[[0.2        0.33333333]\n",
      " [0.42857143 0.5       ]]\n",
      "[[0.2        0.33333333]\n",
      " [0.42857143 0.5       ]]\n",
      "Raiz quadrada dos elementos de x\n",
      "[[1.         1.41421356]\n",
      " [1.73205081 2.        ]]\n"
     ]
    }
   ],
   "source": [
    "#Operacoes ao nível dos elementos das matrizes\n",
    "import numpy as np\n",
    "\n",
    "a = np.array([[1,2],[3,4]], dtype=np.float64)\n",
    "b = np.array([[5,6],[7,8]], dtype=np.float64)\n",
    "\n",
    "print(\"Soma dos elementos de x com y\")\n",
    "print(a + b)\n",
    "print(np.add(a, b))\n",
    "print(\"Diferenca dos elementos de x com y\")\n",
    "print(a - b)\n",
    "print(np.subtract(a, b))\n",
    "print(\"Multiplicacao dos elementos de x com y\")\n",
    "print(a * b)\n",
    "print(np.multiply(a, b))\n",
    "print(\"Divisao dos elementos de x por y\")\n",
    "print(a / b)\n",
    "print(np.divide(a, b))\n",
    "print(\"Raiz quadrada dos elementos de x\")\n",
    "print(np.sqrt(a))\n"
   ]
  },
  {
   "cell_type": "code",
   "execution_count": 46,
   "metadata": {},
   "outputs": [
    {
     "name": "stdout",
     "output_type": "stream",
     "text": [
      "Produto da matrizes v e w\n",
      "219\n",
      "219\n",
      "Produto das matrizes x e v\n",
      "[29 67]\n",
      "[29 67]\n",
      "Produto das matrizes x e y\n",
      "[[19 22]\n",
      " [43 50]]\n",
      "[[19 22]\n",
      " [43 50]]\n"
     ]
    }
   ],
   "source": [
    "#Operacoes ao nível das matrizes\n",
    "\n",
    "import numpy as np\n",
    "\n",
    "x = np.array([[1,2],[3,4]])\n",
    "y = np.array([[5,6],[7,8]])\n",
    "\n",
    "v = np.array([9,10])\n",
    "w = np.array([11, 12])\n",
    "\n",
    "print(\"Produto da matrizes v e w\")\n",
    "print(v.dot(w))\n",
    "print(np.dot(v, w))\n",
    "\n",
    "print(\"Produto das matrizes x e v\")\n",
    "print(x.dot(v))\n",
    "print(np.dot(x, v))\n",
    "\n",
    "print(\"Produto das matrizes x e y\")\n",
    "print(x.dot(y))\n",
    "print(np.dot(x, y))\n"
   ]
  },
  {
   "cell_type": "markdown",
   "metadata": {},
   "source": [
    "## Soma de elementos da matriz/ndarray"
   ]
  },
  {
   "cell_type": "code",
   "execution_count": 8,
   "metadata": {},
   "outputs": [
    {
     "name": "stdout",
     "output_type": "stream",
     "text": [
      "Matriz a:\n",
      "[[1 2]\n",
      " [3 4]]\n",
      "Soma todos os elementos de x\n",
      "10\n",
      "Soma todos os elementos das colunas de x\n",
      "[4 6]\n",
      "Soma todos os elementos das linhas de x\n",
      "[3 7]\n"
     ]
    }
   ],
   "source": [
    "import numpy as np\n",
    "\n",
    "a = np.array([[1,2],[3,4]])\n",
    "print('Matriz a:')\n",
    "print(a)\n",
    "print(\"Soma todos os elementos de x\")\n",
    "print(np.sum(a))\n",
    "print(\"Soma todos os elementos das colunas de x\")\n",
    "print(np.sum(a, axis=0))  \n",
    "print(\"Soma todos os elementos das linhas de x\")\n",
    "print(np.sum(a, axis=1))"
   ]
  },
  {
   "cell_type": "markdown",
   "metadata": {},
   "source": [
    "## Estatística sobre elementos das matrizes\n",
    "\n",
    "A biblioteca NumPy disponibiliza o cálculo de algumas estatítisticas como a média, o desvio padrão, etc.\n",
    "\n",
    "Permite que o cálculo das estatíticas poassa ser feito sobre os elementos todos da matriz/ndarray ou só sobre as linhas ou só sobre as colunas.\n",
    "\n",
    "De seguida apresentam-se alguns exemplos.\n",
    "\n",
    "Mais informação disponível em (https://docs.scipy.org/doc/numpy/reference/routines.statistics.html)"
   ]
  },
  {
   "cell_type": "code",
   "execution_count": 13,
   "metadata": {},
   "outputs": [
    {
     "name": "stdout",
     "output_type": "stream",
     "text": [
      "Matriz a:\n",
      "[[4 3 5]\n",
      " [1 2 1]]\n",
      "Média de todos os valores: \n",
      "2.6666666666666665\n",
      "Média dos valores nas linhas: \n",
      "[4.         1.33333333]\n",
      "Média dos valores nas colunas: \n",
      "[2.5 2.5 3. ]\n",
      "Desvio padrão de todos os valores: \n",
      "1.4907119849998598\n",
      "Desvio padrão dos valores nas linhas: \n",
      "[0.81649658 0.47140452]\n",
      "Desvio padrão dos valores nas colunas: \n",
      "[1.5 0.5 2. ]\n",
      "Valor minimo: \n",
      "1\n",
      "Valor minimo dos valores nas linhas: \n",
      "[3 1]\n",
      "Valor minimo dos valores nas colunas: \n",
      "[1 2 1]\n",
      "Vetor b:\n",
      "[1, 2, 3, 1, 1, 3]\n",
      "Valores únicos:\n",
      "[1 2 3]\n",
      "Contagem dos valores únicos:\n",
      "(array([1, 2, 3]), array([3, 1, 2], dtype=int64))\n",
      "Histograma a partir dos valores de um vetor:\n",
      "Vetor c:\n",
      "[1.  1.5 2.  2.  3.  3.5 3.5]\n",
      "Histograma: contagem/intervalos da classe:\n",
      "(array([3, 0, 0, 0, 0, 1, 0, 0, 0, 2], dtype=int64), array([1. , 1.2, 1.4, 1.6, 1.8, 2. , 2.2, 2.4, 2.6, 2.8, 3. ]))\n",
      "Histograma: gráfico:\n"
     ]
    },
    {
     "data": {
      "image/png": "[encoded data removed]",
      "text/plain": [
       "<Figure size 432x288 with 1 Axes>"
      ]
     },
     "metadata": {
      "needs_background": "light"
     },
     "output_type": "display_data"
    }
   ],
   "source": [
    "import numpy as np\n",
    "\n",
    "a = np.array([[4, 3, 5], [1, 2, 1]])\n",
    "\n",
    "print(\"Matriz a:\")\n",
    "print(a)\n",
    "\n",
    "print(\"Média de todos os valores: \")\n",
    "print(np.mean(a))\n",
    "print(\"Média dos valores nas linhas: \")\n",
    "print(np.mean(a,axis=1))\n",
    "print(\"Média dos valores nas colunas: \")\n",
    "print(np.mean(a,axis=0))\n",
    "\n",
    "print(\"Desvio padrão de todos os valores: \")\n",
    "print(np.std(a))\n",
    "print(\"Desvio padrão dos valores nas linhas: \")\n",
    "print(np.std(a,axis=1))\n",
    "print(\"Desvio padrão dos valores nas colunas: \")\n",
    "print(np.std(a,axis=0))\n",
    "\n",
    "print(\"Valor minimo: \")\n",
    "print(np.amin(a))\n",
    "print(\"Valor minimo dos valores nas linhas: \")\n",
    "print(np.amin(a,axis=1))\n",
    "print(\"Valor minimo dos valores nas colunas: \")\n",
    "print(np.amin(a,axis=0))\n",
    "\n",
    "print(\"Vetor b:\")\n",
    "b = [1,2,3,1,1,3]\n",
    "print(b)\n",
    "print(\"Valores únicos:\")\n",
    "print(np.unique(b))\n",
    "print(\"Contagem dos valores únicos:\")\n",
    "print(np.unique(b, return_counts=True))\n",
    "#print(np.bincount(b))\n",
    "print(\"Histograma a partir dos valores de um vetor:\")\n",
    "c = np.array([1,1.5,2.0,2.0,3.0,3.5,3.5])\n",
    "print(\"Vetor c:\")\n",
    "print(c)\n",
    "\n",
    "print(\"Histograma: contagem/intervalos da classe:\")\n",
    "print(np.histogram(b))\n",
    "\n",
    "print(\"Histograma: gráfico:\")\n",
    "#Mais à frente ver-se-á como trabalhar com as bibliotecas gráficas mas fica aqui um exemplo\n",
    "import matplotlib.pyplot as plt\n",
    "#Caso esta bilbioteca não esteja instalada correr \"pip install matplotlib\"\n",
    "plt.hist(b)\n",
    "plt.show()"
   ]
  },
  {
   "cell_type": "code",
   "execution_count": 14,
   "metadata": {},
   "outputs": [
    {
     "name": "stdout",
     "output_type": "stream",
     "text": [
      "[176 183 185 160 165 160 176 184 160 174 161 168 178 177 170 166 175 181\n",
      " 184 189 162 188 165 161 169 185 175 183 181 166 182 186 181 180 167 182\n",
      " 166 187 177 164 163 161 168 179 167 179 180 164 163 180 189 167 189 175\n",
      " 164 187 173 162 177 161]\n",
      "173.78333333333333\n",
      "[3 4 2 2 3 2 3 3 2 1 1 0 0 1 1 3 2 3 1 2 3 3 2 2 2 2 1 2 1 3]\n",
      "[160 161 162 163 164 165 166 167 168 169 170 173 174 175 176 177 178 179\n",
      " 180 181 182 183 184 185 186 187 188 189]\n"
     ]
    },
    {
     "data": {
      "image/png": "[encoded data removed]",
      "text/plain": [
       "<Figure size 432x288 with 1 Axes>"
      ]
     },
     "metadata": {
      "needs_background": "light"
     },
     "output_type": "display_data"
    }
   ],
   "source": [
    "#Exemplo 1. Criar um histograma das alturas dos alunos de um turma\n",
    "alturas = np.random.randint(160,190,60) #Geracao de uma turma de 60 alunos com alturas entre 160..190\n",
    "print(alturas)\n",
    "print(np.mean(alturas))\n",
    "print(np.bincount(alturas)[160:]) #Contar o numero de observacoes em cada uma das alturas\n",
    "print(np.unique(alturas)) #Para validar o histograma\n",
    "#Histograma\n",
    "import matplotlib.pyplot as plt\n",
    "plt.hist(alturas,bins=np.arange(160,191))\n",
    "plt.show()"
   ]
  },
  {
   "cell_type": "markdown",
   "metadata": {},
   "source": [
    "## Ordenação de elementos da matriz"
   ]
  },
  {
   "cell_type": "code",
   "execution_count": 49,
   "metadata": {},
   "outputs": [
    {
     "name": "stdout",
     "output_type": "stream",
     "text": [
      "Matriz a:\n",
      "[[4 3 5]\n",
      " [1 2 1]]\n",
      "Ordenar os elementos das linhas:\n",
      "[[3 4 5]\n",
      " [1 1 2]]\n"
     ]
    }
   ],
   "source": [
    "import numpy as np\n",
    "\n",
    "a = np.array([[4, 3, 5], [1, 2, 1]])\n",
    "print(\"Matriz a:\")\n",
    "print(a)\n",
    "print(\"Ordenar os elementos das linhas:\")\n",
    "b = np.sort(a, axis=1)\n",
    "print(b)"
   ]
  },
  {
   "cell_type": "markdown",
   "metadata": {},
   "source": [
    "## Broadcasting\n",
    "\n",
    "Mecanismo que permite ao NumPy trabalhar com matrizes/ndarray de diferentes dimensões.\n",
    "\n",
    "No exemplo seguinte mostra-se como somar os valores de um vetor a uma matriz/ndarray, da forma tradicional e utilizando o mecanismo de broadcasting."
   ]
  },
  {
   "cell_type": "code",
   "execution_count": 50,
   "metadata": {},
   "outputs": [
    {
     "name": "stdout",
     "output_type": "stream",
     "text": [
      "Metodo 1:\n",
      "[[ 2  2  4]\n",
      " [ 5  5  7]\n",
      " [ 8  8 10]\n",
      " [11 11 13]]\n",
      "Metodo 2:\n",
      "[[ 2  2  4]\n",
      " [ 5  5  7]\n",
      " [ 8  8 10]\n",
      " [11 11 13]]\n"
     ]
    }
   ],
   "source": [
    "import numpy as np\n",
    "\n",
    "# Adicionar o vetor a cada linha da matriz x guardando na matriz y \n",
    "a = np.array([[1,2,3], [4,5,6], [7,8,9], [10, 11, 12]])\n",
    "v = np.array([1, 0, 1])\n",
    "\n",
    "print(\"Metodo 1:\")\n",
    "b = np.empty_like(a) #Cria um vetor b igual ao vetor a com valores todos a zero\n",
    "# Adcionar à matriz b os valores de a e v\n",
    "for i in range(4):\n",
    "    b[i, :] = a[i, :] + v\n",
    "print(b)\n",
    "\n",
    "print(\"Metodo 2:\")\n",
    "b = a + v \n",
    "print(b)\n"
   ]
  },
  {
   "cell_type": "markdown",
   "metadata": {},
   "source": [
    "## Alterar o formato das matrizes/ndarray\n",
    "\n",
    "A bilbioteca NumPy permite alterar o formato das matrizes/ndarray.\n",
    "\n",
    "Para isso possui os seguintes métodos:\n",
    "* transpose, que apresenta a matriz/ndarray transposta\n",
    "* ravel, que transforma uma matriz/ndarray numa lista de elementos\n",
    "* reshape, que dá a forma da matriz/ndarray desejada a uma lista de elementos\n",
    "* newaxis, que permite adicionar uma nova dimensão à matriz/ndarray\n",
    "* resize, que permite adicionar elementos à matriz/ndarray\n",
    "\n",
    "Exemplos:"
   ]
  },
  {
   "cell_type": "code",
   "execution_count": 51,
   "metadata": {},
   "outputs": [
    {
     "name": "stdout",
     "output_type": "stream",
     "text": [
      "Matriz a:\n",
      "[[1 2 3]\n",
      " [4 5 6]]\n",
      "(2, 3)\n",
      "Matriz a transposta:\n",
      "[[1 4]\n",
      " [2 5]\n",
      " [3 6]]\n",
      "Elementos da matriz transformados numa lista:\n",
      "[1 2 3 4 5 6]\n",
      "[1 2 3 4 5 6]\n",
      "Matriz b:\n",
      "[[1 2]\n",
      " [3 4]\n",
      " [5 6]]\n",
      "(3, 2)\n",
      "[1 2 3 4 5 6]\n",
      "Redimensionar uma matriz:\n",
      "[[1 2 3]\n",
      " [4 5 6]]\n",
      "[[1 2]\n",
      " [3 4]\n",
      " [5 6]\n",
      " [0 0]\n",
      " [0 0]]\n",
      "Adicionar uma dimensão a uma matriz:\n",
      "[0 1 2 3]\n",
      "[[0]\n",
      " [1]\n",
      " [2]\n",
      " [3]]\n"
     ]
    }
   ],
   "source": [
    "import numpy as np\n",
    "\n",
    "a = np.array([[1, 2, 3], [4, 5, 6]])\n",
    "print('Matriz a:')\n",
    "print(a)\n",
    "print(a.shape)\n",
    "print('Matriz a transposta:')\n",
    "print(np.transpose(a))\n",
    "print('Elementos da matriz transformados numa lista:')\n",
    "print(a.ravel())\n",
    "print(np.ravel(a))\n",
    "print('Matriz b:')\n",
    "b = a.reshape((3, 2)) #Da outra estrutura ao vetor a, tem de ter os mesmos elementos e segue a ordem natural\n",
    "print(b)\n",
    "print(b.shape)\n",
    "print(b.ravel())\n",
    "print('Redimensionar uma matriz:') \n",
    "c = np.array([[1, 2, 3], [4, 5, 6]])\n",
    "print(c)\n",
    "c.resize((5,2))\n",
    "print(c)\n",
    "#Não se pode redimensionar uma matriz que já tenha sido referenciada anteriormente\n",
    "print('Adicionar uma dimensão a uma matriz:')\n",
    "d = np.arange(4)\n",
    "print(d)\n",
    "e = d[:,np.newaxis]\n",
    "print(e)"
   ]
  },
  {
   "cell_type": "markdown",
   "metadata": {},
   "source": [
    "## Utilização de funções lambda e list comprehension em matrizes/ndarray\n",
    "\n",
    "As funções lambda, apresentadas no notebook [pytrigo-1-intro.ipynb](pytrigo-1-intro.ipynb), permitem aplicar a todos os elementos de uma matriz/ndarray um determinada função, ao contrário do processo normal que seria o de passar uma matriz/ndarray por parametro para a execução de uma determinada função.\n",
    "\n",
    "De seguida apresentam-se alguns exemplos de utilização de funções lambdas em matrizes/arrays."
   ]
  },
  {
   "cell_type": "code",
   "execution_count": 52,
   "metadata": {},
   "outputs": [
    {
     "name": "stdout",
     "output_type": "stream",
     "text": [
      "Array a:\n",
      "[1 2 3]\n",
      "Array a (>2): \n",
      "[3]\n",
      "[3]\n",
      "[3]\n",
      "Array b:\n",
      "[[1 2 3]\n",
      " [4 5 6]]\n",
      "Array b (>2): \n",
      "[3 4 5 6]\n",
      "[[3], [4, 5, 6]]\n",
      "[[3]\n",
      " [4]\n",
      " [5]\n",
      " [6]]\n",
      "Array b^2: \n",
      "[[ 1  4  9]\n",
      " [16 25 36]]\n",
      "[[ 1  4  9]\n",
      " [16 25 36]]\n",
      "[[ 1  4  9]\n",
      " [16 25 36]]\n"
     ]
    }
   ],
   "source": [
    "import numpy as np\n",
    "\n",
    "a = np.array([1, 2, 3])\n",
    "b = np.array([[1, 2, 3], [4, 5, 6]])\n",
    "\n",
    "print(\"Array a:\")\n",
    "print(a)\n",
    "#Mostrar todos os valores superiores a 3\n",
    "print(\"Array a (>2): \")\n",
    "print(a[a>2])\n",
    "print([x for x in a if x > 2])\n",
    "print(np.array(list(filter(lambda x : x > 2, a))))\n",
    "   \n",
    "print(\"Array b:\")\n",
    "print(b)\n",
    "#Mostrar todos os valores superiores a 3\n",
    "print(\"Array b (>2): \")\n",
    "print(b[b>2])\n",
    "print([[j for j in i if j>2] for i in b])\n",
    "#print(np.array(list(filter(lambda x : x > 2, b)))) \n",
    "#a instrução acima dá erro, é preciso converter primeiro o array 2d para 1d\n",
    "print(np.array(list(filter(lambda x : x > 2, b.reshape(6,1)))))\n",
    "\n",
    "#Mostrar o quadrado de todos os valores\n",
    "print(\"Array b^2: \")\n",
    "print(b**2)\n",
    "print(np.array([x**2 for x in b]))\n",
    "print(np.array(list(map(lambda x : x**2, b))))"
   ]
  },
  {
   "cell_type": "markdown",
   "metadata": {},
   "source": [
    "## Leitura e escrita de ficheiros\n",
    "\n",
    "A leitura e escrita de ficheiros na biblioteca NumPy faz-se recorrendo aos métodos:\n",
    "* loadtxt(fname[, dtype, comments, delimiter, ...])\n",
    "* savetxt(fname, X[, fmt, delimiter, newline, ...])\n",
    "* genfromtxt(fname[, dtype, comments, ...])\n",
    "* fromregex(file, regexp, dtype)\n",
    "* fromstring(string[, dtype, count, sep])\n",
    "* ndarray.tofile(fid[, sep, format])\n",
    "* ndarray.tolist()\n",
    "\n",
    "De seguida apresentam-se dois exemplos:\n",
    "* o primeiro le um ficheiro csv para um array, divide os elementos por 2 e grava num novo ficheiro.\n",
    "* o segundo le um ficheiro csv para um array, mas com a especificação do tipo de dados (inteiros)\n"
   ]
  },
  {
   "cell_type": "code",
   "execution_count": null,
   "metadata": {},
   "outputs": [
    {
     "name": "stdout",
     "output_type": "stream",
     "text": [
      "Exemplo 1:\n",
      "Matriz a:\n",
      "[[ 1.  2.  3.  4.  5.]\n",
      " [ 6.  7.  8.  9. 10.]\n",
      " [11. 12. 13. 14. 15.]\n",
      " [16. 17. 18. 19. 20.]]\n",
      "Matriz 2*a:\n",
      "[[ 2.  4.  6.  8. 10.]\n",
      " [12. 14. 16. 18. 20.]\n",
      " [22. 24. 26. 28. 30.]\n",
      " [32. 34. 36. 38. 40.]]\n",
      "Exemplo 2:\n",
      "Matriz a (inteiros):\n",
      "[[ 1  2  3  4  5]\n",
      " [ 6  7  8  9 10]\n",
      " [11 12 13 14 15]\n",
      " [16 17 18 19 20]]\n"
     ]
    }
   ],
   "source": [
    "import numpy as np\n",
    "#Exemplo 1\n",
    "print('Exemplo 1:')\n",
    "a = np.genfromtxt('pytrigo-3-numpy-ficheiros/pytrigo-numpy-csv1.csv', delimiter=',')\n",
    "print('Matriz a:')\n",
    "print(a)\n",
    "b = a*2\n",
    "print('Matriz 2*a:')\n",
    "print(b)\n",
    "np.savetxt('pytrigo-3-numpy-ficheiros/pytrigo-numpy-csv2.csv', b, delimiter=',')\n",
    "print('Exemplo 2:')\n",
    "a = np.genfromtxt('pytrigo-3-numpy-ficheiros/pytrigo-numpy-csv1.csv', delimiter=',',dtype=int)\n",
    "print('Matriz a (inteiros):')\n",
    "print(a)\n",
    "# Existem mais opcoes para a leitura / escrita de dados\n",
    "# A funcao genfromtxt tambem permite indicar o tratamento a dar aos missing values"
   ]
  },
  {
   "cell_type": "markdown",
   "metadata": {},
   "source": [
    "### Exercícios sobre NumPy\n",
    "1. Crie um vetor com 10 elementos todos a 0\n",
    "2. Crie uma matriz de zeros com a dimensão de 2X5\n",
    "3. Crie um vetor de 10 elementos com valores entre 10 e 49\n",
    "4. Crie uma matriz 2X5 com valores entre 10 e 19\n",
    "5. Crie uma matriz identidade com a dimensão 5x5\n",
    "6. Gere uma matriz 5x5 com valores aleatorios\n",
    "7. Normalize os valores de uma matriz 5x5\n",
    "8. Crie um vetor com 10 elementos aleatórios e ordene-o.\n",
    "9. Descubra a posicao num vetor do elemento com o valor mais próximo de um valor gerado aleatoriamente. "
   ]
  },
  {
   "cell_type": "markdown",
   "metadata": {},
   "source": [
    "## Exercicios sobre os conceitos anteriores"
   ]
  },
  {
   "cell_type": "code",
   "execution_count": 15,
   "metadata": {},
   "outputs": [
    {
     "name": "stdout",
     "output_type": "stream",
     "text": [
      "[0. 0. 0. 0. 0. 0. 0. 0. 0. 0.]\n",
      "[0 0 0 0 0 0 0 0 0 0]\n",
      "[[0. 0. 0. 0. 0.]\n",
      " [0. 0. 0. 0. 0.]]\n",
      "[10 14 18 23 27 31 36 40 44 49]\n",
      "[[10 11 12 13 14]\n",
      " [15 16 17 18 19]]\n",
      "[[1. 0. 0. 0. 0.]\n",
      " [0. 1. 0. 0. 0.]\n",
      " [0. 0. 1. 0. 0.]\n",
      " [0. 0. 0. 1. 0.]\n",
      " [0. 0. 0. 0. 1.]]\n",
      "[[0.97583429 0.26064554 0.2644433  0.75658697 0.49198177]\n",
      " [0.31155534 0.84021504 0.94046839 0.53930496 0.761786  ]\n",
      " [0.09427959 0.78469907 0.29210387 0.66388802 0.0367771 ]\n",
      " [0.75364805 0.80136243 0.71223097 0.95512354 0.55947598]\n",
      " [0.65481811 0.95894526 0.08939917 0.71680116 0.54228031]]\n",
      "[[0.41349524 0.00945624 0.84375136 0.33038867 0.55048657]\n",
      " [0.37554419 0.28822727 0.05947828 0.18895261 0.26038473]\n",
      " [0.99758277 0.44440686 0.2042186  0.10034711 0.51722253]\n",
      " [0.80415205 0.83204104 0.56325951 0.37458998 0.34830214]\n",
      " [0.30382861 0.2377986  0.26266098 0.3515385  0.48038224]]\n",
      "[[0.41349524 0.00945624 0.84375136 0.33038867 0.55048657]\n",
      " [0.37554419 0.28822727 0.05947828 0.18895261 0.26038473]\n",
      " [0.99758277 0.44440686 0.2042186  0.10034711 0.51722253]\n",
      " [0.80415205 0.83204104 0.56325951 0.37458998 0.34830214]\n",
      " [0.30382861 0.2377986  0.26266098 0.3515385  0.48038224]]\n",
      "[1.54082770e-04 8.79196356e-04 1.23436687e-03 6.72178775e-03\n",
      " 7.89110177e-03 5.54484421e-02 5.73695822e-02 7.11751099e-02\n",
      " 7.53411330e-02 8.08985273e-02 8.53193927e-02 1.09914595e-01\n",
      " 1.14522993e-01 1.18713994e-01 1.23362620e-01 1.26134172e-01\n",
      " 1.32305290e-01 1.35991763e-01 1.40472987e-01 1.43305987e-01\n",
      " 1.48189900e-01 1.48862567e-01 1.50216645e-01 1.52125728e-01\n",
      " 1.66481536e-01 1.72786213e-01 1.75430680e-01 1.77200910e-01\n",
      " 1.83496758e-01 1.83863706e-01 1.85718573e-01 1.86014717e-01\n",
      " 1.95026526e-01 2.01388328e-01 2.50957742e-01 2.54513954e-01\n",
      " 2.54968416e-01 2.55111461e-01 2.62618248e-01 2.82749320e-01\n",
      " 2.82810509e-01 3.02541969e-01 3.17832931e-01 3.24021651e-01\n",
      " 3.28153527e-01 3.29356428e-01 3.30891197e-01 3.31146068e-01\n",
      " 3.38567143e-01 3.44622468e-01 3.45628079e-01 3.71438429e-01\n",
      " 3.95230351e-01 3.96771278e-01 4.10994394e-01 4.20575283e-01\n",
      " 4.38928692e-01 4.40053807e-01 4.41679549e-01 4.41911235e-01\n",
      " 4.54576503e-01 4.55600847e-01 4.87134856e-01 4.93996560e-01\n",
      " 5.11036449e-01 5.15334313e-01 5.37265324e-01 5.38944988e-01\n",
      " 5.56563118e-01 5.61556407e-01 5.91877655e-01 6.25281184e-01\n",
      " 6.51102782e-01 6.57243391e-01 6.88873160e-01 6.96020902e-01\n",
      " 7.13156543e-01 7.22578498e-01 7.31244901e-01 7.32397104e-01\n",
      " 7.36421259e-01 7.55452862e-01 7.60984675e-01 7.83844052e-01\n",
      " 7.95059174e-01 8.15115056e-01 8.15484681e-01 8.50174798e-01\n",
      " 8.93214690e-01 9.02564393e-01 9.04518313e-01 9.23142151e-01\n",
      " 9.24410620e-01 9.29529054e-01 9.43888530e-01 9.79650290e-01\n",
      " 9.93400077e-01 9.94176061e-01 9.96848177e-01 9.98644058e-01]\n",
      "[9.98644058e-01 9.96848177e-01 9.94176061e-01 9.93400077e-01\n",
      " 9.79650290e-01 9.43888530e-01 9.29529054e-01 9.24410620e-01\n",
      " 9.23142151e-01 9.04518313e-01 9.02564393e-01 8.93214690e-01\n",
      " 8.50174798e-01 8.15484681e-01 8.15115056e-01 7.95059174e-01\n",
      " 7.83844052e-01 7.60984675e-01 7.55452862e-01 7.36421259e-01\n",
      " 7.32397104e-01 7.31244901e-01 7.22578498e-01 7.13156543e-01\n",
      " 6.96020902e-01 6.88873160e-01 6.57243391e-01 6.51102782e-01\n",
      " 6.25281184e-01 5.91877655e-01 5.61556407e-01 5.56563118e-01\n",
      " 5.38944988e-01 5.37265324e-01 5.15334313e-01 5.11036449e-01\n",
      " 4.93996560e-01 4.87134856e-01 4.55600847e-01 4.54576503e-01\n",
      " 4.41911235e-01 4.41679549e-01 4.40053807e-01 4.38928692e-01\n",
      " 4.20575283e-01 4.10994394e-01 3.96771278e-01 3.95230351e-01\n",
      " 3.71438429e-01 3.45628079e-01 3.44622468e-01 3.38567143e-01\n",
      " 3.31146068e-01 3.30891197e-01 3.29356428e-01 3.28153527e-01\n",
      " 3.24021651e-01 3.17832931e-01 3.02541969e-01 2.82810509e-01\n",
      " 2.82749320e-01 2.62618248e-01 2.55111461e-01 2.54968416e-01\n",
      " 2.54513954e-01 2.50957742e-01 2.01388328e-01 1.95026526e-01\n",
      " 1.86014717e-01 1.85718573e-01 1.83863706e-01 1.83496758e-01\n",
      " 1.77200910e-01 1.75430680e-01 1.72786213e-01 1.66481536e-01\n",
      " 1.52125728e-01 1.50216645e-01 1.48862567e-01 1.48189900e-01\n",
      " 1.43305987e-01 1.40472987e-01 1.35991763e-01 1.32305290e-01\n",
      " 1.26134172e-01 1.23362620e-01 1.18713994e-01 1.14522993e-01\n",
      " 1.09914595e-01 8.53193927e-02 8.08985273e-02 7.53411330e-02\n",
      " 7.11751099e-02 5.73695822e-02 5.54484421e-02 7.89110177e-03\n",
      " 6.72178775e-03 1.23436687e-03 8.79196356e-04 1.54082770e-04]\n",
      "[[34 57 28 45 28 22 23]\n",
      " [55 51 54 33 47 35 27]\n",
      " [44 42 38 20 26 20 52]]\n",
      "[[34 55 44]\n",
      " [57 51 42]\n",
      " [28 54 38]\n",
      " [45 33 20]\n",
      " [28 47 26]\n",
      " [22 35 20]\n",
      " [23 27 52]]\n",
      "[66 67 29 86 65 17 30 49 13 28 18 46 21 71 13]\n",
      "76\n",
      "13\n",
      "[ 0  1  2  3  4  5  6  7  8  9 10 11 12 13 14 15 16 17 18 19 20 21 22 23\n",
      " 24 25 26 27 28 29 30 31 32 33 34 35 36 37 38 39 40 41 42 43 44 45 46 47\n",
      " 48 49 50 51 52 53 54 55 56 57 58 59 60 61 62 63 64 65 66 67 68 69 70 71\n",
      " 72 73 74 75 76 77 78 79 80 81 82 83 84 85 86 87 88 89 90 91 92 93 94 95\n",
      " 96 97 98 99]\n",
      "84.74398205686414\n",
      "Posicao:  85  Valor:  85\n"
     ]
    }
   ],
   "source": [
    "#Exercicio 1. Crie um vetor de 10 elementos a 0\n",
    "v0001 = np.zeros(10)\n",
    "print(v0001)\n",
    "v0002 = np.array([0 for x in range(10)])\n",
    "print(v0002)\n",
    "\n",
    "#Exercicio 2. Crie uma matriz de zeros com a dimensão de 2X5\n",
    "m0001 = np.zeros(shape=(2,5))\n",
    "print(m0001)\n",
    "\n",
    "#Exercicio 3. Crie um vetor de 10 elementos com valores entre 10 e 49 (espaçados igualmente)\n",
    "v0002 = np.linspace(10,49,10,dtype='int32')\n",
    "print(v0002)\n",
    "\n",
    "#Exercicio 4. Crie uma matriz 2X5 com valores entre 10 e 19\n",
    "m0002 = np.arange(10,20).reshape(2,5)\n",
    "print(m0002)\n",
    "\n",
    "#Exercicio 5. Crie uma matriz identidade com com 5x5\n",
    "m0003 = np.eye(5)\n",
    "print(m0003)\n",
    "\n",
    "#Exercicio 6. Gere uma matriz 5x5 com valores aleatorios\n",
    "m0004 = np.random.random((5,5))\n",
    "print(m0004)\n",
    "\n",
    "#Exercicio 7. Normalize os valores de uma matriz 5x5\n",
    "m0005 = np.random.random((5,5))\n",
    "print(m0005)\n",
    "mmax, mmin = m0005.max(), m0005.min()\n",
    "m = (m0005 - mmin)/(mmax - mmin)\n",
    "print(m0005)\n",
    "\n",
    "#Exercicio 8. Crie um vetor com 100 elementos aleatorios e ordene-os\n",
    "v0003 = np.random.random(100)\n",
    "print(np.sort(v0003))\n",
    "print(np.sort(v0003)[::-1])\n",
    "\n",
    "#Exemplo 9. Apresente a transposta de uma matriz\n",
    "m0006 = np.random.randint(20,60,(3,7))\n",
    "print(m0006)\n",
    "print(np.transpose(m0006))\n",
    "\n",
    "#Exemplo 10. Descubra a posicao num vetor do elemento com o valor mais proximo de um valor gerado aleatoriamente\n",
    "#Solucao1\n",
    "v0004 = np.random.randint(10,100,15)\n",
    "print(v0004)\n",
    "a = np.random.randint(10,100)\n",
    "print(a)\n",
    "print(np.argmin(np.abs(v0004-a)))\n",
    "#print(np.abs(v0006-a).argmin())\n",
    "#Solucao 2\n",
    "v0005 = np.arange(100)\n",
    "valor = np.random.uniform(0,100)\n",
    "indice = (np.abs(v0005-valor)).argmin()\n",
    "print(v0005)\n",
    "print(valor)\n",
    "print('Posicao: ', indice,' Valor: ', v0005[indice])"
   ]
  },
  {
   "cell_type": "markdown",
   "metadata": {},
   "source": [
    "Mais exercícios disponíveis em: http://www.labri.fr/perso/nrougier/teaching/numpy.100/"
   ]
  },
  {
   "cell_type": "markdown",
   "metadata": {},
   "source": [
    "## Resolver um sistema de duas equações lineares recorrendo a matrizes"
   ]
  },
  {
   "cell_type": "code",
   "execution_count": null,
   "metadata": {},
   "outputs": [],
   "source": [
    "#Resolver um sistema de duas equações lineares recorrendo a matrizes\n",
    "#Exemplo:\n",
    "#4x + 3y = 20\n",
    "#-5x + 9y = 26\n",
    "# Matriz A com os coeficentes do sistema (variaveis dependentes)\n",
    "# Matriz X com as incógnitas do sistema\n",
    "# Matriz B com as soluções (termos independentes)\n",
    "# Para resolver o sistema temos de calcular a inversa da matriz A \n",
    "# (se esta for quadrada e não singular (determinante != 0)) e multiplicar por B\n",
    "A = np.array([[4,3],[-5,9]])\n",
    "B = np.array([20,26])\n",
    "#testar o determiante caso não consigam faze-lo visulamente det(m[[a,b][c,d]]) = ad - bc \n",
    "print(np.linalg.det(A))\n",
    "inv_A = np.linalg.inv(A)\n",
    "X = inv_A.dot(B)\n",
    "print(\"Metodo1 - solucao: \" + str(X))\n",
    "print(\"Metodo2 (utilizando o solve) - solucao: \" + str(np.linalg.solve(A,B)))"
   ]
  },
  {
   "cell_type": "markdown",
   "metadata": {},
   "source": [
    "### Velocidade de execução: Python vs NumPy\n",
    "\n",
    "No dominio da Data Science a velcocidade de execução do código tem um impacto muito grande quando se analisa grandes quantidades de dados, pelo que deverá sempre procurar a forma mais eficiente de o fazer, preferindo a utilização de bibliotecas como o NumPy.\n",
    "\n",
    "Para medir a execução do código que implementa pode utilizar a biblioteca **time** do Python e registar o tempo antes e depois da execução de um pedaço de código. Outra forma de o fazer é utilizar a biblioteca **timeit**, que corre o bloco de código x vezes, que devolve a média e desvio padrão do tempo de execução desse código.\n",
    "\n",
    "De seguida apresenta-se o tempo de execução de um código para fazer o cálculo da distância entre todas as linhas da matriz, retirado de \n",
    "http://nbviewer.jupyter.org/github/ogrisel/notebooks/blob/master/Numba%20Parakeet%20Cython.ipynb.\n",
    "\n",
    "No seguinte link - http://arogozhnikov.github.io/2015/01/06/benchmarks-of-speed-numpy-vs-all.html - poderá obter mais informação sobre outras bibliotecas, criadas com o bjetivo de serem mais eficientes que a biblioteca NumPy, como a Numba ou a Cython.  "
   ]
  },
  {
   "cell_type": "code",
   "execution_count": 16,
   "metadata": {},
   "outputs": [
    {
     "name": "stderr",
     "output_type": "stream",
     "text": [
      "C:\\Users\\anton\\AppData\\Local\\Temp/ipykernel_28948/1632838228.py:11: DeprecationWarning: `np.float` is a deprecated alias for the builtin `float`. To silence this warning, use `float` by itself. Doing this will not modify any behavior and is safe. If you specifically wanted the numpy scalar type, use `np.float64` here.\n",
      "Deprecated in NumPy 1.20; for more details and guidance: https://numpy.org/devdocs/release/1.20.0-notes.html#deprecations\n",
      "  D = np.empty((M, M), dtype=np.float)\n"
     ]
    },
    {
     "name": "stdout",
     "output_type": "stream",
     "text": [
      "2.5 s ± 35.9 ms per loop (mean ± std. dev. of 7 runs, 1 loop each)\n",
      "41.4 ms ± 1.71 ms per loop (mean ± std. dev. of 7 runs, 10 loops each)\n",
      "A segunda implementação recorrendo à biblioteca NumPy é 500x mais rápida!\n"
     ]
    }
   ],
   "source": [
    "import numpy as np\n",
    "from timeit import timeit\n",
    "\n",
    "X = np.random.random((1000 ,3))\n",
    "#X_wide = np.random.random((1000, 100))\n",
    "\n",
    "#Python\n",
    "def pairwise_python(X):\n",
    "    M = X.shape[0]\n",
    "    N = X.shape[1]\n",
    "    D = np.empty((M, M), dtype=np.float)\n",
    "    for i in range(M):\n",
    "        for j in range(M):\n",
    "            d = 0.0\n",
    "            for k in range(N):\n",
    "                tmp = X[i, k] - X[j, k]\n",
    "                d += tmp * tmp\n",
    "            D[i, j] = np.sqrt(d)\n",
    "    return D\n",
    "%timeit pairwise_python(X)\n",
    "\n",
    "#NumPy\n",
    "def pairwise_numpy(X):\n",
    "    return np.sqrt(((X[:, None, :] - X) ** 2).sum(-1))\n",
    "%timeit pairwise_numpy(X)\n",
    "\n",
    "print('A segunda implementação recorrendo à biblioteca NumPy é 500x mais rápida!')"
   ]
  },
  {
   "cell_type": "code",
   "execution_count": null,
   "metadata": {},
   "outputs": [],
   "source": []
  }
 ],
 "metadata": {
  "kernelspec": {
   "display_name": "Python 3",
   "language": "python",
   "name": "python3"
  },
  "language_info": {
   "codemirror_mode": {
    "name": "ipython",
    "version": 3
   },
   "file_extension": ".py",
   "mimetype": "text/x-python",
   "name": "python",
   "nbconvert_exporter": "python",
   "pygments_lexer": "ipython3",
   "version": "3.9.5"
  }
 },
 "nbformat": 4,
 "nbformat_minor": 2
}
