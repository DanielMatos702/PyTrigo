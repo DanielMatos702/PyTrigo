{
 "cells": [
  {
   "cell_type": "markdown",
   "metadata": {},
   "source": [
    "# Biblioteca NumPy\n",
    "\n",
    "Este tutorial é sobre a utilização da biblioteca NumPy, uma das bibliotecas fundamentais do Python para computação científica, utilizada para trabalhar com **matrizes**, cuja designação em inglês e ao longo deste tutorial é **n-dimensional array** ou simplesmente **ndarrays**.\n",
    "\n",
    "Esta bilbioteca faz parte do package de computação científica [SciPy](https://www.scipy.org/).\n",
    "\n",
    "A biblioteca NumPy foi pensada para lidar com computação vetorizada possuindo funcionalidades para manipulação de vetores/matrizes muito mais eficientes do que a utilização de ciclos de repetição como o **for**.\n",
    "\n",
    "É a base de muitas outras bibliotecas como o Pandas, MatplotLib, Sickit-learn, entre outros.\n",
    "\n",
    "O primeiro passo para trabalhar com uma biblioteca no Python é importá-la com a utilização do comando import. Para além de importá-la podemos dar-lhe um nome (alias) mais curto para escrever menos texto. No caso da numpy utiliza-se comumente a sigla np."
   ]
  },
  {
   "cell_type": "code",
   "execution_count": 35,
   "metadata": {},
   "outputs": [],
   "source": [
    "import numpy as np"
   ]
  },
  {
   "cell_type": "code",
   "execution_count": 36,
   "metadata": {},
   "outputs": [
    {
     "name": "stdout",
     "output_type": "stream",
     "text": [
      "<class 'numpy.ndarray'>\n",
      "(3,)\n",
      "1 2 3\n",
      "[5 2 3]\n",
      "(2, 3)\n",
      "1 2 4\n"
     ]
    }
   ],
   "source": [
    "a = np.array([1, 2, 3])   # Cria uma matriz com três elementos\n",
    "print(type(a))            # Imprime \"<class 'numpy.ndarray'>\"\n",
    "print(a.shape)            # Imprime o formato da matriz \"(3,)\"\n",
    "print(a[0], a[1], a[2])   # Imprime \"1 2 3\"\n",
    "a[0] = 5                  # Altera o valor de um elemento da matriz\n",
    "print(a)                  # Imprime \"[5, 2, 3]\"\n",
    "\n",
    "b = np.array([[1,2,3],[4,5,6]])    # Cria uma matriz bidimensional\n",
    "print(b.shape)                     # Imprime o formato da matriz \"(2, 3)\"\n",
    "print(b[0, 0], b[0, 1], b[1, 0])   # Imprime \"1 2 4\""
   ]
  },
  {
   "cell_type": "markdown",
   "metadata": {},
   "source": [
    "## Tipos de dados\n",
    "\n",
    "No numpy todos os elementos de uma matriz/ndarray são de um determinado tipo de dados."
   ]
  },
  {
   "cell_type": "code",
   "execution_count": 37,
   "metadata": {},
   "outputs": [
    {
     "name": "stdout",
     "output_type": "stream",
     "text": [
      "int32\n",
      "float64\n",
      "float64\n"
     ]
    }
   ],
   "source": [
    "#Depois de importar a biblioteca uma primeira vez para o notebook não é preciso voltar a importar.\n",
    "#Neste notebook importa-se em cada uma das células por uma questão de  demonstração\n",
    "import numpy as np\n",
    "\n",
    "x = np.array([1, 2])   \n",
    "print(x.dtype)         \n",
    "x = np.array([1.0, 2.0])   \n",
    "print(x.dtype)             \n",
    "x = np.array([1, 2], dtype=np.float64)   \n",
    "print(x.dtype)                         "
   ]
  },
  {
   "cell_type": "markdown",
   "metadata": {},
   "source": [
    "## Criação de matrizes/ndarray\n",
    "A bilioteca NumPy fornece muitas formas para criar matrizes/ndarray."
   ]
  },
  {
   "cell_type": "code",
   "execution_count": 38,
   "metadata": {},
   "outputs": [
    {
     "name": "stdout",
     "output_type": "stream",
     "text": [
      "Vetor de 5 elementos seguidos: \n",
      "[0 1 2 3 4]\n",
      "Vetor de 5 elementos (igualmente espaçados), entre 1 e 2: \n",
      "[1.   1.25 1.5  1.75 2.  ]\n",
      "Vetor de 5 elementos iguais a 0s:\n",
      "[0. 0. 0. 0. 0.]\n",
      "Matriz 2x2 de zeros: \n",
      "[[0. 0.]\n",
      " [0. 0.]]\n",
      "Matriz 2x3 de uns:\n",
      "[[1. 1. 1.]\n",
      " [1. 1. 1.]]\n",
      "Matriz 4x2 de setes(7):\n",
      "[[7 7]\n",
      " [7 7]\n",
      " [7 7]\n",
      " [7 7]]\n",
      "Matriz identidade 2x2: \n",
      "[[1. 0.]\n",
      " [0. 1.]]\n"
     ]
    }
   ],
   "source": [
    "import numpy as np\n",
    "\n",
    "print(\"Vetor de 5 elementos seguidos: \")\n",
    "print(np.arange(5))\n",
    "print(\"Vetor de 5 elementos (igualmente espaçados), entre 1 e 2: \")\n",
    "print(np.linspace(1,2,5))\n",
    "print(\"Vetor de 5 elementos iguais a 0s:\")\n",
    "print(np.zeros(5))\n",
    "print(\"Matriz 2x2 de zeros: \")\n",
    "print(np.zeros((2,2)))\n",
    "print(\"Matriz 2x3 de uns:\")\n",
    "print(np.ones((2,3)))              \n",
    "print(\"Matriz 4x2 de setes(7):\")           \n",
    "print(np.full((4,2), 7))               \n",
    "print(\"Matriz identidade 2x2: \")\n",
    "print(np.eye(2))                 "
   ]
  },
  {
   "cell_type": "markdown",
   "metadata": {},
   "source": [
    "### Criação matrizes com valores aleatórios\n",
    "\n",
    "O NumPy permite a criação de matrizes com valores aleatórios que podem seguir uma das muitas distribuições disponíveis no NumPy (beta, binomial, chisquare, dirichlet, exponential, \n",
    "f, gamma, geometric, gumbel, hypergeometric, laplace, logistic, lognormal, logseries, multinomial, multivariate_normal, negative_binomial, noncentral_chisquare, noncentral_f,\n",
    "normal, pareto, poisson, power, rayleigh, standard_cauchy, standard_exponential, standard_gamma(shape[, size]), standard_normal([size]), standard_t, triangular, uniform, \n",
    "vonmises, wald, weibull, zipf) \n",
    "                              \n",
    "Ver mais em [Random sampling](https://docs.scipy.org/doc/numpy-1.14.0/reference/routines.random.html).\n",
    "\n",
    "De seguida apresentam-se alguns exemplos."
   ]
  },
  {
   "cell_type": "code",
   "execution_count": 39,
   "metadata": {},
   "outputs": [
    {
     "name": "stdout",
     "output_type": "stream",
     "text": [
      "Matriz de valores aleatórios entre 0, 1 com base numa distribuição uniforme: \n",
      "[[0.10220402 0.94536833 0.39049828 0.92983053 0.01244725]\n",
      " [0.31563185 0.68445501 0.59354221 0.48696925 0.00736418]\n",
      " [0.78240333 0.08504863 0.72720383 0.1625921  0.28777357]]\n",
      "Média (a+b)/2, em que a = 0 e b = 1: 1.5\n",
      "Desvio padrão (Raiz Quadrada ((b-a)^2/12)): 1.118033988749895\n",
      "\n",
      "Matriz de valores aleatórios entre 0, 1 com base numa distribuição normal: \n",
      "[[-1.82192304 -0.35371317 -1.68578774  0.80765763  0.20100213]\n",
      " [-0.26786749  0.35247554  0.18585895  0.13561339 -1.14175044]\n",
      " [ 0.93533977  0.11930897  1.88069419  0.8606371   0.19506829]]\n",
      "Média (0): 0.026840938589434187\n",
      "Desvio padrão (1): 0.9565799241383822\n",
      "Nota: com poucos valores é provável que a média e o desvio padrão não sejam 0 e 1. Correr para uma matriz de maiores dimensões.\n",
      "\n",
      "Matriz de valores aleatórios entre 0,1 com base numa distribuição exponencial: \n",
      "[[0.106764   0.04947414 0.00123981 0.1586104  0.01999146]\n",
      " [0.2202367  0.0737893  0.17945342 0.63495076 0.07788605]\n",
      " [0.0021421  0.06421954 0.00210517 0.13495514 0.02865545]]\n",
      "Média (1/lambda): 0.11696489496126092\n",
      "Desvio Padrão (Raiz Quadrada (1/lambda^2)): 0.15334957686771028\n",
      "Nota: caso a média e o desvio padrão não sejam próximos dos valores esperados, correr para uma matriz de maiores dimensões.\n"
     ]
    }
   ],
   "source": [
    "import numpy as np\n",
    "\n",
    "#Geração de uma matriz/ndarray (3x5) com valores aleatórios com base na distribuição uniforme \n",
    "#contínua com valores entre [0,1) \n",
    "e = np.random.random((3,5))  \n",
    "print(\"Matriz de valores aleatórios entre 0, 1 com base numa distribuição uniforme: \")\n",
    "print(e)\n",
    "#Para verificar pode-se calcular a média e o desvio padrão dos valores\n",
    "print(\"Média (a+b)/2, em que a = 0 e b = 1: \" + str(np.mean(f)))\n",
    "print(\"Desvio padrão (Raiz Quadrada ((b-a)^2/12)): \" + str(np.std(f)))\n",
    "print()\n",
    "\n",
    "#Geração de uma matriz/ndarray (3x5) com valores aleatórios com base na distribuição normal\n",
    "#com média 0 e desivo padrão 1\n",
    "#O primeiro parametro é a média, o segundo o desvio padrão e o terceiro a matriz\n",
    "f = np.random.normal(0,1,(3,5))  \n",
    "print(\"Matriz de valores aleatórios entre 0, 1 com base numa distribuição normal: \")\n",
    "print(f)\n",
    "#Para verificar pode-se calcular a média e o desvio padrão dos valores\n",
    "print(\"Média (0): \" + str(np.mean(f)))\n",
    "print(\"Desvio padrão (1): \" + str(np.std(f)))\n",
    "print(\"Nota: com poucos valores é provável que a média e o desvio padrão não sejam 0 e 1. Correr para uma matriz de maiores dimensões.\")\n",
    "print()\n",
    "\n",
    "#Geração de uma matriz/ndarray (3x5) com valores aleatórios com base na distribuição exponencial \n",
    "#O primeiro padrão é a escala (inverso da taxa, escala = 1/lambda) e o segundo a matriz\n",
    "lambda1 = 5\n",
    "g = np.random.exponential(1/lambda1,(3,5))  \n",
    "print(\"Matriz de valores aleatórios entre 0,1 com base numa distribuição exponencial: \")\n",
    "print(g)\n",
    "#Para verificar que está certo pode-se calcular a média e a variância dos valores\n",
    "#print(\"Lambda: \" + str(lambda1))\n",
    "print(\"Média (1/lambda): \" + str(np.mean(g))) #Deverá ser igual a 1/\n",
    "print(\"Desvio Padrão (Raiz Quadrada (1/lambda^2)): \" + str(np.std(g)))\n",
    "print(\"Nota: caso a média e o desvio padrão não sejam próximos dos valores esperados, correr para uma matriz de maiores dimensões.\")\n"
   ]
  },
  {
   "cell_type": "markdown",
   "metadata": {},
   "source": [
    "## Slicing de matrizes/ndarray\n",
    "\n",
    "Também permite o slicing, visto no notebook \"Introdução ao Python\""
   ]
  },
  {
   "cell_type": "code",
   "execution_count": 40,
   "metadata": {},
   "outputs": [
    {
     "name": "stdout",
     "output_type": "stream",
     "text": [
      "[[ 1  2  3  4]\n",
      " [ 5  6  7  8]\n",
      " [ 9 10 11 12]]\n",
      "[[2 3]\n",
      " [6 7]]\n"
     ]
    }
   ],
   "source": [
    "import numpy as np\n",
    "a = np.array([[1,2,3,4], [5,6,7,8], [9,10,11,12]])\n",
    "b = a[:2, 1:3]\n",
    "print(a)\n",
    "print(b)"
   ]
  },
  {
   "cell_type": "code",
   "execution_count": 41,
   "metadata": {},
   "outputs": [
    {
     "name": "stdout",
     "output_type": "stream",
     "text": [
      "[5 6 7 8] (4,)\n",
      "[[5 6 7 8]] (1, 4)\n",
      "[ 2  6 10] (3,)\n",
      "[[ 2]\n",
      " [ 6]\n",
      " [10]] (3, 1)\n"
     ]
    }
   ],
   "source": [
    "import numpy as np\n",
    "a = np.array([[1,2,3,4], [5,6,7,8], [9,10,11,12]])\n",
    "\n",
    "l1_d1 = a[1, :]    # Retira a segunda linha para uma matriz unidimensional\n",
    "l1_d2 = a[1:2, :]  # Retira a segunda linha para uma matriz bidimensional\n",
    "print(l1_d1, l1_d1.shape)  # Imprime os valores da segunda linha e respetivo formato\n",
    "print(l1_d2, l1_d2.shape)  # Imprime os valores da segunda linha e respetivo formato\n",
    "\n",
    "c1_d1 = a[:, 1]\n",
    "c1_d2 = a[:, 1:2]\n",
    "print(c1_d1, c1_d1.shape)\n",
    "print(c1_d2, c1_d2.shape)  "
   ]
  },
  {
   "cell_type": "markdown",
   "metadata": {},
   "source": [
    "## Indexação de matrizes/ndarray\n",
    "\n",
    "A biblioteca NumPy permite selecionar elementos de uma matriz/ndarray tendo por base outras matrizes e expressões booleanas."
   ]
  },
  {
   "cell_type": "code",
   "execution_count": 42,
   "metadata": {},
   "outputs": [
    {
     "name": "stdout",
     "output_type": "stream",
     "text": [
      "Matriz a de 3x2:\n",
      "[[1 2]\n",
      " [3 4]\n",
      " [5 6]]\n",
      "[1 4 5]\n",
      "[1 4 5]\n",
      "[2 2]\n",
      "[2 2]\n"
     ]
    }
   ],
   "source": [
    "#Indexação de matrizes utilizando outras matrizes\n",
    "import numpy as np\n",
    "a = np.array([[1,2], [3, 4], [5, 6]])\n",
    "print(\"Matriz a de 3x2:\")\n",
    "print(a)\n",
    "#Indexação utilizando uma matriz de posições a mostrar\n",
    "print(a[[0, 1, 2], [0, 1, 0]]) #mostrar os elementos que estão na posição 0,0->1; 1,1->4; 2,0->5\n",
    "#O exemplo acima pode ser conseguido através da indicação de cada um dos elementos \n",
    "print(np.array([a[0, 0], a[1, 1], a[2, 0]])) \n",
    "#Ao utilizar uma matriz de elementos inteiros para indexação podemos reutilizar elementos\n",
    "print(a[[0, 0], [1, 1]])\n",
    "#O exemplo acima com outra notação\n",
    "print(np.array([a[0, 1], a[0, 1]]))"
   ]
  },
  {
   "cell_type": "code",
   "execution_count": 43,
   "metadata": {},
   "outputs": [
    {
     "name": "stdout",
     "output_type": "stream",
     "text": [
      "[[ 1  2  3]\n",
      " [ 4  5  6]\n",
      " [ 7  8  9]\n",
      " [10 11 12]]\n",
      "[ 1  6  7 11]\n",
      "[[11  2  3]\n",
      " [ 4  5 16]\n",
      " [17  8  9]\n",
      " [10 21 12]]\n",
      "[0 1 2 3]\n"
     ]
    }
   ],
   "source": [
    "#Alterar os elementos de posições da matriz\n",
    "import numpy as np\n",
    "a = np.array([[1,2,3], [4,5,6], [7,8,9], [10, 11, 12]])\n",
    "print(a)\n",
    "b = np.array([0, 2, 0, 1])\n",
    "# Selecionar um elemento de cada linha utilizando os indices em b\n",
    "print(a[np.arange(4), b])\n",
    "# Alterar um elemento de cada linha utilizando os indicies em b\n",
    "a[np.arange(4), b] += 10\n",
    "print(a)\n",
    "print(np.arange(4))"
   ]
  },
  {
   "cell_type": "code",
   "execution_count": 44,
   "metadata": {},
   "outputs": [
    {
     "name": "stdout",
     "output_type": "stream",
     "text": [
      "[[False False]\n",
      " [ True  True]\n",
      " [ True  True]]\n",
      "[3 4 5 6]\n",
      "[3 4 5 6]\n",
      "[3 4 5 6]\n"
     ]
    }
   ],
   "source": [
    "#Indexação de matrizes utilizando expressões booleanas\n",
    "#Utilizado para selecionar os lementos de uma matriz que \n",
    "#satisfaçam uma determinada condição\n",
    "import numpy as np\n",
    "a = np.array([[1,2], [3, 4], [5, 6]])\n",
    "bool_idx = (a > 2)\n",
    "print(bool_idx)\n",
    "print(a[bool_idx])\n",
    "print(a[a > 2])\n",
    "\n",
    "#Utilizando a função where\n",
    "print(a[np.where(a>2)])"
   ]
  },
  {
   "cell_type": "markdown",
   "metadata": {},
   "source": [
    "## Aritmética de matrizes/ndarray\n",
    "\n",
    "De seguida aprentam-se algumas operações aritméticas para  a manipulação dos elementos de uma matriz/ndarray."
   ]
  },
  {
   "cell_type": "code",
   "execution_count": 45,
   "metadata": {},
   "outputs": [
    {
     "name": "stdout",
     "output_type": "stream",
     "text": [
      "Soma dos elementos de x com y\n",
      "[[ 6.  8.]\n",
      " [10. 12.]]\n",
      "[[ 6.  8.]\n",
      " [10. 12.]]\n",
      "Diferenca dos elementos de x com y\n",
      "[[-4. -4.]\n",
      " [-4. -4.]]\n",
      "[[-4. -4.]\n",
      " [-4. -4.]]\n",
      "Multiplicacao dos elementos de x com y\n",
      "[[ 5. 12.]\n",
      " [21. 32.]]\n",
      "[[ 5. 12.]\n",
      " [21. 32.]]\n",
      "Divisao dos elementos de x por y\n",
      "[[0.2        0.33333333]\n",
      " [0.42857143 0.5       ]]\n",
      "[[0.2        0.33333333]\n",
      " [0.42857143 0.5       ]]\n",
      "Raiz quadrada dos elementos de x\n",
      "[[1.         1.41421356]\n",
      " [1.73205081 2.        ]]\n"
     ]
    }
   ],
   "source": [
    "#Operacoes ao nível dos elementos das matrizes\n",
    "import numpy as np\n",
    "\n",
    "a = np.array([[1,2],[3,4]], dtype=np.float64)\n",
    "b = np.array([[5,6],[7,8]], dtype=np.float64)\n",
    "\n",
    "print(\"Soma dos elementos de x com y\")\n",
    "print(a + b)\n",
    "print(np.add(a, b))\n",
    "print(\"Diferenca dos elementos de x com y\")\n",
    "print(a - b)\n",
    "print(np.subtract(a, b))\n",
    "print(\"Multiplicacao dos elementos de x com y\")\n",
    "print(a * b)\n",
    "print(np.multiply(a, b))\n",
    "print(\"Divisao dos elementos de x por y\")\n",
    "print(a / b)\n",
    "print(np.divide(a, b))\n",
    "print(\"Raiz quadrada dos elementos de x\")\n",
    "print(np.sqrt(a))\n"
   ]
  },
  {
   "cell_type": "code",
   "execution_count": 46,
   "metadata": {},
   "outputs": [
    {
     "name": "stdout",
     "output_type": "stream",
     "text": [
      "Produto da matrizes v e w\n",
      "219\n",
      "219\n",
      "Produto das matrizes x e v\n",
      "[29 67]\n",
      "[29 67]\n",
      "Produto das matrizes x e y\n",
      "[[19 22]\n",
      " [43 50]]\n",
      "[[19 22]\n",
      " [43 50]]\n"
     ]
    }
   ],
   "source": [
    "#Operacoes ao nível das matrizes\n",
    "\n",
    "import numpy as np\n",
    "\n",
    "x = np.array([[1,2],[3,4]])\n",
    "y = np.array([[5,6],[7,8]])\n",
    "\n",
    "v = np.array([9,10])\n",
    "w = np.array([11, 12])\n",
    "\n",
    "print(\"Produto da matrizes v e w\")\n",
    "print(v.dot(w))\n",
    "print(np.dot(v, w))\n",
    "\n",
    "print(\"Produto das matrizes x e v\")\n",
    "print(x.dot(v))\n",
    "print(np.dot(x, v))\n",
    "\n",
    "print(\"Produto das matrizes x e y\")\n",
    "print(x.dot(y))\n",
    "print(np.dot(x, y))\n"
   ]
  },
  {
   "cell_type": "markdown",
   "metadata": {},
   "source": [
    "## Soma de elementos da matriz/ndarray"
   ]
  },
  {
   "cell_type": "code",
   "execution_count": 47,
   "metadata": {},
   "outputs": [
    {
     "name": "stdout",
     "output_type": "stream",
     "text": [
      "Matriz a:\n",
      "[[1 2]\n",
      " [3 4]]\n",
      "Soma todos os elementos de x\n",
      "10\n",
      "Soma todos os elementos das colunas de x\n",
      "[4 6]\n",
      "Soma todos os elementos das linhas de x\n",
      "[3 7]\n"
     ]
    }
   ],
   "source": [
    "import numpy as np\n",
    "\n",
    "a = np.array([[1,2],[3,4]])\n",
    "print('Matriz a:')\n",
    "print(a)\n",
    "print(\"Soma todos os elementos de x\")\n",
    "print(np.sum(a))\n",
    "print(\"Soma todos os elementos das colunas de x\")\n",
    "print(np.sum(a, axis=0))  \n",
    "print(\"Soma todos os elementos das linhas de x\")\n",
    "print(np.sum(a, axis=1))"
   ]
  },
  {
   "cell_type": "markdown",
   "metadata": {},
   "source": [
    "## Estatística sobre elementos das matrizes\n",
    "\n",
    "A biblioteca NumPy disponibiliza o cálculo de algumas estatítisticas como a média, o desvio padrão, etc.\n",
    "\n",
    "Permite que o cálculo das estatíticas poassa ser feito sobre os elementos todos da matriz/ndarray ou só sobre as linhas ou só sobre as colunas.\n",
    "\n",
    "De seguida apresentam-se alguns exemplos.\n",
    "\n",
    "Mais informação disponível em (https://docs.scipy.org/doc/numpy/reference/routines.statistics.html)"
   ]
  },
  {
   "cell_type": "code",
   "execution_count": 48,
   "metadata": {},
   "outputs": [
    {
     "name": "stdout",
     "output_type": "stream",
     "text": [
      "Matriz a:\n",
      "[[4 3 5]\n",
      " [1 2 1]]\n",
      "Média de todos os valores: \n",
      "2.6666666666666665\n",
      "Média dos valores nas linhas: \n",
      "[4.         1.33333333]\n",
      "Média dos valores nas colunas: \n",
      "[2.5 2.5 3. ]\n",
      "Desvio padrão de todos os valores: \n",
      "1.4907119849998598\n",
      "Desvio padrão dos valores nas linhas: \n",
      "[0.81649658 0.47140452]\n",
      "Desvio padrão dos valores nas colunas: \n",
      "[1.5 0.5 2. ]\n",
      "Valor minimo: \n",
      "1\n",
      "Valor minimo dos valores nas linhas: \n",
      "[3 1]\n",
      "Valor minimo dos valores nas colunas: \n",
      "[1 2 1]\n",
      "Vetor b:\n",
      "[1, 2, 3, 1, 1, 3]\n",
      "Valores únicos:\n",
      "[1 2 3]\n",
      "Contagem dos valores únicos:\n",
      "(array([1, 2, 3]), array([3, 1, 2], dtype=int64))\n",
      "Histograma a partir dos valores de um vetor:\n",
      "Vetor c:\n",
      "[1.  1.5 2.  2.  3.  3.5 3.5]\n",
      "Histograma: contagem/intervalos da classe:\n",
      "(array([3, 0, 0, 0, 0, 1, 0, 0, 0, 2], dtype=int64), array([1. , 1.2, 1.4, 1.6, 1.8, 2. , 2.2, 2.4, 2.6, 2.8, 3. ]))\n",
      "Histograma: gráfico:\n"
     ]
    },
    {
     "data": {
      "image/png": "[encoded data removed]",
      "text/plain": [
       "<Figure size 432x288 with 1 Axes>"
      ]
     },
     "metadata": {
      "needs_background": "light"
     },
     "output_type": "display_data"
    }
   ],
   "source": [
    "import numpy as np\n",
    "\n",
    "a = np.array([[4, 3, 5], [1, 2, 1]])\n",
    "\n",
    "print(\"Matriz a:\")\n",
    "print(a)\n",
    "\n",
    "print(\"Média de todos os valores: \")\n",
    "print(np.mean(a))\n",
    "print(\"Média dos valores nas linhas: \")\n",
    "print(np.mean(a,axis=1))\n",
    "print(\"Média dos valores nas colunas: \")\n",
    "print(np.mean(a,axis=0))\n",
    "\n",
    "print(\"Desvio padrão de todos os valores: \")\n",
    "print(np.std(a))\n",
    "print(\"Desvio padrão dos valores nas linhas: \")\n",
    "print(np.std(a,axis=1))\n",
    "print(\"Desvio padrão dos valores nas colunas: \")\n",
    "print(np.std(a,axis=0))\n",
    "\n",
    "print(\"Valor minimo: \")\n",
    "print(np.amin(a))\n",
    "print(\"Valor minimo dos valores nas linhas: \")\n",
    "print(np.amin(a,axis=1))\n",
    "print(\"Valor minimo dos valores nas colunas: \")\n",
    "print(np.amin(a,axis=0))\n",
    "\n",
    "print(\"Vetor b:\")\n",
    "b = [1,2,3,1,1,3]\n",
    "print(b)\n",
    "print(\"Valores únicos:\")\n",
    "print(np.unique(b))\n",
    "print(\"Contagem dos valores únicos:\")\n",
    "print(np.unique(b, return_counts=True))\n",
    "#print(np.bincount(b))\n",
    "print(\"Histograma a partir dos valores de um vetor:\")\n",
    "c = np.array([1,1.5,2.0,2.0,3.0,3.5,3.5])\n",
    "print(\"Vetor c:\")\n",
    "print(c)\n",
    "\n",
    "print(\"Histograma: contagem/intervalos da classe:\")\n",
    "print(np.histogram(b))\n",
    "\n",
    "print(\"Histograma: gráfico:\")\n",
    "#Mais à frente ver-se-á como trabalhar com as bibliotecas gráficas mas fica aqui um exemplo\n",
    "import matplotlib.pyplot as plt\n",
    "plt.hist(b)\n",
    "plt.show()"
   ]
  },
  {
   "cell_type": "markdown",
   "metadata": {},
   "source": [
    "## Ordenação de elementos da matriz"
   ]
  },
  {
   "cell_type": "code",
   "execution_count": 49,
   "metadata": {},
   "outputs": [
    {
     "name": "stdout",
     "output_type": "stream",
     "text": [
      "Matriz a:\n",
      "[[4 3 5]\n",
      " [1 2 1]]\n",
      "Ordenar os elementos das linhas:\n",
      "[[3 4 5]\n",
      " [1 1 2]]\n"
     ]
    }
   ],
   "source": [
    "import numpy as np\n",
    "\n",
    "a = np.array([[4, 3, 5], [1, 2, 1]])\n",
    "print(\"Matriz a:\")\n",
    "print(a)\n",
    "print(\"Ordenar os elementos das linhas:\")\n",
    "b = np.sort(a, axis=1)\n",
    "print(b)"
   ]
  },
  {
   "cell_type": "markdown",
   "metadata": {},
   "source": [
    "## Broadcasting\n",
    "\n",
    "Mecanismo que permite ao NumPy trabalhar com matrizes/ndarray de diferentes dimensões.\n",
    "\n",
    "No exemplo seguinte mostra-se como somar os valores de um vetor a uma matriz/ndarray, da forma tradicional e utilizando o mecanismo de broadcasting."
   ]
  },
  {
   "cell_type": "code",
   "execution_count": 50,
   "metadata": {},
   "outputs": [
    {
     "name": "stdout",
     "output_type": "stream",
     "text": [
      "Metodo 1:\n",
      "[[ 2  2  4]\n",
      " [ 5  5  7]\n",
      " [ 8  8 10]\n",
      " [11 11 13]]\n",
      "Metodo 2:\n",
      "[[ 2  2  4]\n",
      " [ 5  5  7]\n",
      " [ 8  8 10]\n",
      " [11 11 13]]\n"
     ]
    }
   ],
   "source": [
    "import numpy as np\n",
    "\n",
    "# Adicionar o vetor a cada linha da matriz x guardando na matriz y \n",
    "a = np.array([[1,2,3], [4,5,6], [7,8,9], [10, 11, 12]])\n",
    "v = np.array([1, 0, 1])\n",
    "\n",
    "print(\"Metodo 1:\")\n",
    "b = np.empty_like(a) #Cria um vetor b igual ao vetor a com valores todos a zero\n",
    "# Adcionar à matriz b os valores de a e v\n",
    "for i in range(4):\n",
    "    b[i, :] = a[i, :] + v\n",
    "print(b)\n",
    "\n",
    "print(\"Metodo 2:\")\n",
    "b = a + v \n",
    "print(b)\n"
   ]
  },
  {
   "cell_type": "markdown",
   "metadata": {},
   "source": [
    "## Alterar o formato das matrizes/ndarray\n",
    "\n",
    "A bilbioteca NumPy permite alterar o formato das matrizes/ndarray.\n",
    "\n",
    "Para isso possui os seguintes métodos:\n",
    "* transpose, que apresenta a matriz/ndarray transposta\n",
    "* ravel, que transforma uma matriz/ndarray numa lista de elementos\n",
    "* reshape, que dá a forma da matriz/ndarray desejada a uma lista de elementos\n",
    "* newaxis, que permite adicionar uma nova dimensão à matriz/ndarray\n",
    "* resize, que permite adicionar elementos à matriz/ndarray\n",
    "\n",
    "Exemplos:"
   ]
  },
  {
   "cell_type": "code",
   "execution_count": 51,
   "metadata": {},
   "outputs": [
    {
     "name": "stdout",
     "output_type": "stream",
     "text": [
      "Matriz a:\n",
      "[[1 2 3]\n",
      " [4 5 6]]\n",
      "(2, 3)\n",
      "Matriz a transposta:\n",
      "[[1 4]\n",
      " [2 5]\n",
      " [3 6]]\n",
      "Elementos da matriz transformados numa lista:\n",
      "[1 2 3 4 5 6]\n",
      "[1 2 3 4 5 6]\n",
      "Matriz b:\n",
      "[[1 2]\n",
      " [3 4]\n",
      " [5 6]]\n",
      "(3, 2)\n",
      "[1 2 3 4 5 6]\n",
      "Redimensionar uma matriz:\n",
      "[[1 2 3]\n",
      " [4 5 6]]\n",
      "[[1 2]\n",
      " [3 4]\n",
      " [5 6]\n",
      " [0 0]\n",
      " [0 0]]\n",
      "Adicionar uma dimensão a uma matriz:\n",
      "[0 1 2 3]\n",
      "[[0]\n",
      " [1]\n",
      " [2]\n",
      " [3]]\n"
     ]
    }
   ],
   "source": [
    "import numpy as np\n",
    "\n",
    "a = np.array([[1, 2, 3], [4, 5, 6]])\n",
    "print('Matriz a:')\n",
    "print(a)\n",
    "print(a.shape)\n",
    "print('Matriz a transposta:')\n",
    "print(np.transpose(a))\n",
    "print('Elementos da matriz transformados numa lista:')\n",
    "print(a.ravel())\n",
    "print(np.ravel(a))\n",
    "print('Matriz b:')\n",
    "b = a.reshape((3, 2)) #Da outra estrutura ao vetor a, tem de ter os mesmos elementos e segue a ordem natural\n",
    "print(b)\n",
    "print(b.shape)\n",
    "print(b.ravel())\n",
    "print('Redimensionar uma matriz:') \n",
    "c = np.array([[1, 2, 3], [4, 5, 6]])\n",
    "print(c)\n",
    "c.resize((5,2))\n",
    "print(c)\n",
    "#Não se pode redimensionar uma matriz que já tenha sido referenciada anteriormente\n",
    "print('Adicionar uma dimensão a uma matriz:')\n",
    "d = np.arange(4)\n",
    "print(d)\n",
    "e = d[:,np.newaxis]\n",
    "print(e)"
   ]
  },
  {
   "cell_type": "markdown",
   "metadata": {},
   "source": [
    "## Utilização de funções lambda e list comprehension em matrizes/ndarray\n",
    "\n",
    "As funções lambda, apresentadas no notebook [pytrigo-1-intro.ipynb](pytrigo-1-intro.ipynb), permitem aplicar a todos os elementos de uma matriz/ndarray um determinada função, ao contrário do processo normal que seria o de passar uma matriz/ndarray por parametro para a execução de uma determinada função.\n",
    "\n",
    "De seguida apresentam-se alguns exemplos de utilização de funções lambdas em matrizes/arrays."
   ]
  },
  {
   "cell_type": "code",
   "execution_count": 52,
   "metadata": {},
   "outputs": [
    {
     "name": "stdout",
     "output_type": "stream",
     "text": [
      "Array a:\n",
      "[1 2 3]\n",
      "Array a (>2): \n",
      "[3]\n",
      "[3]\n",
      "[3]\n",
      "Array b:\n",
      "[[1 2 3]\n",
      " [4 5 6]]\n",
      "Array b (>2): \n",
      "[3 4 5 6]\n",
      "[[3], [4, 5, 6]]\n",
      "[[3]\n",
      " [4]\n",
      " [5]\n",
      " [6]]\n",
      "Array b^2: \n",
      "[[ 1  4  9]\n",
      " [16 25 36]]\n",
      "[[ 1  4  9]\n",
      " [16 25 36]]\n",
      "[[ 1  4  9]\n",
      " [16 25 36]]\n"
     ]
    }
   ],
   "source": [
    "import numpy as np\n",
    "\n",
    "a = np.array([1, 2, 3])\n",
    "b = np.array([[1, 2, 3], [4, 5, 6]])\n",
    "\n",
    "print(\"Array a:\")\n",
    "print(a)\n",
    "#Mostrar todos os valores superiores a 3\n",
    "print(\"Array a (>2): \")\n",
    "print(a[a>2])\n",
    "print([x for x in a if x > 2])\n",
    "print(np.array(list(filter(lambda x : x > 2, a))))\n",
    "   \n",
    "print(\"Array b:\")\n",
    "print(b)\n",
    "#Mostrar todos os valores superiores a 3\n",
    "print(\"Array b (>2): \")\n",
    "print(b[b>2])\n",
    "print([[j for j in i if j>2] for i in b])\n",
    "#print(np.array(list(filter(lambda x : x > 2, b)))) \n",
    "#a instrução acima dá erro, é preciso converter primeiro o array 2d para 1d\n",
    "print(np.array(list(filter(lambda x : x > 2, b.reshape(6,1)))))\n",
    "\n",
    "#Mostrar o quadrado de todos os valores\n",
    "print(\"Array b^2: \")\n",
    "print(b**2)\n",
    "print(np.array([x**2 for x in b]))\n",
    "print(np.array(list(map(lambda x : x**2, b))))"
   ]
  },
  {
   "cell_type": "markdown",
   "metadata": {},
   "source": [
    "## Leitura e escrita de ficheiros\n",
    "\n",
    "A leitura e escrita de ficheiros na biblioteca NumPy faz-se recorrendo aos métodos:\n",
    "* loadtxt(fname[, dtype, comments, delimiter, ...])\n",
    "* savetxt(fname, X[, fmt, delimiter, newline, ...])\n",
    "* genfromtxt(fname[, dtype, comments, ...])\n",
    "* fromregex(file, regexp, dtype)\n",
    "* fromstring(string[, dtype, count, sep])\n",
    "* ndarray.tofile(fid[, sep, format])\n",
    "* ndarray.tolist()\n",
    "\n",
    "De seguida apresentam-se dois exemplos:\n",
    "* o primeiro le um ficheiro csv para um array, divide os elementos por 2 e grava num novo ficheiro.\n",
    "* o segundo le um ficheiro csv para um array, mas com a especificação do tipo de dados (inteiros)\n"
   ]
  },
  {
   "cell_type": "code",
   "execution_count": 53,
   "metadata": {},
   "outputs": [
    {
     "name": "stdout",
     "output_type": "stream",
     "text": [
      "Exemplo 1:\n",
      "Matriz a:\n",
      "[[ 1.  2.  3.  4.  5.]\n",
      " [ 6.  7.  8.  9. 10.]\n",
      " [11. 12. 13. 14. 15.]\n",
      " [16. 17. 18. 19. 20.]]\n",
      "Matriz 2*a:\n",
      "[[ 2.  4.  6.  8. 10.]\n",
      " [12. 14. 16. 18. 20.]\n",
      " [22. 24. 26. 28. 30.]\n",
      " [32. 34. 36. 38. 40.]]\n",
      "Exemplo 2:\n",
      "Matriz a (inteiros):\n",
      "[[ 1  2  3  4  5]\n",
      " [ 6  7  8  9 10]\n",
      " [11 12 13 14 15]\n",
      " [16 17 18 19 20]]\n"
     ]
    }
   ],
   "source": [
    "import numpy as np\n",
    "#Exemplo 1\n",
    "print('Exemplo 1:')\n",
    "a = np.genfromtxt('pytrigo-3-numpy-ficheiros/pytrigo-numpy-csv1.csv', delimiter=',')\n",
    "print('Matriz a:')\n",
    "print(a)\n",
    "b = a*2\n",
    "print('Matriz 2*a:')\n",
    "print(b)\n",
    "np.savetxt('pytrigo-3-numpy-ficheiros/pytrigo-numpy-csv2.csv', b, delimiter=',')\n",
    "print('Exemplo 2:')\n",
    "a = np.genfromtxt('pytrigo-3-numpy-ficheiros/pytrigo-numpy-csv1.csv', delimiter=',',dtype=int)\n",
    "print('Matriz a (inteiros):')\n",
    "print(a)\n",
    "# Existem mais opcoes para a leitura / escrita de dados\n",
    "# A funcao genfromtxt tambem permite indicar o tratamento a dar aos missing values"
   ]
  },
  {
   "cell_type": "markdown",
   "metadata": {},
   "source": [
    "### Velocidade de execução: Python vs NumPy\n",
    "\n",
    "No dominio da Data Science a velcocidade de execução do código tem um impacto muito grande quando se analisa grandes quantidades de dados, pelo que deverá sempre procurar a forma mais eficiente de o fazer, preferindo a utilização de bibliotecas como o NumPy.\n",
    "\n",
    "Para medir a execução do código que implementa pode utilizar a biblioteca **time** do Python e registar o tempo antes e depois da execução de um pedaço de código. Outra forma de o fazer é utilizar a biblioteca **timeit**, que corre o bloco de código x vezes, que devolve a média e desvio padrão do tempo de execução desse código.\n",
    "\n",
    "De seguida apresenta-se o tempo de execução de um código para fazer o cálculo da distância entre todas as linhas da matriz, retirado de \n",
    "http://nbviewer.jupyter.org/github/ogrisel/notebooks/blob/master/Numba%20Parakeet%20Cython.ipynb.\n",
    "\n",
    "No seguinte link - http://arogozhnikov.github.io/2015/01/06/benchmarks-of-speed-numpy-vs-all.html - poderá obter mais informação sobre outras bibliotecas, criadas com o bjetivo de serem mais eficientes que a biblioteca NumPy, como a Numba ou a Cython.  "
   ]
  },
  {
   "cell_type": "code",
   "execution_count": 54,
   "metadata": {},
   "outputs": [
    {
     "name": "stdout",
     "output_type": "stream",
     "text": [
      "6.94 s ± 553 ms per loop (mean ± std. dev. of 7 runs, 1 loop each)\n",
      "107 ms ± 5.08 ms per loop (mean ± std. dev. of 7 runs, 10 loops each)\n",
      "A segunda implementação recorrendo à biblioteca NumPy é 500x mais rápida!\n"
     ]
    }
   ],
   "source": [
    "import numpy as np\n",
    "from timeit import timeit\n",
    "\n",
    "X = np.random.random((1000 ,3))\n",
    "#X_wide = np.random.random((1000, 100))\n",
    "\n",
    "#Python\n",
    "def pairwise_python(X):\n",
    "    M = X.shape[0]\n",
    "    N = X.shape[1]\n",
    "    D = np.empty((M, M), dtype=np.float)\n",
    "    for i in range(M):\n",
    "        for j in range(M):\n",
    "            d = 0.0\n",
    "            for k in range(N):\n",
    "                tmp = X[i, k] - X[j, k]\n",
    "                d += tmp * tmp\n",
    "            D[i, j] = np.sqrt(d)\n",
    "    return D\n",
    "%timeit pairwise_python(X)\n",
    "\n",
    "#NumPy\n",
    "def pairwise_numpy(X):\n",
    "    return np.sqrt(((X[:, None, :] - X) ** 2).sum(-1))\n",
    "%timeit pairwise_numpy(X)\n",
    "\n",
    "print('A segunda implementação recorrendo à biblioteca NumPy é 500x mais rápida!')"
   ]
  },
  {
   "cell_type": "markdown",
   "metadata": {},
   "source": [
    "### Exercícios sobre NumPy\n",
    "1. Crie um vetor com 10 elementos todos a 0\n",
    "2. Crie uma matriz de zeros com a dimensão de 2X5\n",
    "3. Crie um vetor de 10 elementos com valores entre 10 e 49\n",
    "4. Crie uma matriz 2X5 com valores entre 10 e 19\n",
    "5. Crie uma matriz identidade com a dimensão 5x5\n",
    "6. Gere uma matriz 5x5 com valores aleatorios\n",
    "7. Normalize os valores de uma matriz 5x5\n",
    "8. Crie um vetor com 10 elementos aleatórios e ordene-o.\n",
    "9. Descubra a posicao num vetor do elemento com o valor mais próximo de um valor gerado aleatoriamente. "
   ]
  },
  {
   "cell_type": "code",
   "execution_count": 55,
   "metadata": {},
   "outputs": [
    {
     "name": "stdout",
     "output_type": "stream",
     "text": [
      "Solucao 1:\n",
      "[0. 0. 0. 0. 0. 0. 0. 0. 0. 0.]\n",
      "Solucao 2:\n",
      "[[0. 0. 0. 0. 0.]\n",
      " [0. 0. 0. 0. 0.]]\n",
      "Solucao 3:\n",
      "[10 11 12 13 14 15 16 17 18 19 20 21 22 23 24 25 26 27 28 29 30 31 32 33\n",
      " 34 35 36 37 38 39 40 41 42 43 44 45 46 47 48 49]\n",
      "Solucao 4:\n",
      "[[10 11 12 13 14]\n",
      " [15 16 17 18 19]]\n",
      "Solucao 5:\n",
      "[[1. 0. 0. 0. 0.]\n",
      " [0. 1. 0. 0. 0.]\n",
      " [0. 0. 1. 0. 0.]\n",
      " [0. 0. 0. 1. 0.]\n",
      " [0. 0. 0. 0. 1.]]\n",
      "Solucao 6:\n",
      "[[2.42545831e-01 1.96664088e-01 8.45262016e-01 8.76824785e-02\n",
      "  3.18199654e-01]\n",
      " [3.70671371e-01 6.10944636e-01 6.27767453e-01 5.74652214e-01\n",
      "  3.06826099e-01]\n",
      " [4.84898719e-01 9.52768010e-01 4.53688190e-01 2.16824153e-01\n",
      "  7.79506700e-01]\n",
      " [4.86040081e-01 2.62741139e-01 4.53337102e-01 3.00314316e-01\n",
      "  4.38089098e-02]\n",
      " [9.74708690e-02 7.16521429e-04 1.77873643e-01 1.29166887e-01\n",
      "  2.74098728e-01]]\n",
      "Solucao 7:\n",
      "[[0.59276808 0.55537194 0.         0.18308905 0.60479228]\n",
      " [1.         0.81087941 0.00271065 0.91628043 0.71273382]\n",
      " [0.67421418 0.81011854 0.18549259 0.18922222 0.25791647]\n",
      " [0.01101555 0.35085647 0.94077111 0.90586363 0.24085973]\n",
      " [0.11652374 0.90044219 0.1984396  0.78877195 0.53272946]]\n",
      "Solucao 8:\n",
      "[0.00621953 0.02649541 0.06489945 0.22651143 0.58887597 0.64030568\n",
      " 0.79493311 0.81999285 0.85851229 0.95938873]\n",
      "Solucao 9:\n",
      "[ 0  1  2  3  4  5  6  7  8  9 10 11 12 13 14 15 16 17 18 19 20 21 22 23\n",
      " 24 25 26 27 28 29 30 31 32 33 34 35 36 37 38 39 40 41 42 43 44 45 46 47\n",
      " 48 49 50 51 52 53 54 55 56 57 58 59 60 61 62 63 64 65 66 67 68 69 70 71\n",
      " 72 73 74 75 76 77 78 79 80 81 82 83 84 85 86 87 88 89 90 91 92 93 94 95\n",
      " 96 97 98 99]\n",
      "7.052099747590146\n",
      "Posicao:  7  Valor:  7\n"
     ]
    }
   ],
   "source": [
    "import numpy as np\n",
    "#Solucao 1\n",
    "print(\"Solucao 1:\")\n",
    "v = np.zeros(10)\n",
    "print(v)\n",
    "#Solucao 2\n",
    "print(\"Solucao 2:\")\n",
    "m = np.zeros(shape=(2,5))\n",
    "print(m)\n",
    "#Solucao 3\n",
    "print(\"Solucao 3:\")\n",
    "v = np.arange(10,50)\n",
    "print(v)\n",
    "#Solucao 4\n",
    "print(\"Solucao 4:\")\n",
    "m = np.arange(10,20).reshape(2,5)\n",
    "print(m)\n",
    "#Solucao 5\n",
    "print(\"Solucao 5:\")\n",
    "m = np.eye(5)\n",
    "print(m)\n",
    "#Solucao 6\n",
    "print(\"Solucao 6:\")\n",
    "m = np.random.random((5,5))\n",
    "print(m)\n",
    "#Solucao 7\n",
    "print(\"Solucao 7:\")\n",
    "m = np.random.random((5,5))\n",
    "mmax, mmin = m.max(), m.min()\n",
    "m = (m - mmin)/(mmax - mmin)\n",
    "print(m)\n",
    "#Solucao 8\n",
    "print('Solucao 8:')\n",
    "m = np.random.random(10)\n",
    "m.sort()\n",
    "print(m)\n",
    "#Solucao 9\n",
    "print('Solucao 9:')\n",
    "m = np.arange(100)\n",
    "valor = np.random.uniform(0,100)\n",
    "indice = (np.abs(m-valor)).argmin()\n",
    "print(m)\n",
    "print(valor)\n",
    "print('Posicao: ', indice,' Valor: ', m[indice])"
   ]
  },
  {
   "cell_type": "markdown",
   "metadata": {},
   "source": [
    "Mais exercícios disponíveis em: http://www.labri.fr/perso/nrougier/teaching/numpy.100/"
   ]
  },
  {
   "cell_type": "code",
   "execution_count": null,
   "metadata": {},
   "outputs": [],
   "source": []
  }
 ],
 "metadata": {
  "kernelspec": {
   "display_name": "Python 3",
   "language": "python",
   "name": "python3"
  },
  "language_info": {
   "codemirror_mode": {
    "name": "ipython",
    "version": 3
   },
   "file_extension": ".py",
   "mimetype": "text/x-python",
   "name": "python",
   "nbconvert_exporter": "python",
   "pygments_lexer": "ipython3",
   "version": "3.7.3"
  }
 },
 "nbformat": 4,
 "nbformat_minor": 2
}
