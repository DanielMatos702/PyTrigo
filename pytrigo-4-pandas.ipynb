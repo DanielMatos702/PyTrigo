{
 "cells": [
  {
   "cell_type": "markdown",
   "metadata": {},
   "source": [
    "# Biblioteca Pandas\n",
    "\n",
    "Este tutorial é sobre a utilização da biblioteca Pandas, uma biblioteca Python,  para manipulação e análise de dados. Oferece estruturas de dadso e operações para manipular tabelas numéricas e séries temporais.\n",
    "\n",
    "O nome Pandas é derivado da palavra Panel Data (painel de dados), um termo econométrico para conjuntos de dados que incluem observações ao longo do tempo.\n",
    "\n",
    "Esta biblioteca fornece três estruturas de dados:\n",
    "1. Series, um vetor de dados do mesmo tipo (uma dimensão)\n",
    "2. DataFrame, que contem um conjunto de Series, que podem ser de diferentes tipos (possui duas dimensões). Uma DataFrame pode ser vista como uma tabela de dados da base de dados ou uma folha de Excel.\n",
    "3. Panel, que contém um conjunto de DataFrame (possui três dimensões)\n",
    "\n",
    "Os conteúdos para este tutorial vieram de diversas fontes com particular destaque para a documentação sobre a biblioteca pandas https://pandas.pydata.org/pandas-docs/stable/ e para um tutorial disponível no site https://www.tutorialspoint.com/python_pandas/index.htm.\n",
    "\n",
    "A estrutura mais utilizada na biblioteca Pandas é a estrutura DataFrame.\n",
    "\n",
    "A biblioteca Pandas permite um tratamento muito eficaz das séries temporais muito utilizadas nas finanças.\n",
    "\n",
    "O primeiro passo para trabalhar com uma biblioteca no Python é importá-la com a utilização do comando import."
   ]
  },
  {
   "cell_type": "code",
   "execution_count": 13,
   "metadata": {},
   "outputs": [],
   "source": [
    "import pandas as pd"
   ]
  },
  {
   "cell_type": "markdown",
   "metadata": {},
   "source": [
    "## Estruturas de dados\n",
    "### Série\n",
    "\n",
    "A criação de uma Serie é feita utilizando o seguinte método construtor: pandas.Series( data, index, dtype, copy), que possui os seguintes argumentos:\n",
    "1. data, que pode vir de diferentes fontes, como ndarray, list ou constantes.\n",
    "2. index, o inddice tem de ser composto por valores únicos. Se não for indicado nada são utilizados valores de 0,...,n (np.arange(n))\n",
    "3. dtype, tipo de dados\n",
    "4. copy, copia as fontes de dados\n",
    "\n",
    "De seguida apresentam-se alguns exemplos de criação e manipulação de Series"
   ]
  },
  {
   "cell_type": "code",
   "execution_count": 2,
   "metadata": {},
   "outputs": [
    {
     "name": "stdout",
     "output_type": "stream",
     "text": [
      "Serie 1:\n",
      "0    a\n",
      "1    b\n",
      "2    c\n",
      "3    d\n",
      "dtype: object\n",
      "Serie 2:\n",
      "100    a\n",
      "101    b\n",
      "102    c\n",
      "103    d\n",
      "dtype: object\n",
      "Serie 3:\n",
      "a    0.0\n",
      "b    1.0\n",
      "c    2.0\n",
      "dtype: float64\n"
     ]
    }
   ],
   "source": [
    "#Criacao de Series\n",
    "#Criacao de uma serie a partir de um array numpy\n",
    "import numpy as np\n",
    "import pandas as pd\n",
    "data = np.array(['a','b','c','d'])\n",
    "s = pd.Series(data)\n",
    "print('Serie 1:')\n",
    "print(s)\n",
    "#Criacao de uma serie a partir de um array numpy, passando-lhe os indices\n",
    "data = np.array(['a','b','c','d'])\n",
    "s = pd.Series(data,index=[100,101,102,103])\n",
    "print('Serie 2:')\n",
    "print(s)\n",
    "#Criacao de uma serie a partir de um dicionario\n",
    "data = {'a' : 0., 'b' : 1., 'c' : 2.}\n",
    "s = pd.Series(data)\n",
    "print('Serie 3:')\n",
    "print(s)"
   ]
  },
  {
   "cell_type": "markdown",
   "metadata": {},
   "source": [
    "### DataFrame\n",
    "\n",
    "A criação de um DataFrame é feita utilizando o seguinte método construtor: pandas.DataFrame( data, index, columns, dtype, copy), que possui os seguintes argumentos:\n",
    "\n",
    "1. data, são os dados que se passam ao DataFrame e podem ser ndarray, series, map, lists, dict, constantes e outro DataFrame.\n",
    "2. index, são os rótulos das linhas, se não se passar nada gera inteiros de 0 a n (np.arange(n))\n",
    "3. columns, são os rótulos das colunas\n",
    "4. dtype, o tipo de dados de cada coluna\n",
    "5. copy, indica a cópia dos dados por de entrada\n",
    "\n",
    "De seguida apresentam-se alguns exemplos de criação e manipulação de DataFrames\n"
   ]
  },
  {
   "cell_type": "code",
   "execution_count": 15,
   "metadata": {},
   "outputs": [
    {
     "name": "stdout",
     "output_type": "stream",
     "text": [
      "DataFrame 1:\n",
      "   0\n",
      "0  1\n",
      "1  2\n",
      "2  3\n",
      "3  4\n",
      "4  5\n",
      "DataFrame 2:\n",
      "      Nome  Idade\n",
      "0    Andre    9.0\n",
      "1  Matilde   11.0\n",
      "2  Goncalo   12.0\n",
      "DataFrame 3:\n",
      "      Nome  Idade\n",
      "0    Andre      9\n",
      "1  Matilde     10\n",
      "DataFrame 4:\n",
      "   a   b     c\n",
      "0  1   2   NaN\n",
      "1  5  10  20.0\n",
      "DataFrame 4:\n",
      "        a   b     c\n",
      "linha1  1   2   NaN\n",
      "linha2  5  10  20.0\n"
     ]
    }
   ],
   "source": [
    "#Criacao de DataFrames\n",
    "import pandas as pd\n",
    "#Exemplo 1 - a partir de uma lista de valores\n",
    "data = [1,2,3,4,5]\n",
    "df = pd.DataFrame(data)\n",
    "print('DataFrame 1:')\n",
    "print(df)\n",
    "#Exemplo 2\n",
    "data = [['Andre',9],['Matilde',11],['Goncalo',12]]\n",
    "df = pd.DataFrame(data,columns=['Nome','Idade'],dtype=float)\n",
    "print('DataFrame 2:')\n",
    "print(df)\n",
    "#Exemplo 3 - a partir de um dicionario\n",
    "data = {'Nome':['Andre', 'Matilde'],'Idade':[9,10]}\n",
    "df = pd.DataFrame(data)\n",
    "print('DataFrame 3:')\n",
    "print(df)\n",
    "#Exemplo 4 -  a paritr de uma lista de dicionarios - contem um missing value marcado como NaN\n",
    "data = [{'a': 1, 'b': 2},{'a': 5, 'b': 10, 'c': 20}]\n",
    "df = pd.DataFrame(data)\n",
    "print('DataFrame 4:')\n",
    "print(df)\n",
    "#Exemplo 5 - o exemplo de cima, mas dando títulos às linhas\n",
    "import pandas as pd\n",
    "data = [{'a': 1, 'b': 2},{'a': 5, 'b': 10, 'c': 20}]\n",
    "df = pd.DataFrame(data, index=['linha1', 'linha2'])\n",
    "print('DataFrame 4:')\n",
    "print(df)"
   ]
  },
  {
   "cell_type": "markdown",
   "metadata": {},
   "source": [
    "#### Operações sobre DataFrames: \n",
    "1. Manipular colunas (mostrar, adicionar, apagar)\n",
    "2. Manipular linhas (mostrar, adicionar, apagar)"
   ]
  },
  {
   "cell_type": "code",
   "execution_count": 16,
   "metadata": {},
   "outputs": [
    {
     "name": "stdout",
     "output_type": "stream",
     "text": [
      "Manipular colunas: \n",
      "a    1.0\n",
      "b    2.0\n",
      "c    3.0\n",
      "d    NaN\n",
      "Name: col1, dtype: float64\n",
      "Adicionar uma nova coluna do tipo Serie:\n",
      "   col1  col2  col3\n",
      "a   1.0     1  10.0\n",
      "b   2.0     2  20.0\n",
      "c   3.0     3  30.0\n",
      "d   NaN     4   NaN\n",
      "Adicioanar uma nova coluna com base em colunas existentes na DataFrame:\n",
      "   col1  col2  col3  col4\n",
      "a   1.0     1  10.0  11.0\n",
      "b   2.0     2  20.0  22.0\n",
      "c   3.0     3  30.0  33.0\n",
      "d   NaN     4   NaN   NaN\n",
      "DataFrame original:\n",
      "   col1  col2  col3\n",
      "a   1.0     1  10.0\n",
      "b   2.0     2  20.0\n",
      "c   3.0     3  30.0\n",
      "d   NaN     4   NaN\n",
      "Apagar a primeira coluna:\n",
      "   col2  col3\n",
      "a     1  10.0\n",
      "b     2  20.0\n",
      "c     3  30.0\n",
      "d     4   NaN\n",
      "Apagar a segunda coluna com pop:\n",
      "   col3\n",
      "a  10.0\n",
      "b  20.0\n",
      "c  30.0\n",
      "d   NaN\n"
     ]
    }
   ],
   "source": [
    "#mostrar so uma coluna\n",
    "import pandas as pd\n",
    "print('Manipular colunas: ')\n",
    "data = {'col1' : pd.Series([1, 2, 3], index=['a', 'b', 'c']),\n",
    "      'col2' : pd.Series([1, 2, 3, 4], index=['a', 'b', 'c', 'd'])}\n",
    "df = pd.DataFrame(data)\n",
    "print (df ['col1'])\n",
    "\n",
    "#adicionar uma coluna\n",
    "data = {'col1' : pd.Series([1, 2, 3], index=['a', 'b', 'c']),\n",
    "      'col2' : pd.Series([1, 2, 3, 4], index=['a', 'b', 'c', 'd'])}\n",
    "df = (pd.DataFrame(data))\n",
    "# Adding a new column to an existing DataFrame object with column label by passing new series\n",
    "print (\"Adicionar uma nova coluna do tipo Serie:\")\n",
    "df['col3']=pd.Series([10,20,30],index=['a','b','c'])\n",
    "print (df)\n",
    "print (\"Adicioanar uma nova coluna com base em colunas existentes na DataFrame:\")\n",
    "df['col4']=df['col1']+df['col3']\n",
    "print (df)\n",
    "\n",
    "#Apagar uma coluna\n",
    "d = {'col1' : pd.Series([1, 2, 3], index=['a', 'b', 'c']), \n",
    "     'col2' : pd.Series([1, 2, 3, 4], index=['a', 'b', 'c', 'd']), \n",
    "     'col3' : pd.Series([10,20,30], index=['a','b','c'])}\n",
    "\n",
    "df = pd.DataFrame(d)\n",
    "print (\"DataFrame original:\")\n",
    "print (df)\n",
    "\n",
    "# using del function\n",
    "print (\"Apagar a primeira coluna:\")\n",
    "del df['col1']\n",
    "print (df)\n",
    "\n",
    "# using pop function\n",
    "print (\"Apagar a segunda coluna com pop:\")\n",
    "df.pop('col2')\n",
    "print (df)"
   ]
  },
  {
   "cell_type": "code",
   "execution_count": 17,
   "metadata": {},
   "outputs": [
    {
     "name": "stdout",
     "output_type": "stream",
     "text": [
      "DataFrame df:\n",
      "   col3\n",
      "a  10.0\n",
      "b  20.0\n",
      "c  30.0\n",
      "d   NaN\n",
      "Retirar os valores da linha com indice 2 (terceira linha):\n",
      "linha1    3.0\n",
      "linha2    3.0\n",
      "Name: c, dtype: float64\n",
      "Mostrar as linhas com os indices 2 e 3:\n",
      "   linha1  linha2\n",
      "c     3.0       3\n",
      "d     NaN       4\n",
      "Adicionar as linhas de df2 a df1:\n",
      "   a  b\n",
      "0  1  2\n",
      "1  3  4\n",
      "0  5  6\n",
      "1  7  8\n",
      "Apagar linha com a etiqueta 0\n",
      "   a  b\n",
      "1  3  4\n",
      "1  7  8\n"
     ]
    }
   ],
   "source": [
    "#Aceder a uma linha\n",
    "import pandas as pd\n",
    "data = {'linha1' : pd.Series([1, 2, 3], index=['a', 'b', 'c']),\n",
    "     'linha2' : pd.Series([1, 2, 3, 4], index=['a', 'b', 'c', 'd'])}\n",
    "print('DataFrame df:')\n",
    "print (df)\n",
    "\n",
    "df = pd.DataFrame(data)\n",
    "print('Retirar os valores da linha com indice 2 (terceira linha):')\n",
    "print (df.iloc[2])\n",
    "\n",
    "#Mostrar varias linhas \n",
    "print('Mostrar as linhas com os indices 2 e 3:')\n",
    "print (df[2:4])\n",
    "\n",
    "#Adicionar linhas\n",
    "df1 = pd.DataFrame([[1, 2], [3, 4]], columns = ['a','b'])\n",
    "df2 = pd.DataFrame([[5, 6], [7, 8]], columns = ['a','b'])\n",
    "print('Adicionar as linhas de df2 a df1:')\n",
    "df1 = df1.append(df2)\n",
    "print (df1)\n",
    "\n",
    "#Apagar linhas\n",
    "print('Apagar linha com a etiqueta 0')\n",
    "df1 = df1.drop(0) #Apaga as linhas com a etiqueta 0\n",
    "print (df1)\n"
   ]
  },
  {
   "cell_type": "markdown",
   "metadata": {},
   "source": [
    "### Painel\n",
    "\n",
    "A criação de um Painel é feita utilizando o seguinte método construtor: pandas.Panel(data, items, major_axis, minor_axis, dtype, copy), que possui os seguintes argumentos:\n",
    "\n",
    "1. data, são os dados que se passam ao DataFrame e podem ser ndarray, series, map, lists, dict, constantes e outro DataFrame.\n",
    "2. items, corresponde aos elementos do Panel que são compostos por DataFrame (axis = 0).\n",
    "3. major_axis, é o indice das linhas de cada DataFrame (axis = 1) \n",
    "4. minor_axis, é o indice das colunas de cada DataFram (axis = 2)\n",
    "5. dtype, o tipo de dados de cada coluna\n",
    "6. copy, indica a cópia dos dados por de entrada\n",
    "\n",
    "De seguida apresentam-se alguns exemplos de criação e manipulação de DataFrames"
   ]
  },
  {
   "cell_type": "code",
   "execution_count": 18,
   "metadata": {},
   "outputs": [
    {
     "name": "stdout",
     "output_type": "stream",
     "text": [
      "<class 'pandas.core.panel.Panel'>\n",
      "Dimensions: 2 (items) x 4 (major_axis) x 5 (minor_axis)\n",
      "Items axis: 0 to 1\n",
      "Major_axis axis: 0 to 3\n",
      "Minor_axis axis: 0 to 4\n"
     ]
    },
    {
     "name": "stderr",
     "output_type": "stream",
     "text": [
      "C:\\ProgramData\\Anaconda3\\lib\\site-packages\\IPython\\core\\interactiveshell.py:3267: FutureWarning: \n",
      "Panel is deprecated and will be removed in a future version.\n",
      "The recommended way to represent these types of 3-dimensional data are with a MultiIndex on a DataFrame, via the Panel.to_frame() method\n",
      "Alternatively, you can use the xarray package http://xarray.pydata.org/en/stable/.\n",
      "Pandas provides a `.to_xarray()` method to help automate this conversion.\n",
      "\n",
      "  exec(code_obj, self.user_global_ns, self.user_ns)\n"
     ]
    }
   ],
   "source": [
    "#Criacao de um painel vazio a partir \n",
    "import pandas as pd\n",
    "import numpy as np\n",
    "\n",
    "data = np.random.rand(2,4,5)\n",
    "p = pd.Panel(data)\n",
    "print(p)"
   ]
  },
  {
   "cell_type": "code",
   "execution_count": 19,
   "metadata": {},
   "outputs": [
    {
     "name": "stdout",
     "output_type": "stream",
     "text": [
      "          0         1         2\n",
      "0 -0.485896 -0.723415 -1.030865\n",
      "1 -0.034042  0.687591 -1.708426\n",
      "2 -1.100783  0.926380  0.376042\n",
      "3 -0.654828 -0.849194  1.872834\n",
      "      Item1     Item2\n",
      "0 -0.204481 -0.522129\n",
      "1  0.034763 -1.057375\n",
      "2 -0.729222       NaN\n",
      "      Item1     Item2\n",
      "0 -0.645796 -0.121843\n",
      "1  0.596974 -0.427852\n",
      "2  0.617746 -1.914983\n",
      "3  1.551817  1.282555\n"
     ]
    }
   ],
   "source": [
    "#Criacao de um painel a partir de dois DataFrames e selecao do primeiro DataFrame\n",
    "import pandas as pd\n",
    "import numpy as np\n",
    "data = {'Item1' : pd.DataFrame(np.random.randn(4, 3)), \n",
    "        'Item2' : pd.DataFrame(np.random.randn(4, 2))}\n",
    "p = pd.Panel(data)\n",
    "print(p['Item1'])\n",
    "\n",
    "#Criacao de um painel vazio\n",
    "import pandas as pd\n",
    "import numpy as np\n",
    "data = {'Item1' : pd.DataFrame(np.random.randn(4, 3)), \n",
    "        'Item2' : pd.DataFrame(np.random.randn(4, 2))}\n",
    "p = pd.Panel(data)\n",
    "print(p.major_xs(1))\n",
    "\n",
    "#Criacao de um painel vazio\n",
    "import pandas as pd\n",
    "import numpy as np\n",
    "data = {'Item1' : pd.DataFrame(np.random.randn(4, 3)), \n",
    "        'Item2' : pd.DataFrame(np.random.randn(4, 2))}\n",
    "p = pd.Panel(data)\n",
    "print(p.minor_xs(1))"
   ]
  },
  {
   "cell_type": "markdown",
   "metadata": {},
   "source": [
    "## Funcionalidades base das Séries\n",
    "\n",
    "* axes, devolve a lista de rótulos dos eixos\n",
    "* dtype, devolve o tipo de objeto\n",
    "* empty, devolve True se a série estiver vazia\n",
    "* ndim, devolve o número de dimensões dos dados\n",
    "* size, devolve o número de elementos dos dados\n",
    "* values, devolve a Serie como um ndarray\n",
    "* head(), permite ver as primeiras n linhas\n",
    "* tail(), permite ver as últimas n linhas"
   ]
  },
  {
   "cell_type": "code",
   "execution_count": 20,
   "metadata": {},
   "outputs": [
    {
     "name": "stdout",
     "output_type": "stream",
     "text": [
      "Série s:\n",
      "0    0.331410\n",
      "1    0.968036\n",
      "2    1.530692\n",
      "3   -1.570095\n",
      "dtype: float64\n",
      "Os eixos da série s são:\n",
      "[RangeIndex(start=0, stop=4, step=1)]\n",
      "A série s está vazia?\n",
      "False\n",
      "Dimensoes da série s:\n",
      "1\n",
      "Tamanho da série s:\n",
      "4\n",
      "Os valores da série s são:\n",
      "[ 0.3314103   0.96803603  1.53069152 -1.57009518]\n",
      "Os primeiros dois elementos da série s são:\n",
      "0    0.331410\n",
      "1    0.968036\n",
      "dtype: float64\n",
      "Os últimos dois elementos da série s são:\n",
      "2    1.530692\n",
      "3   -1.570095\n",
      "dtype: float64\n"
     ]
    }
   ],
   "source": [
    "import pandas as pd\n",
    "import numpy as np\n",
    "\n",
    "#Cria uma série com 100 números aleatórios\n",
    "s = pd.Series(np.random.randn(4))\n",
    "print('Série s:')\n",
    "print (s)\n",
    "print (\"Os eixos da série s são:\")\n",
    "print (s.axes)\n",
    "print (\"A série s está vazia?\")\n",
    "print (s.empty)\n",
    "print (\"Dimensoes da série s:\")\n",
    "print (s.ndim)\n",
    "print (\"Tamanho da série s:\")\n",
    "print (s.size)\n",
    "print (\"Os valores da série s são:\")\n",
    "print (s.values)\n",
    "print (\"Os primeiros dois elementos da série s são:\")\n",
    "print (s.head(2))\n",
    "print (\"Os últimos dois elementos da série s são:\")\n",
    "print (s.tail(2))"
   ]
  },
  {
   "cell_type": "markdown",
   "metadata": {},
   "source": [
    "## Indexação e seleção de elementos das Series\n",
    "\n",
    "Muitas das operações de indexação e seleção são similares às disponíveis na biblioteca NumPy\n",
    "\n",
    "Utilização dos indexadores loc (nome do indice), iloc(numero do indice) e ix(misto - em desuso)."
   ]
  },
  {
   "cell_type": "code",
   "execution_count": 21,
   "metadata": {},
   "outputs": [
    {
     "name": "stdout",
     "output_type": "stream",
     "text": [
      "a    0.25\n",
      "b    0.50\n",
      "c    0.75\n",
      "d    1.00\n",
      "dtype: float64\n",
      "0.5\n",
      "True\n",
      "0.25\n",
      "0.5\n"
     ]
    }
   ],
   "source": [
    "import pandas as pd\n",
    "s = pd.Series([0.25, 0.5, 0.75, 1.0], index=['a', 'b', 'c', 'd'])\n",
    "print(s)\n",
    "print(s['b'])\n",
    "print('a' in s)\n",
    "print(s.loc['a']) #indicacao explicita do indice\n",
    "print(s.iloc[1]) #indicacao da posicao do indice"
   ]
  },
  {
   "cell_type": "markdown",
   "metadata": {},
   "source": [
    "## Funcionalidades base das DataFrames\n",
    "\n",
    "* T, apresenta a transposta da DataFrame\n",
    "* axes, devolve a lista de rótulos dos eixos das linhas e colunas\n",
    "* dtypes, devolve os tipos de objeto\n",
    "* empty, devolve True se a DataFrame estiver vazia\n",
    "* ndim, devolve o número de dimensões dos dados\n",
    "* shape, devolve um tuplo representando o formato da DataFrame\n",
    "* size, devolve o número de elementos dos dados\n",
    "* values, devolve a representação NumPy da DataFrame\n",
    "* head(), permite ver as primeiras n linhas\n",
    "* tail(), permite ver as últimas n linhas"
   ]
  },
  {
   "cell_type": "code",
   "execution_count": 22,
   "metadata": {},
   "outputs": [
    {
     "name": "stdout",
     "output_type": "stream",
     "text": [
      "A DataFrame (séries de dados) e:\n",
      "      Nome  Idade  Rating\n",
      "0  Antonio     25    4.23\n",
      "1   Miguel     26    3.24\n",
      "2    Joana     25    3.98\n",
      "3     Joao     23    2.56\n",
      "4  Liliana     30    3.20\n",
      "5  Alcides     29    4.60\n",
      "6   Monica     23    3.80\n",
      "A transposta da DataFrame e:\n",
      "              0       1      2     3        4        5       6\n",
      "Nome    Antonio  Miguel  Joana  Joao  Liliana  Alcides  Monica\n",
      "Idade        25      26     25    23       30       29      23\n",
      "Rating     4.23    3.24   3.98  2.56      3.2      4.6     3.8\n",
      "Rotulos dos eixos das linhas e colunas:\n",
      "[RangeIndex(start=0, stop=7, step=1), Index(['Nome', 'Idade', 'Rating'], dtype='object')]\n",
      "Tipo de dados de cada coluna:\n",
      "Nome       object\n",
      "Idade       int64\n",
      "Rating    float64\n",
      "dtype: object\n",
      "Vazia?\n",
      "False\n",
      "Dimensao da DataFrame:\n",
      "2\n",
      "Formato da DataFrame:\n",
      "(7, 3)\n",
      "Numero total de elementos:\n",
      "21\n",
      "Dados da DataFrame:\n",
      "[['Antonio' 25 4.23]\n",
      " ['Miguel' 26 3.24]\n",
      " ['Joana' 25 3.98]\n",
      " ['Joao' 23 2.56]\n",
      " ['Liliana' 30 3.2]\n",
      " ['Alcides' 29 4.6]\n",
      " ['Monica' 23 3.8]]\n",
      "Os valores das duas primeiras linhas:\n",
      "      Nome  Idade  Rating\n",
      "0  Antonio     25    4.23\n",
      "1   Miguel     26    3.24\n",
      "Os calores das duas ultimas linhas:\n",
      "      Nome  Idade  Rating\n",
      "5  Alcides     29     4.6\n",
      "6   Monica     23     3.8\n"
     ]
    }
   ],
   "source": [
    "import pandas as pd\n",
    "import numpy as np\n",
    "\n",
    "#Criar um dicionario de series\n",
    "d = {'Nome':pd.Series(['Antonio','Miguel','Joana','Joao','Liliana','Alcides','Monica']),\n",
    "   'Idade':pd.Series([25,26,25,23,30,29,23]),\n",
    "   'Rating':pd.Series([4.23,3.24,3.98,2.56,3.20,4.6,3.8])}\n",
    "\n",
    "#Criar a DataFrame\n",
    "df = pd.DataFrame(d)\n",
    "print (\"A DataFrame (séries de dados) e:\")\n",
    "print (df)\n",
    "print (\"A transposta da DataFrame e:\")\n",
    "print (df.T)\n",
    "print (\"Rotulos dos eixos das linhas e colunas:\")\n",
    "print (df.axes)\n",
    "print (\"Tipo de dados de cada coluna:\")\n",
    "print (df.dtypes)\n",
    "print (\"Vazia?\")\n",
    "print (df.empty)\n",
    "print (\"Dimensao da DataFrame:\")\n",
    "print (df.ndim)\n",
    "print (\"Formato da DataFrame:\")\n",
    "print (df.shape)\n",
    "print (\"Numero total de elementos:\")\n",
    "print (df.size)\n",
    "print (\"Dados da DataFrame:\")\n",
    "print (df.values)\n",
    "print (\"Os valores das duas primeiras linhas:\")\n",
    "print (df.head(2))\n",
    "print (\"Os calores das duas ultimas linhas:\")\n",
    "print (df.tail(2))"
   ]
  },
  {
   "cell_type": "markdown",
   "metadata": {},
   "source": [
    "## Indexação e seleção de dados nos DataFrames"
   ]
  },
  {
   "cell_type": "code",
   "execution_count": 23,
   "metadata": {},
   "outputs": [
    {
     "name": "stdout",
     "output_type": "stream",
     "text": [
      "DataFrame:\n",
      "         area      pop\n",
      "Lisboa   2761  2244984\n",
      "Porto    2395  2027191\n",
      "Setubal  5064   849842\n",
      "Braga    2673   848444\n",
      "Aveiro   2808   714351\n",
      "DataFrame [area]:\n",
      "Lisboa     2761\n",
      "Porto      2395\n",
      "Setubal    5064\n",
      "Braga      2673\n",
      "Aveiro     2808\n",
      "Name: area, dtype: int64\n",
      "Lisboa     2761\n",
      "Porto      2395\n",
      "Setubal    5064\n",
      "Braga      2673\n",
      "Aveiro     2808\n",
      "Name: area, dtype: int64\n",
      "DataFrame com a densidade populacional:\n",
      "         area      pop   densidade\n",
      "Lisboa   2761  2244984  813.105397\n",
      "Porto    2395  2027191  846.426305\n",
      "Setubal  5064   849842  167.820300\n",
      "Braga    2673   848444  317.412645\n",
      "Aveiro   2808   714351  254.398504\n",
      "         area      pop\n",
      "Lisboa   2761  2244984\n",
      "Porto    2395  2027191\n",
      "Setubal  5064   849842\n",
      "        area      pop\n",
      "Lisboa  2761  2244984\n"
     ]
    }
   ],
   "source": [
    "import pandas as pd\n",
    "area = pd.Series({'Lisboa': 2761, 'Porto': 2395,\n",
    "                  'Setubal': 5064, 'Braga': 2673,\n",
    "                  'Aveiro': 2808})\n",
    "pop = pd.Series({'Lisboa': 2244984, 'Porto': 2027191,\n",
    "                  'Setubal': 849842, 'Braga': 848444,\n",
    "                  'Aveiro': 714351})\n",
    "df = pd.DataFrame({'area':area, 'pop':pop})\n",
    "print(\"DataFrame:\")\n",
    "print(df)\n",
    "print(\"DataFrame [area]:\")\n",
    "print(df['area'])\n",
    "print(df.area)\n",
    "#Criar uma nova coluna com a densidade populacional\n",
    "df['densidade'] = df['pop'] / df['area']\n",
    "print(\"DataFrame com a densidade populacional:\")\n",
    "print(df)\n",
    "print(df.iloc[:3, :2])\n",
    "print(df.loc[:'Lisboa', :'pop'])\n"
   ]
  },
  {
   "cell_type": "markdown",
   "metadata": {},
   "source": [
    "## Funções estatísticas das DataFrames\n",
    "\n",
    "* count(), numero de observações não nulas\n",
    "* sum(), soma dos valores\n",
    "* mean(), média dos valores\n",
    "* median(), mediana dos valores\n",
    "* mode(), moda dos valores\n",
    "* std(), desvio padrão dos valores\n",
    "* min(), minimo dos valores\n",
    "* max(), maximo dos valores\n",
    "* abs(), valor absoluto\n",
    "* prod(), produto dos valores\n",
    "* cumsum(), soma cumulativa\n",
    "* cumprod(), produto cumulativo\n",
    "* describe(), apresenta várias estatísticas"
   ]
  },
  {
   "cell_type": "code",
   "execution_count": 24,
   "metadata": {},
   "outputs": [
    {
     "name": "stdout",
     "output_type": "stream",
     "text": [
      "           Idade    Rating\n",
      "count   7.000000  7.000000\n",
      "mean   25.857143  3.658571\n",
      "std     2.734262  0.698628\n",
      "min    23.000000  2.560000\n",
      "25%    24.000000  3.220000\n",
      "50%    25.000000  3.800000\n",
      "75%    27.500000  4.105000\n",
      "max    30.000000  4.600000\n"
     ]
    }
   ],
   "source": [
    "import pandas as pd\n",
    "import numpy as np\n",
    "\n",
    "#Criar um dicionario de series\n",
    "d = {'Nome':pd.Series(['Antonio','Miguel','Joana','Joao','Liliana','Alcides','Monica']),\n",
    "   'Idade':pd.Series([25,26,25,23,30,29,23]),\n",
    "   'Rating':pd.Series([4.23,3.24,3.98,2.56,3.20,4.6,3.8])}\n",
    "\n",
    "#Criar a DataFrame\n",
    "df = pd.DataFrame(d)\n",
    "print (df.describe())"
   ]
  },
  {
   "cell_type": "markdown",
   "metadata": {},
   "source": [
    "## Funções estatísticas envolvendo mais de uma Serie ou DataFrame\n",
    "\n",
    "A biblioteca Pandas possui funções estatísticas que permitem cálculo de algumas métricas entre Series:\n",
    "* pct_change()\n",
    "* cov(), convariância\n",
    "* corr(), correlação\n",
    "* rank(), produz um ranking dos elementos dentro de uma série"
   ]
  },
  {
   "cell_type": "code",
   "execution_count": 25,
   "metadata": {},
   "outputs": [
    {
     "name": "stdout",
     "output_type": "stream",
     "text": [
      "Serie s:\n",
      "0    1\n",
      "1    2\n",
      "2    3\n",
      "3    4\n",
      "4    5\n",
      "5    4\n",
      "dtype: int64\n",
      "Mostras a diferença em percentagem entre o primeiro elemento da série e os seguintes:\n",
      "0         NaN\n",
      "1    1.000000\n",
      "2    0.500000\n",
      "3    0.333333\n",
      "4    0.250000\n",
      "5   -0.200000\n",
      "dtype: float64\n",
      "Covariancia 1:\n",
      "0   -0.411259\n",
      "1   -0.853258\n",
      "2    0.142857\n",
      "3    0.642816\n",
      "4    0.348053\n",
      "5   -1.509783\n",
      "6   -0.435278\n",
      "7    1.760535\n",
      "8   -1.779805\n",
      "9    0.227987\n",
      "dtype: float64\n",
      "0    0.823985\n",
      "1    0.329249\n",
      "2    1.093144\n",
      "3    0.823534\n",
      "4    0.954021\n",
      "5   -0.411819\n",
      "6   -0.034461\n",
      "7   -0.623752\n",
      "8    0.142622\n",
      "9    1.519503\n",
      "dtype: float64\n",
      "0.09898546494664531\n",
      "Covariancia 2:\n",
      "-0.3166576841398682\n",
      "          a         b         c         d         e\n",
      "a  0.641919 -0.316658 -0.437904  0.147317  0.140127\n",
      "b -0.316658  0.664250  0.347788 -0.236535 -0.084727\n",
      "c -0.437904  0.347788  1.035135  0.087937 -0.219516\n",
      "d  0.147317 -0.236535  0.087937  1.022554 -0.064483\n",
      "e  0.140127 -0.084727 -0.219516 -0.064483  0.220761\n",
      "Correlacao:\n",
      "-0.4849355100064563\n",
      "          a         b         c         d         e\n",
      "a  1.000000 -0.484936 -0.537206  0.181831  0.372237\n",
      "b -0.484936  1.000000  0.419421 -0.287003 -0.221256\n",
      "c -0.537206  0.419421  1.000000  0.085473 -0.459205\n",
      "d  0.181831 -0.287003  0.085473  1.000000 -0.135718\n",
      "e  0.372237 -0.221256 -0.459205 -0.135718  1.000000\n",
      "Ranking:\n",
      "a    0.579093\n",
      "b   -0.954583\n",
      "c   -0.862319\n",
      "d   -0.954583\n",
      "e    0.378186\n",
      "dtype: float64\n",
      "a    5.0\n",
      "b    1.5\n",
      "c    3.0\n",
      "d    1.5\n",
      "e    4.0\n",
      "dtype: float64\n"
     ]
    }
   ],
   "source": [
    "import pandas as pd\n",
    "import numpy as np\n",
    "\n",
    "print(\"Serie s:\")\n",
    "s = pd.Series([1,2,3,4,5,4])\n",
    "print(s)\n",
    "#Percentagem de elementos diferentes\n",
    "print('Mostras a diferença em percentagem entre o primeiro elemento da série e os seguintes:')\n",
    "print(s.pct_change())\n",
    "\n",
    "#Covariancia\n",
    "print('Covariancia 1:')\n",
    "s1 = pd.Series(np.random.randn(10))\n",
    "s2 = pd.Series(np.random.randn(10))\n",
    "print(s1)\n",
    "print(s2)\n",
    "print (s1.cov(s2))\n",
    "\n",
    "#Covariancia\n",
    "print('Covariancia 2:')\n",
    "df = pd.DataFrame(np.random.randn(10, 5), columns=['a', 'b', 'c', 'd', 'e'])\n",
    "print (df['a'].cov(df['b']))\n",
    "print (df.cov())\n",
    "\n",
    "#Correlacao\n",
    "print('Correlacao:')\n",
    "print (df['a'].corr(df['b']))\n",
    "print (df.corr())\n",
    "\n",
    "#Ranking dos elementos\n",
    "print('Ranking:')\n",
    "s = pd.Series(np.random.np.random.randn(5), index=list('abcde'))\n",
    "s['d'] = s['b'] # igualar d a b ficando com dois elementos iguais\n",
    "print(s)\n",
    "print (s.rank())"
   ]
  },
  {
   "cell_type": "markdown",
   "metadata": {},
   "source": [
    "## Janelas de períodos\n",
    "\n",
    "Os métodos rolling, expanding e ewm permitem aplicar as funções estatísticas a partes dos dados agrupadas em períodos, permitindo por exemplo calcular a média de três em três linhas.\n",
    "\n",
    "O método rolling permite cálculo de uma função estatística como a média com uma determinada janela de períodos (de 3 em 3 dias).\n",
    "\n",
    "O método expanding permite algo similar ao rolling mas inclui todos os registos anteriores, até ao registo em questão.\n",
    "\n",
    "O método exponential weighted permite correr funções com base exponencial, como a média. \n",
    "\n",
    "Estes métodos têm aplicação especial em séries temporais.\n",
    "\n",
    "Ver o exemplo 2 com as cotações do BCP."
   ]
  },
  {
   "cell_type": "code",
   "execution_count": 26,
   "metadata": {},
   "outputs": [
    {
     "name": "stdout",
     "output_type": "stream",
     "text": [
      "                   A         B         C         D\n",
      "2000-01-01  0.299320  0.337775  1.572130  0.813066\n",
      "2000-01-02  0.372380  1.499929  0.438345 -1.639736\n",
      "2000-01-03  0.275968 -0.427175 -0.795429 -1.608002\n",
      "2000-01-04  0.747039 -2.133681 -1.137718 -0.890529\n",
      "2000-01-05  0.655720 -0.012776  2.174346  1.259468\n",
      "2000-01-06  0.693599  0.076697 -1.630828 -0.443257\n",
      "2000-01-07  0.898225 -1.483063 -1.805880  0.665046\n",
      "2000-01-08 -0.551366  0.115024  2.262541  1.545026\n",
      "2000-01-09  2.765456  1.492193 -0.816284 -0.756878\n",
      "2000-01-10 -0.207101  1.124304 -0.848665 -0.002362\n",
      "Calculo da media dos ultimos três períodos para cada elemento:\n",
      "Para os dois primeiros elementos não é possível fazer o cálculo.\n",
      "                   A         B         C         D\n",
      "2000-01-01       NaN       NaN       NaN       NaN\n",
      "2000-01-02       NaN       NaN       NaN       NaN\n",
      "2000-01-03  0.315889  0.470176  0.405015 -0.811557\n",
      "2000-01-04  0.465129 -0.353642 -0.498267 -1.379422\n",
      "2000-01-05  0.559576 -0.857877  0.080400 -0.413021\n",
      "2000-01-06  0.698786 -0.689920 -0.198067 -0.024773\n",
      "2000-01-07  0.749181 -0.473047 -0.420787  0.493752\n",
      "2000-01-08  0.346819 -0.430447 -0.391389  0.588939\n",
      "2000-01-09  1.037439  0.041385 -0.119874  0.484398\n",
      "2000-01-10  0.668996  0.910507  0.199197  0.261929\n",
      "Calculo da media dos ultimos três períodos desde o inicio:\n",
      "                   A         B         C         D\n",
      "2000-01-01       NaN       NaN       NaN       NaN\n",
      "2000-01-02       NaN       NaN       NaN       NaN\n",
      "2000-01-03  0.315889  0.470176  0.405015 -0.811557\n",
      "2000-01-04  0.423677 -0.180788  0.019332 -0.831300\n",
      "2000-01-05  0.470086 -0.147186  0.450335 -0.413147\n",
      "2000-01-06  0.507338 -0.109872  0.103474 -0.418165\n",
      "2000-01-07  0.563179 -0.306042 -0.169291 -0.263421\n",
      "2000-01-08  0.423861 -0.253409  0.134688 -0.037365\n",
      "2000-01-09  0.684038 -0.059453  0.029025 -0.117311\n",
      "2000-01-10  0.594924  0.058923 -0.058744 -0.105816\n",
      "                   A         B         C         D\n",
      "2000-01-01  0.299320  0.337775  1.572130  0.813066\n",
      "2000-01-02  0.354115  1.209391  0.721791 -1.026536\n",
      "2000-01-03  0.300013  0.076384 -0.328592 -1.429089\n",
      "2000-01-04  0.601756 -1.415410 -0.874752 -1.065561\n",
      "2000-01-05  0.637881 -0.476457  1.166380  0.490863\n",
      "2000-01-06  0.675077 -0.107181 -0.700987 -0.132739\n",
      "2000-01-07  0.823911 -1.024855 -1.437919  0.399361\n",
      "2000-01-08 -0.093080 -0.264820  1.029430  1.163254\n",
      "2000-01-09  1.812708  0.906581 -0.201109 -0.116899\n",
      "2000-01-10  0.466146  1.051733 -0.632820 -0.040540\n",
      "0     1\n",
      "1     2\n",
      "2     3\n",
      "3     4\n",
      "4     5\n",
      "5     6\n",
      "6     7\n",
      "7     8\n",
      "8     9\n",
      "9    10\n",
      "dtype: int32\n",
      "0    NaN\n",
      "1    NaN\n",
      "2    2.0\n",
      "3    3.0\n",
      "4    4.0\n",
      "5    5.0\n",
      "6    6.0\n",
      "7    7.0\n",
      "8    8.0\n",
      "9    9.0\n",
      "dtype: float64\n",
      "0    NaN\n",
      "1    NaN\n",
      "2    2.0\n",
      "3    2.5\n",
      "4    3.0\n",
      "5    3.5\n",
      "6    4.0\n",
      "7    4.5\n",
      "8    5.0\n",
      "9    5.5\n",
      "dtype: float64\n",
      "0    1.000000\n",
      "1    1.750000\n",
      "2    2.615385\n",
      "3    3.550000\n",
      "4    4.520661\n",
      "5    5.508242\n",
      "6    6.503202\n",
      "7    7.501220\n",
      "8    8.500457\n",
      "9    9.500169\n",
      "dtype: float64\n"
     ]
    }
   ],
   "source": [
    "import pandas as pd\n",
    "import numpy as np\n",
    "\n",
    "df = pd.DataFrame(np.random.randn(10, 4),\n",
    "index = pd.date_range('1/1/2000', periods=10),\n",
    "columns = ['A', 'B', 'C', 'D'])\n",
    "\n",
    "print (df)\n",
    "#Rolling\n",
    "print('Calculo da media dos ultimos três períodos para cada elemento:')\n",
    "print('Para os dois primeiros elementos não é possível fazer o cálculo.')\n",
    "print (df.rolling(window=3).mean())\n",
    "#Este metodo permite criar medias moveis para os precos de acoes\n",
    "#Expanding\n",
    "print('Calculo da media dos ultimos três períodos desde o inicio:')\n",
    "print (df.expanding(min_periods=3).mean())\n",
    "#EWM\n",
    "print (df.ewm(com=0.5).mean())\n",
    "\n",
    "ser = pd.Series(np.arange(1, 11))\n",
    "print(ser)\n",
    "print(ser.rolling(window=3).mean())\n",
    "print(ser.expanding(min_periods=3).mean())\n",
    "print(ser.ewm(com=0.5).mean())"
   ]
  },
  {
   "cell_type": "markdown",
   "metadata": {},
   "source": [
    "Com base nas funções anteriores é possível utilizar funções de agregação para os diferentes horizontes temporais.\n",
    "\n",
    "De seguida mostram-se alguns exemplos."
   ]
  },
  {
   "cell_type": "code",
   "execution_count": 27,
   "metadata": {},
   "outputs": [
    {
     "name": "stdout",
     "output_type": "stream",
     "text": [
      "                   A         B         C         D\n",
      "2000-01-01 -0.485945  0.379136 -1.676568  1.022409\n",
      "2000-01-02 -0.062837  0.776757 -1.434909  1.324261\n",
      "2000-01-03 -0.881711 -0.316243 -0.441736 -1.484995\n",
      "2000-01-04  1.604739  1.189257  0.492460 -0.509111\n",
      "2000-01-05 -0.230772 -1.656076  0.917717  0.864738\n",
      "2000-01-06 -0.918752 -0.846284  0.037941  0.375355\n",
      "2000-01-07 -1.779829 -2.721891  1.221974  0.190409\n",
      "2000-01-08 -0.439844  0.428963 -0.241009 -0.021279\n",
      "2000-01-09  0.833346  1.015962  1.106776 -1.191750\n",
      "2000-01-10  1.080703 -0.270076 -0.904602  0.574196\n",
      "Soma dos elementos de três em três.\n",
      "                   A         B         C         D\n",
      "2000-01-01 -0.485945  0.379136 -1.676568  1.022409\n",
      "2000-01-02 -0.548782  1.155893 -3.111477  2.346671\n",
      "2000-01-03 -1.430493  0.839649 -3.553213  0.861676\n",
      "2000-01-04  0.660190  1.649770 -1.384185 -0.669845\n",
      "2000-01-05  0.492255 -0.783062  0.968441 -1.129368\n",
      "2000-01-06  0.455214 -1.313102  1.448118  0.730981\n",
      "2000-01-07 -2.929353 -5.224250  2.177632  1.430501\n",
      "2000-01-08 -3.138425 -3.139211  1.018905  0.544484\n",
      "2000-01-09 -1.386326 -1.276965  2.087741 -1.022621\n",
      "2000-01-10  1.474206  1.174850 -0.038835 -0.638833\n",
      "Soma e média dos elementos de três em três.\n",
      "                   A                   B                   C            \\\n",
      "                 sum      mean       sum      mean       sum      mean   \n",
      "2000-01-01 -0.485945 -0.485945  0.379136  0.379136 -1.676568 -1.676568   \n",
      "2000-01-02 -0.548782 -0.274391  1.155893  0.577946 -3.111477 -1.555738   \n",
      "2000-01-03 -1.430493 -0.476831  0.839649  0.279883 -3.553213 -1.184404   \n",
      "2000-01-04  0.660190  0.220063  1.649770  0.549923 -1.384185 -0.461395   \n",
      "2000-01-05  0.492255  0.164085 -0.783062 -0.261021  0.968441  0.322814   \n",
      "2000-01-06  0.455214  0.151738 -1.313102 -0.437701  1.448118  0.482706   \n",
      "2000-01-07 -2.929353 -0.976451 -5.224250 -1.741417  2.177632  0.725877   \n",
      "2000-01-08 -3.138425 -1.046142 -3.139211 -1.046404  1.018905  0.339635   \n",
      "2000-01-09 -1.386326 -0.462109 -1.276965 -0.425655  2.087741  0.695914   \n",
      "2000-01-10  1.474206  0.491402  1.174850  0.391617 -0.038835 -0.012945   \n",
      "\n",
      "                   D            \n",
      "                 sum      mean  \n",
      "2000-01-01  1.022409  1.022409  \n",
      "2000-01-02  2.346671  1.173335  \n",
      "2000-01-03  0.861676  0.287225  \n",
      "2000-01-04 -0.669845 -0.223282  \n",
      "2000-01-05 -1.129368 -0.376456  \n",
      "2000-01-06  0.730981  0.243660  \n",
      "2000-01-07  1.430501  0.476834  \n",
      "2000-01-08  0.544484  0.181495  \n",
      "2000-01-09 -1.022621 -0.340874  \n",
      "2000-01-10 -0.638833 -0.212944  \n",
      "Soma dos elementos da coluna A e média dos elementos da coluna B de três em três.\n",
      "                   A         B\n",
      "2000-01-01 -0.485945  0.379136\n",
      "2000-01-02 -0.548782  0.577946\n",
      "2000-01-03 -1.430493  0.279883\n",
      "2000-01-04  0.660190  0.549923\n",
      "2000-01-05  0.492255 -0.261021\n",
      "2000-01-06  0.455214 -0.437701\n",
      "2000-01-07 -2.929353 -1.741417\n",
      "2000-01-08 -3.138425 -1.046404\n",
      "2000-01-09 -1.386326 -0.425655\n",
      "2000-01-10  1.474206  0.391617\n"
     ]
    }
   ],
   "source": [
    "import pandas as pd\n",
    "import numpy as np\n",
    "\n",
    "df = pd.DataFrame(np.random.randn(10, 4),\n",
    "      index = pd.date_range('1/1/2000', periods=10),\n",
    "      columns = ['A', 'B', 'C', 'D'])\n",
    "print (df)\n",
    "\n",
    "print('Soma dos elementos de três em três.')\n",
    "r = df.rolling(window=3,min_periods=1)\n",
    "print (r.aggregate(np.sum))\n",
    "\n",
    "print('Soma e média dos elementos de três em três.')\n",
    "r = df.rolling(window=3,min_periods=1)\n",
    "print (r.aggregate([np.sum,np.mean]))\n",
    "\n",
    "print('Soma dos elementos da coluna A e média dos elementos da coluna B de três em três.')\n",
    "r = df.rolling(window=3,min_periods=1)\n",
    "print (r.aggregate({'A' : np.sum,'B' : np.mean}))"
   ]
  },
  {
   "cell_type": "markdown",
   "metadata": {},
   "source": [
    "## Funções aplicadas a todos os elementos da DataFrame\n",
    "\n",
    "* pipe(), apply() e applymap()"
   ]
  },
  {
   "cell_type": "code",
   "execution_count": 28,
   "metadata": {},
   "outputs": [
    {
     "name": "stdout",
     "output_type": "stream",
     "text": [
      "DataFrame:\n",
      "       col1      col2      col3\n",
      "0 -1.375413 -1.156919 -0.905433\n",
      "1 -0.373672 -1.170658  0.412996\n",
      "2 -1.426718  1.478489 -0.287914\n",
      "3 -1.503683 -0.878417 -1.511243\n",
      "4  0.486678  0.456320  0.594039\n",
      "Adiciona o valor 2 aos elementos da DataFrame:\n",
      "       col1      col2      col3\n",
      "0  0.624587  0.843081  1.094567\n",
      "1  1.626328  0.829342  2.412996\n",
      "2  0.573282  3.478489  1.712086\n",
      "3  0.496317  1.121583  0.488757\n",
      "4  2.486678  2.456320  2.594039\n",
      "Calcula a média dos valores relativos a cada coluna:\n",
      "col1   -0.838562\n",
      "col2   -0.254237\n",
      "col3   -0.339511\n",
      "dtype: float64\n",
      "Calcula a média dos valores relativos a cada linha:\n",
      "0   -1.145922\n",
      "1   -0.377111\n",
      "2   -0.078714\n",
      "3   -1.297781\n",
      "4    0.512346\n",
      "dtype: float64\n",
      "Corre uma função lambda em todos os elementos, neste caso o valor maximo - valor minimo:\n",
      "col1    1.990360\n",
      "col2    2.649148\n",
      "col3    2.105282\n",
      "dtype: float64\n",
      "Corre uma função particular só numa coluna\n",
      "0   -137.541312\n",
      "1    -37.367177\n",
      "2   -142.671790\n",
      "3   -150.368268\n",
      "4     48.667760\n",
      "Name: col1, dtype: float64\n",
      "       col1      col2      col3\n",
      "0 -1.375413 -1.156919 -0.905433\n",
      "1 -0.373672 -1.170658  0.412996\n",
      "2 -1.426718  1.478489 -0.287914\n",
      "3 -1.503683 -0.878417 -1.511243\n",
      "4  0.486678  0.456320  0.594039\n"
     ]
    }
   ],
   "source": [
    "import pandas as pd\n",
    "import numpy as np\n",
    "\n",
    "def adder(ele1,ele2):\n",
    "    return ele1+ele2\n",
    "\n",
    "df = pd.DataFrame(np.random.randn(5,3),columns=['col1','col2','col3'])\n",
    "print('DataFrame:')\n",
    "print(df)\n",
    "print('Adiciona o valor 2 aos elementos da DataFrame:')\n",
    "print(df.pipe(adder,2))\n",
    "print('Calcula a média dos valores relativos a cada coluna:')\n",
    "print(df.apply(np.mean))\n",
    "print('Calcula a média dos valores relativos a cada linha:')\n",
    "print (df.apply(np.mean,axis=1))\n",
    "print('Corre uma função lambda em todos os elementos, neste caso o valor maximo - valor minimo:')\n",
    "print(df.apply(lambda x: x.max() - x.min()))\n",
    "print('Corre uma função particular só numa coluna')\n",
    "print(df['col1'].map(lambda x:x*100)) #ou df.applymap(lambda x:x*100)\n",
    "print(df)"
   ]
  },
  {
   "cell_type": "markdown",
   "metadata": {},
   "source": [
    "## Missing values\n",
    "\n",
    "Os missing values (valores em falta) podem ser de dois tipos:\n",
    "* None, que representa um valor nulo\n",
    "* NaN, Not a Number, que representa um valor que não é um número\n",
    "\n",
    "A bilbioteca Pandas possui métodos para detetar os valores nulos, nomeadamente, os isnull() e notnull().\n",
    "\n",
    "A biblioteca Pandas possui métodos para substituir os valores nulos:\n",
    "* dropna() para remover o valor NaN\n",
    "* fillna() que preenche com outros valores e tem três opções:\n",
    "    * valor indicado pelo utilizador\n",
    "    * ffill, que preenche para a frente todos os valores seguintes com o valor igual ao anterior\n",
    "    * bfill, que preenche para trás com todos os valores seguintes com o valor igual ao aanterior"
   ]
  },
  {
   "cell_type": "code",
   "execution_count": 29,
   "metadata": {},
   "outputs": [
    {
     "name": "stdout",
     "output_type": "stream",
     "text": [
      "[1 None 3 4]\n",
      "object\n",
      "[ 1. nan  3.  4.]\n",
      "float64\n",
      "nan\n",
      "nan\n",
      "0    False\n",
      "1     True\n",
      "2    False\n",
      "3    False\n",
      "dtype: bool\n",
      "0     True\n",
      "1    False\n",
      "2     True\n",
      "3     True\n",
      "dtype: bool\n",
      "0    1.0\n",
      "1    NaN\n",
      "2    3.0\n",
      "3    4.0\n",
      "dtype: float64\n",
      "Preenche com o valor 0:\n",
      "0    1.0\n",
      "1    0.0\n",
      "2    3.0\n",
      "3    4.0\n",
      "dtype: float64\n",
      "Preenche com o valor anterior para a frente:\n",
      "0    1.0\n",
      "1    1.0\n",
      "2    3.0\n",
      "3    4.0\n",
      "dtype: float64\n",
      "Preenche com o valor anterior para trás:\n",
      "0    1.0\n",
      "1    3.0\n",
      "2    3.0\n",
      "3    4.0\n",
      "dtype: float64\n"
     ]
    }
   ],
   "source": [
    "import numpy as np\n",
    "import pandas as pd\n",
    "\n",
    "v1 = np.array([1, None, 3, 4])\n",
    "print(v1)\n",
    "print(v1.dtype)\n",
    "\n",
    "v2 = np.array([1, np.nan, 3, 4]) \n",
    "print(v2)\n",
    "print(v2.dtype)\n",
    "\n",
    "#Operacoes de numeros com NaN devolvem outros NaN\n",
    "print(v2[1]+5)\n",
    "print(v2.sum())\n",
    "\n",
    "#Detecao de valores nulos\n",
    "s1 = pd.Series(np.array([1, None, 3, 4]))\n",
    "\n",
    "print(s1.isnull())\n",
    "print(s1.notnull())\n",
    "\n",
    "#Tratamento de valores nulos\n",
    "#Remocao\n",
    "s2 = pd.Series(np.array([1, np.nan, 3, 4]))\n",
    "s2.dropna()\n",
    "print(s2)\n",
    "\n",
    "#Substituicao do valor NaN por zero (0)\n",
    "s2 = pd.Series(np.array([1, np.nan, 3, 4]))\n",
    "print('Preenche com o valor 0:')\n",
    "print(s2.fillna(0))\n",
    "\n",
    "#forward-fill\n",
    "print('Preenche com o valor anterior para a frente:')\n",
    "print(s2.fillna(method='ffill'))\n",
    "\n",
    "#back-fill\n",
    "print('Preenche com o valor anterior para trás:')\n",
    "print(s2.fillna(method='bfill'))\n"
   ]
  },
  {
   "cell_type": "markdown",
   "metadata": {},
   "source": [
    "De seguida apresentam-se algumas operações disponíveis na bilioteca Pandas sobre os DataFrames:\n",
    "    \n",
    "* Reindexing, rearranjar os dados de um DataFrame para que fiquem com o formato de outro DataFrame\n",
    "* Iteration, permite iterar o DataFrame\n",
    "* Sorting, permite ordenar o DataFrame\n",
    "* Indexing e Slicing, permite escolher os elementos do DataFrame\n"
   ]
  },
  {
   "cell_type": "code",
   "execution_count": 30,
   "metadata": {},
   "outputs": [
    {
     "name": "stdout",
     "output_type": "stream",
     "text": [
      "Reindexing:\n",
      "       col1      col2      col3\n",
      "0 -0.528198  0.358808 -0.015341\n",
      "1 -0.300716  2.040540  1.694821\n",
      "2 -1.084904  3.241952 -0.028769\n",
      "3  0.657485  0.611788 -0.014353\n",
      "4 -0.024386 -0.612256 -0.753900\n",
      "5  1.897224  0.338274  0.213814\n",
      "      col1      col2      col3\n",
      "0 -0.74914 -0.328556 -0.553687\n",
      "1  0.80856  0.177841 -0.259539\n",
      "      col1      col2      col3\n",
      "0 -0.74914 -0.328556 -0.553687\n",
      "1  0.80856  0.177841 -0.259539\n",
      "2      NaN       NaN       NaN\n",
      "3      NaN       NaN       NaN\n",
      "4      NaN       NaN       NaN\n",
      "5      NaN       NaN       NaN\n",
      "Preencher os NaNs com o valor da ultima linha:\n",
      "      col1      col2      col3\n",
      "0 -0.74914 -0.328556 -0.553687\n",
      "1  0.80856  0.177841 -0.259539\n",
      "2  0.80856  0.177841 -0.259539\n",
      "3  0.80856  0.177841 -0.259539\n",
      "4  0.80856  0.177841 -0.259539\n",
      "5  0.80856  0.177841 -0.259539\n"
     ]
    }
   ],
   "source": [
    "import pandas as pd\n",
    "import numpy as np\n",
    "\n",
    "#Reindexing\n",
    "print('Reindexing:')\n",
    "df1 = pd.DataFrame(np.random.randn(6,3),columns=['col1','col2','col3'])\n",
    "df2 = pd.DataFrame(np.random.randn(2,3),columns=['col1','col2','col3'])\n",
    "print(df1)\n",
    "print(df2)\n",
    "#Reformatar o df2 como o df1 \n",
    "print (df2.reindex_like(df1))\n",
    "# Preencher os NaNs com o valor da ultima linha\n",
    "print (\"Preencher os NaNs com o valor da ultima linha:\")\n",
    "print (df2.reindex_like(df1,method='ffill'))"
   ]
  },
  {
   "cell_type": "code",
   "execution_count": 31,
   "metadata": {},
   "outputs": [
    {
     "name": "stdout",
     "output_type": "stream",
     "text": [
      "Iterar (percorrer) um DataFrame:\n",
      "       col1      col2      col3\n",
      "0  1.763146  0.803398 -0.715978\n",
      "1  0.988646  1.212171 -0.772312\n",
      "2 -0.565285  2.718460  0.191423\n",
      "3 -1.442982  0.160268 -1.140318\n",
      "Colunas:\n",
      "col1\n",
      "col2\n",
      "col3\n",
      "Chaves e valores (coluna a coluna):\n",
      "col1 0    1.763146\n",
      "1    0.988646\n",
      "2   -0.565285\n",
      "3   -1.442982\n",
      "Name: col1, dtype: float64\n",
      "col2 0    0.803398\n",
      "1    1.212171\n",
      "2    2.718460\n",
      "3    0.160268\n",
      "Name: col2, dtype: float64\n",
      "col3 0   -0.715978\n",
      "1   -0.772312\n",
      "2    0.191423\n",
      "3   -1.140318\n",
      "Name: col3, dtype: float64\n",
      "Chaves e valores (linha a linha):\n",
      "0 col1    1.763146\n",
      "col2    0.803398\n",
      "col3   -0.715978\n",
      "Name: 0, dtype: float64\n",
      "1 col1    0.988646\n",
      "col2    1.212171\n",
      "col3   -0.772312\n",
      "Name: 1, dtype: float64\n",
      "2 col1   -0.565285\n",
      "col2    2.718460\n",
      "col3    0.191423\n",
      "Name: 2, dtype: float64\n",
      "3 col1   -1.442982\n",
      "col2    0.160268\n",
      "col3   -1.140318\n",
      "Name: 3, dtype: float64\n"
     ]
    }
   ],
   "source": [
    "#Iterar (Iteration)\n",
    "print('Iterar (percorrer) um DataFrame:')\n",
    "import pandas as pd\n",
    "import numpy as np\n",
    " \n",
    "df = pd.DataFrame(np.random.randn(4,3),columns=['col1','col2','col3'])\n",
    "print (df)\n",
    "\n",
    "print('Colunas:')\n",
    "for col in df:\n",
    "    print(col)\n",
    "\n",
    "print('Chaves e valores (coluna a coluna):')\n",
    "for key,value in df.iteritems():\n",
    "    print(key,value)\n",
    "\n",
    "print('Chaves e valores (linha a linha):')\n",
    "for row_index,row in df.iterrows():\n",
    "    print(row_index,row)\n",
    "    \n",
    "#A iteracao de valores destina-se a mostrar valores, nao serve para alterar valores"
   ]
  },
  {
   "cell_type": "code",
   "execution_count": 32,
   "metadata": {},
   "outputs": [
    {
     "name": "stdout",
     "output_type": "stream",
     "text": [
      "       col2      col1\n",
      "1 -0.851159  0.801870\n",
      "4 -0.211426  1.307653\n",
      "6  0.089314 -0.898741\n",
      "2 -0.265338 -0.804636\n",
      "3  0.499927  0.077550\n",
      "5 -1.620536  0.250127\n",
      "9 -1.563120 -0.101414\n",
      "8 -0.588065  0.460111\n",
      "0  0.670538 -1.673101\n",
      "7  0.709982  1.423345\n",
      "       col2      col1\n",
      "0  0.670538 -1.673101\n",
      "1 -0.851159  0.801870\n",
      "2 -0.265338 -0.804636\n",
      "3  0.499927  0.077550\n",
      "4 -0.211426  1.307653\n",
      "5 -1.620536  0.250127\n",
      "6  0.089314 -0.898741\n",
      "7  0.709982  1.423345\n",
      "8 -0.588065  0.460111\n",
      "9 -1.563120 -0.101414\n",
      "       col2      col1\n",
      "9 -1.563120 -0.101414\n",
      "8 -0.588065  0.460111\n",
      "7  0.709982  1.423345\n",
      "6  0.089314 -0.898741\n",
      "5 -1.620536  0.250127\n",
      "4 -0.211426  1.307653\n",
      "3  0.499927  0.077550\n",
      "2 -0.265338 -0.804636\n",
      "1 -0.851159  0.801870\n",
      "0  0.670538 -1.673101\n",
      "       col1      col2\n",
      "1  0.801870 -0.851159\n",
      "4  1.307653 -0.211426\n",
      "6 -0.898741  0.089314\n",
      "2 -0.804636 -0.265338\n",
      "3  0.077550  0.499927\n",
      "5  0.250127 -1.620536\n",
      "9 -0.101414 -1.563120\n",
      "8  0.460111 -0.588065\n",
      "0 -1.673101  0.670538\n",
      "7  1.423345  0.709982\n",
      "       col2      col1\n",
      "0  0.670538 -1.673101\n",
      "6  0.089314 -0.898741\n",
      "2 -0.265338 -0.804636\n",
      "9 -1.563120 -0.101414\n",
      "3  0.499927  0.077550\n",
      "5 -1.620536  0.250127\n",
      "8 -0.588065  0.460111\n",
      "1 -0.851159  0.801870\n",
      "4 -0.211426  1.307653\n",
      "7  0.709982  1.423345\n",
      "       col2      col1\n",
      "0  0.670538 -1.673101\n",
      "6  0.089314 -0.898741\n",
      "2 -0.265338 -0.804636\n",
      "9 -1.563120 -0.101414\n",
      "3  0.499927  0.077550\n",
      "5 -1.620536  0.250127\n",
      "8 -0.588065  0.460111\n",
      "1 -0.851159  0.801870\n",
      "4 -0.211426  1.307653\n",
      "7  0.709982  1.423345\n"
     ]
    }
   ],
   "source": [
    "#Ordenacao (Sorting)\n",
    "\n",
    "import pandas as pd\n",
    "import numpy as np\n",
    "\n",
    "unsorted_df=pd.DataFrame(np.random.randn(10,2),index=[1,4,6,2,3,5,9,8,0,7],columns=['col2','col1'])\n",
    "print(unsorted_df)\n",
    "\n",
    "#Ordenacao por indice\n",
    "sorted_df=unsorted_df.sort_index()\n",
    "print(sorted_df)\n",
    "\n",
    "#Ordenacao ascendente/descendente por indice\n",
    "sorted_df = unsorted_df.sort_index(ascending=False)\n",
    "print(sorted_df)\n",
    "\n",
    "#Ordenacao dos nomes das colunas\n",
    "sorted_df=unsorted_df.sort_index(axis=1)\n",
    "print(sorted_df)\n",
    "\n",
    "#Ordenacao pelos valores da col1\n",
    "sorted_df = unsorted_df.sort_values(by='col1')\n",
    "print(sorted_df)\n",
    "\n",
    "#Ordenacao pelos valores da col1 seguidos da col2\n",
    "sorted_df = unsorted_df.sort_values(by=['col1','col2'])\n",
    "print(sorted_df)"
   ]
  },
  {
   "cell_type": "markdown",
   "metadata": {},
   "source": [
    "## GroupBy\n",
    "\n",
    "Similar à função GroupBy do SQL permite agrupar os itens por tipo.\n",
    "\n",
    "Associada a esta função é possível executar operações de agregação, transformação e filtragem dos dados."
   ]
  },
  {
   "cell_type": "code",
   "execution_count": 33,
   "metadata": {},
   "outputs": [
    {
     "name": "stdout",
     "output_type": "stream",
     "text": [
      "      Equipa  Rank   Ano  Pontos\n",
      "0        FCP     1  2014      87\n",
      "1        FCP     2  2015      78\n",
      "2        SLB     2  2014      86\n",
      "3        SLB     3  2015      67\n",
      "4        SCP     3  2014      74\n",
      "5        SCP     4  2015      81\n",
      "6        SCP     1  2016      75\n",
      "7        SCP     1  2017      78\n",
      "8        FCP     2  2016      69\n",
      "9        SLB     4  2014      70\n",
      "10       SLB     1  2015      80\n",
      "11  Boavista     2  2017      69\n",
      "Mostrar os grupos criados\n",
      "Boavista\n",
      "      Equipa  Rank   Ano  Pontos\n",
      "11  Boavista     2  2017      69\n",
      "FCP\n",
      "  Equipa  Rank   Ano  Pontos\n",
      "0    FCP     1  2014      87\n",
      "1    FCP     2  2015      78\n",
      "8    FCP     2  2016      69\n",
      "SCP\n",
      "  Equipa  Rank   Ano  Pontos\n",
      "4    SCP     3  2014      74\n",
      "5    SCP     4  2015      81\n",
      "6    SCP     1  2016      75\n",
      "7    SCP     1  2017      78\n",
      "SLB\n",
      "   Equipa  Rank   Ano  Pontos\n",
      "2     SLB     2  2014      86\n",
      "3     SLB     3  2015      67\n",
      "9     SLB     4  2014      70\n",
      "10    SLB     1  2015      80\n",
      "Mostrar só um dos grupos\n",
      "  Equipa  Rank   Ano  Pontos\n",
      "0    FCP     1  2014      87\n",
      "1    FCP     2  2015      78\n",
      "8    FCP     2  2016      69\n",
      "Calcular metricas agregadas:\n",
      "          Rank  Ano  Pontos\n",
      "Equipa                     \n",
      "Boavista     1    1       1\n",
      "FCP          3    3       3\n",
      "SCP          4    4       4\n",
      "SLB          4    4       4\n",
      "          sum   mean       std\n",
      "Equipa                        \n",
      "Boavista   69  69.00       NaN\n",
      "FCP       234  78.00  9.000000\n",
      "SCP       308  77.00  3.162278\n",
      "SLB       303  75.75  8.808140\n",
      "Efetuar transformações nos dados:\n",
      "    Rank    Ano  Pontos\n",
      "0    0.1  201.4     8.7\n",
      "1    0.2  201.5     7.8\n",
      "2    0.2  201.4     8.6\n",
      "3    0.3  201.5     6.7\n",
      "4    0.3  201.4     7.4\n",
      "5    0.4  201.5     8.1\n",
      "6    0.1  201.6     7.5\n",
      "7    0.1  201.7     7.8\n",
      "8    0.2  201.6     6.9\n",
      "9    0.4  201.4     7.0\n",
      "10   0.1  201.5     8.0\n",
      "11   0.2  201.7     6.9\n",
      "Filtrar os dados:\n",
      "   Equipa  Rank   Ano  Pontos\n",
      "0     FCP     1  2014      87\n",
      "1     FCP     2  2015      78\n",
      "2     SLB     2  2014      86\n",
      "3     SLB     3  2015      67\n",
      "4     SCP     3  2014      74\n",
      "5     SCP     4  2015      81\n",
      "6     SCP     1  2016      75\n",
      "7     SCP     1  2017      78\n",
      "8     FCP     2  2016      69\n",
      "9     SLB     4  2014      70\n",
      "10    SLB     1  2015      80\n"
     ]
    }
   ],
   "source": [
    "# import the pandas library\n",
    "import pandas as pd\n",
    "import numpy as np\n",
    "\n",
    "campeonato = {'Equipa': ['FCP', 'FCP', 'SLB', 'SLB', 'SCP', 'SCP', 'SCP', 'SCP', 'FCP', 'SLB', 'SLB', 'Boavista'], \n",
    "              'Rank': [1, 2, 2, 3, 3,4 ,1 ,1,2 , 4,1,2],\n",
    "              'Ano': [2014,2015,2014,2015,2014,2015,2016,2017,2016,2014,2015,2017],\n",
    "              'Pontos':[87,78,86,67,74,81,75,78,69,70,80,69]}\n",
    "df = pd.DataFrame(campeonato)\n",
    "\n",
    "print(df)\n",
    "df_equipa = df.groupby('Equipa')\n",
    "\n",
    "print('Mostrar os grupos criados')\n",
    "for nome_grupo,resultados_grupo in df_equipa:\n",
    "    print (nome_grupo)\n",
    "    print (resultados_grupo)\n",
    "    \n",
    "print('Mostrar só um dos grupos')\n",
    "print(df_equipa.get_group('FCP'))\n",
    "\n",
    "print('Calcular metricas agregadas:')\n",
    "print(df_equipa.agg(np.size))\n",
    "print(df_equipa['Pontos'].agg([np.sum, np.mean, np.std]))\n",
    "\n",
    "print('Efetuar transformações nos dados:')\n",
    "print (df_equipa.transform(lambda x: x/10))\n",
    "\n",
    "print('Filtrar os dados:')\n",
    "print (df_equipa.filter(lambda x: len(x) >= 3))"
   ]
  },
  {
   "cell_type": "markdown",
   "metadata": {},
   "source": [
    "## Join\n",
    "\n",
    "O Pandas permite operações similares às operações JOIN das bases de dados.\n",
    "\n",
    "O prototipo da função é: pd.merge(left, right, how='inner', on=None, left_on=None, right_on=None, left_index=False, right_index=False, sort=True)\n",
    "\n",
    "onde:\n",
    "* left − A DataFrame object.\n",
    "* right − Another DataFrame object.\n",
    "* on − Columns (names) to join on. Must be found in both the left and right DataFrame objects.\n",
    "* left_on − Columns from the left DataFrame to use as keys. Can either be column names or arrays with length equal to the length of the DataFrame.\n",
    "* right_on − Columns from the right DataFrame to use as keys. Can either be column names or arrays with length equal to the length of the DataFrame.\n",
    "* left_index − If True, use the index (row labels) from the left DataFrame as its join key(s). In case of a DataFrame with a MultiIndex (hierarchical), the number of levels must match the number of join keys from the right DataFrame.\n",
    "* right_index − Same usage as left_index for the right DataFrame.\n",
    "* how − One of 'left', 'right', 'outer', 'inner'. Defaults to inner. Each method has been described below.\n",
    "* sort − Sort the result DataFrame by the join keys in lexicographical order. Defaults to True, setting to False will improve the performance substantially in many cases.\n"
   ]
  },
  {
   "cell_type": "code",
   "execution_count": 34,
   "metadata": {},
   "outputs": [
    {
     "name": "stdout",
     "output_type": "stream",
     "text": [
      "   Id     Nome Curso\n",
      "0   1  Antonio    c1\n",
      "1   2  Armando    c2\n",
      "2   3      Ana    c4\n",
      "3   4    Alice    c6\n",
      "4   5   Amalia    c5\n",
      "   Id      Nome Curso\n",
      "0   1      Joao    c2\n",
      "1   2     Joana    c4\n",
      "2   3     Julia    c3\n",
      "3   4  Josefina    c6\n",
      "4   5     Jorge    c5\n",
      "Juntar dois df por chave, neste caso Id (Inner Join):\n",
      "   Id   Nome_x Curso_x    Nome_y Curso_y\n",
      "0   1  Antonio      c1      Joao      c2\n",
      "1   2  Armando      c2     Joana      c4\n",
      "2   3      Ana      c4     Julia      c3\n",
      "3   4    Alice      c6  Josefina      c6\n",
      "4   5   Amalia      c5     Jorge      c5\n",
      "Juntar dois df por chave, neste caso Id e Curso  (Inner Join):\n",
      "   Id  Nome_x Curso    Nome_y\n",
      "0   4   Alice    c6  Josefina\n",
      "1   5  Amalia    c5     Jorge\n",
      "Left Join pelo Curso:\n",
      "   Id_x   Nome_x Curso  Id_y    Nome_y\n",
      "0     1  Antonio    c1   NaN       NaN\n",
      "1     2  Armando    c2   1.0      Joao\n",
      "2     3      Ana    c4   2.0     Joana\n",
      "3     4    Alice    c6   4.0  Josefina\n",
      "4     5   Amalia    c5   5.0     Jorge\n",
      "Right Join pelo Curso:\n",
      "   Id_x   Nome_x Curso  Id_y    Nome_y\n",
      "0   2.0  Armando    c2     1      Joao\n",
      "1   3.0      Ana    c4     2     Joana\n",
      "2   4.0    Alice    c6     4  Josefina\n",
      "3   5.0   Amalia    c5     5     Jorge\n",
      "4   NaN      NaN    c3     3     Julia\n",
      "Outer Join pelo Curso:\n",
      "   Id_x   Nome_x Curso  Id_y    Nome_y\n",
      "0   1.0  Antonio    c1   NaN       NaN\n",
      "1   2.0  Armando    c2   1.0      Joao\n",
      "2   3.0      Ana    c4   2.0     Joana\n",
      "3   4.0    Alice    c6   4.0  Josefina\n",
      "4   5.0   Amalia    c5   5.0     Jorge\n",
      "5   NaN      NaN    c3   3.0     Julia\n",
      "Inner Join pelo Curso:\n",
      "   Id_x   Nome_x Curso  Id_y    Nome_y\n",
      "0     2  Armando    c2     1      Joao\n",
      "1     3      Ana    c4     2     Joana\n",
      "2     4    Alice    c6     4  Josefina\n",
      "3     5   Amalia    c5     5     Jorge\n"
     ]
    }
   ],
   "source": [
    "import pandas as pd\n",
    "\n",
    "df_esquerda = pd.DataFrame({\n",
    "         'Id':[1,2,3,4,5],\n",
    "         'Nome': ['Antonio', 'Armando', 'Ana', 'Alice', 'Amalia'],\n",
    "         'Curso':['c1','c2','c4','c6','c5']})\n",
    "df_direita = pd.DataFrame(\n",
    "         {'Id':[1,2,3,4,5],\n",
    "         'Nome': ['Joao', 'Joana', 'Julia', 'Josefina', 'Jorge'],\n",
    "         'Curso':['c2','c4','c3','c6','c5']})\n",
    "print (df_esquerda)\n",
    "print (df_direita)\n",
    "print('Juntar dois df por chave, neste caso Id (Inner Join):')\n",
    "print (pd.merge(df_esquerda,df_direita,on='Id'))\n",
    "print('Juntar dois df por chave, neste caso Id e Curso  (Inner Join):')\n",
    "print (pd.merge(df_esquerda,df_direita,on=['Id','Curso']))\n",
    "print('Left Join pelo Curso:')\n",
    "print (pd.merge(df_esquerda,df_direita,on='Curso', how='left'))\n",
    "print('Right Join pelo Curso:')\n",
    "print (pd.merge(df_esquerda,df_direita,on='Curso', how='right'))\n",
    "print('Outer Join pelo Curso:')\n",
    "print (pd.merge(df_esquerda,df_direita, how='outer', on='Curso'))\n",
    "print('Inner Join pelo Curso:')\n",
    "print (pd.merge(df_esquerda,df_direita, how='inner', on='Curso'))"
   ]
  },
  {
   "cell_type": "markdown",
   "metadata": {},
   "source": [
    "## Concatenação de Series\n",
    "\n",
    "Método para combinar Series, DataFrames e Panels.\n",
    "\n",
    "Sintaxe: pd.concat(objs,axis=0,join='outer',join_axes=None,ignore_index=False)\n",
    "    \n",
    "Onde:\n",
    "* objs − This is a sequence or mapping of Series, DataFrame, or Panel objects.\n",
    "* axis − {0, 1, ...}, default 0. This is the axis to concatenate along.\n",
    "* join − {‘inner’, ‘outer’}, default ‘outer’. How to handle indexes on other axis(es). Outer for union and inner for intersection.\n",
    "* ignore_index − boolean, default False. If True, do not use the index values on the concatenation axis. The resulting axis will be labeled 0, ..., n - 1.\n",
    "* join_axes − This is the list of Index objects. Specific indexes to use for the other (n-1) axes instead of performing inner/outer set logic.\n"
   ]
  },
  {
   "cell_type": "code",
   "execution_count": 35,
   "metadata": {},
   "outputs": [
    {
     "name": "stdout",
     "output_type": "stream",
     "text": [
      "Concatena mantendo os indices originais:\n",
      "   Id      Nome Curso\n",
      "0   1   Antonio    c1\n",
      "1   2   Armando    c2\n",
      "2   3       Ana    c4\n",
      "3   4     Alice    c6\n",
      "4   5    Amalia    c5\n",
      "0   1      Joao    c2\n",
      "1   2     Joana    c4\n",
      "2   3     Julia    c3\n",
      "3   4  Josefina    c6\n",
      "4   5     Jorge    c5\n",
      "Concatena criando novos indices para o novo DataFrame:\n",
      "     Id      Nome Curso\n",
      "x 0   1   Antonio    c1\n",
      "  1   2   Armando    c2\n",
      "  2   3       Ana    c4\n",
      "  3   4     Alice    c6\n",
      "  4   5    Amalia    c5\n",
      "y 0   1      Joao    c2\n",
      "  1   2     Joana    c4\n",
      "  2   3     Julia    c3\n",
      "  3   4  Josefina    c6\n",
      "  4   5     Jorge    c5\n",
      "Concatena alterando os indices originais:\n",
      "   Id      Nome Curso\n",
      "0   1   Antonio    c1\n",
      "1   2   Armando    c2\n",
      "2   3       Ana    c4\n",
      "3   4     Alice    c6\n",
      "4   5    Amalia    c5\n",
      "5   1      Joao    c2\n",
      "6   2     Joana    c4\n",
      "7   3     Julia    c3\n",
      "8   4  Josefina    c6\n",
      "9   5     Jorge    c5\n",
      "Concatena ao longo das colunas:\n",
      "   Id     Nome Curso  Id      Nome Curso\n",
      "0   1  Antonio    c1   1      Joao    c2\n",
      "1   2  Armando    c2   2     Joana    c4\n",
      "2   3      Ana    c4   3     Julia    c3\n",
      "3   4    Alice    c6   4  Josefina    c6\n",
      "4   5   Amalia    c5   5     Jorge    c5\n"
     ]
    }
   ],
   "source": [
    "import pandas as pd\n",
    "\n",
    "df1 = pd.DataFrame({\n",
    "         'Id':[1,2,3,4,5],\n",
    "         'Nome': ['Antonio', 'Armando', 'Ana', 'Alice', 'Amalia'],\n",
    "         'Curso':['c1','c2','c4','c6','c5']})\n",
    "df2 = pd.DataFrame(\n",
    "         {'Id':[1,2,3,4,5],\n",
    "         'Nome': ['Joao', 'Joana', 'Julia', 'Josefina', 'Jorge'],\n",
    "         'Curso':['c2','c4','c3','c6','c5']})\n",
    "\n",
    "print('Concatena mantendo os indices originais:')\n",
    "print (pd.concat([df1,df2]))\n",
    "print('Concatena criando novos indices para o novo DataFrame:')\n",
    "print (pd.concat([df1,df2],keys=['x','y']))\n",
    "print('Concatena alterando os indices originais:')\n",
    "print (pd.concat([df1,df2],keys=['x','y'],ignore_index=True))\n",
    "print('Concatena ao longo das colunas:')\n",
    "print (pd.concat([df1,df2],axis=1))\n"
   ]
  },
  {
   "cell_type": "markdown",
   "metadata": {},
   "source": [
    "## Datas\n",
    "\n",
    "Um dos pontos fortes da biblioteca Pandas é o trabalho com séries temporais e consecutivamente com Datas.\n",
    "\n",
    "Se sugida apresentam-se algumas funções de manipulção de datas."
   ]
  },
  {
   "cell_type": "code",
   "execution_count": 36,
   "metadata": {},
   "outputs": [
    {
     "name": "stdout",
     "output_type": "stream",
     "text": [
      "Dias:\n",
      "DatetimeIndex(['2018-04-28', '2018-04-29', '2018-04-30', '2018-05-01',\n",
      "               '2018-05-02'],\n",
      "              dtype='datetime64[ns]', freq='D')\n",
      "Meses:\n",
      "DatetimeIndex(['2018-04-30', '2018-05-31', '2018-06-30', '2018-07-31',\n",
      "               '2018-08-31'],\n",
      "              dtype='datetime64[ns]', freq='M')\n",
      "Dias de trabalho:\n",
      "DatetimeIndex(['2018-04-30', '2018-05-01', '2018-05-02', '2018-05-03',\n",
      "               '2018-05-04'],\n",
      "              dtype='datetime64[ns]', freq='B')\n",
      "Entre duas datas:\n",
      "DatetimeIndex(['2018-04-12', '2018-04-13', '2018-04-14', '2018-04-15',\n",
      "               '2018-04-16', '2018-04-17', '2018-04-18', '2018-04-19',\n",
      "               '2018-04-20', '2018-04-21', '2018-04-22', '2018-04-23'],\n",
      "              dtype='datetime64[ns]', freq='D')\n"
     ]
    }
   ],
   "source": [
    "#Criar um intervalo de datas\n",
    "import pandas as pd\n",
    "print('Dias:')\n",
    "print (pd.date_range('28/4/2018', periods=5))\n",
    "print('Meses:')\n",
    "print (pd.date_range('28/4/2018', periods=5, freq='M'))\n",
    "print('Dias de trabalho:')\n",
    "print (pd.bdate_range('28/4/2018', periods=5))\n",
    "print('Entre duas datas:')\n",
    "start = pd.datetime(2018, 4, 12)\n",
    "end = pd.datetime(2018, 4, 23)\n",
    "print (pd.date_range(start, end))"
   ]
  },
  {
   "cell_type": "markdown",
   "metadata": {},
   "source": [
    "# Inserir formatacao de datas"
   ]
  },
  {
   "cell_type": "markdown",
   "metadata": {},
   "source": [
    "## Visualização de dados\n",
    "\n",
    "A biblioteca Pandas permite desenhar gráficos relativos aos dados contidos no DataFrame.\n",
    "\n",
    "De seguida apresentam-se alguns exemplos ilustrativos."
   ]
  },
  {
   "cell_type": "code",
   "execution_count": 37,
   "metadata": {},
   "outputs": [
    {
     "name": "stdout",
     "output_type": "stream",
     "text": [
      "                   A         B         C         D\n",
      "2017-01-01 -2.315744 -0.306599 -0.231872  0.383765\n",
      "2017-01-02  1.758058  1.532032  0.251546 -0.560809\n",
      "2017-01-03 -1.762452 -0.854783 -0.159180 -1.075786\n",
      "2017-01-04 -1.076937 -0.494090 -3.159721  0.378195\n",
      "2017-01-05  1.210771  0.850044 -1.190223 -1.111625\n",
      "2017-01-06 -0.375723  0.052824  0.077790 -0.249120\n",
      "2017-01-07  0.927201 -0.001841  0.683157 -0.165518\n",
      "2017-01-08 -2.092119  0.882818 -1.474019  0.045209\n",
      "2017-01-09  2.401299  0.536956 -0.017639 -0.383643\n",
      "2017-01-10  0.145009  1.773276  0.668204 -1.112380\n"
     ]
    },
    {
     "data": {
      "text/plain": [
       "<matplotlib.axes._subplots.AxesSubplot at 0x262ff7c9d30>"
      ]
     },
     "execution_count": 37,
     "metadata": {},
     "output_type": "execute_result"
    },
    {
     "data": {
      "image/png": "[encoded data removed]",
      "text/plain": [
       "<Figure size 432x288 with 1 Axes>"
      ]
     },
     "metadata": {
      "needs_background": "light"
     },
     "output_type": "display_data"
    }
   ],
   "source": [
    "%matplotlib inline\n",
    "import matplotlib\n",
    "import pandas as pd\n",
    "import numpy as np\n",
    "import matplotlib.pyplot as plt\n",
    "\n",
    "df = pd.DataFrame(np.random.randn(10,4),index=pd.date_range('1/1/2017', periods=10), columns=list('ABCD'))\n",
    "print(df)\n",
    "df.plot()"
   ]
  },
  {
   "cell_type": "code",
   "execution_count": 38,
   "metadata": {},
   "outputs": [
    {
     "data": {
      "text/plain": [
       "<matplotlib.axes._subplots.AxesSubplot at 0x262ff932208>"
      ]
     },
     "execution_count": 38,
     "metadata": {},
     "output_type": "execute_result"
    },
    {
     "data": {
      "image/png": "[encoded data removed]",
      "text/plain": [
       "<Figure size 432x288 with 1 Axes>"
      ]
     },
     "metadata": {
      "needs_background": "light"
     },
     "output_type": "display_data"
    },
    {
     "data": {
      "image/png": "[encoded data removed]",
      "text/plain": [
       "<Figure size 432x288 with 1 Axes>"
      ]
     },
     "metadata": {
      "needs_background": "light"
     },
     "output_type": "display_data"
    }
   ],
   "source": [
    "%matplotlib inline\n",
    "import matplotlib\n",
    "import pandas as pd\n",
    "import numpy as np\n",
    "import matplotlib.pyplot as plt\n",
    "\n",
    "df = pd.DataFrame(np.random.rand(10,4),columns=['a','b','c','d'])\n",
    "df.plot.bar()\n",
    "df.plot.bar(stacked=True)"
   ]
  },
  {
   "cell_type": "code",
   "execution_count": 39,
   "metadata": {},
   "outputs": [
    {
     "data": {
      "text/plain": [
       "<matplotlib.axes._subplots.AxesSubplot at 0x262ff974320>"
      ]
     },
     "execution_count": 39,
     "metadata": {},
     "output_type": "execute_result"
    },
    {
     "data": {
      "image/png": "[encoded data removed]",
      "text/plain": [
       "<Figure size 432x288 with 1 Axes>"
      ]
     },
     "metadata": {
      "needs_background": "light"
     },
     "output_type": "display_data"
    }
   ],
   "source": [
    "%matplotlib inline\n",
    "import matplotlib\n",
    "import pandas as pd\n",
    "import numpy as np\n",
    "import matplotlib.pyplot as plt\n",
    "\n",
    "df = pd.DataFrame({'a':np.random.randn(1000)+1,'b':np.random.randn(1000),'c':np.random.randn(1000) - 1}, columns=['a', 'b', 'c'])\n",
    "df.plot.hist(bins=20)"
   ]
  },
  {
   "cell_type": "code",
   "execution_count": 40,
   "metadata": {},
   "outputs": [
    {
     "data": {
      "text/plain": [
       "array([[<matplotlib.axes._subplots.AxesSubplot object at 0x00000262FFB05C88>,\n",
       "        <matplotlib.axes._subplots.AxesSubplot object at 0x00000262FFB27D68>],\n",
       "       [<matplotlib.axes._subplots.AxesSubplot object at 0x00000262FFB563C8>,\n",
       "        <matplotlib.axes._subplots.AxesSubplot object at 0x00000262FFB7D940>]],\n",
       "      dtype=object)"
      ]
     },
     "execution_count": 40,
     "metadata": {},
     "output_type": "execute_result"
    },
    {
     "data": {
      "image/png": "[encoded data removed]",
      "text/plain": [
       "<Figure size 432x288 with 4 Axes>"
      ]
     },
     "metadata": {
      "needs_background": "light"
     },
     "output_type": "display_data"
    }
   ],
   "source": [
    "%matplotlib inline\n",
    "import matplotlib\n",
    "import pandas as pd\n",
    "import numpy as np\n",
    "import matplotlib.pyplot as plt\n",
    "\n",
    "df=pd.DataFrame({'a':np.random.randn(1000)+1,'b':np.random.randn(1000),'c':np.random.randn(1000) - 1}, columns=['a', 'b', 'c'])\n",
    "df.diff().hist(bins=20)"
   ]
  },
  {
   "cell_type": "code",
   "execution_count": 41,
   "metadata": {},
   "outputs": [
    {
     "name": "stdout",
     "output_type": "stream",
     "text": [
      "          A         B         C         D         E\n",
      "0  0.625632  0.169537  0.078996  0.555315  0.350488\n",
      "1  0.846870  0.550270  0.296798  0.634216  0.372861\n",
      "2  0.691557  0.624188  0.542132  0.060640  0.155963\n",
      "3  0.676375  0.241115  0.269366  0.824069  0.736160\n",
      "4  0.238176  0.529626  0.057478  0.166132  0.778786\n",
      "5  0.722693  0.154028  0.118199  0.632196  0.979627\n",
      "6  0.899871  0.932583  0.271731  0.072189  0.837340\n",
      "7  0.608036  0.224400  0.357950  0.237312  0.680974\n",
      "8  0.083333  0.430060  0.244191  0.538420  0.754092\n",
      "9  0.419181  0.058692  0.755517  0.101605  0.935530\n"
     ]
    },
    {
     "data": {
      "text/plain": [
       "<matplotlib.axes._subplots.AxesSubplot at 0x262ffc887f0>"
      ]
     },
     "execution_count": 41,
     "metadata": {},
     "output_type": "execute_result"
    },
    {
     "data": {
      "image/png": "[encoded data removed]",
      "text/plain": [
       "<Figure size 432x288 with 1 Axes>"
      ]
     },
     "metadata": {
      "needs_background": "light"
     },
     "output_type": "display_data"
    }
   ],
   "source": [
    "%matplotlib inline\n",
    "import matplotlib\n",
    "import pandas as pd\n",
    "import numpy as np\n",
    "import matplotlib.pyplot as plt\n",
    "\n",
    "df = pd.DataFrame(np.random.rand(10, 5), columns=['A', 'B', 'C', 'D', 'E'])\n",
    "print(df)\n",
    "df.plot.box()"
   ]
  },
  {
   "cell_type": "code",
   "execution_count": 42,
   "metadata": {},
   "outputs": [
    {
     "data": {
      "text/plain": [
       "<matplotlib.axes._subplots.AxesSubplot at 0x262ffd2dd68>"
      ]
     },
     "execution_count": 42,
     "metadata": {},
     "output_type": "execute_result"
    },
    {
     "data": {
      "image/png": "[encoded data removed]",
      "text/plain": [
       "<Figure size 432x288 with 1 Axes>"
      ]
     },
     "metadata": {
      "needs_background": "light"
     },
     "output_type": "display_data"
    }
   ],
   "source": [
    "%matplotlib inline\n",
    "import matplotlib\n",
    "import pandas as pd\n",
    "import numpy as np\n",
    "import matplotlib.pyplot as plt\n",
    "\n",
    "df = pd.DataFrame(np.random.rand(10, 4), columns=['a', 'b', 'c', 'd'])\n",
    "df.plot.area()"
   ]
  },
  {
   "cell_type": "code",
   "execution_count": 43,
   "metadata": {},
   "outputs": [
    {
     "data": {
      "text/plain": [
       "<matplotlib.axes._subplots.AxesSubplot at 0x262ffdc96a0>"
      ]
     },
     "execution_count": 43,
     "metadata": {},
     "output_type": "execute_result"
    },
    {
     "data": {
      "image/png": "[encoded data removed]",
      "text/plain": [
       "<Figure size 432x288 with 1 Axes>"
      ]
     },
     "metadata": {
      "needs_background": "light"
     },
     "output_type": "display_data"
    }
   ],
   "source": [
    "%matplotlib inline\n",
    "import matplotlib\n",
    "import pandas as pd\n",
    "import numpy as np\n",
    "import matplotlib.pyplot as plt\n",
    "\n",
    "df = pd.DataFrame(np.random.rand(50, 4), columns=['a', 'b', 'c', 'd'])\n",
    "df.plot.scatter(x='a', y='b')"
   ]
  },
  {
   "cell_type": "markdown",
   "metadata": {},
   "source": [
    "## Leitura e escrita de dados\n",
    "\n",
    "A biblioteca Pandas possui métodos para ler e escrever de ficheiros:\n",
    "* read_csv e to_csv, para ler e escrever dados separados por vírgulas (texto)\n",
    "* read_json e to_json, para ler e escrever dados no formato json\n",
    "* read_html e to_html, para ler e escrever html\n",
    "* read_clipboard e to_clipboard, para ler e escrever para o clipboard (texto)\n",
    "* read_excel e to_excel, para ler e escrever par ficheiros Excel\n",
    "* read_hdf e to_hdf (HDF5)\n",
    "* read_feather e to_feather (Feather Format)\n",
    "* read_parquet e to_parquet (PArquet Format)\n",
    "* read_msgpack e to_msgpack (Msgpack)\n",
    "* read_stata e to_stata (STATA)\n",
    "* read_sas (SAS)\n",
    "* read_pickle e to_pickle (Python Pickle Format)\n",
    "* read_sql e to_sql (SQL)\n",
    "* read_gbq e to_gbq (Google Big Query)\n",
    "\n",
    "O método que irá ser apresentado neste tutorial é o método read_csv, cujo protótipo é:\n",
    "\n",
    "pandas.read_csv(filepath_or_buffer, sep=', ', dialect=None, compression=None, doublequote=True, escapechar=None, quotechar='\"', quoting=0, skipinitialspace=False, lineterminator=None, header='infer', index_col=None, names=None, prefix=None, skiprows=None, skipfooter=None, skip_footer=0, na_values=None, na_fvalues=None, true_values=None, false_values=None, delimiter=None, converters=None, dtype=None, usecols=None, engine=None, delim_whitespace=False, as_recarray=False, na_filter=True, compact_ints=False, use_unsigned=False, low_memory=True, buffer_lines=None, warn_bad_lines=True, error_bad_lines=True, keep_default_na=True, thousands=None, comment=None, decimal='.', parse_dates=False, keep_date_col=False, dayfirst=False, date_parser=None, memory_map=False, float_precision=None, nrows=None, iterator=False, chunksize=None, verbose=False, encoding=None, squeeze=False, mangle_dupe_cols=True, tupleize_cols=False, infer_datetime_format=False, skip_blank_lines=True)\n",
    "\n",
    "Como se pode ver possui imensos parametros sendo os mais comummente utilizados, o filepath_or_buffer, que indica o caminho para o ficheiro, o sep que indica o separador a utilizar, dtype, que indica o tipo de dados, o index_col que indica a coluna a utilizar como rótulos das linhas e o usecols que indica qual o subconjunto de colunas a importar."
   ]
  },
  {
   "cell_type": "code",
   "execution_count": 3,
   "metadata": {},
   "outputs": [
    {
     "name": "stdout",
     "output_type": "stream",
     "text": [
      "   Numero    Nome  Idade  Cidade  Salario\n",
      "0       1  Miguel     32   Porto     3000\n",
      "1       2   Joana     43  Lisboa     8300\n",
      "2       3  Estela     38  Madrid     3900\n",
      "          Nome  Idade  Cidade  Salario\n",
      "Numero                                \n",
      "1       Miguel     32   Porto     3000\n",
      "2        Joana     43  Lisboa     8300\n",
      "3       Estela     38  Madrid     3900\n",
      "Numero       int64\n",
      "Nome        object\n",
      "Idade        int64\n",
      "Cidade      object\n",
      "Salario    float64\n",
      "dtype: object\n",
      "        a       b      c       d        e\n",
      "0  Numero    Nome  Idade  Cidade  Salario\n",
      "1       1  Miguel     32   Porto     3000\n",
      "2       2   Joana     43  Lisboa     8300\n",
      "3       3  Estela     38  Madrid     3900\n",
      "   a       b   c       d     e\n",
      "0  1  Miguel  32   Porto  3000\n",
      "1  2   Joana  43  Lisboa  8300\n",
      "2  3  Estela  38  Madrid  3900\n",
      "   2   Joana  43  Lisboa  8300\n",
      "0  3  Estela  38  Madrid  3900\n"
     ]
    }
   ],
   "source": [
    "import pandas as pd\n",
    "df=pd.read_csv(\"pytrigo-4-pandas-ficheiros/pytrigo-pandas-csv1.csv\")\n",
    "print(df)\n",
    "df=pd.read_csv(\"pytrigo-4-pandas-ficheiros/pytrigo-pandas-csv1.csv\",index_col=['Numero'])\n",
    "print(df)\n",
    "df = pd.read_csv(\"pytrigo-4-pandas-ficheiros/pytrigo-pandas-csv1.csv\", dtype={'Salario': np.float64})\n",
    "print(df.dtypes)\n",
    "df=pd.read_csv(\"pytrigo-4-pandas-ficheiros/pytrigo-pandas-csv1.csv\", names=['a', 'b', 'c','d','e'])\n",
    "print(df)\n",
    "df=pd.read_csv(\"pytrigo-4-pandas-ficheiros/pytrigo-pandas-csv1.csv\", names=['a', 'b', 'c','d','e'],header=0)\n",
    "print(df)\n",
    "df=pd.read_csv(\"pytrigo-4-pandas-ficheiros/pytrigo-pandas-csv1.csv\", skiprows=2)\n",
    "print(df)\n",
    "df=pd.read_csv(\"pytrigo-4-pandas-ficheiros/pytrigo-pandas-csv1.csv\",index_col=['Numero'])\n",
    "df.to_csv(\"pytrigo-4-pandas-ficheiros/pytrigo-pandas-csv2.csv\", sep='\\t')\n",
    "#Devido a utilizacao de caracteres nao ascii pode ser necessario utilizar a codificaão utf-8\n",
    "df.to_csv(\"pytrigo-4-pandas-ficheiros/pytrigo-pandas-csv2.csv\", sep='\\t', encoding='utf-8')"
   ]
  },
  {
   "cell_type": "markdown",
   "metadata": {},
   "source": [
    "## Exercícios\n",
    "\n",
    "A biblioteca seaborn possui vários datasets com que pode trabalhar. \n",
    "\n",
    "Um deles é o relativo aos passageiros do titanic.\n",
    "\n",
    "Para carregar o dataset deverá utilizar as seguintes instruções:\n",
    "    \n",
    "```python\n",
    "import seaborn as sns\n",
    "titanic = sns.load_dataset('titanic')```\n",
    "    \n",
    "Após carregar o dataset,\n",
    "1. Visualize as primeiras cinco linhas.\n",
    "2. Conte todos os passageiros que estavam bordo.\n",
    "3. Mostre quantos homens sobreviveram.\n",
    "4. Mostre quantas pessoas sobreviveram com menos de 30 anos.\n",
    "5. Mostre as estatísticas relativas a idade dos passageiros.\n",
    "6. Se reparar nos dados da resposta anterior o parametro count não é o mesmo que o número de passageiros. O que se passa? Identifique as linhas com problema.\n",
    "\n",
    "Execute no dataset as seguintes operações de SQL:\n",
    "7. SELECT sex, age, embark_town FROM TITANIC LIMT 5\n",
    "8. SELECT sex, age, embark_town FROM TITANIC WHERE sex = 'male' LIMT 5\n",
    "9. SELECT sex, COUNT(\\*) GROUP BY sex \n",
    "\n"
   ]
  },
  {
   "cell_type": "code",
   "execution_count": null,
   "metadata": {},
   "outputs": [],
   "source": [
    "import seaborn as sns\n",
    "df_titanic = sns.load_dataset('titanic')\n",
    "\n",
    "#Exercicio 1\n",
    "print(df_titanic.head(5))\n",
    "\n",
    "#Exercicio 2\n",
    "print(len(df_titanic))\n",
    "\n",
    "#Exercicio 3\n",
    "print(\"Homens sobreviventes: \" , len(df_titanic[(df_titanic['survived']==1)&(df_titanic['adult_male']==True)]))\n",
    "\n",
    "#Exercicio 4\n",
    "print(\"Pessoas sobreviventes com menos de 30 anos: \",len(df_titanic[(df_titanic['survived']==1)&(df_titanic['age']<30)]))\n",
    "\n",
    "#Exercicio 5\n",
    "print(df_titanic['age'].describe())\n",
    "\n",
    "#Exercicio 6\n",
    "print(df_titanic[df_titanic['age'].isnull()].head(5))\n",
    "\n",
    "#Exercicio 7\n",
    "print(df_titanic[['sex','age','embark_town']].head(5))\n",
    "\n",
    "#Exercicio 8\n",
    "print(df_titanic[df_titanic['sex']=='male'][['sex','age','embark_town']].head(5))\n",
    "\n",
    "#Exercicio 9\n",
    "print(df_titanic.groupby('sex').size())"
   ]
  },
  {
   "cell_type": "code",
   "execution_count": null,
   "metadata": {},
   "outputs": [],
   "source": []
  }
 ],
 "metadata": {
  "kernelspec": {
   "display_name": "Python 3",
   "language": "python",
   "name": "python3"
  },
  "language_info": {
   "codemirror_mode": {
    "name": "ipython",
    "version": 3
   },
   "file_extension": ".py",
   "mimetype": "text/x-python",
   "name": "python",
   "nbconvert_exporter": "python",
   "pygments_lexer": "ipython3",
   "version": "3.7.3"
  }
 },
 "nbformat": 4,
 "nbformat_minor": 2
}
